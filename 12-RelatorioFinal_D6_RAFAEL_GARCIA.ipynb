{
  "nbformat": 4,
  "nbformat_minor": 0,
  "metadata": {
    "colab": {
      "name": "RelatorioFinal_D6-RAFAEL_GARCIA.ipynb",
      "provenance": [],
      "include_colab_link": true
    },
    "kernelspec": {
      "display_name": "Python 3",
      "name": "python3"
    },
    "language_info": {
      "name": "python"
    }
  },
  "cells": [
    {
      "cell_type": "markdown",
      "metadata": {
        "id": "view-in-github",
        "colab_type": "text"
      },
      "source": [
        "<a href=\"https://colab.research.google.com/github/SergioaA64/SergioaA64/blob/main/12-RelatorioFinal_D6_RAFAEL_GARCIA.ipynb\" target=\"_parent\"><img src=\"https://colab.research.google.com/assets/colab-badge.svg\" alt=\"Open In Colab\"/></a>"
      ]
    },
    {
      "cell_type": "markdown",
      "metadata": {
        "id": "xfaMrP1WIJ-G"
      },
      "source": [
        "Especialização em Ciência de Dados aplicada a Políticas Públicas - ENAP\n",
        "\n",
        "Disciplina: **D6 - Estatística Descritiva**\n",
        "\n",
        "Aluno: **Rafael Leal Garcia**\n",
        "\n",
        "Professor: **Eduardo Monteiro Gomes**"
      ]
    },
    {
      "cell_type": "markdown",
      "metadata": {
        "id": "ABTYQ8JDJFho"
      },
      "source": [
        "**1. CONTEXTUALIZAÇÃO DO PROBLEMA**\n",
        "---\n",
        "\n",
        "As ações de fiscalização ambiental consistem no dever do poder público de fiscalizar as condutas daqueles que se apresentem como potenciais ou efetivos poluidores e utilizadores dos recursos naturais, de forma a garantir a preservação do meio ambiente para a coletividade.\n",
        "\n",
        "Do ponto de vista de políticas públicas, essas ações buscam atender ao eixo de monitoramento e controle de Planos de Ação para Prevenção e Combate ao Desmatamento Ambiental em grandes biomas brasileiros, como Amazônia (PPCDAm) e Cerrado (PPCerrado), e faz parte da Política Nacional sobre Mudança do Clima (PNMC). Ao reduzir o desmatamento, por meio de ações de fiscalização ambiental, reduz-se a ação antrópica fortemente relacionada às mudanças climáticas e seus efeitos negativos.\n",
        "\n",
        "Para o projeto de conclusão do curso, minha proposta inicial (ainda a ser confirmada) seria a de propor uma estratégia eficiente para eliminação, ou redução, do passivo de processos de autos de infração do Ibama pendentes de conclusão.\n",
        "\n",
        "De acordo com relatório de auditoria da CGU, o Ibama possuía, até dezembro de 2017, um estoque de cerca de 126 mil processos em aberto tramitando no órgão.\n",
        "\n",
        "A proposta então seria fazer um estudo na base de dados desses processos, aplicando técnicas de Clusterização com Machine Learning a partir de algumas características, tais como: valor da multa, tipo e complexidade da infração, existência da apresentação de defesa ou recurso pelo autuado, capacidade operacional de unidade responsável pela tramitação/julgamento do auto de infração, fase atual de tramitação, entre outras, com o intuito de elaborar uma possível estratégia eficiente para eliminação deste passivo.\n",
        "\n",
        "No entanto, nesse momento a base de dados com os processos em tramitação no Ibama não estava disponível. Assim, nessa primeira etapa realizou-se uma análise estatística descritiva sobre o universo de Autos de Infração lavrados pelo Ibama, haja vista que, posteriormente, para cada AI será aberto um processo administrativo, que obrigatoriamente deverá ser julgado."
      ]
    },
    {
      "cell_type": "markdown",
      "metadata": {
        "id": "hB_-r3cYKigx"
      },
      "source": [
        "**2. IMPORTAÇÃO DOS DADOS**\n",
        "---\n",
        "Para a carga de dados, foram utilizados dados disponibilizados pelo Ibama em seu Portal de Dados Abertos (http://www.ibama.gov.br/dados-abertos).\n",
        "\n",
        "URL: 'http://dadosabertos.ibama.gov.br/dados/SIFISC/auto_infracao/auto_infracao/auto_infracao.csv'"
      ]
    },
    {
      "cell_type": "code",
      "metadata": {
        "colab": {
          "base_uri": "https://localhost:8080/"
        },
        "id": "9HWscuo6H3lA",
        "outputId": "b68a72f5-2cfa-425c-9ea0-31f2b327631c"
      },
      "source": [
        "import pandas as pd\n",
        "import numpy as np\n",
        "import plotly.express as px\n",
        "import seaborn as sns\n",
        "import matplotlib.pyplot as pp\n",
        "\n",
        "from pandas.tseries.offsets import MonthEnd\n",
        "from google.colab import drive\n",
        "drive.mount('/drive', force_remount=True)\n",
        "\n",
        "from datetime import datetime"
      ],
      "execution_count": null,
      "outputs": [
        {
          "name": "stdout",
          "output_type": "stream",
          "text": [
            "Mounted at /drive\n"
          ]
        }
      ]
    },
    {
      "cell_type": "code",
      "metadata": {
        "colab": {
          "base_uri": "https://localhost:8080/"
        },
        "id": "rpfuI95VJge0",
        "outputId": "6e2fdeb4-0280-4d43-8a9e-ebd32bbbdfcc"
      },
      "source": [
        "#----------------------------------------------------------------------------------------------------\n",
        "# Arquivo/pasta do GoogleDrive contendo os dados dos autos de infração registrados no sistema de fiscalização do Ibama.\n",
        "#----------------------------------------------------------------------------------------------------\n",
        "s_googlepath_entrada = '/drive/My Drive/Ciencia_de_dados/D6/'\n",
        "s_arquivo_entrada = 'auto_infracao.csv'\n",
        "\n",
        "#-----------------------------------------------------------------------------\n",
        "# Carrega o arquivo com os dados dos autos de infração\n",
        "#-----------------------------------------------------------------------------\n",
        "df_importacao = pd.read_csv(s_googlepath_entrada + s_arquivo_entrada, \n",
        "                            sep=';', decimal= ',', thousands='.', skiprows=0, encoding='utf-8', \n",
        "                            dtype = {'COD_MUNICIPIO': str, 'COD_INFRACAO': str, 'ACAO_FISCALIZATORIA': str, 'NUM_PROCESSO': str})\n",
        "                       #dtype={'Pat. Líq.':'float','Receita Líq.':'float', 'EBITDA':'float', 'Res. Fin.':'float', 'Lucro Líq.':'float'})\n"
      ],
      "execution_count": null,
      "outputs": [
        {
          "name": "stderr",
          "output_type": "stream",
          "text": [
            "/usr/local/lib/python3.7/dist-packages/IPython/core/interactiveshell.py:2718: DtypeWarning:\n",
            "\n",
            "Columns (0,1,2,6,7,24,25,29,32,33,34,35,37,38,40) have mixed types.Specify dtype option on import or set low_memory=False.\n",
            "\n"
          ]
        }
      ]
    },
    {
      "cell_type": "code",
      "metadata": {
        "colab": {
          "base_uri": "https://localhost:8080/"
        },
        "id": "TtEXSd2ZR-oN",
        "outputId": "3b72f05e-5365-4961-fef9-e1ce1fe69e39"
      },
      "source": [
        "# Qtde de linhas e colunas importada\n",
        "df_importacao.shape"
      ],
      "execution_count": null,
      "outputs": [
        {
          "data": {
            "text/plain": [
              "(611066, 42)"
            ]
          },
          "execution_count": 3,
          "metadata": {},
          "output_type": "execute_result"
        }
      ]
    },
    {
      "cell_type": "code",
      "metadata": {
        "colab": {
          "base_uri": "https://localhost:8080/",
          "height": 509
        },
        "id": "VsmHVxb9SVTg",
        "outputId": "d79a9f9d-c312-4cd6-b115-dec6fd3b2568"
      },
      "source": [
        "df_importacao.head()"
      ],
      "execution_count": null,
      "outputs": [
        {
          "data": {
            "text/html": [
              "<div>\n",
              "<style scoped>\n",
              "    .dataframe tbody tr th:only-of-type {\n",
              "        vertical-align: middle;\n",
              "    }\n",
              "\n",
              "    .dataframe tbody tr th {\n",
              "        vertical-align: top;\n",
              "    }\n",
              "\n",
              "    .dataframe thead th {\n",
              "        text-align: right;\n",
              "    }\n",
              "</style>\n",
              "<table border=\"1\" class=\"dataframe\">\n",
              "  <thead>\n",
              "    <tr style=\"text-align: right;\">\n",
              "      <th></th>\n",
              "      <th>SEQ_AUTO_INFRACAO</th>\n",
              "      <th>NUM_AUTO_INFRACAO</th>\n",
              "      <th>SER_AUTO_INFRACAO</th>\n",
              "      <th>TIPO_AUTO</th>\n",
              "      <th>TIPO_MULTA</th>\n",
              "      <th>VAL_AUTO_INFRACAO</th>\n",
              "      <th>PATRIMONIO_APURACAO</th>\n",
              "      <th>GRAVIDADE_INFRACAO</th>\n",
              "      <th>UNID_ARRECADACAO</th>\n",
              "      <th>DES_AUTO_INFRACAO</th>\n",
              "      <th>DAT_HORA_AUTO_INFRACAO</th>\n",
              "      <th>FORMA_ENTREGA</th>\n",
              "      <th>DAT_CIENCIA_AUTUACAO</th>\n",
              "      <th>COD_MUNICIPIO</th>\n",
              "      <th>MUNICIPIO</th>\n",
              "      <th>UF</th>\n",
              "      <th>NUM_PROCESSO</th>\n",
              "      <th>COD_INFRACAO</th>\n",
              "      <th>DES_INFRACAO</th>\n",
              "      <th>TIPO_INFRACAO</th>\n",
              "      <th>NOME_INFRATOR</th>\n",
              "      <th>CPF_CNPJ_INFRATOR</th>\n",
              "      <th>QTD_AREA</th>\n",
              "      <th>INFRACAO_AREA</th>\n",
              "      <th>DES_OUTROS_TIPO_AREA</th>\n",
              "      <th>CLASSIFICACAO_AREA</th>\n",
              "      <th>NUM_LATITUDE_AUTO</th>\n",
              "      <th>NUM_LONGITUDE_AUTO</th>\n",
              "      <th>DES_LOCAL_INFRACAO</th>\n",
              "      <th>NOTIFICACAO_VINCULADA</th>\n",
              "      <th>ACAO_FISCALIZATORIA</th>\n",
              "      <th>UNID_CONTROLE</th>\n",
              "      <th>TIPO_ACAO</th>\n",
              "      <th>OPERACAO</th>\n",
              "      <th>DENUNCIA_SISLIV</th>\n",
              "      <th>ORDEM_FISCALIZACAO</th>\n",
              "      <th>SOLICITACAO_RECURSO</th>\n",
              "      <th>OPERACAO_SOL_RECURSO</th>\n",
              "      <th>DAT_LANCAMENTO</th>\n",
              "      <th>DAT_ULT_ALTERACAO</th>\n",
              "      <th>TIPO_ULT_ALTERACAO</th>\n",
              "      <th>ULTIMA_ATUALIZACAO_RELATORIO</th>\n",
              "    </tr>\n",
              "  </thead>\n",
              "  <tbody>\n",
              "    <tr>\n",
              "      <th>0</th>\n",
              "      <td>3</td>\n",
              "      <td>26363</td>\n",
              "      <td>D</td>\n",
              "      <td>Multa simples</td>\n",
              "      <td>NaN</td>\n",
              "      <td>1500.0</td>\n",
              "      <td>NaN</td>\n",
              "      <td>NaN</td>\n",
              "      <td>IMP/GEREX</td>\n",
              "      <td>POR FUNCIONAR ESTABELICIMENTO PONTENCIALMENTE ...</td>\n",
              "      <td>05/03/2004 00:00:00</td>\n",
              "      <td>NaN</td>\n",
              "      <td>05/03/2004</td>\n",
              "      <td>2105302</td>\n",
              "      <td>IMPERATRIZ</td>\n",
              "      <td>MA</td>\n",
              "      <td>0205100001204</td>\n",
              "      <td>401001,0</td>\n",
              "      <td>Funcionar sem prévio registro no Ibama - Admin...</td>\n",
              "      <td>Penalidade pecuniária - Flora</td>\n",
              "      <td>PALADAR IOGURTE LTDA</td>\n",
              "      <td>01790868000103</td>\n",
              "      <td>NaN</td>\n",
              "      <td>NaN</td>\n",
              "      <td>NaN</td>\n",
              "      <td>NaN</td>\n",
              "      <td>NaN</td>\n",
              "      <td>NaN</td>\n",
              "      <td>NaN</td>\n",
              "      <td>-</td>\n",
              "      <td>NaN</td>\n",
              "      <td>IMP/GEREX</td>\n",
              "      <td>Rotina</td>\n",
              "      <td>NaN</td>\n",
              "      <td>/</td>\n",
              "      <td>NaN</td>\n",
              "      <td>NaN</td>\n",
              "      <td>NaN</td>\n",
              "      <td>01/06/2004 10:13:30</td>\n",
              "      <td>06/09/2010 10:09:03</td>\n",
              "      <td>Preenchido</td>\n",
              "      <td>05/09/2021 19:00</td>\n",
              "    </tr>\n",
              "    <tr>\n",
              "      <th>1</th>\n",
              "      <td>4</td>\n",
              "      <td>26364</td>\n",
              "      <td>D</td>\n",
              "      <td>Multa simples</td>\n",
              "      <td>NaN</td>\n",
              "      <td>1500.0</td>\n",
              "      <td>NaN</td>\n",
              "      <td>NaN</td>\n",
              "      <td>IMP/GEREX</td>\n",
              "      <td>POR FUCIONAR ESTABELECIMENTO POTENCIALMENTE PO...</td>\n",
              "      <td>05/03/2004 00:00:00</td>\n",
              "      <td>NaN</td>\n",
              "      <td>05/03/2004</td>\n",
              "      <td>2105302</td>\n",
              "      <td>IMPERATRIZ</td>\n",
              "      <td>MA</td>\n",
              "      <td>0205100001104</td>\n",
              "      <td>606002,0</td>\n",
              "      <td>Exercer atividade potencialmente degradadora e...</td>\n",
              "      <td>Penalidade pecuniária - Controle ambiental</td>\n",
              "      <td>PALADAR IOGURTE LTDA</td>\n",
              "      <td>01790868000103</td>\n",
              "      <td>NaN</td>\n",
              "      <td>NaN</td>\n",
              "      <td>NaN</td>\n",
              "      <td>NaN</td>\n",
              "      <td>NaN</td>\n",
              "      <td>NaN</td>\n",
              "      <td>NaN</td>\n",
              "      <td>-</td>\n",
              "      <td>NaN</td>\n",
              "      <td>IMP/GEREX</td>\n",
              "      <td>NaN</td>\n",
              "      <td>NaN</td>\n",
              "      <td>/</td>\n",
              "      <td>NaN</td>\n",
              "      <td>NaN</td>\n",
              "      <td>NaN</td>\n",
              "      <td>01/06/2004 10:01:11</td>\n",
              "      <td>01/06/2004 10:01:11</td>\n",
              "      <td>Preenchido</td>\n",
              "      <td>05/09/2021 19:00</td>\n",
              "    </tr>\n",
              "    <tr>\n",
              "      <th>2</th>\n",
              "      <td>5</td>\n",
              "      <td>26365</td>\n",
              "      <td>D</td>\n",
              "      <td>Multa simples</td>\n",
              "      <td>NaN</td>\n",
              "      <td>2500.0</td>\n",
              "      <td>NaN</td>\n",
              "      <td>NaN</td>\n",
              "      <td>IMP/GEREX</td>\n",
              "      <td>por fucionar estabelecimento potencialmente po...</td>\n",
              "      <td>11/05/2004 00:00:00</td>\n",
              "      <td>NaN</td>\n",
              "      <td>11/05/2004</td>\n",
              "      <td>2100600</td>\n",
              "      <td>AMARANTE DO MARANHAO</td>\n",
              "      <td>MA</td>\n",
              "      <td>0205100007104</td>\n",
              "      <td>401001,0</td>\n",
              "      <td>Funcionar sem prévio registro no Ibama - Admin...</td>\n",
              "      <td>Penalidade pecuniária - Flora</td>\n",
              "      <td>CERAMICA GABRIELA LTDA - ME</td>\n",
              "      <td>04352741000192</td>\n",
              "      <td>NaN</td>\n",
              "      <td>NaN</td>\n",
              "      <td>NaN</td>\n",
              "      <td>NaN</td>\n",
              "      <td>NaN</td>\n",
              "      <td>NaN</td>\n",
              "      <td>NaN</td>\n",
              "      <td>-</td>\n",
              "      <td>NaN</td>\n",
              "      <td>IMP/GEREX</td>\n",
              "      <td>NaN</td>\n",
              "      <td>NaN</td>\n",
              "      <td>/</td>\n",
              "      <td>NaN</td>\n",
              "      <td>NaN</td>\n",
              "      <td>NaN</td>\n",
              "      <td>12/07/2004 11:58:19</td>\n",
              "      <td>12/07/2004 11:58:19</td>\n",
              "      <td>Preenchido</td>\n",
              "      <td>05/09/2021 19:00</td>\n",
              "    </tr>\n",
              "    <tr>\n",
              "      <th>3</th>\n",
              "      <td>7</td>\n",
              "      <td>26367</td>\n",
              "      <td>D</td>\n",
              "      <td>Multa simples</td>\n",
              "      <td>NaN</td>\n",
              "      <td>200.0</td>\n",
              "      <td>NaN</td>\n",
              "      <td>NaN</td>\n",
              "      <td>IMP/GEREX</td>\n",
              "      <td>POR COMERCIALIZAR PRODUTOS FLORESTAIS, A SABER...</td>\n",
              "      <td>04/11/2004 10:00:00</td>\n",
              "      <td>NaN</td>\n",
              "      <td>NaN</td>\n",
              "      <td>2104057</td>\n",
              "      <td>ESTREITO</td>\n",
              "      <td>MA</td>\n",
              "      <td>0205100026204</td>\n",
              "      <td>422001,0</td>\n",
              "      <td>Vender ou expor à venda produto florestal sem ...</td>\n",
              "      <td>Penalidade pecuniária - Flora</td>\n",
              "      <td>Deusivan Cavalcante Ferreira</td>\n",
              "      <td>***909373**</td>\n",
              "      <td>NaN</td>\n",
              "      <td>NaN</td>\n",
              "      <td>NaN</td>\n",
              "      <td>NaN</td>\n",
              "      <td>-6.71944</td>\n",
              "      <td>-47.42919</td>\n",
              "      <td>NaN</td>\n",
              "      <td>-</td>\n",
              "      <td>NaN</td>\n",
              "      <td>IMP/GEREX</td>\n",
              "      <td>NaN</td>\n",
              "      <td>NaN</td>\n",
              "      <td>/</td>\n",
              "      <td>NaN</td>\n",
              "      <td>NaN</td>\n",
              "      <td>NaN</td>\n",
              "      <td>07/10/2005 17:14:21</td>\n",
              "      <td>23/04/2009 15:53:12</td>\n",
              "      <td>Preenchido</td>\n",
              "      <td>05/09/2021 19:00</td>\n",
              "    </tr>\n",
              "    <tr>\n",
              "      <th>4</th>\n",
              "      <td>9</td>\n",
              "      <td>26369</td>\n",
              "      <td>D</td>\n",
              "      <td>Multa simples</td>\n",
              "      <td>NaN</td>\n",
              "      <td>600.0</td>\n",
              "      <td>NaN</td>\n",
              "      <td>NaN</td>\n",
              "      <td>IMP/GEREX</td>\n",
              "      <td>Por comercializar produtos florestais a saber:...</td>\n",
              "      <td>04/11/2004 00:00:00</td>\n",
              "      <td>NaN</td>\n",
              "      <td>NaN</td>\n",
              "      <td>2104057</td>\n",
              "      <td>ESTREITO</td>\n",
              "      <td>MA</td>\n",
              "      <td>0205100026304</td>\n",
              "      <td>422001,0</td>\n",
              "      <td>Receber e comercializar produto florestal sem ...</td>\n",
              "      <td>Penalidade pecuniária - Flora</td>\n",
              "      <td>FRANCISCO COELHO DA SILVA</td>\n",
              "      <td>***185942**</td>\n",
              "      <td>NaN</td>\n",
              "      <td>NaN</td>\n",
              "      <td>NaN</td>\n",
              "      <td>NaN</td>\n",
              "      <td>NaN</td>\n",
              "      <td>NaN</td>\n",
              "      <td>NaN</td>\n",
              "      <td>-</td>\n",
              "      <td>NaN</td>\n",
              "      <td>IMP/GEREX</td>\n",
              "      <td>NaN</td>\n",
              "      <td>NaN</td>\n",
              "      <td>/</td>\n",
              "      <td>NaN</td>\n",
              "      <td>NaN</td>\n",
              "      <td>NaN</td>\n",
              "      <td>25/05/2005 10:08:53</td>\n",
              "      <td>25/05/2005 10:08:53</td>\n",
              "      <td>Preenchido</td>\n",
              "      <td>05/09/2021 19:00</td>\n",
              "    </tr>\n",
              "  </tbody>\n",
              "</table>\n",
              "</div>"
            ],
            "text/plain": [
              "  SEQ_AUTO_INFRACAO  ... ULTIMA_ATUALIZACAO_RELATORIO\n",
              "0                 3  ...             05/09/2021 19:00\n",
              "1                 4  ...             05/09/2021 19:00\n",
              "2                 5  ...             05/09/2021 19:00\n",
              "3                 7  ...             05/09/2021 19:00\n",
              "4                 9  ...             05/09/2021 19:00\n",
              "\n",
              "[5 rows x 42 columns]"
            ]
          },
          "execution_count": 4,
          "metadata": {},
          "output_type": "execute_result"
        }
      ]
    },
    {
      "cell_type": "markdown",
      "metadata": {
        "id": "g112B9hRTESH"
      },
      "source": [
        "**Dicionário de dados:**\n",
        "\n",
        "SEQ_AUTO_INFRACAO - *Chave primária (número sequencial) que identifica o auto de infração*\n",
        "NUM_AUTO_INFRACAO - *Número impresso no formulário que compõe a identificação do documento juntamente com a série do auto*\n",
        "\n",
        "SER_AUTO_INFRACAO - *Caractere impresso no formulário que compõe a identificação do documento juntamente com o número do auto*\n",
        "\n",
        "TIPO_AUTO - *Tipo de sanção proposta no auto: multa simples; multa diária; advertência (sem sanção pecuniária)*\n",
        "\n",
        "TIPO_MULTA - *Especifica se o dispositivo legal da multa aplicada prevê um valor fixo por unidade (multa fechada) ou se há uma faixa de valores aplicável dependendo da capacidade econômica do infrator e gravidade da infração (multa aberta)*\n",
        "\n",
        "VAL_AUTO_INFRACAO - *Valor de multa indicado inicialmente pelo agente ambiental*\n",
        "\n",
        "PATRIMONIO_APURACAO - *Forma de apuração do patrimônio da pessoa física ou porte de pessoa jurídica autuada (capacidade aparente ou patrimônio comprovado)*\n",
        "\n",
        "GRAVIDADE_INFRACAO - *Gravidade da infração ambiental constatada: Leve, Médio, Grave*\n",
        "\n",
        "UNID_ARRECADACAO - *Unidade de arrecadação*\n",
        "\n",
        "DES_AUTO_INFRACAO - *Descrição do fato infracional*\n",
        "\n",
        "DAT_HORA_AUTO_INFRACAO - *Data e horário da lavratura do formulário*\n",
        "\n",
        "FORMA_ENTREGA - *Meio empregado para dar ciência do auto de infração ao autuado: pessoalmente; representante; aviso de recebimento (AR); edital; o autuado recusou-se a assinar*\n",
        "\n",
        "DAT_CIENCIA_AUTUACAO - Data em que o autuado tomou ciência do auto de infração\n",
        "\n",
        "COD_MUNICIPIO - Código do município (IBGE) de ocorrência da infração.\n",
        "\n",
        "MUNICIPIO - Nome do município de ocorrência da infração\n",
        "\n",
        "UF - Sigla da unidade da federação de ocorrência da infração\n",
        "\n",
        "NUM_PROCESSO - Número do processo administrativo do Ibama em que será processado o julgamento do auto e demais medidas adotadas vinculadas ao mesmo fato infracional\n",
        "\n",
        "COD_INFRACAO - Código do tipo infracional de acordo com o dispositivo legal que prevê a conduta da infração constatada\n",
        "\n",
        "DES_INFRACAO - Descrição do tipo infracional de acordo com o dispositivo legal que prevê a conduta da infração constatada\n",
        "\n",
        "TIPO_INFRACAO - Classifica a infração a partir do código do tipo: cadastro técnico federal; controle ambiental; ecossistema; fauna; flora; ordenamento urbano e contr. patrim.; org. gen. modific. E biopirataria; pesca; unidades de conservação; outras\n",
        "\n",
        "NOME_INFRATOR - Nome da pessoa autuada indicada no auto de infração como infrator\n",
        "\n",
        "CPF_CNPJ_INFRATOR - Número de Cadastro Nacional de Pessoa Jurídica (CNPJ) ou Cadastro de Pessoa Física (CPF) do infrator\n",
        "\n",
        "QTD_AREA - Extensão em hectares da área objeto de autuação\n",
        "\n",
        "TIPO_INFRACAO_AREA - Tipo de infração vinculada à área objeto da infração: desmatamento; queimadas; outras\n",
        "\n",
        "\n",
        "\n",
        "DES_OUTROS_TIPO_AREA - Especifica outra infração vinculada à área quando não se trata de desmatamento ou queimada\n",
        "CLASSIFICACAO_AREA - Tipo de área objeto da infração\n",
        "\n",
        "NUM_LATITUDE_AUTO - Latitude de ocorrência do fato infracional\n",
        "\n",
        "NUM_LONGITUDE_AUTO - Longitude de ocorrência do fato infracional\n",
        "\n",
        "DES_LOCAL_INFRACAO - Descrição do local de ocorrência do fato infracional\n",
        "\n",
        "\n",
        "NOTIFICACAO_VINCULADA - Número e série de notificação vinculada ao auto de infração\n",
        "\n",
        "ACAO_FISCALIZATORIA - Número da ação fiscalizatória de origem do auto de infração\n",
        "\n",
        "UNIDADE - Unidade de fiscalização responsável pelo auto de infração\n",
        "\n",
        "TIPO_ACAO - Motivação da ação fiscalizatória: operação; fortuito; rotina; demanda jurídica/Ministério Público; linha verde (denúncia Sisliv)\n",
        "\n",
        "OPERACAO - Nome da operação de fiscalização\n",
        "\n",
        "DENUNCIA_SISLIV - Número da ocorrência registrada no sistema Linha Verde de ouvidoria, que motivou a a ação fiscalizatória\n",
        "\n",
        "ORDEM_FISCALIZACAO - Ordem de fiscalização que motivou a ação fiscalizatória\n",
        "\n",
        "\n",
        "SOLICITACAO_RECURSO - Número da solicitação de recurso vinculada à ordem de fiscalização\n",
        "\n",
        "OPERACAO_SOL_RECURSO - Nome da operação de fiscalização prevista na solicitação de recurso\n",
        "\n",
        "DAT_LANCAMENTO - Data em que o formulário foi lançado no sistema de fiscalização (auto analógico), ou gerado no aparelho PDA (auto de infração eletrônico)\n",
        "DAT_ULT_ALTERACAO - Data da ultima alteração\n",
        "TIPO_ULT_ALTERACAO - Tipo da última alteração"
      ]
    },
    {
      "cell_type": "code",
      "metadata": {
        "colab": {
          "base_uri": "https://localhost:8080/"
        },
        "id": "71MiW-1ZR2yh",
        "outputId": "1824cf18-6f20-495e-bfec-1f7c57c802b6"
      },
      "source": [
        "df_importacao.info()"
      ],
      "execution_count": null,
      "outputs": [
        {
          "name": "stdout",
          "output_type": "stream",
          "text": [
            "<class 'pandas.core.frame.DataFrame'>\n",
            "RangeIndex: 611066 entries, 0 to 611065\n",
            "Data columns (total 42 columns):\n",
            " #   Column                        Non-Null Count   Dtype  \n",
            "---  ------                        --------------   -----  \n",
            " 0   SEQ_AUTO_INFRACAO             604734 non-null  object \n",
            " 1   NUM_AUTO_INFRACAO             611066 non-null  object \n",
            " 2   SER_AUTO_INFRACAO             590414 non-null  object \n",
            " 3   TIPO_AUTO                     611026 non-null  object \n",
            " 4   TIPO_MULTA                    101874 non-null  object \n",
            " 5   VAL_AUTO_INFRACAO             607824 non-null  float64\n",
            " 6   PATRIMONIO_APURACAO           2874 non-null    object \n",
            " 7   GRAVIDADE_INFRACAO            10823 non-null   object \n",
            " 8   UNID_ARRECADACAO              604734 non-null  object \n",
            " 9   DES_AUTO_INFRACAO             596376 non-null  object \n",
            " 10  DAT_HORA_AUTO_INFRACAO        611053 non-null  object \n",
            " 11  FORMA_ENTREGA                 136982 non-null  object \n",
            " 12  DAT_CIENCIA_AUTUACAO          353009 non-null  object \n",
            " 13  COD_MUNICIPIO                 611053 non-null  object \n",
            " 14  MUNICIPIO                     611053 non-null  object \n",
            " 15  UF                            611053 non-null  object \n",
            " 16  NUM_PROCESSO                  599683 non-null  object \n",
            " 17  COD_INFRACAO                  611053 non-null  object \n",
            " 18  DES_INFRACAO                  611020 non-null  object \n",
            " 19  TIPO_INFRACAO                 611066 non-null  object \n",
            " 20  NOME_INFRATOR                 610315 non-null  object \n",
            " 21  CPF_CNPJ_INFRATOR             584631 non-null  object \n",
            " 22  QTD_AREA                      33515 non-null   float64\n",
            " 23  INFRACAO_AREA                 104704 non-null  object \n",
            " 24  DES_OUTROS_TIPO_AREA          82 non-null      object \n",
            " 25  CLASSIFICACAO_AREA            124115 non-null  object \n",
            " 26  NUM_LATITUDE_AUTO             210447 non-null  float64\n",
            " 27  NUM_LONGITUDE_AUTO            211134 non-null  float64\n",
            " 28  DES_LOCAL_INFRACAO            136788 non-null  object \n",
            " 29  NOTIFICACAO_VINCULADA         604721 non-null  object \n",
            " 30  ACAO_FISCALIZATORIA           100338 non-null  object \n",
            " 31  UNID_CONTROLE                 512608 non-null  object \n",
            " 32  TIPO_ACAO                     145131 non-null  object \n",
            " 33  OPERACAO                      32202 non-null   object \n",
            " 34  DENUNCIA_SISLIV               604721 non-null  object \n",
            " 35  ORDEM_FISCALIZACAO            111544 non-null  object \n",
            " 36  SOLICITACAO_RECURSO           30925 non-null   float64\n",
            " 37  OPERACAO_SOL_RECURSO          30925 non-null   object \n",
            " 38  DAT_LANCAMENTO                604324 non-null  object \n",
            " 39  DAT_ULT_ALTERACAO             608203 non-null  object \n",
            " 40  TIPO_ULT_ALTERACAO            601884 non-null  object \n",
            " 41  ULTIMA_ATUALIZACAO_RELATORIO  611040 non-null  object \n",
            "dtypes: float64(5), object(37)\n",
            "memory usage: 195.8+ MB\n"
          ]
        }
      ]
    },
    {
      "cell_type": "code",
      "metadata": {
        "colab": {
          "base_uri": "https://localhost:8080/"
        },
        "id": "L0R9rjDWpuMP",
        "outputId": "a18ba150-e3f5-4643-ab9e-512d30ae4b02"
      },
      "source": [
        "df_autos_infracao.info()"
      ],
      "execution_count": null,
      "outputs": [
        {
          "name": "stdout",
          "output_type": "stream",
          "text": [
            "<class 'pandas.core.frame.DataFrame'>\n",
            "Int64Index: 440955 entries, 0 to 604720\n",
            "Data columns (total 29 columns):\n",
            " #   Column                  Non-Null Count   Dtype         \n",
            "---  ------                  --------------   -----         \n",
            " 0   SEQ_AUTO_INFRACAO       440955 non-null  object        \n",
            " 1   NUM_AUTO_INFRACAO       440955 non-null  object        \n",
            " 2   DAT_HORA_AUTO_INFRACAO  440955 non-null  datetime64[ns]\n",
            " 3   TIPO_AUTO               440955 non-null  object        \n",
            " 4   TIPO_MULTA              94993 non-null   object        \n",
            " 5   VAL_AUTO_INFRACAO       440955 non-null  float64       \n",
            " 6   UNID_ARRECADACAO        440955 non-null  object        \n",
            " 7   COD_MUNICIPIO           440955 non-null  object        \n",
            " 8   MUNICIPIO               440955 non-null  object        \n",
            " 9   UF                      440955 non-null  object        \n",
            " 10  FORMA_ENTREGA           129945 non-null  object        \n",
            " 11  DAT_CIENCIA_AUTUACAO    327741 non-null  datetime64[ns]\n",
            " 12  NUM_PROCESSO            435360 non-null  object        \n",
            " 13  NOME_INFRATOR           440337 non-null  object        \n",
            " 14  CPF_CNPJ_INFRATOR       438560 non-null  object        \n",
            " 15  CLASSIFICACAO_AREA      123542 non-null  object        \n",
            " 16  COD_INFRACAO            440955 non-null  object        \n",
            " 17  TIPO_INFRACAO           0 non-null       float64       \n",
            " 18  ACAO_FISCALIZATORIA     100099 non-null  object        \n",
            " 19  UNID_CONTROLE           392259 non-null  object        \n",
            " 20  TIPO_ACAO               142610 non-null  object        \n",
            " 21  OPERACAO                32164 non-null   object        \n",
            " 22  ORDEM_FISCALIZACAO      111315 non-null  object        \n",
            " 23  Região                  440955 non-null  object        \n",
            " 24  Regiao                  440955 non-null  object        \n",
            " 25  REGIAO                  440955 non-null  object        \n",
            " 26  UNID_JULGAMENTO         440955 non-null  object        \n",
            " 27  AJG                     440955 non-null  object        \n",
            " 28  ANO_LAVRATURA           440955 non-null  int64         \n",
            "dtypes: datetime64[ns](2), float64(2), int64(1), object(24)\n",
            "memory usage: 120.9+ MB\n"
          ]
        }
      ]
    },
    {
      "cell_type": "markdown",
      "metadata": {
        "id": "tC4COj8HXYNp"
      },
      "source": [
        "**3. LIMPEZA E AJUSTE DO CONJUNTO DE DADOS**\n",
        "---\n",
        "\n",
        "Após uma visão geral dos dados, combinado com a análise semântica das colunas a partir do dicionário de dados, selecionou-se em um DataFrame apenas as colunas que seriam úteis para o estudo.\n",
        "\n",
        "Verificou-se também que alguns campos possuíam poucos registros preenchidos (< 5% do total de registros).\n",
        "Deste modo, também foram descartados:\n",
        "\n",
        " 6   PATRIMONIO_APURACAO           2874 non-null    object \n",
        "\n",
        " 7   GRAVIDADE_INFRACAO            10823 non-null   object \n",
        "\n",
        " 24  DES_OUTROS_TIPO_AREA          82 non-null      object\n"
      ]
    },
    {
      "cell_type": "code",
      "metadata": {
        "colab": {
          "base_uri": "https://localhost:8080/",
          "height": 408
        },
        "id": "yUjFrIJvT6-E",
        "outputId": "4a48be4e-c431-4895-f8ab-b60006c9b3f3"
      },
      "source": [
        "# Dataframe contendo apenas as colunas interessantes para o estudo\n",
        "df_autos_infracao = df_importacao[['SEQ_AUTO_INFRACAO', 'NUM_AUTO_INFRACAO', 'DAT_HORA_AUTO_INFRACAO', 'TIPO_AUTO', 'TIPO_MULTA', 'VAL_AUTO_INFRACAO', \n",
        "                                   'UNID_ARRECADACAO', 'COD_MUNICIPIO', 'MUNICIPIO', 'UF', 'FORMA_ENTREGA', 'DAT_CIENCIA_AUTUACAO', \n",
        "                                   'NUM_PROCESSO', 'NOME_INFRATOR', 'CPF_CNPJ_INFRATOR', 'CLASSIFICACAO_AREA', \n",
        "                                   'COD_INFRACAO', 'TIPO_INFRACAO', 'ACAO_FISCALIZATORIA', 'UNID_CONTROLE', 'TIPO_ACAO']]\n",
        "df_autos_infracao.head()"
      ],
      "execution_count": null,
      "outputs": [
        {
          "data": {
            "text/html": [
              "<div>\n",
              "<style scoped>\n",
              "    .dataframe tbody tr th:only-of-type {\n",
              "        vertical-align: middle;\n",
              "    }\n",
              "\n",
              "    .dataframe tbody tr th {\n",
              "        vertical-align: top;\n",
              "    }\n",
              "\n",
              "    .dataframe thead th {\n",
              "        text-align: right;\n",
              "    }\n",
              "</style>\n",
              "<table border=\"1\" class=\"dataframe\">\n",
              "  <thead>\n",
              "    <tr style=\"text-align: right;\">\n",
              "      <th></th>\n",
              "      <th>SEQ_AUTO_INFRACAO</th>\n",
              "      <th>NUM_AUTO_INFRACAO</th>\n",
              "      <th>DAT_HORA_AUTO_INFRACAO</th>\n",
              "      <th>TIPO_AUTO</th>\n",
              "      <th>TIPO_MULTA</th>\n",
              "      <th>VAL_AUTO_INFRACAO</th>\n",
              "      <th>UNID_ARRECADACAO</th>\n",
              "      <th>COD_MUNICIPIO</th>\n",
              "      <th>MUNICIPIO</th>\n",
              "      <th>UF</th>\n",
              "      <th>FORMA_ENTREGA</th>\n",
              "      <th>DAT_CIENCIA_AUTUACAO</th>\n",
              "      <th>NUM_PROCESSO</th>\n",
              "      <th>NOME_INFRATOR</th>\n",
              "      <th>CPF_CNPJ_INFRATOR</th>\n",
              "      <th>CLASSIFICACAO_AREA</th>\n",
              "      <th>COD_INFRACAO</th>\n",
              "      <th>TIPO_INFRACAO</th>\n",
              "      <th>ACAO_FISCALIZATORIA</th>\n",
              "      <th>UNID_CONTROLE</th>\n",
              "      <th>TIPO_ACAO</th>\n",
              "      <th>OPERACAO</th>\n",
              "      <th>ORDEM_FISCALIZACAO</th>\n",
              "    </tr>\n",
              "  </thead>\n",
              "  <tbody>\n",
              "    <tr>\n",
              "      <th>0</th>\n",
              "      <td>3</td>\n",
              "      <td>26363</td>\n",
              "      <td>05/03/2004 00:00:00</td>\n",
              "      <td>Multa simples</td>\n",
              "      <td>NaN</td>\n",
              "      <td>1500.0</td>\n",
              "      <td>IMP/GEREX</td>\n",
              "      <td>2105302</td>\n",
              "      <td>IMPERATRIZ</td>\n",
              "      <td>MA</td>\n",
              "      <td>NaN</td>\n",
              "      <td>05/03/2004</td>\n",
              "      <td>0205100001204</td>\n",
              "      <td>PALADAR IOGURTE LTDA</td>\n",
              "      <td>01790868000103</td>\n",
              "      <td>NaN</td>\n",
              "      <td>401001,0</td>\n",
              "      <td>Penalidade pecuniária - Flora</td>\n",
              "      <td>NaN</td>\n",
              "      <td>IMP/GEREX</td>\n",
              "      <td>Rotina</td>\n",
              "      <td>NaN</td>\n",
              "      <td>NaN</td>\n",
              "    </tr>\n",
              "    <tr>\n",
              "      <th>1</th>\n",
              "      <td>4</td>\n",
              "      <td>26364</td>\n",
              "      <td>05/03/2004 00:00:00</td>\n",
              "      <td>Multa simples</td>\n",
              "      <td>NaN</td>\n",
              "      <td>1500.0</td>\n",
              "      <td>IMP/GEREX</td>\n",
              "      <td>2105302</td>\n",
              "      <td>IMPERATRIZ</td>\n",
              "      <td>MA</td>\n",
              "      <td>NaN</td>\n",
              "      <td>05/03/2004</td>\n",
              "      <td>0205100001104</td>\n",
              "      <td>PALADAR IOGURTE LTDA</td>\n",
              "      <td>01790868000103</td>\n",
              "      <td>NaN</td>\n",
              "      <td>606002,0</td>\n",
              "      <td>Penalidade pecuniária - Controle ambiental</td>\n",
              "      <td>NaN</td>\n",
              "      <td>IMP/GEREX</td>\n",
              "      <td>NaN</td>\n",
              "      <td>NaN</td>\n",
              "      <td>NaN</td>\n",
              "    </tr>\n",
              "    <tr>\n",
              "      <th>2</th>\n",
              "      <td>5</td>\n",
              "      <td>26365</td>\n",
              "      <td>11/05/2004 00:00:00</td>\n",
              "      <td>Multa simples</td>\n",
              "      <td>NaN</td>\n",
              "      <td>2500.0</td>\n",
              "      <td>IMP/GEREX</td>\n",
              "      <td>2100600</td>\n",
              "      <td>AMARANTE DO MARANHAO</td>\n",
              "      <td>MA</td>\n",
              "      <td>NaN</td>\n",
              "      <td>11/05/2004</td>\n",
              "      <td>0205100007104</td>\n",
              "      <td>CERAMICA GABRIELA LTDA - ME</td>\n",
              "      <td>04352741000192</td>\n",
              "      <td>NaN</td>\n",
              "      <td>401001,0</td>\n",
              "      <td>Penalidade pecuniária - Flora</td>\n",
              "      <td>NaN</td>\n",
              "      <td>IMP/GEREX</td>\n",
              "      <td>NaN</td>\n",
              "      <td>NaN</td>\n",
              "      <td>NaN</td>\n",
              "    </tr>\n",
              "    <tr>\n",
              "      <th>3</th>\n",
              "      <td>7</td>\n",
              "      <td>26367</td>\n",
              "      <td>04/11/2004 10:00:00</td>\n",
              "      <td>Multa simples</td>\n",
              "      <td>NaN</td>\n",
              "      <td>200.0</td>\n",
              "      <td>IMP/GEREX</td>\n",
              "      <td>2104057</td>\n",
              "      <td>ESTREITO</td>\n",
              "      <td>MA</td>\n",
              "      <td>NaN</td>\n",
              "      <td>NaN</td>\n",
              "      <td>0205100026204</td>\n",
              "      <td>Deusivan Cavalcante Ferreira</td>\n",
              "      <td>***909373**</td>\n",
              "      <td>NaN</td>\n",
              "      <td>422001,0</td>\n",
              "      <td>Penalidade pecuniária - Flora</td>\n",
              "      <td>NaN</td>\n",
              "      <td>IMP/GEREX</td>\n",
              "      <td>NaN</td>\n",
              "      <td>NaN</td>\n",
              "      <td>NaN</td>\n",
              "    </tr>\n",
              "    <tr>\n",
              "      <th>4</th>\n",
              "      <td>9</td>\n",
              "      <td>26369</td>\n",
              "      <td>04/11/2004 00:00:00</td>\n",
              "      <td>Multa simples</td>\n",
              "      <td>NaN</td>\n",
              "      <td>600.0</td>\n",
              "      <td>IMP/GEREX</td>\n",
              "      <td>2104057</td>\n",
              "      <td>ESTREITO</td>\n",
              "      <td>MA</td>\n",
              "      <td>NaN</td>\n",
              "      <td>NaN</td>\n",
              "      <td>0205100026304</td>\n",
              "      <td>FRANCISCO COELHO DA SILVA</td>\n",
              "      <td>***185942**</td>\n",
              "      <td>NaN</td>\n",
              "      <td>422001,0</td>\n",
              "      <td>Penalidade pecuniária - Flora</td>\n",
              "      <td>NaN</td>\n",
              "      <td>IMP/GEREX</td>\n",
              "      <td>NaN</td>\n",
              "      <td>NaN</td>\n",
              "      <td>NaN</td>\n",
              "    </tr>\n",
              "  </tbody>\n",
              "</table>\n",
              "</div>"
            ],
            "text/plain": [
              "  SEQ_AUTO_INFRACAO NUM_AUTO_INFRACAO  ... OPERACAO ORDEM_FISCALIZACAO\n",
              "0                 3             26363  ...      NaN                NaN\n",
              "1                 4             26364  ...      NaN                NaN\n",
              "2                 5             26365  ...      NaN                NaN\n",
              "3                 7             26367  ...      NaN                NaN\n",
              "4                 9             26369  ...      NaN                NaN\n",
              "\n",
              "[5 rows x 23 columns]"
            ]
          },
          "execution_count": 8,
          "metadata": {},
          "output_type": "execute_result"
        }
      ]
    },
    {
      "cell_type": "markdown",
      "metadata": {
        "id": "upyqFeTw0t-2"
      },
      "source": [
        "**3.1 AJUTES NOS DADOS**\n",
        "---\n",
        "\n"
      ]
    },
    {
      "cell_type": "code",
      "metadata": {
        "colab": {
          "base_uri": "https://localhost:8080/"
        },
        "id": "gUHsWj4FXdRZ",
        "outputId": "c27edacb-6a0b-466f-f9d9-05004d110a02"
      },
      "source": [
        "#--------------------------------------------------------------\n",
        "# AJUSTE NAS COLUNAS: DATA DE INFRACAO E DATA DE CIENCIA\n",
        "#--------------------------------------------------------------\n",
        "# Algumas datas estão com o erro no preenchimento do ANO\n",
        "# Ex.: '0997', '1013', '0216', '2048', '2042', \n",
        "pd.options.mode.chained_assignment = None\n",
        "\n",
        "df_autos_infracao['DAT_HORA_AUTO_INFRACAO'].str.split(' ').str[0].str[-4:].sort_values().unique()"
      ],
      "execution_count": null,
      "outputs": [
        {
          "data": {
            "text/plain": [
              "array(['0199', '0216', '0997', '1013', '1195', '1977', '1980', '1981',\n",
              "       '1982', '1983', '1984', '1985', '1986', '1987', '1988', '1989',\n",
              "       '1990', '1991', '1992', '1993', '1994', '1995', '1996', '1997',\n",
              "       '1998', '1999', '2000', '2001', '2002', '2003', '2004', '2005',\n",
              "       '2006', '2007', '2008', '2009', '2010', '2011', '2012', '2013',\n",
              "       '2014', '2015', '2016', '2017', '2018', '2019', '2020', '2021',\n",
              "       '2022', '2042', '2048', '2055', '2199', nan], dtype=object)"
            ]
          },
          "execution_count": 29,
          "metadata": {},
          "output_type": "execute_result"
        }
      ]
    },
    {
      "cell_type": "code",
      "metadata": {
        "colab": {
          "base_uri": "https://localhost:8080/"
        },
        "id": "-djMqu3MduGn",
        "outputId": "9be65552-aa92-43e6-d698-f91beedd7d57"
      },
      "source": [
        "# 17 REGISTROS COM DATAS INVALIDAS\n",
        "df_autos_infracao['DAT_HORA_AUTO_INFRACAO'].str.split(' ').str[0].str[-4:].isin(['0199', '0216', '0997', '1013', '1195','2048', '2055', '2199', '2042', '2022']).value_counts()"
      ],
      "execution_count": null,
      "outputs": [
        {
          "data": {
            "text/plain": [
              "False    611048\n",
              "True         18\n",
              "Name: DAT_HORA_AUTO_INFRACAO, dtype: int64"
            ]
          },
          "execution_count": 30,
          "metadata": {},
          "output_type": "execute_result"
        }
      ]
    },
    {
      "cell_type": "code",
      "metadata": {
        "colab": {
          "base_uri": "https://localhost:8080/"
        },
        "id": "lEUdccLWm32I",
        "outputId": "0122b30a-159a-4457-c24a-0b28b577f9db"
      },
      "source": [
        "df_autos_infracao['DAT_CIENCIA_AUTUACAO'].str.split(' ').str[0].str[-4:].sort_values().unique()"
      ],
      "execution_count": null,
      "outputs": [
        {
          "data": {
            "text/plain": [
              "array(['1919', '1920', '1960', '1980', '1982', '1983', '1984', '1985',\n",
              "       '1986', '1987', '1988', '1989', '1990', '1991', '1992', '1993',\n",
              "       '1994', '1995', '1996', '1997', '1998', '1999', '2000', '2001',\n",
              "       '2002', '2003', '2004', '2005', '2006', '2007', '2008', '2009',\n",
              "       '2010', '2011', '2012', '2013', '2014', '2015', '2016', '2017',\n",
              "       '2018', '2019', '2020', '2021', '2028', '2044', '2046', '2077',\n",
              "       '2081', '2109', nan], dtype=object)"
            ]
          },
          "execution_count": 31,
          "metadata": {},
          "output_type": "execute_result"
        }
      ]
    },
    {
      "cell_type": "code",
      "metadata": {
        "colab": {
          "base_uri": "https://localhost:8080/"
        },
        "id": "VPUUnJHVnOWu",
        "outputId": "10440d9e-20b0-4d19-feae-cc9ef09bcbe6"
      },
      "source": [
        "# 8 REGISTROS COM DATAS INVALIDAS\n",
        "df_autos_infracao['DAT_CIENCIA_AUTUACAO'].str.split(' ').str[0].str[-4:].isin(['2028', '2044', '2046', '2077', '2081', '2109']).value_counts()"
      ],
      "execution_count": null,
      "outputs": [
        {
          "data": {
            "text/plain": [
              "False    611058\n",
              "True          8\n",
              "Name: DAT_CIENCIA_AUTUACAO, dtype: int64"
            ]
          },
          "execution_count": 32,
          "metadata": {},
          "output_type": "execute_result"
        }
      ]
    },
    {
      "cell_type": "code",
      "metadata": {
        "id": "H4LdrxE7Ygvh"
      },
      "source": [
        "# Exclui os registros com datas erradas (17 + 8 registros)\n",
        "df_autos_infracao.drop(df_autos_infracao[df_autos_infracao['DAT_HORA_AUTO_INFRACAO'].str.split(' ').str[0].str[-4:].isin(['0199', '0216', '0997', '1013', '1195','2048', '2055', '2199', '2042'])].index, inplace=True)\n",
        "df_autos_infracao.drop(df_autos_infracao[df_autos_infracao['DAT_CIENCIA_AUTUACAO'].str.split(' ').str[0].str[-4:].isin(['2028', '2044', '2046', '2077', '2081', '2109'])].index, inplace=True)"
      ],
      "execution_count": null,
      "outputs": []
    },
    {
      "cell_type": "code",
      "metadata": {
        "id": "aXHfDx-cZ95J"
      },
      "source": [
        "# Retira a hora e converte o campos de Data para datetime\n",
        "df_autos_infracao['DAT_HORA_AUTO_INFRACAO'] = pd.to_datetime(df_autos_infracao['DAT_HORA_AUTO_INFRACAO'].str.split(' ').str[0], format='%d/%m/%Y')\n",
        "df_autos_infracao['DAT_CIENCIA_AUTUACAO'] = pd.to_datetime(df_autos_infracao['DAT_CIENCIA_AUTUACAO'].str.split(' ').str[0], format='%d/%m/%Y')\n",
        "\n",
        "#df_autos_infracao['DAT_HORA_AUTO_INFRACAO']\n",
        "#df_autos_infracao['DAT_CIENCIA_AUTUACAO']"
      ],
      "execution_count": null,
      "outputs": []
    },
    {
      "cell_type": "code",
      "metadata": {
        "id": "h85_kaGtiZJc"
      },
      "source": [
        "# Cria uma variável com o ano de lavratura do AI\n",
        "df_autos_infracao['ANO_LAVRATURA'] = df_autos_infracao['DAT_HORA_AUTO_INFRACAO'].dt.year"
      ],
      "execution_count": null,
      "outputs": []
    },
    {
      "cell_type": "code",
      "metadata": {
        "colab": {
          "base_uri": "https://localhost:8080/"
        },
        "id": "Y_Yp-eDFXf_m",
        "outputId": "19dd2e31-d7f8-432f-98b5-c400d23b44b3"
      },
      "source": [
        "#--------------------------------------------------------------\n",
        "# AJUSTE NA COLUNA: VAL_AUTO_INFRACAO\n",
        "#--------------------------------------------------------------\n",
        "# Excluídos 1.096 Autos de infração com valores menores que 50 reais\n",
        "print (df_autos_infracao[df_autos_infracao['VAL_AUTO_INFRACAO'] < 50]['SEQ_AUTO_INFRACAO'].count())\n",
        "df_autos_infracao.drop(df_autos_infracao[df_autos_infracao['VAL_AUTO_INFRACAO'] < 50].index, inplace=True)\n",
        "\n",
        "# Excluídos 7.772 Autos de infração com valores NA\n",
        "df_autos_infracao.dropna(subset=['SEQ_AUTO_INFRACAO', 'NUM_AUTO_INFRACAO', 'DAT_HORA_AUTO_INFRACAO', 'VAL_AUTO_INFRACAO'], inplace=True)"
      ],
      "execution_count": null,
      "outputs": [
        {
          "name": "stdout",
          "output_type": "stream",
          "text": [
            "8423\n"
          ]
        }
      ]
    },
    {
      "cell_type": "code",
      "metadata": {
        "colab": {
          "base_uri": "https://localhost:8080/"
        },
        "id": "DRr0bhYuWLjM",
        "outputId": "f7544884-f8e0-494d-a7e9-90b1806c9b5c"
      },
      "source": [
        "#--------------------------------------------------------------\n",
        "# AJUSTE NA COLUNA: TIPO_AUTO\n",
        "#--------------------------------------------------------------\n",
        "df_autos_infracao['TIPO_AUTO'].str.lower().value_counts()"
      ],
      "execution_count": null,
      "outputs": [
        {
          "data": {
            "text/plain": [
              "multa simples    587998\n",
              "advertencia        5092\n",
              "Name: TIPO_AUTO, dtype: int64"
            ]
          },
          "execution_count": 36,
          "metadata": {},
          "output_type": "execute_result"
        }
      ]
    },
    {
      "cell_type": "code",
      "metadata": {
        "id": "QZ8iGb1NgOZT"
      },
      "source": [
        "# Corrige os registros que possuem o mesmo tipo do auto de infração, mas com descrição diferente (advertncia e advertência;)\n",
        "df_autos_infracao.loc[df_autos_infracao['TIPO_AUTO'].str.lower() == 'multa simples;', 'TIPO_AUTO'] = 'multa simples'\n",
        "df_autos_infracao.loc[((df_autos_infracao['TIPO_AUTO'].str.lower() == 'advertncia') | (df_autos_infracao['TIPO_AUTO'].str.lower() == 'advertência;')), 'TIPO_AUTO'] = 'advertencia'\n",
        "df_autos_infracao.loc[((df_autos_infracao['TIPO_AUTO'].str.lower() == 'multa diria') | (df_autos_infracao['TIPO_AUTO'].str.lower() == 'multa diária;')), 'TIPO_AUTO'] = 'advertencia'\n"
      ],
      "execution_count": null,
      "outputs": []
    },
    {
      "cell_type": "code",
      "metadata": {
        "colab": {
          "base_uri": "https://localhost:8080/"
        },
        "id": "sPuaLOawlLcI",
        "outputId": "03999b87-3222-404d-cc26-67b3328780e3"
      },
      "source": [
        "#--------------------------------------------------------------\n",
        "#TIPO_MULTA: sem ajuste\n",
        "#--------------------------------------------------------------\n",
        "\n",
        "df_autos_infracao['TIPO_MULTA'].str.lower().value_counts()"
      ],
      "execution_count": null,
      "outputs": [
        {
          "data": {
            "text/plain": [
              "fechada    69336\n",
              "aberta     26121\n",
              "Name: TIPO_MULTA, dtype: int64"
            ]
          },
          "execution_count": 38,
          "metadata": {},
          "output_type": "execute_result"
        }
      ]
    },
    {
      "cell_type": "code",
      "metadata": {
        "colab": {
          "base_uri": "https://localhost:8080/"
        },
        "id": "VgEYmtmplcBR",
        "outputId": "540cfc10-6951-4da8-9e50-2b9c7f810885"
      },
      "source": [
        "#--------------------------------------------------------------\n",
        "#FORMA_ENTREGA: sem ajuste\n",
        "#--------------------------------------------------------------\n",
        "df_autos_infracao['FORMA_ENTREGA'].str.lower().value_counts()"
      ],
      "execution_count": null,
      "outputs": [
        {
          "data": {
            "text/plain": [
              "ar                                67684\n",
              "pessoalmente                      53863\n",
              "representante                      7881\n",
              "edital                              520\n",
              "o autuado se recusou a assinar      449\n",
              "Name: FORMA_ENTREGA, dtype: int64"
            ]
          },
          "execution_count": 39,
          "metadata": {},
          "output_type": "execute_result"
        }
      ]
    },
    {
      "cell_type": "code",
      "metadata": {
        "colab": {
          "base_uri": "https://localhost:8080/"
        },
        "id": "5ceigcWFlj3Y",
        "outputId": "012d9dca-058b-4024-b771-c3f5043a164d"
      },
      "source": [
        "#--------------------------------------------------------------\n",
        "#TIPO_ACAO: sem ajuste\n",
        "#--------------------------------------------------------------\n",
        "df_autos_infracao['TIPO_ACAO'].str.lower().value_counts()"
      ],
      "execution_count": null,
      "outputs": [
        {
          "data": {
            "text/plain": [
              "rotina            94341\n",
              "operação          44454\n",
              "fortuito           5054\n",
              "demanda jud/mp      989\n",
              "linha verde         174\n",
              "Name: TIPO_ACAO, dtype: int64"
            ]
          },
          "execution_count": 40,
          "metadata": {},
          "output_type": "execute_result"
        }
      ]
    },
    {
      "cell_type": "code",
      "metadata": {
        "colab": {
          "base_uri": "https://localhost:8080/",
          "height": 538
        },
        "id": "kg4ghkUTVi3z",
        "outputId": "109f888c-5bb0-4395-b67f-cd95f4b920d4"
      },
      "source": [
        "#--------------------------------------------------------------\n",
        "#TIPO_INFRACAO: excluida a expressao \"penalidade pecuniaria\"\n",
        "#--------------------------------------------------------------\n",
        "print ('ANTES------------------\\n', df_autos_infracao['TIPO_INFRACAO'].str.lower().value_counts())\n",
        "\n",
        "df_autos_infracao['TIPO_INFRACAO'] = df_autos_infracao['TIPO_INFRACAO'].str.split(' - ').str[1]\n",
        "\n",
        "print ('\\nDEPOIS------------------\\n', df_autos_infracao['TIPO_INFRACAO'].str.lower().value_counts())"
      ],
      "execution_count": null,
      "outputs": [
        {
          "name": "stdout",
          "output_type": "stream",
          "text": [
            "ANTES------------------\n",
            " flora                                  280587\n",
            "fauna                                  100530\n",
            "pesca                                   70007\n",
            "controle ambiental                      69807\n",
            "cadastro técnico federal                32337\n",
            "outras                                  30766\n",
            "ecossistema                              4647\n",
            "org. gen. modific. e biopirataria        2008\n",
            "unidades de conservação                  1673\n",
            "ordenamento urbano e contr. patrim.       728\n",
            "Name: TIPO_INFRACAO, dtype: int64\n"
          ]
        },
        {
          "ename": "AttributeError",
          "evalue": "ignored",
          "output_type": "error",
          "traceback": [
            "\u001b[0;31m---------------------------------------------------------------------------\u001b[0m",
            "\u001b[0;31mAttributeError\u001b[0m                            Traceback (most recent call last)",
            "\u001b[0;32m<ipython-input-41-5f9934fae617>\u001b[0m in \u001b[0;36m<module>\u001b[0;34m()\u001b[0m\n\u001b[1;32m      4\u001b[0m \u001b[0mdf_autos_infracao\u001b[0m\u001b[0;34m[\u001b[0m\u001b[0;34m'TIPO_INFRACAO'\u001b[0m\u001b[0;34m]\u001b[0m \u001b[0;34m=\u001b[0m \u001b[0mdf_autos_infracao\u001b[0m\u001b[0;34m[\u001b[0m\u001b[0;34m'TIPO_INFRACAO'\u001b[0m\u001b[0;34m]\u001b[0m\u001b[0;34m.\u001b[0m\u001b[0mstr\u001b[0m\u001b[0;34m.\u001b[0m\u001b[0msplit\u001b[0m\u001b[0;34m(\u001b[0m\u001b[0;34m' - '\u001b[0m\u001b[0;34m)\u001b[0m\u001b[0;34m.\u001b[0m\u001b[0mstr\u001b[0m\u001b[0;34m[\u001b[0m\u001b[0;36m1\u001b[0m\u001b[0;34m]\u001b[0m\u001b[0;34m\u001b[0m\u001b[0;34m\u001b[0m\u001b[0m\n\u001b[1;32m      5\u001b[0m \u001b[0;34m\u001b[0m\u001b[0m\n\u001b[0;32m----> 6\u001b[0;31m \u001b[0mprint\u001b[0m \u001b[0;34m(\u001b[0m\u001b[0;34m'\\nDEPOIS------------------\\n'\u001b[0m\u001b[0;34m,\u001b[0m \u001b[0mdf_autos_infracao\u001b[0m\u001b[0;34m[\u001b[0m\u001b[0;34m'TIPO_INFRACAO'\u001b[0m\u001b[0;34m]\u001b[0m\u001b[0;34m.\u001b[0m\u001b[0mstr\u001b[0m\u001b[0;34m.\u001b[0m\u001b[0mlower\u001b[0m\u001b[0;34m(\u001b[0m\u001b[0;34m)\u001b[0m\u001b[0;34m.\u001b[0m\u001b[0mvalue_counts\u001b[0m\u001b[0;34m(\u001b[0m\u001b[0;34m)\u001b[0m\u001b[0;34m)\u001b[0m\u001b[0;34m\u001b[0m\u001b[0;34m\u001b[0m\u001b[0m\n\u001b[0m",
            "\u001b[0;32m/usr/local/lib/python3.7/dist-packages/pandas/core/generic.py\u001b[0m in \u001b[0;36m__getattr__\u001b[0;34m(self, name)\u001b[0m\n\u001b[1;32m   5135\u001b[0m             \u001b[0;32mor\u001b[0m \u001b[0mname\u001b[0m \u001b[0;32min\u001b[0m \u001b[0mself\u001b[0m\u001b[0;34m.\u001b[0m\u001b[0m_accessors\u001b[0m\u001b[0;34m\u001b[0m\u001b[0;34m\u001b[0m\u001b[0m\n\u001b[1;32m   5136\u001b[0m         ):\n\u001b[0;32m-> 5137\u001b[0;31m             \u001b[0;32mreturn\u001b[0m \u001b[0mobject\u001b[0m\u001b[0;34m.\u001b[0m\u001b[0m__getattribute__\u001b[0m\u001b[0;34m(\u001b[0m\u001b[0mself\u001b[0m\u001b[0;34m,\u001b[0m \u001b[0mname\u001b[0m\u001b[0;34m)\u001b[0m\u001b[0;34m\u001b[0m\u001b[0;34m\u001b[0m\u001b[0m\n\u001b[0m\u001b[1;32m   5138\u001b[0m         \u001b[0;32melse\u001b[0m\u001b[0;34m:\u001b[0m\u001b[0;34m\u001b[0m\u001b[0;34m\u001b[0m\u001b[0m\n\u001b[1;32m   5139\u001b[0m             \u001b[0;32mif\u001b[0m \u001b[0mself\u001b[0m\u001b[0;34m.\u001b[0m\u001b[0m_info_axis\u001b[0m\u001b[0;34m.\u001b[0m\u001b[0m_can_hold_identifiers_and_holds_name\u001b[0m\u001b[0;34m(\u001b[0m\u001b[0mname\u001b[0m\u001b[0;34m)\u001b[0m\u001b[0;34m:\u001b[0m\u001b[0;34m\u001b[0m\u001b[0;34m\u001b[0m\u001b[0m\n",
            "\u001b[0;32m/usr/local/lib/python3.7/dist-packages/pandas/core/accessor.py\u001b[0m in \u001b[0;36m__get__\u001b[0;34m(self, obj, cls)\u001b[0m\n\u001b[1;32m    185\u001b[0m             \u001b[0;31m# we're accessing the attribute of the class, i.e., Dataset.geo\u001b[0m\u001b[0;34m\u001b[0m\u001b[0;34m\u001b[0m\u001b[0;34m\u001b[0m\u001b[0m\n\u001b[1;32m    186\u001b[0m             \u001b[0;32mreturn\u001b[0m \u001b[0mself\u001b[0m\u001b[0;34m.\u001b[0m\u001b[0m_accessor\u001b[0m\u001b[0;34m\u001b[0m\u001b[0;34m\u001b[0m\u001b[0m\n\u001b[0;32m--> 187\u001b[0;31m         \u001b[0maccessor_obj\u001b[0m \u001b[0;34m=\u001b[0m \u001b[0mself\u001b[0m\u001b[0;34m.\u001b[0m\u001b[0m_accessor\u001b[0m\u001b[0;34m(\u001b[0m\u001b[0mobj\u001b[0m\u001b[0;34m)\u001b[0m\u001b[0;34m\u001b[0m\u001b[0;34m\u001b[0m\u001b[0m\n\u001b[0m\u001b[1;32m    188\u001b[0m         \u001b[0;31m# Replace the property with the accessor object. Inspired by:\u001b[0m\u001b[0;34m\u001b[0m\u001b[0;34m\u001b[0m\u001b[0;34m\u001b[0m\u001b[0m\n\u001b[1;32m    189\u001b[0m         \u001b[0;31m# https://www.pydanny.com/cached-property.html\u001b[0m\u001b[0;34m\u001b[0m\u001b[0;34m\u001b[0m\u001b[0;34m\u001b[0m\u001b[0m\n",
            "\u001b[0;32m/usr/local/lib/python3.7/dist-packages/pandas/core/strings.py\u001b[0m in \u001b[0;36m__init__\u001b[0;34m(self, data)\u001b[0m\n\u001b[1;32m   2098\u001b[0m \u001b[0;34m\u001b[0m\u001b[0m\n\u001b[1;32m   2099\u001b[0m     \u001b[0;32mdef\u001b[0m \u001b[0m__init__\u001b[0m\u001b[0;34m(\u001b[0m\u001b[0mself\u001b[0m\u001b[0;34m,\u001b[0m \u001b[0mdata\u001b[0m\u001b[0;34m)\u001b[0m\u001b[0;34m:\u001b[0m\u001b[0;34m\u001b[0m\u001b[0;34m\u001b[0m\u001b[0m\n\u001b[0;32m-> 2100\u001b[0;31m         \u001b[0mself\u001b[0m\u001b[0;34m.\u001b[0m\u001b[0m_inferred_dtype\u001b[0m \u001b[0;34m=\u001b[0m \u001b[0mself\u001b[0m\u001b[0;34m.\u001b[0m\u001b[0m_validate\u001b[0m\u001b[0;34m(\u001b[0m\u001b[0mdata\u001b[0m\u001b[0;34m)\u001b[0m\u001b[0;34m\u001b[0m\u001b[0;34m\u001b[0m\u001b[0m\n\u001b[0m\u001b[1;32m   2101\u001b[0m         \u001b[0mself\u001b[0m\u001b[0;34m.\u001b[0m\u001b[0m_is_categorical\u001b[0m \u001b[0;34m=\u001b[0m \u001b[0mis_categorical_dtype\u001b[0m\u001b[0;34m(\u001b[0m\u001b[0mdata\u001b[0m\u001b[0;34m.\u001b[0m\u001b[0mdtype\u001b[0m\u001b[0;34m)\u001b[0m\u001b[0;34m\u001b[0m\u001b[0;34m\u001b[0m\u001b[0m\n\u001b[1;32m   2102\u001b[0m         \u001b[0mself\u001b[0m\u001b[0;34m.\u001b[0m\u001b[0m_is_string\u001b[0m \u001b[0;34m=\u001b[0m \u001b[0mdata\u001b[0m\u001b[0;34m.\u001b[0m\u001b[0mdtype\u001b[0m\u001b[0;34m.\u001b[0m\u001b[0mname\u001b[0m \u001b[0;34m==\u001b[0m \u001b[0;34m\"string\"\u001b[0m\u001b[0;34m\u001b[0m\u001b[0;34m\u001b[0m\u001b[0m\n",
            "\u001b[0;32m/usr/local/lib/python3.7/dist-packages/pandas/core/strings.py\u001b[0m in \u001b[0;36m_validate\u001b[0;34m(data)\u001b[0m\n\u001b[1;32m   2155\u001b[0m \u001b[0;34m\u001b[0m\u001b[0m\n\u001b[1;32m   2156\u001b[0m         \u001b[0;32mif\u001b[0m \u001b[0minferred_dtype\u001b[0m \u001b[0;32mnot\u001b[0m \u001b[0;32min\u001b[0m \u001b[0mallowed_types\u001b[0m\u001b[0;34m:\u001b[0m\u001b[0;34m\u001b[0m\u001b[0;34m\u001b[0m\u001b[0m\n\u001b[0;32m-> 2157\u001b[0;31m             \u001b[0;32mraise\u001b[0m \u001b[0mAttributeError\u001b[0m\u001b[0;34m(\u001b[0m\u001b[0;34m\"Can only use .str accessor with string values!\"\u001b[0m\u001b[0;34m)\u001b[0m\u001b[0;34m\u001b[0m\u001b[0;34m\u001b[0m\u001b[0m\n\u001b[0m\u001b[1;32m   2158\u001b[0m         \u001b[0;32mreturn\u001b[0m \u001b[0minferred_dtype\u001b[0m\u001b[0;34m\u001b[0m\u001b[0;34m\u001b[0m\u001b[0m\n\u001b[1;32m   2159\u001b[0m \u001b[0;34m\u001b[0m\u001b[0m\n",
            "\u001b[0;31mAttributeError\u001b[0m: Can only use .str accessor with string values!"
          ]
        }
      ]
    },
    {
      "cell_type": "code",
      "metadata": {
        "colab": {
          "base_uri": "https://localhost:8080/"
        },
        "id": "UEpLqpEPl6b5",
        "outputId": "0e59fa98-d934-44e8-d817-ddfcbd3f55fb"
      },
      "source": [
        "#--------------------------------------------------------------\n",
        "# AJUSTE NA COLUNA: TIPO_AUTO\n",
        "#--------------------------------------------------------------\n",
        "print ('ANTES------------------\\n', df_autos_infracao['COD_INFRACAO'].value_counts())\n",
        "\n",
        "df_autos_infracao['COD_INFRACAO'] = df_autos_infracao['COD_INFRACAO'].str.replace(',0', '')\n",
        "\n",
        "print ('\\nDEPOIS------------------\\n',df_autos_infracao['COD_INFRACAO'].value_counts())"
      ],
      "execution_count": null,
      "outputs": [
        {
          "name": "stdout",
          "output_type": "stream",
          "text": [
            "ANTES------------------\n",
            " 409999,0    58855\n",
            "560001,0    39649\n",
            "400000,0    34365\n",
            "900000,0    22216\n",
            "430001,0    21267\n",
            "            ...  \n",
            "143641,0        1\n",
            "104994,0        1\n",
            "12063,0         1\n",
            "64035,0         1\n",
            "10618,0         1\n",
            "Name: COD_INFRACAO, Length: 7111, dtype: int64\n",
            "\n",
            "DEPOIS------------------\n",
            " 409999    58855\n",
            "560001    39649\n",
            "400000    34365\n",
            "900000    22216\n",
            "430001    21267\n",
            "          ...  \n",
            "158883        1\n",
            "103909        1\n",
            "95440         1\n",
            "60868         1\n",
            "139645        1\n",
            "Name: COD_INFRACAO, Length: 7111, dtype: int64\n"
          ]
        }
      ]
    },
    {
      "cell_type": "code",
      "metadata": {
        "colab": {
          "base_uri": "https://localhost:8080/"
        },
        "id": "4kSyV_iPwVYH",
        "outputId": "2d9beecc-837a-4fd5-ae91-3f1e2440b5b0"
      },
      "source": [
        "#--------------------------------------------------------------\n",
        "#CLASSIFICACAO_AREA: sem ajuste\n",
        "#--------------------------------------------------------------\n",
        "df_autos_infracao['CLASSIFICACAO_AREA'].value_counts() "
      ],
      "execution_count": null,
      "outputs": [
        {
          "data": {
            "text/plain": [
              "Outras áreas                                   40705\n",
              "AMAZONIA LEGAL                                 29435\n",
              "PROPRIEDADE PARTICULAR                         17108\n",
              "FLORESTA NATIVA                                13611\n",
              "Fluvial/Marítimo                                7416\n",
              "APP                                             5324\n",
              "RESERVA LEGAL                                   2583\n",
              "Unidade de Conservação de Proteção Integral     1389\n",
              "ENTORNO DE ESTRADA                              1274\n",
              "MATA SECUNDÁRIA                                 1249\n",
              "MATA PRIMÁRIA                                   1171\n",
              "MATA EM REGENERAÇÃO                             1125\n",
              "Unidade de Conservação Uso Sustentável          1034\n",
              "Faixa de Fronteira(150 Km)                       691\n",
              "Name: CLASSIFICACAO_AREA, dtype: int64"
            ]
          },
          "execution_count": 21,
          "metadata": {},
          "output_type": "execute_result"
        }
      ]
    },
    {
      "cell_type": "markdown",
      "metadata": {
        "id": "J3LH9zlWtsYp"
      },
      "source": [
        "**3.2 CRIACAO DE NOVAS VARIAVEIS**\n",
        "---\n",
        "\n"
      ]
    },
    {
      "cell_type": "code",
      "metadata": {
        "colab": {
          "base_uri": "https://localhost:8080/"
        },
        "id": "lO8xwNphA09U",
        "outputId": "18250952-e672-4b3a-b3ef-4ebff6329c03"
      },
      "source": [
        "#--------------------------------------------------------------\n",
        "# Organiza as UF em Regioes\n",
        "#--------------------------------------------------------------\n",
        "def agrupa_regiao(UF):\n",
        "    if UF in (\"DF\" , \"MS\" , \"MT\" , \"GO\"):\n",
        "        return \"CO\"\n",
        "    if UF in ( \"AC\" , \"RO\" , \"PA\", \"AM\", \"RR\", \"AP\", \"TO\"):\n",
        "        return \"N\"\n",
        "    if UF in (\"BA\" , \"MA\" , \"PB\" , \"PI\" , \"RN\", \"CE\", \"PE\", \"AL\", \"SE\"):\n",
        "        return \"NE\"\n",
        "    if UF in ( \"RS\" , \"PR\" , \"SC\"):\n",
        "        return \"S\"\n",
        "    if UF in ( \"SP\" , \"ES\" , \"MG\" , \"RJ\"):\n",
        "        return \"SE\"\n",
        "    \n",
        "df_autos_infracao['REGIAO'] = df_autos_infracao['UF'].map(determina_regiao)\n",
        "df_autos_infracao['REGIAO'].value_counts()"
      ],
      "execution_count": null,
      "outputs": [
        {
          "data": {
            "text/plain": [
              "SE    119286\n",
              "N     111941\n",
              "NE     91784\n",
              "CO     72564\n",
              "S      45380\n",
              "Name: REGIAO, dtype: int64"
            ]
          },
          "execution_count": 85,
          "metadata": {},
          "output_type": "execute_result"
        }
      ]
    },
    {
      "cell_type": "markdown",
      "metadata": {
        "id": "aNCFgVNeboT9"
      },
      "source": [
        "**3.2.1 Competências para julgamento dos autos de infração**\n",
        "\n",
        "De acordo IN nº 10/2012, os autos de infração iguais ou maiores que 500 mil reais são julgados completamente (1ª e 2ª instância) na Sede do IBAMA, em Brasília, e os que não ultrapassam o valor de 100 mil reais são julgados no âmbito das Superintendências/Gerências. Para aqueles entre 100 e 500 mil a primeira decisão ocorre nos Estados e a segunda decisão, caso exista, na Sede."
      ]
    },
    {
      "cell_type": "code",
      "metadata": {
        "colab": {
          "base_uri": "https://localhost:8080/"
        },
        "id": "hYcxJma2a3Kh",
        "outputId": "4086eaf1-3933-450b-9f92-3c298cb54c16"
      },
      "source": [
        "#--------------------------------------------------------------\n",
        "# Organiza por Unidade de Julgamento\n",
        "#--------------------------------------------------------------\n",
        "def agrupa_unidade_julgamento(valor):\n",
        "    if valor < 500000:\n",
        "        return 'SUPES'\n",
        "    if valor >= 500000:\n",
        "        return \"SEDE\"\n",
        "    \n",
        "df_autos_infracao['UNID_JULGAMENTO'] = df_autos_infracao['VAL_AUTO_INFRACAO'].map(agrupa_unidade_julgamento)\n",
        "df_autos_infracao['UNID_JULGAMENTO'].value_counts()"
      ],
      "execution_count": null,
      "outputs": [
        {
          "data": {
            "text/plain": [
              "SUPES    425528\n",
              "SEDE      15427\n",
              "Name: UNID_JULGAMENTO, dtype: int64"
            ]
          },
          "execution_count": 155,
          "metadata": {},
          "output_type": "execute_result"
        }
      ]
    },
    {
      "cell_type": "code",
      "metadata": {
        "colab": {
          "base_uri": "https://localhost:8080/"
        },
        "id": "ikN4EGhhcwE_",
        "outputId": "cae24836-144c-4aaa-9478-2578e2401040"
      },
      "source": [
        "#--------------------------------------------------------------\n",
        "# Organiza por Autoridade Julgadora\n",
        "#--------------------------------------------------------------\n",
        "def agrupa_unidade_AJG(valor):\n",
        "    if valor <= 100000:\n",
        "        return 'SERVIDOR_DESIGNADO'\n",
        "    if valor > 100000 and valor < 500000:\n",
        "        return \"SUPERINDENTENDE\"\n",
        "    if valor >=  500000:\n",
        "        return \"COPSA\"        \n",
        "    \n",
        "df_autos_infracao['AJG'] = df_autos_infracao['VAL_AUTO_INFRACAO'].map(agrupa_unidade_AJG)\n",
        "df_autos_infracao['AJG'].value_counts()"
      ],
      "execution_count": null,
      "outputs": [
        {
          "data": {
            "text/plain": [
              "SERVIDOR_DESIGNADO    393180\n",
              "SUPERINDENTENDE        32348\n",
              "COPSA                  15427\n",
              "Name: AJG, dtype: int64"
            ]
          },
          "execution_count": 156,
          "metadata": {},
          "output_type": "execute_result"
        }
      ]
    },
    {
      "cell_type": "code",
      "metadata": {
        "id": "6K2H0jD5tuKa"
      },
      "source": [
        ""
      ],
      "execution_count": null,
      "outputs": []
    },
    {
      "cell_type": "markdown",
      "metadata": {
        "id": "OLzkxNYD3FeB"
      },
      "source": [
        "**3.3 FILTRA APENAS OS AUTOS DE INFRAÇÃO A PARTIR DE 2000**\n",
        "---\n",
        "\n",
        "\n",
        "\n",
        "Optou-se por excluir os registros anteriores a 2000, pois além de usarem, à época, outro sistema de informação para registro (havendo problemas na migração de dados), havia a questão dos valores das multas, que nesse período estavam em outra moeda"
      ]
    },
    {
      "cell_type": "code",
      "metadata": {
        "colab": {
          "base_uri": "https://localhost:8080/"
        },
        "id": "7HMfblR9qbSL",
        "outputId": "16929298-f817-4a9b-ed05-63060e74d9ca"
      },
      "source": [
        "df_autos_infracao = df_autos_infracao.loc[(df_autos_infracao['DAT_HORA_AUTO_INFRACAO'].dt.year >= 2000) & (df_autos_infracao['DAT_HORA_AUTO_INFRACAO'].dt.year <= 2021)]\n",
        "\n",
        "df_autos_infracao.groupby(df_autos_infracao['DAT_HORA_AUTO_INFRACAO'].dt.year)['SEQ_AUTO_INFRACAO'].count()"
      ],
      "execution_count": null,
      "outputs": [
        {
          "data": {
            "text/plain": [
              "DAT_HORA_AUTO_INFRACAO\n",
              "2000    23369\n",
              "2001    25541\n",
              "2002    36115\n",
              "2003    20767\n",
              "2004    25744\n",
              "2005    31501\n",
              "2006    24360\n",
              "2007    26895\n",
              "2008    29631\n",
              "2009    21827\n",
              "2010    20180\n",
              "2011    19578\n",
              "2012    18219\n",
              "2013    15350\n",
              "2014    14460\n",
              "2015    16134\n",
              "2016    16952\n",
              "2017    15300\n",
              "2018    14568\n",
              "2019    11505\n",
              "2020     7937\n",
              "2021     5022\n",
              "Name: SEQ_AUTO_INFRACAO, dtype: int64"
            ]
          },
          "execution_count": 47,
          "metadata": {},
          "output_type": "execute_result"
        }
      ]
    },
    {
      "cell_type": "markdown",
      "metadata": {
        "id": "TWjHZWn4umhA"
      },
      "source": [
        "**4. DESCRIÇÃO DAS VARIÁVEIS DE ESTUDO**\n",
        "---\n",
        "\n",
        "Classificação das principais variáveis:\n",
        "\n",
        "QUALITATIVAS:\n",
        "\n",
        "*   Nominais: TIPO_AUTO, TIPO_MULTA, TIPO_ACAO, TIPO_INFRACAO, UF, UNID_JULGAMENTO, AJG, FORMA_ENTREGA\n",
        "*   Ordinais: DAT_HORA_AUTO_INFRACAO (a variável não possui a hora, somente DD/MM/AAAA)\n",
        "\n",
        "\n",
        "QUANTITATIVAS:\n",
        "\n",
        "*   Contínuas: VAL_AUTO_INFRACAO\n",
        "\n",
        "\n"
      ]
    },
    {
      "cell_type": "markdown",
      "metadata": {
        "id": "GBclweCGAQQL"
      },
      "source": [
        "**5. ANÁLISE - ESTATÍSTICA DESCRITIVA**\n",
        "---\n",
        "\n"
      ]
    },
    {
      "cell_type": "markdown",
      "metadata": {
        "id": "HZwCUDC3AoAy"
      },
      "source": [
        "**a) Evolução do quantitativo de autos de infração lavrados**\n",
        "\n",
        "No período de 2000 a 2020, foram lavrados 440.955 autos de infração que totalizaram 18.5 bilhões de reais em multas ambientais. \n",
        "\n",
        "Em termos médios, o IBAMA tem lavrado por ano 16.015 autos, correspondendo a 3,7 bilhões em multas.\n",
        "\n",
        "Analisando-se a série histórica, observa-se que a média de lavratura anual se manteve relativamente estável nesses cinco anos, não havendo grandes oscilações nem tendência definida de aumento ou diminuição do quantitativo de autos."
      ]
    },
    {
      "cell_type": "code",
      "metadata": {
        "colab": {
          "background_save": true,
          "base_uri": "https://localhost:8080/"
        },
        "id": "OTvqwHXXAxg8",
        "outputId": "ce3d14fc-fb23-4665-e543-ae54644e5c2b"
      },
      "source": [
        "qtde_total_ai = df_autos_infracao['SEQ_AUTO_INFRACAO'].count()\n",
        "print (qtde_total_ai)\n",
        "\n",
        "df_qtde_AI_ano = pd.DataFrame(df_autos_infracao.groupby('ANO_LAVRATURA')['SEQ_AUTO_INFRACAO'].count())\n",
        "\n",
        "pp.rcParams['figure.figsize'] = (15, 10)\n",
        "#print (f'Carteira Top{n_qtde_ativos}_{s_periodo} \\nTotal de saque: {vl_total_saque:,.2f}({vl_total_saque/vl_inicial*100:,.2f}%)\\nMédia de saque: {vl_media_saque:,.2f} ({vl_media_saque/vl_inicial*100:,.2f}%) / Mediana de saque: {vl_mediana_saque:,.2f} ({vl_mediana_saque/vl_inicial*100:,.2f}%)')\n",
        "pp.bar(x=df_qtde_AI_ano.index, height=df_qtde_AI_ano['SEQ_AUTO_INFRACAO'])\n",
        "\n",
        "for index, data in enumerate(df_qtde_AI_ano['SEQ_AUTO_INFRACAO']):\n",
        "    if data > 0: \n",
        "      pp.text(x=df_qtde_AI_ano.index[index], y=round(data,1)+2, s=f'{round(data,1)}')\n",
        "\n",
        "mean = df_autos_infracao.groupby('ANO_LAVRATURA')['SEQ_AUTO_INFRACAO'].count().mean()\n",
        "\n",
        "pp.axhline(mean, color='r', linestyle='--')\n",
        "pp.title(f'Evolução da qtde. de AI lavrados por ano\\nMédia anual: {mean:.0f}', fontsize=18)\n",
        "\n",
        "pp.show()"
      ],
      "execution_count": null,
      "outputs": [
        {
          "name": "stdout",
          "output_type": "stream",
          "text": [
            "440955 51241672782.53999\n"
          ]
        }
      ]
    },
    {
      "cell_type": "code",
      "metadata": {
        "colab": {
          "base_uri": "https://localhost:8080/",
          "height": 664
        },
        "id": "LAjgDJp3DmzV",
        "outputId": "72edf7d2-3c47-4c76-d398-2a88d4148392"
      },
      "source": [
        "fig , ax = pp.subplots()\n",
        "sns.lineplot(data=df_qtde_AI_ano)\n",
        "ax.set_title(f'Evolução da qtde. de AI lavrados por ano\\nMédia anual: {mean:.0f}', fontsize=18)\n",
        "\n",
        "pp.axhline(mean, color='r', linestyle='--')"
      ],
      "execution_count": null,
      "outputs": [
        {
          "data": {
            "text/plain": [
              "<matplotlib.lines.Line2D at 0x7fb01ce0d590>"
            ]
          },
          "execution_count": 67,
          "metadata": {},
          "output_type": "execute_result"
        },
        {
          "data": {
            "image/png": "[encoded data removed]",
            "text/plain": [
              "<Figure size 1080x720 with 1 Axes>"
            ]
          },
          "metadata": {},
          "output_type": "display_data"
        }
      ]
    },
    {
      "cell_type": "markdown",
      "metadata": {
        "id": "_kgPEpgZGn-U"
      },
      "source": [
        "**Análise**: É possível perceber uma clara tendência de redução da lavratura de AI ano após ano"
      ]
    },
    {
      "cell_type": "code",
      "metadata": {
        "colab": {
          "base_uri": "https://localhost:8080/",
          "height": 632
        },
        "id": "xqdbe79cG27Z",
        "outputId": "bc4778a2-635f-4063-de2e-968b9f78547c"
      },
      "source": [
        "df_qtde_AI_ano = pd.DataFrame(df_autos_infracao.groupby('ANO_LAVRATURA')['VAL_AUTO_INFRACAO'].sum())\n",
        "\n",
        "pp.rcParams['figure.figsize'] = (15, 10)\n",
        "#print (f'Carteira Top{n_qtde_ativos}_{s_periodo} \\nTotal de saque: {vl_total_saque:,.2f}({vl_total_saque/vl_inicial*100:,.2f}%)\\nMédia de saque: {vl_media_saque:,.2f} ({vl_media_saque/vl_inicial*100:,.2f}%) / Mediana de saque: {vl_mediana_saque:,.2f} ({vl_mediana_saque/vl_inicial*100:,.2f}%)')\n",
        "pp.bar(x=df_qtde_AI_ano.index, height=df_qtde_AI_ano['VAL_AUTO_INFRACAO'])\n",
        "\n",
        "for index, data in enumerate(df_qtde_AI_ano['VAL_AUTO_INFRACAO']):\n",
        "    if data > 0: \n",
        "      pp.text(x=df_qtde_AI_ano.index[index], y=round(data,1)+2, s=f'{round(data,1)}')\n",
        "\n",
        "mean = df_autos_infracao.groupby(df_autos_infracao['ANO_LAVRATURA'])['VAL_AUTO_INFRACAO'].sum().mean()\n",
        "\n",
        "pp.axhline(mean, color='r', linestyle='--')\n",
        "pp.title(f'Vl. total de AI lavrados por ano\\nMédia anual: {mean:,.2f}', fontsize=18)\n",
        "\n",
        "pp.show()"
      ],
      "execution_count": null,
      "outputs": [
        {
          "data": {
            "image/png": "[encoded data removed]",
            "text/plain": [
              "<Figure size 1080x720 with 1 Axes>"
            ]
          },
          "metadata": {},
          "output_type": "display_data"
        }
      ]
    },
    {
      "cell_type": "code",
      "metadata": {
        "colab": {
          "base_uri": "https://localhost:8080/",
          "height": 612
        },
        "id": "49kLvkC0Ippk",
        "outputId": "9d776490-a023-498f-c34b-083a8ea23080"
      },
      "source": [
        "df_qtde_AI_ano = pd.DataFrame(df_autos_infracao.groupby('ANO_LAVRATURA')['VAL_AUTO_INFRACAO'].mean())\n",
        "\n",
        "pp.rcParams['figure.figsize'] = (15, 10)\n",
        "pp.bar(x=df_qtde_AI_ano.index, height=df_qtde_AI_ano['VAL_AUTO_INFRACAO'])\n",
        "\n",
        "for index, data in enumerate(df_qtde_AI_ano['VAL_AUTO_INFRACAO']):\n",
        "    if data > 0: \n",
        "      pp.text(x=df_qtde_AI_ano.index[index], y=round(data,1)+2, s=f'{round(data,1)}')\n",
        "\n",
        "\n",
        "pp.title(f'Vl. médio da multa por ano', fontsize=18)\n",
        "\n",
        "pp.show()"
      ],
      "execution_count": null,
      "outputs": [
        {
          "data": {
            "image/png": "[encoded data removed]",
            "text/plain": [
              "<Figure size 1080x720 with 1 Axes>"
            ]
          },
          "metadata": {},
          "output_type": "display_data"
        }
      ]
    },
    {
      "cell_type": "markdown",
      "metadata": {
        "id": "N9v7YAnMJXcO"
      },
      "source": [
        "**Análise:**\n",
        "Percebe-se que, embora o número de autuações venha caindo, o valor médio das autuações tem aumentado, o que sugere que o Ibama tem adotado estratégia de fiscalização que prioriza os crimes com maiores impactos ambientais. \n",
        "\n",
        "Assim, enquanto no ano de 2000 foram lavrados mais de 23mil AI"
      ]
    },
    {
      "cell_type": "code",
      "metadata": {
        "colab": {
          "base_uri": "https://localhost:8080/",
          "height": 234
        },
        "id": "put6P4eALVBq",
        "outputId": "32d40035-2884-4a79-faaf-98d673f98789"
      },
      "source": [
        "df_qtde_AI_ano"
      ],
      "execution_count": null,
      "outputs": [
        {
          "data": {
            "text/html": [
              "<div>\n",
              "<style scoped>\n",
              "    .dataframe tbody tr th:only-of-type {\n",
              "        vertical-align: middle;\n",
              "    }\n",
              "\n",
              "    .dataframe tbody tr th {\n",
              "        vertical-align: top;\n",
              "    }\n",
              "\n",
              "    .dataframe thead th {\n",
              "        text-align: right;\n",
              "    }\n",
              "</style>\n",
              "<table border=\"1\" class=\"dataframe\">\n",
              "  <thead>\n",
              "    <tr style=\"text-align: right;\">\n",
              "      <th></th>\n",
              "      <th>SEQ_AUTO_INFRACAO</th>\n",
              "    </tr>\n",
              "    <tr>\n",
              "      <th>REGIAO</th>\n",
              "      <th></th>\n",
              "    </tr>\n",
              "  </thead>\n",
              "  <tbody>\n",
              "    <tr>\n",
              "      <th>CO</th>\n",
              "      <td>72564</td>\n",
              "    </tr>\n",
              "    <tr>\n",
              "      <th>N</th>\n",
              "      <td>111941</td>\n",
              "    </tr>\n",
              "    <tr>\n",
              "      <th>NE</th>\n",
              "      <td>91784</td>\n",
              "    </tr>\n",
              "    <tr>\n",
              "      <th>S</th>\n",
              "      <td>45380</td>\n",
              "    </tr>\n",
              "    <tr>\n",
              "      <th>SE</th>\n",
              "      <td>119286</td>\n",
              "    </tr>\n",
              "  </tbody>\n",
              "</table>\n",
              "</div>"
            ],
            "text/plain": [
              "        SEQ_AUTO_INFRACAO\n",
              "REGIAO                   \n",
              "CO                  72564\n",
              "N                  111941\n",
              "NE                  91784\n",
              "S                   45380\n",
              "SE                 119286"
            ]
          },
          "execution_count": 89,
          "metadata": {},
          "output_type": "execute_result"
        }
      ]
    },
    {
      "cell_type": "code",
      "metadata": {
        "colab": {
          "base_uri": "https://localhost:8080/",
          "height": 458
        },
        "id": "563VUVZeKbXY",
        "outputId": "8a21a625-a875-4df6-dadb-e545e64b42b1"
      },
      "source": [
        "qtde_total_ai = df_autos_infracao['SEQ_AUTO_INFRACAO'].count()\n",
        "df_qtde_AI_ano = pd.DataFrame(df_autos_infracao.groupby('REGIAO')['SEQ_AUTO_INFRACAO'].count()/qtde_total_ai*100)\n",
        "\n",
        "print (df_qtde_AI_ano.sort_values(by='SEQ_AUTO_INFRACAO'))\n",
        "\n",
        "pp.rcParams['figure.figsize'] = (10, 5)\n",
        "pp.barh(y=df_qtde_AI_ano.index, width=df_qtde_AI_ano['SEQ_AUTO_INFRACAO'], color=['green','red','orange','silver','blue'])\n",
        "pp.title(f'Qtde. de AI lavrados por Região', fontsize=18)\n",
        "\n",
        "pp.show()"
      ],
      "execution_count": null,
      "outputs": [
        {
          "name": "stdout",
          "output_type": "stream",
          "text": [
            "        SEQ_AUTO_INFRACAO\n",
            "REGIAO                   \n",
            "S               10.291300\n",
            "CO              16.456101\n",
            "NE              20.814822\n",
            "N               25.386037\n",
            "SE              27.051740\n"
          ]
        },
        {
          "data": {
            "image/png": "[encoded data removed]",
            "text/plain": [
              "<Figure size 720x360 with 1 Axes>"
            ]
          },
          "metadata": {},
          "output_type": "display_data"
        }
      ]
    },
    {
      "cell_type": "code",
      "metadata": {
        "colab": {
          "base_uri": "https://localhost:8080/",
          "height": 320
        },
        "id": "LEtPz9PoPw4B",
        "outputId": "919be9da-a6bd-4993-d32f-ae1816f67274"
      },
      "source": [
        "fig , ax = pp.subplots()\n",
        "df_qtde_AI_ano.SEQ_AUTO_INFRACAO.plot.pie()\n",
        "ax.set_ylabel(\"Região\")"
      ],
      "execution_count": null,
      "outputs": [
        {
          "data": {
            "text/plain": [
              "Text(0, 0.5, 'Região')"
            ]
          },
          "execution_count": 200,
          "metadata": {},
          "output_type": "execute_result"
        },
        {
          "data": {
            "image/png": "[encoded data removed]",
            "text/plain": [
              "<Figure size 720x360 with 1 Axes>"
            ]
          },
          "metadata": {},
          "output_type": "display_data"
        }
      ]
    },
    {
      "cell_type": "code",
      "metadata": {
        "colab": {
          "base_uri": "https://localhost:8080/",
          "height": 340
        },
        "id": "zzC-kVg9NgK2",
        "outputId": "791e5cd7-10a0-4fd7-9703-adf195015fdc"
      },
      "source": [
        "vl_total_multa = df_autos_infracao['VAL_AUTO_INFRACAO'].sum()\n",
        "\n",
        "df_qtde_AI_ano = pd.DataFrame(df_autos_infracao.groupby('REGIAO')['VAL_AUTO_INFRACAO'].sum()/vl_total_multa*100)\n",
        "\n",
        "pp.rcParams['figure.figsize'] = (10, 5)\n",
        "pp.barh(y=df_qtde_AI_ano.index, width=df_qtde_AI_ano['VAL_AUTO_INFRACAO'],color=['green','red','orange','silver','blue'])\n",
        "\n",
        "pp.title(f'% Vl total de multa por Região', fontsize=18)\n",
        "\n",
        "pp.show()"
      ],
      "execution_count": null,
      "outputs": [
        {
          "data": {
            "image/png": "[encoded data removed]",
            "text/plain": [
              "<Figure size 720x360 with 1 Axes>"
            ]
          },
          "metadata": {},
          "output_type": "display_data"
        }
      ]
    },
    {
      "cell_type": "code",
      "metadata": {
        "colab": {
          "base_uri": "https://localhost:8080/",
          "height": 338
        },
        "id": "v__en3apQ9RD",
        "outputId": "cff14dfc-b42a-47e8-acb7-a9ad411bb3bd"
      },
      "source": [
        "fig , ax = pp.subplots()\n",
        "df_qtde_AI_ano.VAL_AUTO_INFRACAO.plot.pie()\n",
        "ax.set_ylabel(\"Região\")\n",
        "pp.title(f'% Vl. multa por Região', fontsize=15)"
      ],
      "execution_count": null,
      "outputs": [
        {
          "data": {
            "text/plain": [
              "Text(0.5, 1.0, '% Vl. multa por Região')"
            ]
          },
          "execution_count": 205,
          "metadata": {},
          "output_type": "execute_result"
        },
        {
          "data": {
            "image/png": "[encoded data removed]",
            "text/plain": [
              "<Figure size 720x360 with 1 Axes>"
            ]
          },
          "metadata": {},
          "output_type": "display_data"
        }
      ]
    },
    {
      "cell_type": "code",
      "metadata": {
        "colab": {
          "base_uri": "https://localhost:8080/",
          "height": 340
        },
        "id": "OIUHjrHyPPkw",
        "outputId": "1f486728-6c8a-4989-b124-35e15ae45db1"
      },
      "source": [
        "df_qtde_AI_ano = pd.DataFrame(df_autos_infracao.groupby('REGIAO')['VAL_AUTO_INFRACAO'].mean())\n",
        "\n",
        "pp.rcParams['figure.figsize'] = (10, 5)\n",
        "pp.barh(y=df_qtde_AI_ano.index, width=df_qtde_AI_ano['VAL_AUTO_INFRACAO'],color=['green','red','orange','silver','blue'])\n",
        "'''\n",
        "for index, data in enumerate(df_qtde_AI_ano['SEQ_AUTO_INFRACAO']):\n",
        "    if data > 0: \n",
        "      pp.text(x=df_qtde_AI_ano.index[index], y=round(data,1)+2, s=f'{round(data,1)}')\n",
        "'''\n",
        "#mean = df_autos_infracao.groupby(df_autos_infracao['REGIAO'].dt.year)['SEQ_AUTO_INFRACAO'].count().mean()\n",
        "\n",
        "#pp.axhline(mean, color='r', linestyle='--')\n",
        "pp.title(f'% Vl médio de multa por Região', fontsize=18)\n",
        "\n",
        "pp.show()"
      ],
      "execution_count": null,
      "outputs": [
        {
          "data": {
            "image/png": "[encoded data removed]",
            "text/plain": [
              "<Figure size 720x360 with 1 Axes>"
            ]
          },
          "metadata": {},
          "output_type": "display_data"
        }
      ]
    },
    {
      "cell_type": "code",
      "metadata": {
        "colab": {
          "base_uri": "https://localhost:8080/",
          "height": 632
        },
        "id": "neit9sSdebYG",
        "outputId": "38c06327-02f9-4e15-d4ee-01eedf9b8712"
      },
      "source": [
        "df_qtde_AI_ano = pd.DataFrame(df_autos_infracao.groupby(df_autos_infracao['UNID_JULGAMENTO'])['SEQ_AUTO_INFRACAO'].count())\n",
        "\n",
        "pp.rcParams['figure.figsize'] = (15, 10)\n",
        "#print (f'Carteira Top{n_qtde_ativos}_{s_periodo} \\nTotal de saque: {vl_total_saque:,.2f}({vl_total_saque/vl_inicial*100:,.2f}%)\\nMédia de saque: {vl_media_saque:,.2f} ({vl_media_saque/vl_inicial*100:,.2f}%) / Mediana de saque: {vl_mediana_saque:,.2f} ({vl_mediana_saque/vl_inicial*100:,.2f}%)')\n",
        "pp.bar(x=df_qtde_AI_ano.index, height=df_qtde_AI_ano['SEQ_AUTO_INFRACAO'])\n",
        "\n",
        "for index, data in enumerate(df_qtde_AI_ano['SEQ_AUTO_INFRACAO']):\n",
        "    if data > 0: \n",
        "      pp.text(x=df_qtde_AI_ano.index[index], y=round(data,1)+2, s=f'{round(data,1)}')\n",
        "\n",
        "pp.title(f'Evolução da qtde. de AI lavrados por ano\\nMédia anual', fontsize=18)\n",
        "\n",
        "pp.show()"
      ],
      "execution_count": null,
      "outputs": [
        {
          "data": {
            "image/png": "[encoded data removed]",
            "text/plain": [
              "<Figure size 1080x720 with 1 Axes>"
            ]
          },
          "metadata": {},
          "output_type": "display_data"
        }
      ]
    },
    {
      "cell_type": "code",
      "metadata": {
        "colab": {
          "base_uri": "https://localhost:8080/",
          "height": 751
        },
        "id": "e8hC0OMNfdet",
        "outputId": "ddc1a0ad-a41d-4738-dc59-7bc8377e5aea"
      },
      "source": [
        "qtde_total_ai = df_autos_infracao['SEQ_AUTO_INFRACAO'].count()\n",
        "df_qtde_AI_ano = pd.DataFrame(df_autos_infracao.groupby('UNID_JULGAMENTO')['SEQ_AUTO_INFRACAO'].count()/qtde_total_ai*100)\n",
        "\n",
        "pp.rcParams['figure.figsize'] = (10, 5)\n",
        "print (df_qtde_AI_ano)\n",
        "fig , ax = pp.subplots()\n",
        "df_qtde_AI_ano.SEQ_AUTO_INFRACAO.plot.pie()\n",
        "ax.set_ylabel(\"UNID. JULGAMENTO\")\n",
        "pp.title(f'% Qtde. AI por UNID. JULGAMENTO', fontsize=10)\n",
        "\n",
        "df_qtde_AI_ano = pd.DataFrame(df_autos_infracao.groupby('UNID_JULGAMENTO')['VAL_AUTO_INFRACAO'].sum()/vl_total_multa*100)\n",
        "\n",
        "print (df_qtde_AI_ano)\n",
        "fig , ax = pp.subplots()\n",
        "df_qtde_AI_ano.VAL_AUTO_INFRACAO.plot.pie()\n",
        "ax.set_ylabel(\"UNID. JULGAMENTO\")\n",
        "pp.title(f'% Vl. multa por UNID. JULGAMENTO', fontsize=10)\n",
        "\n",
        "pp.show()"
      ],
      "execution_count": null,
      "outputs": [
        {
          "name": "stdout",
          "output_type": "stream",
          "text": [
            "                 SEQ_AUTO_INFRACAO\n",
            "UNID_JULGAMENTO                   \n",
            "SEDE                      3.498543\n",
            "SUPES                    96.501457\n",
            "                 VAL_AUTO_INFRACAO\n",
            "UNID_JULGAMENTO                   \n",
            "SEDE                     78.029123\n",
            "SUPES                    21.970877\n"
          ]
        },
        {
          "data": {
            "image/png": "[encoded data removed]",
            "text/plain": [
              "<Figure size 720x360 with 1 Axes>"
            ]
          },
          "metadata": {},
          "output_type": "display_data"
        },
        {
          "data": {
            "image/png": "[encoded data removed]",
            "text/plain": [
              "<Figure size 720x360 with 1 Axes>"
            ]
          },
          "metadata": {},
          "output_type": "display_data"
        }
      ]
    },
    {
      "cell_type": "code",
      "metadata": {
        "colab": {
          "base_uri": "https://localhost:8080/",
          "height": 337
        },
        "id": "yDgxwjDbgTtb",
        "outputId": "ca6da193-52e9-464d-be84-6f7b30925c9f"
      },
      "source": [
        "df_filtro_2016_2020 = df_autos_infracao[(df_autos_infracao['ANO_LAVRATURA'] >= 2016) & (df_autos_infracao['ANO_LAVRATURA'] <= 2020)]\n",
        "\n",
        "df_dados = df_filtro_2016_2020.groupby('AJG')['SEQ_AUTO_INFRACAO'].count().reset_index()\n",
        "\n",
        "df_dados['CARGA_JULGAMENTO_DIA'] = df_dados['SEQ_AUTO_INFRACAO']/200*5\n",
        "\n",
        "#df_dados.loc['AJG'== 'SERVIDOR_DESIGNADO', 'CARGA_JULGAMENTO_DIA'] = df_dados['CARGA_JULGAMENTO_DIA']/200"
      ],
      "execution_count": null,
      "outputs": [
        {
          "ename": "KeyError",
          "evalue": "ignored",
          "output_type": "error",
          "traceback": [
            "\u001b[0;31m---------------------------------------------------------------------------\u001b[0m",
            "\u001b[0;31mKeyError\u001b[0m                                  Traceback (most recent call last)",
            "\u001b[0;32m<ipython-input-233-adf0495b40f9>\u001b[0m in \u001b[0;36m<module>\u001b[0;34m()\u001b[0m\n\u001b[1;32m      5\u001b[0m \u001b[0mdf_dados\u001b[0m\u001b[0;34m[\u001b[0m\u001b[0;34m'CARGA_JULGAMENTO_DIA'\u001b[0m\u001b[0;34m]\u001b[0m \u001b[0;34m=\u001b[0m \u001b[0mdf_dados\u001b[0m\u001b[0;34m[\u001b[0m\u001b[0;34m'SEQ_AUTO_INFRACAO'\u001b[0m\u001b[0;34m]\u001b[0m\u001b[0;34m/\u001b[0m\u001b[0;36m200\u001b[0m\u001b[0;34m*\u001b[0m\u001b[0;36m5\u001b[0m\u001b[0;34m\u001b[0m\u001b[0;34m\u001b[0m\u001b[0m\n\u001b[1;32m      6\u001b[0m \u001b[0;34m\u001b[0m\u001b[0m\n\u001b[0;32m----> 7\u001b[0;31m \u001b[0mdf_dados\u001b[0m\u001b[0;34m.\u001b[0m\u001b[0mloc\u001b[0m\u001b[0;34m[\u001b[0m\u001b[0;34m'AJG'\u001b[0m\u001b[0;34m==\u001b[0m \u001b[0;34m'SERVIDOR_DESIGNADO'\u001b[0m\u001b[0;34m,\u001b[0m \u001b[0;34m'CARGA_JULGAMENTO_DIA'\u001b[0m\u001b[0;34m]\u001b[0m \u001b[0;34m=\u001b[0m \u001b[0mdf_dados\u001b[0m\u001b[0;34m[\u001b[0m\u001b[0;34m'CARGA_JULGAMENTO_DIA'\u001b[0m\u001b[0;34m]\u001b[0m\u001b[0;34m/\u001b[0m\u001b[0;36m200\u001b[0m\u001b[0;34m\u001b[0m\u001b[0;34m\u001b[0m\u001b[0m\n\u001b[0m",
            "\u001b[0;32m/usr/local/lib/python3.7/dist-packages/pandas/core/indexing.py\u001b[0m in \u001b[0;36m__setitem__\u001b[0;34m(self, key, value)\u001b[0m\n\u001b[1;32m    668\u001b[0m \u001b[0;34m\u001b[0m\u001b[0m\n\u001b[1;32m    669\u001b[0m         \u001b[0miloc\u001b[0m \u001b[0;34m=\u001b[0m \u001b[0mself\u001b[0m \u001b[0;32mif\u001b[0m \u001b[0mself\u001b[0m\u001b[0;34m.\u001b[0m\u001b[0mname\u001b[0m \u001b[0;34m==\u001b[0m \u001b[0;34m\"iloc\"\u001b[0m \u001b[0;32melse\u001b[0m \u001b[0mself\u001b[0m\u001b[0;34m.\u001b[0m\u001b[0mobj\u001b[0m\u001b[0;34m.\u001b[0m\u001b[0miloc\u001b[0m\u001b[0;34m\u001b[0m\u001b[0;34m\u001b[0m\u001b[0m\n\u001b[0;32m--> 670\u001b[0;31m         \u001b[0miloc\u001b[0m\u001b[0;34m.\u001b[0m\u001b[0m_setitem_with_indexer\u001b[0m\u001b[0;34m(\u001b[0m\u001b[0mindexer\u001b[0m\u001b[0;34m,\u001b[0m \u001b[0mvalue\u001b[0m\u001b[0;34m)\u001b[0m\u001b[0;34m\u001b[0m\u001b[0;34m\u001b[0m\u001b[0m\n\u001b[0m\u001b[1;32m    671\u001b[0m \u001b[0;34m\u001b[0m\u001b[0m\n\u001b[1;32m    672\u001b[0m     \u001b[0;32mdef\u001b[0m \u001b[0m_validate_key\u001b[0m\u001b[0;34m(\u001b[0m\u001b[0mself\u001b[0m\u001b[0;34m,\u001b[0m \u001b[0mkey\u001b[0m\u001b[0;34m,\u001b[0m \u001b[0maxis\u001b[0m\u001b[0;34m:\u001b[0m \u001b[0mint\u001b[0m\u001b[0;34m)\u001b[0m\u001b[0;34m:\u001b[0m\u001b[0;34m\u001b[0m\u001b[0;34m\u001b[0m\u001b[0m\n",
            "\u001b[0;32m/usr/local/lib/python3.7/dist-packages/pandas/core/indexing.py\u001b[0m in \u001b[0;36m_setitem_with_indexer\u001b[0;34m(self, indexer, value)\u001b[0m\n\u001b[1;32m   1568\u001b[0m                     \u001b[0;31m# reindex the axis to the new value\u001b[0m\u001b[0;34m\u001b[0m\u001b[0;34m\u001b[0m\u001b[0;34m\u001b[0m\u001b[0m\n\u001b[1;32m   1569\u001b[0m                     \u001b[0;31m# and set inplace\u001b[0m\u001b[0;34m\u001b[0m\u001b[0;34m\u001b[0m\u001b[0;34m\u001b[0m\u001b[0m\n\u001b[0;32m-> 1570\u001b[0;31m                     \u001b[0mkey\u001b[0m\u001b[0;34m,\u001b[0m \u001b[0m_\u001b[0m \u001b[0;34m=\u001b[0m \u001b[0mconvert_missing_indexer\u001b[0m\u001b[0;34m(\u001b[0m\u001b[0midx\u001b[0m\u001b[0;34m)\u001b[0m\u001b[0;34m\u001b[0m\u001b[0;34m\u001b[0m\u001b[0m\n\u001b[0m\u001b[1;32m   1571\u001b[0m \u001b[0;34m\u001b[0m\u001b[0m\n\u001b[1;32m   1572\u001b[0m                     \u001b[0;31m# if this is the items axes, then take the main missing\u001b[0m\u001b[0;34m\u001b[0m\u001b[0;34m\u001b[0m\u001b[0;34m\u001b[0m\u001b[0m\n",
            "\u001b[0;32m/usr/local/lib/python3.7/dist-packages/pandas/core/indexing.py\u001b[0m in \u001b[0;36mconvert_missing_indexer\u001b[0;34m(indexer)\u001b[0m\n\u001b[1;32m   2207\u001b[0m \u001b[0;34m\u001b[0m\u001b[0m\n\u001b[1;32m   2208\u001b[0m         \u001b[0;32mif\u001b[0m \u001b[0misinstance\u001b[0m\u001b[0;34m(\u001b[0m\u001b[0mindexer\u001b[0m\u001b[0;34m,\u001b[0m \u001b[0mbool\u001b[0m\u001b[0;34m)\u001b[0m\u001b[0;34m:\u001b[0m\u001b[0;34m\u001b[0m\u001b[0;34m\u001b[0m\u001b[0m\n\u001b[0;32m-> 2209\u001b[0;31m             \u001b[0;32mraise\u001b[0m \u001b[0mKeyError\u001b[0m\u001b[0;34m(\u001b[0m\u001b[0;34m\"cannot use a single bool to index into setitem\"\u001b[0m\u001b[0;34m)\u001b[0m\u001b[0;34m\u001b[0m\u001b[0;34m\u001b[0m\u001b[0m\n\u001b[0m\u001b[1;32m   2210\u001b[0m         \u001b[0;32mreturn\u001b[0m \u001b[0mindexer\u001b[0m\u001b[0;34m,\u001b[0m \u001b[0;32mTrue\u001b[0m\u001b[0;34m\u001b[0m\u001b[0;34m\u001b[0m\u001b[0m\n\u001b[1;32m   2211\u001b[0m \u001b[0;34m\u001b[0m\u001b[0m\n",
            "\u001b[0;31mKeyError\u001b[0m: 'cannot use a single bool to index into setitem'"
          ]
        }
      ]
    },
    {
      "cell_type": "code",
      "metadata": {
        "id": "h2CQcx5TmSoQ"
      },
      "source": [
        "df_qtde_AI_ano = pd.DataFrame(df_autos_infracao[df_autos_infracao['UNID_JULGAMENTO'] == 'SEDE'].groupby('ANO_LAVRATURA')['SEQ_AUTO_INFRACAO'].count())\n",
        "df_qtde_AI_ano.plot(kind='bar')\n",
        "'''\n",
        "pp.rcParams['figure.figsize'] = (15, 10)\n",
        "pp.bar(x=['UNID_JULGAMENTO', 'ANO_LAVRATURA'], height=df_qtde_AI_ano['SEQ_AUTO_INFRACAO'])\n",
        "\n",
        "pp.title(f'Vl. médio da multa por ano', fontsize=18)\n",
        "'''\n",
        "pp.show()"
      ],
      "execution_count": null,
      "outputs": []
    },
    {
      "cell_type": "markdown",
      "metadata": {
        "id": "TdnTYNc1HKAj"
      },
      "source": [
        "**b) Valor das multas ambientais**\n",
        "\n",
        "O valor médio da multa por AI no período analisado foi de R$ 231.850,77. \n",
        "\n",
        "Por outro lado, ao se analisar outra medida de tendência utilizada na estatística descritiva, a mediana, obtém-se o valor central de R$ 9.000,00 para os autos de infração, o que significa que metade dos autos de infração do IBAMA possuem valores até nove mil reais.\n",
        "\n",
        "Essa expressiva diferença entre as duas medidas decorre do fato de que a média é mais suscetível a distorção por valores extremos, como são os valores das multas das infrações ambientais, que, regra geral, podem variar entre 50,00 a 50.000.000,00 de reais, conforme dispõe a Lei de Crimes Ambientais (Lei nº 9.605/1998).\n",
        "\n",
        "\n",
        "Essa característica pode ser observada no gráfico a seguir, que apresenta a distribuição dos autos de infração por faixa dos valores das multas."
      ]
    },
    {
      "cell_type": "code",
      "metadata": {
        "colab": {
          "base_uri": "https://localhost:8080/"
        },
        "id": "NsNpsklnPNCf",
        "outputId": "76f5122a-d849-44e4-a3f8-81ea8c9c3762"
      },
      "source": [
        "q1 = df_autos_infracao[\"VAL_AUTO_INFRACAO\"].quantile(.25)\n",
        "print(f'Q1: {q1}')\n",
        "q3 = df_autos_infracao[\"VAL_AUTO_INFRACAO\"].quantile(.75)\n",
        "print(f'Q3: {q3}')\n",
        "aq = q3 - q1\n",
        "print(f'Q3-Q1: {1.5*aq + q3}')"
      ],
      "execution_count": null,
      "outputs": [
        {
          "name": "stdout",
          "output_type": "stream",
          "text": [
            "Q1: 1060.0\n",
            "Q3: 16000.0\n",
            "Q3-Q1: 38410.0\n"
          ]
        }
      ]
    },
    {
      "cell_type": "code",
      "metadata": {
        "colab": {
          "base_uri": "https://localhost:8080/"
        },
        "id": "v3I-cSfmonGs",
        "outputId": "9c3bbe42-e153-4315-9ed8-934602ec1169"
      },
      "source": [
        "round(df_autos_infracao.groupby([\"TIPO_INFRACAO\",\"TIPO_ACAO\"])[\"VAL_AUTO_INFRACAO\"].mean(),2)\n",
        "\n",
        "round(df_autos_infracao.groupby([\"TIPO_ACAO\"])[\"VAL_AUTO_INFRACAO\"].mean().sort_values(ascending=False),2)\n",
        "round(df_autos_infracao.groupby([\"TIPO_INFRACAO\"])[\"VAL_AUTO_INFRACAO\"].mean().sort_values(ascending=False),2)\n",
        "round(df_autos_infracao.groupby([\"TIPO_INFRACAO\"])[\"VAL_AUTO_INFRACAO\"].max().sort_values(ascending=False),2)\n"
      ],
      "execution_count": null,
      "outputs": [
        {
          "data": {
            "text/plain": [
              "Series([], Name: VAL_AUTO_INFRACAO, dtype: float64)"
            ]
          },
          "execution_count": 130,
          "metadata": {},
          "output_type": "execute_result"
        }
      ]
    },
    {
      "cell_type": "code",
      "metadata": {
        "colab": {
          "base_uri": "https://localhost:8080/"
        },
        "id": "bR5EuxHrP2HJ",
        "outputId": "c6d058bf-fb91-4e67-c385-edb751e87e82"
      },
      "source": [
        "vl_minimo, vl_maximo, vl_media_multa, vl_mediana_multa = df_autos_infracao['VAL_AUTO_INFRACAO'].agg(['min', 'max', 'mean', 'median'])\n",
        "print (f'Média: {vl_media_multa:.2f} \\nMediana: {vl_mediana_multa:.2f}\\nMínimo: {vl_minimo:.2f}\\n Máximo: {vl_maximo:.2f}')\n"
      ],
      "execution_count": null,
      "outputs": [
        {
          "name": "stdout",
          "output_type": "stream",
          "text": [
            "Média: 116205.98 \n",
            "Mediana: 3600.00\n",
            "Mínimo: 50.00\n",
            " Máximo: 169910865.00\n"
          ]
        }
      ]
    },
    {
      "cell_type": "code",
      "metadata": {
        "colab": {
          "base_uri": "https://localhost:8080/"
        },
        "id": "XIes0QSRXu70",
        "outputId": "f50efe33-3c12-402a-b6a6-92125e5fdf55"
      },
      "source": [
        "df_autos_infracao[\"VAL_AUTO_INFRACAO\"].sort_values()"
      ],
      "execution_count": null,
      "outputs": [
        {
          "data": {
            "text/plain": [
              "528146           50.0\n",
              "508949           50.0\n",
              "305065           50.0\n",
              "284595           50.0\n",
              "595507           50.0\n",
              "             ...     \n",
              "72135      92329600.0\n",
              "24307     147621215.0\n",
              "216629    150000000.0\n",
              "120639    153184700.0\n",
              "446798    169910865.0\n",
              "Name: VAL_AUTO_INFRACAO, Length: 440955, dtype: float64"
            ]
          },
          "execution_count": 141,
          "metadata": {},
          "output_type": "execute_result"
        }
      ]
    },
    {
      "cell_type": "code",
      "metadata": {
        "colab": {
          "base_uri": "https://localhost:8080/",
          "height": 333
        },
        "id": "pIHRR9falBLL",
        "outputId": "976e57f4-6dc9-4e17-9f02-f3471a13f32a"
      },
      "source": [
        "fig, ax = pp.subplots()\n",
        "ax.hist(df_autos_infracao[\"VAL_AUTO_INFRACAO\"], bins=30, log=True)\n",
        "pp.show()"
      ],
      "execution_count": null,
      "outputs": [
        {
          "data": {
            "image/png": "[encoded data removed]",
            "text/plain": [
              "<Figure size 720x360 with 1 Axes>"
            ]
          },
          "metadata": {},
          "output_type": "display_data"
        }
      ]
    },
    {
      "cell_type": "code",
      "metadata": {
        "colab": {
          "base_uri": "https://localhost:8080/",
          "height": 334
        },
        "id": "oPIAiAITRBbz",
        "outputId": "badfa619-aa9d-4bee-a908-8c5a9dad2561"
      },
      "source": [
        "fig, ax = pp.subplots()\n",
        "ax.scatter(df_autos_infracao[\"VAL_AUTO_INFRACAO\"], df_autos_infracao[\"TIPO_INFRACAO\"])\n",
        "ax.set_xlabel(\"Tarifa uso do sistema\")\n",
        "ax.set_ylabel(\"Tarifa energia\")\n",
        "pp.show()"
      ],
      "execution_count": null,
      "outputs": [
        {
          "data": {
            "image/png": "[encoded data removed]",
            "text/plain": [
              "<Figure size 720x360 with 1 Axes>"
            ]
          },
          "metadata": {},
          "output_type": "display_data"
        }
      ]
    },
    {
      "cell_type": "code",
      "metadata": {
        "colab": {
          "base_uri": "https://localhost:8080/"
        },
        "id": "ZB6VzPFhr5UG",
        "outputId": "88321474-16d8-4743-88fc-972c4c546f20"
      },
      "source": [
        "df_autos_infracao['VAL_AUTO_INFRACAO'].describe()"
      ],
      "execution_count": null,
      "outputs": [
        {
          "data": {
            "text/plain": [
              "count    4.409560e+05\n",
              "mean     1.162060e+05\n",
              "std      1.187742e+06\n",
              "min      5.000000e+01\n",
              "25%      1.060000e+03\n",
              "50%      3.600000e+03\n",
              "75%      1.600000e+04\n",
              "max      1.699109e+08\n",
              "Name: VAL_AUTO_INFRACAO, dtype: float64"
            ]
          },
          "execution_count": 418,
          "metadata": {},
          "output_type": "execute_result"
        }
      ]
    },
    {
      "cell_type": "code",
      "metadata": {
        "colab": {
          "base_uri": "https://localhost:8080/",
          "height": 715
        },
        "id": "xnACC6eVFFm4",
        "outputId": "42cfa511-5e02-4812-ac11-dbf4799eec96"
      },
      "source": [
        "vl_minimo, vl_maximo, vl_media_multa, vl_mediana_multa = df_autos_infracao['VAL_AUTO_INFRACAO'].agg(['min', 'max', 'mean', 'median'])\n",
        "print (f'Média: {vl_media_multa:.2f} \\nMediana: {vl_mediana_multa:.2f}\\nMínimo: {vl_minimo:.2f}\\n Máximo: {vl_maximo:.2f}')\n",
        "\n",
        "#df_autos_infracao['VAL_AUTO_INFRACAO'].agg(['min', 'max', 'mean', 'median'])\n",
        "\n",
        "'''\n",
        "#Visualizaçao BOXPLOT\n",
        "import seaborn as sns\n",
        "sns.set_theme(style=\"whitegrid\")\n",
        "vl_multa = sns.load_dataset(\"df_autos_infracao\")\n",
        "ax = sns.boxplot(x=df_autos_infracao[\"VAL_AUTO_INFRACAO\"])\n",
        "'''\n",
        "fig, ax = pp.subplots()\n",
        "ax.boxplot(df_autos_infracao[df_autos_infracao['VAL_AUTO_INFRACAO']<=100000]['VAL_AUTO_INFRACAO'])\n",
        "pp.show()"
      ],
      "execution_count": null,
      "outputs": [
        {
          "name": "stdout",
          "output_type": "stream",
          "text": [
            "Média: 116205.98 \n",
            "Mediana: 3600.00\n",
            "Mínimo: 50.00\n",
            " Máximo: 169910865.00\n"
          ]
        },
        {
          "data": {
            "image/png": "[encoded data removed]",
            "text/plain": [
              "<Figure size 1584x792 with 1 Axes>"
            ]
          },
          "metadata": {},
          "output_type": "display_data"
        }
      ]
    },
    {
      "cell_type": "markdown",
      "metadata": {
        "id": "ita4LrHxai8k"
      },
      "source": [
        "**d) Tipo de infração (tema ambiental) dos autos de infração**\n",
        "\n",
        "Analisando a distribuição dos autos em função do tema ambiental, percebe-se que as infrações relacionadas à flora, como o desmatamento, representam a maioria dos autos lavrados (40%), seguido das infrações associadas ao Cadastro Técnico Federal – CTF (20%).\n",
        "\n",
        "Combinando-se os dados dos locais de infração com a classificação dos ilícitos por tema ambiental, verifica-se a grande representatividade das infrações relativas ao desmatamento na Amazônia no contexto geral dos ilícitos ambientais, com o tema flora e os estados do PA, MT e RO tendo grande relevância nos quantitativos apresentados.\n",
        "\n",
        "Quanto aos valores das multas, o gráfico acima mostra que o tema flora concentra 71% do montante total das multas aplicadas. Para esse grupo, a média individual de valor por AI foi de R$ 408.000,00 e a mediana R$ 60.000,00. Tal situação evidencia que esse tipo de ilícito, regra geral, possui maior grau de lesividade ao meio ambiente, uma vez que o valor da multa está associado à dimensão da infração.\n",
        "\n",
        "Por outro lado, as infrações relativas ao Cadastro Técnico Federal, que é o segundo tema com o maior número de AI, possuem os menores valores de multa por AI, sendo a média igual a 16 mil reais e sua mediana igual a 2 mil reais.\n",
        "Cabe registrar que os ilícitos vinculados ao CTF representam em sua maioria infrações na seara administrativa, com baixo impacto ambiental, tais como: “Deixar de inscrever-se no CTF”, “Deixar de apresentar relatórios ambientais exigidos na legislação” e “Apresentar informação falsa (porte econômico da empresa) no CTF”.\n",
        "\n",
        "Por fim, destaca-se que os AI que possuem os menores valores de multa (abaixo de 2 mil reais) referem-se a infrações classificadas no tema CTF, com cerca de 40% do total de autos lavrados. Já as infrações com elevados valores de multa (acima de 100 mil reais) estão concentrados no tema flora, representando 74% do quantitativo total de AI."
      ]
    },
    {
      "cell_type": "code",
      "metadata": {
        "colab": {
          "base_uri": "https://localhost:8080/",
          "height": 1000
        },
        "id": "lMIXxBfnEeHm",
        "outputId": "ac94de92-c62d-46b5-a386-26efa9cac63b"
      },
      "source": [
        "qtde_total = df_autos_infracao['TIPO_INFRACAO'].count()\n",
        "vl_total = df_autos_infracao['VAL_AUTO_INFRACAO'].sum()\n",
        "\n",
        "print (df_autos_infracao['TIPO_INFRACAO'].value_counts()/qtde_total*100)\n",
        "print (df_autos_infracao.groupby('TIPO_INFRACAO')['VAL_AUTO_INFRACAO'].sum()/vl_total*100)\n",
        "\n",
        "df_autos_infracao.groupby('TIPO_INFRACAO')['VAL_AUTO_INFRACAO'].agg(['sum', 'mean'])\n",
        "\n",
        "fig, ax = pp.subplots()\n",
        "width = 1\n",
        "(df_autos_infracao.groupby('TIPO_INFRACAO')['SEQ_AUTO_INFRACAO'].count()/qtde_total*100).plot.bar(color='red', position=0)\n",
        "(df_autos_infracao.groupby('TIPO_INFRACAO')['VAL_AUTO_INFRACAO'].sum()/vl_total*100).plot.bar(color='blue', position=1)\n",
        "\n",
        "ax.set_ylabel(\"Contagem\")\n",
        "ax.set_xlabel(\"Região\")\n",
        "ax.set_title(\"Título do gráfico\")\n",
        "\n",
        "pp.show()"
      ],
      "execution_count": null,
      "outputs": [
        {
          "name": "stdout",
          "output_type": "stream",
          "text": [
            "Flora                                  46.150410\n",
            "Fauna                                  19.988389\n",
            "Controle ambiental                     13.124892\n",
            "Pesca                                   9.130616\n",
            "Cadastro Técnico Federal                7.327488\n",
            "Outras                                  2.377108\n",
            "Ecossistema                             0.902358\n",
            "Org. Gen. Modific. e Biopirataria       0.455374\n",
            "Unidades de conservação                 0.378269\n",
            "Ordenamento urbano e Contr. patrim.     0.165096\n",
            "Name: TIPO_INFRACAO, dtype: float64\n",
            "TIPO_INFRACAO\n",
            "Cadastro Técnico Federal                1.851764\n",
            "Controle ambiental                     12.797370\n",
            "Ecossistema                             0.103622\n",
            "Fauna                                   3.339350\n",
            "Flora                                  73.599909\n",
            "Ordenamento urbano e Contr. patrim.     0.035863\n",
            "Org. Gen. Modific. e Biopirataria       1.319217\n",
            "Outras                                  4.297517\n",
            "Pesca                                   1.556785\n",
            "Unidades de conservação                 1.098604\n",
            "Name: VAL_AUTO_INFRACAO, dtype: float64\n"
          ]
        },
        {
          "data": {
            "image/png": "[encoded data removed]",
            "text/plain": [
              "<Figure size 1584x792 with 1 Axes>"
            ]
          },
          "metadata": {},
          "output_type": "display_data"
        }
      ]
    },
    {
      "cell_type": "code",
      "metadata": {
        "id": "S_EHkvMycsvy"
      },
      "source": [
        "ax = fig.add_subplot(111) # Create matplotlib axes\n",
        "ax2 = ax.twinx() # Create another axes that shares the same x-axis as ax.\n",
        "\n",
        "width = 0.4\n",
        "\n",
        "(df_autos_infracao['TIPO_INFRACAO'].value_counts()/qtde_total*100).plot(kind='bar', color='red', ax=ax, width=width, position=1)\n",
        "(df_autos_infracao.groupby('TIPO_INFRACAO')['VAL_AUTO_INFRACAO'].sum()/vl_total*100).plot(kind='bar', color='blue', ax=ax2, width=width, position=0)\n",
        "\n",
        "ax.set_ylabel('Qtde')\n",
        "ax2.set_ylabel('Valor')\n",
        "\n",
        "pp.show()"
      ],
      "execution_count": null,
      "outputs": []
    },
    {
      "cell_type": "code",
      "metadata": {
        "colab": {
          "base_uri": "https://localhost:8080/",
          "height": 486
        },
        "id": "VkCgmxsLshfN",
        "outputId": "2292410a-a5f2-4af1-b411-e41067b7a5a3"
      },
      "source": [
        "df_boxplot=pd.DataFrame(df_autos_infracao.groupby('TIPO_INFRACAO')['SEQ_AUTO_INFRACAO', 'VAL_AUTO_INFRACAO'].agg(['count', 'mean']))\n",
        "df_boxplot"
      ],
      "execution_count": null,
      "outputs": [
        {
          "name": "stderr",
          "output_type": "stream",
          "text": [
            "/usr/local/lib/python3.7/dist-packages/ipykernel_launcher.py:1: FutureWarning:\n",
            "\n",
            "Indexing with multiple keys (implicitly converted to a tuple of keys) will be deprecated, use a list instead.\n",
            "\n"
          ]
        },
        {
          "data": {
            "text/html": [
              "<div>\n",
              "<style scoped>\n",
              "    .dataframe tbody tr th:only-of-type {\n",
              "        vertical-align: middle;\n",
              "    }\n",
              "\n",
              "    .dataframe tbody tr th {\n",
              "        vertical-align: top;\n",
              "    }\n",
              "\n",
              "    .dataframe thead tr th {\n",
              "        text-align: left;\n",
              "    }\n",
              "\n",
              "    .dataframe thead tr:last-of-type th {\n",
              "        text-align: right;\n",
              "    }\n",
              "</style>\n",
              "<table border=\"1\" class=\"dataframe\">\n",
              "  <thead>\n",
              "    <tr>\n",
              "      <th></th>\n",
              "      <th colspan=\"2\" halign=\"left\">VAL_AUTO_INFRACAO</th>\n",
              "    </tr>\n",
              "    <tr>\n",
              "      <th></th>\n",
              "      <th>count</th>\n",
              "      <th>mean</th>\n",
              "    </tr>\n",
              "    <tr>\n",
              "      <th>TIPO_INFRACAO</th>\n",
              "      <th></th>\n",
              "      <th></th>\n",
              "    </tr>\n",
              "  </thead>\n",
              "  <tbody>\n",
              "    <tr>\n",
              "      <th>Cadastro Técnico Federal</th>\n",
              "      <td>32311</td>\n",
              "      <td>29366.960358</td>\n",
              "    </tr>\n",
              "    <tr>\n",
              "      <th>Controle ambiental</th>\n",
              "      <td>57875</td>\n",
              "      <td>113306.142830</td>\n",
              "    </tr>\n",
              "    <tr>\n",
              "      <th>Ecossistema</th>\n",
              "      <td>3979</td>\n",
              "      <td>13344.460503</td>\n",
              "    </tr>\n",
              "    <tr>\n",
              "      <th>Fauna</th>\n",
              "      <td>88140</td>\n",
              "      <td>19413.892186</td>\n",
              "    </tr>\n",
              "    <tr>\n",
              "      <th>Flora</th>\n",
              "      <td>203503</td>\n",
              "      <td>185323.372564</td>\n",
              "    </tr>\n",
              "    <tr>\n",
              "      <th>Ordenamento urbano e Contr. patrim.</th>\n",
              "      <td>728</td>\n",
              "      <td>25243.129712</td>\n",
              "    </tr>\n",
              "    <tr>\n",
              "      <th>Org. Gen. Modific. e Biopirataria</th>\n",
              "      <td>2008</td>\n",
              "      <td>336648.104104</td>\n",
              "    </tr>\n",
              "    <tr>\n",
              "      <th>Outras</th>\n",
              "      <td>10482</td>\n",
              "      <td>210086.045187</td>\n",
              "    </tr>\n",
              "    <tr>\n",
              "      <th>Pesca</th>\n",
              "      <td>40262</td>\n",
              "      <td>19813.303435</td>\n",
              "    </tr>\n",
              "    <tr>\n",
              "      <th>Unidades de conservação</th>\n",
              "      <td>1668</td>\n",
              "      <td>337496.113735</td>\n",
              "    </tr>\n",
              "  </tbody>\n",
              "</table>\n",
              "</div>"
            ],
            "text/plain": [
              "                                    VAL_AUTO_INFRACAO               \n",
              "                                                count           mean\n",
              "TIPO_INFRACAO                                                       \n",
              "Cadastro Técnico Federal                        32311   29366.960358\n",
              "Controle ambiental                              57875  113306.142830\n",
              "Ecossistema                                      3979   13344.460503\n",
              "Fauna                                           88140   19413.892186\n",
              "Flora                                          203503  185323.372564\n",
              "Ordenamento urbano e Contr. patrim.               728   25243.129712\n",
              "Org. Gen. Modific. e Biopirataria                2008  336648.104104\n",
              "Outras                                          10482  210086.045187\n",
              "Pesca                                           40262   19813.303435\n",
              "Unidades de conservação                          1668  337496.113735"
            ]
          },
          "execution_count": 430,
          "metadata": {},
          "output_type": "execute_result"
        }
      ]
    },
    {
      "cell_type": "code",
      "metadata": {
        "colab": {
          "base_uri": "https://localhost:8080/"
        },
        "id": "yxuQDOgEtoSa",
        "outputId": "d915c62e-3f98-4c50-e7ca-819946484c0a"
      },
      "source": [
        "df_autos_infracao['TIPO_INFRACAO'].value_counts()"
      ],
      "execution_count": null,
      "outputs": [
        {
          "data": {
            "text/plain": [
              "Flora                                  203503\n",
              "Fauna                                   88140\n",
              "Controle ambiental                      57875\n",
              "Pesca                                   40262\n",
              "Cadastro Técnico Federal                32311\n",
              "Outras                                  10482\n",
              "Ecossistema                              3979\n",
              "Org. Gen. Modific. e Biopirataria        2008\n",
              "Unidades de conservação                  1668\n",
              "Ordenamento urbano e Contr. patrim.       728\n",
              "Name: TIPO_INFRACAO, dtype: int64"
            ]
          },
          "execution_count": 429,
          "metadata": {},
          "output_type": "execute_result"
        }
      ]
    },
    {
      "cell_type": "code",
      "metadata": {
        "colab": {
          "background_save": true,
          "base_uri": "https://localhost:8080/",
          "height": 764
        },
        "id": "jfbHrfiOYt11",
        "outputId": "80c4bff7-5351-46f2-bb2b-41cbd5719738"
      },
      "source": [
        "#Visualizaçao de como se deu a ocupação de passageiros por Empresa Aérea, em 2021\n",
        "fig, ax = pp.subplots()\n",
        "df_autos_infracao.boxplot(column=\"VAL_AUTO_INFRACAO\", by='TIPO_INFRACAO', ax=ax)\n",
        "ax.set_xlabel(\"EMPRESA AÉREA\")\n",
        "ax.set_ylabel(\"OCUPAÇÃO\")\n",
        "ax.set_title(\"Boxplot de Taxa de Ocupação - Capacidade de Passageiros\")\n",
        "pp.suptitle(\"\")\n",
        "pp.show()"
      ],
      "execution_count": null,
      "outputs": [
        {
          "name": "stderr",
          "output_type": "stream",
          "text": [
            "/usr/local/lib/python3.7/dist-packages/numpy/core/_asarray.py:83: VisibleDeprecationWarning:\n",
            "\n",
            "Creating an ndarray from ragged nested sequences (which is a list-or-tuple of lists-or-tuples-or ndarrays with different lengths or shapes) is deprecated. If you meant to do this, you must specify 'dtype=object' when creating the ndarray\n",
            "\n"
          ]
        },
        {
          "data": {
            "image/png": "[encoded data removed]",
            "text/plain": [
              "<Figure size 1440x1080 with 1 Axes>"
            ]
          },
          "metadata": {},
          "output_type": "display_data"
        }
      ]
    },
    {
      "cell_type": "code",
      "metadata": {
        "colab": {
          "base_uri": "https://localhost:8080/",
          "height": 303
        },
        "id": "GEUPmWqXDRCN",
        "outputId": "f2f1b3ea-486b-47fe-a583-086c9e3a8492"
      },
      "source": [
        "df_qtde_AI_ano = pd.DataFrame(df_autos_infracao.groupby(df_autos_infracao['DAT_HORA_AUTO_INFRACAO'].dt.year)['SEQ_AUTO_INFRACAO'].count())\n",
        "\n",
        "pp.rcParams['figure.figsize'] = (22, 11)\n",
        "#print (f'Carteira Top{n_qtde_ativos}_{s_periodo} \\nTotal de saque: {vl_total_saque:,.2f}({vl_total_saque/vl_inicial*100:,.2f}%)\\nMédia de saque: {vl_media_saque:,.2f} ({vl_media_saque/vl_inicial*100:,.2f}%) / Mediana de saque: {vl_mediana_saque:,.2f} ({vl_mediana_saque/vl_inicial*100:,.2f}%)')\n",
        "pp.bar(x=df_qtde_AI_ano.index, height=df_qtde_AI_ano['SEQ_AUTO_INFRACAO'])\n",
        "pp.bar(x=df_qtde_AI_ano.index, height=df_qtde_AI_ano['SEQ_AUTO_INFRACAO'])\n",
        "\n",
        "#pp.title(f'Saque Mensal - Carteira Top{n_qtde_ativos}_{s_periodo}')\n",
        "\n",
        "for index, data in enumerate(df_qtde_AI_ano['SEQ_AUTO_INFRACAO']):\n",
        "    if data > 0: \n",
        "      pp.text(x=df_qtde_AI_ano.index[index], y=round(data,1)+2, s=f'{round(data,1)}')\n",
        "\n",
        "pp.show()"
      ],
      "execution_count": null,
      "outputs": [
        {
          "ename": "DataError",
          "evalue": "ignored",
          "output_type": "error",
          "traceback": [
            "\u001b[0;31m---------------------------------------------------------------------------\u001b[0m",
            "\u001b[0;31mDataError\u001b[0m                                 Traceback (most recent call last)",
            "\u001b[0;32m<ipython-input-239-ec5e2a7420ee>\u001b[0m in \u001b[0;36m<module>\u001b[0;34m()\u001b[0m\n\u001b[0;32m----> 1\u001b[0;31m \u001b[0mdf_autos_infracao\u001b[0m\u001b[0;34m.\u001b[0m\u001b[0mgroupby\u001b[0m\u001b[0;34m(\u001b[0m\u001b[0mdf_autos_infracao\u001b[0m\u001b[0;34m[\u001b[0m\u001b[0;34m'DAT_HORA_AUTO_INFRACAO'\u001b[0m\u001b[0;34m]\u001b[0m\u001b[0;34m.\u001b[0m\u001b[0mdt\u001b[0m\u001b[0;34m.\u001b[0m\u001b[0myear\u001b[0m\u001b[0;34m)\u001b[0m\u001b[0;34m[\u001b[0m\u001b[0;34m'SEQ_AUTO_INFRACAO'\u001b[0m\u001b[0;34m]\u001b[0m\u001b[0;34m.\u001b[0m\u001b[0mmean\u001b[0m\u001b[0;34m(\u001b[0m\u001b[0;34m)\u001b[0m\u001b[0;34m\u001b[0m\u001b[0;34m\u001b[0m\u001b[0m\n\u001b[0m",
            "\u001b[0;32m/usr/local/lib/python3.7/dist-packages/pandas/core/groupby/groupby.py\u001b[0m in \u001b[0;36mmean\u001b[0;34m(self, numeric_only)\u001b[0m\n\u001b[1;32m   1396\u001b[0m             \u001b[0;34m\"mean\"\u001b[0m\u001b[0;34m,\u001b[0m\u001b[0;34m\u001b[0m\u001b[0;34m\u001b[0m\u001b[0m\n\u001b[1;32m   1397\u001b[0m             \u001b[0malt\u001b[0m\u001b[0;34m=\u001b[0m\u001b[0;32mlambda\u001b[0m \u001b[0mx\u001b[0m\u001b[0;34m,\u001b[0m \u001b[0maxis\u001b[0m\u001b[0;34m:\u001b[0m \u001b[0mSeries\u001b[0m\u001b[0;34m(\u001b[0m\u001b[0mx\u001b[0m\u001b[0;34m)\u001b[0m\u001b[0;34m.\u001b[0m\u001b[0mmean\u001b[0m\u001b[0;34m(\u001b[0m\u001b[0mnumeric_only\u001b[0m\u001b[0;34m=\u001b[0m\u001b[0mnumeric_only\u001b[0m\u001b[0;34m)\u001b[0m\u001b[0;34m,\u001b[0m\u001b[0;34m\u001b[0m\u001b[0;34m\u001b[0m\u001b[0m\n\u001b[0;32m-> 1398\u001b[0;31m             \u001b[0mnumeric_only\u001b[0m\u001b[0;34m=\u001b[0m\u001b[0mnumeric_only\u001b[0m\u001b[0;34m,\u001b[0m\u001b[0;34m\u001b[0m\u001b[0;34m\u001b[0m\u001b[0m\n\u001b[0m\u001b[1;32m   1399\u001b[0m         )\n\u001b[1;32m   1400\u001b[0m \u001b[0;34m\u001b[0m\u001b[0m\n",
            "\u001b[0;32m/usr/local/lib/python3.7/dist-packages/pandas/core/groupby/groupby.py\u001b[0m in \u001b[0;36m_cython_agg_general\u001b[0;34m(self, how, alt, numeric_only, min_count)\u001b[0m\n\u001b[1;32m   1051\u001b[0m \u001b[0;34m\u001b[0m\u001b[0m\n\u001b[1;32m   1052\u001b[0m         \u001b[0;32mif\u001b[0m \u001b[0mlen\u001b[0m\u001b[0;34m(\u001b[0m\u001b[0moutput\u001b[0m\u001b[0;34m)\u001b[0m \u001b[0;34m==\u001b[0m \u001b[0;36m0\u001b[0m\u001b[0;34m:\u001b[0m\u001b[0;34m\u001b[0m\u001b[0;34m\u001b[0m\u001b[0m\n\u001b[0;32m-> 1053\u001b[0;31m             \u001b[0;32mraise\u001b[0m \u001b[0mDataError\u001b[0m\u001b[0;34m(\u001b[0m\u001b[0;34m\"No numeric types to aggregate\"\u001b[0m\u001b[0;34m)\u001b[0m\u001b[0;34m\u001b[0m\u001b[0;34m\u001b[0m\u001b[0m\n\u001b[0m\u001b[1;32m   1054\u001b[0m \u001b[0;34m\u001b[0m\u001b[0m\n\u001b[1;32m   1055\u001b[0m         \u001b[0;32mreturn\u001b[0m \u001b[0mself\u001b[0m\u001b[0;34m.\u001b[0m\u001b[0m_wrap_aggregated_output\u001b[0m\u001b[0;34m(\u001b[0m\u001b[0moutput\u001b[0m\u001b[0;34m,\u001b[0m \u001b[0mindex\u001b[0m\u001b[0;34m=\u001b[0m\u001b[0mself\u001b[0m\u001b[0;34m.\u001b[0m\u001b[0mgrouper\u001b[0m\u001b[0;34m.\u001b[0m\u001b[0mresult_index\u001b[0m\u001b[0;34m)\u001b[0m\u001b[0;34m\u001b[0m\u001b[0;34m\u001b[0m\u001b[0m\n",
            "\u001b[0;31mDataError\u001b[0m: No numeric types to aggregate"
          ]
        }
      ]
    },
    {
      "cell_type": "code",
      "metadata": {
        "colab": {
          "base_uri": "https://localhost:8080/"
        },
        "id": "2mz6AO9ID0mh",
        "outputId": "0f8d3dce-2675-490c-bd28-ac1482a604ef"
      },
      "source": [
        "df_autos_infracao.groupby(df_autos_infracao['DAT_HORA_AUTO_INFRACAO'].dt.year)['SEQ_AUTO_INFRACAO'].count().mean()"
      ],
      "execution_count": null,
      "outputs": [
        {
          "data": {
            "text/plain": [
              "19282.260869565216"
            ]
          },
          "execution_count": 241,
          "metadata": {},
          "output_type": "execute_result"
        }
      ]
    },
    {
      "cell_type": "code",
      "metadata": {
        "colab": {
          "base_uri": "https://localhost:8080/",
          "height": 229
        },
        "id": "EfDQ-J36_nEO",
        "outputId": "411a8ad6-9e19-4e4e-b318-620cbe918bd1"
      },
      "source": [
        "#HEATMAP\n",
        "df_result_ativoxperiod_retorno = df_result_ativoxperiod.pivot(columns='QTDE_ATIVOS', index='PERIODICIDADE', values='VL_RESULTADO')/1000\n",
        "\n",
        "fig, (ax1, ax2) = pp.subplots(1, 2, figsize=(11, 4))\n",
        "\n",
        "ax1.set_title('Retorno Acumulado AtivosxPeriodicidade')\n",
        "sns.heatmap(df_result_ativoxperiod_retorno, \n",
        "            annot=True,  cmap='Blues', \n",
        "            ax=ax1, cbar=True)\n",
        "\n",
        "ax2.set_title('DDMáx AtivosxPeriodicidade')\n",
        "sns.heatmap(df_result_ativoxperiod_ddmax, \n",
        "            annot=True,  cmap='viridis',#Greens\n",
        "            ax=ax2, cbar=True)\n",
        "\n",
        "fig, ax = pp.subplots(figsize=(8, 2))\n",
        "ax.set_title('FR AtivosxPeriodicidade')\n",
        "sns.heatmap(df_result_ativoxperiod_FR, \n",
        "            annot=True,  cmap='Greens',\n",
        "            ax=ax, cbar=True)"
      ],
      "execution_count": null,
      "outputs": [
        {
          "ename": "NameError",
          "evalue": "ignored",
          "output_type": "error",
          "traceback": [
            "\u001b[0;31m---------------------------------------------------------------------------\u001b[0m",
            "\u001b[0;31mNameError\u001b[0m                                 Traceback (most recent call last)",
            "\u001b[0;32m<ipython-input-223-92d2e1c94dd7>\u001b[0m in \u001b[0;36m<module>\u001b[0;34m()\u001b[0m\n\u001b[1;32m      1\u001b[0m \u001b[0;31m#HEATMAP\u001b[0m\u001b[0;34m\u001b[0m\u001b[0;34m\u001b[0m\u001b[0;34m\u001b[0m\u001b[0m\n\u001b[0;32m----> 2\u001b[0;31m \u001b[0mdf_result_ativoxperiod_retorno\u001b[0m \u001b[0;34m=\u001b[0m \u001b[0mdf_result_ativoxperiod\u001b[0m\u001b[0;34m.\u001b[0m\u001b[0mpivot\u001b[0m\u001b[0;34m(\u001b[0m\u001b[0mcolumns\u001b[0m\u001b[0;34m=\u001b[0m\u001b[0;34m'QTDE_ATIVOS'\u001b[0m\u001b[0;34m,\u001b[0m \u001b[0mindex\u001b[0m\u001b[0;34m=\u001b[0m\u001b[0;34m'PERIODICIDADE'\u001b[0m\u001b[0;34m,\u001b[0m \u001b[0mvalues\u001b[0m\u001b[0;34m=\u001b[0m\u001b[0;34m'VL_RESULTADO'\u001b[0m\u001b[0;34m)\u001b[0m\u001b[0;34m/\u001b[0m\u001b[0;36m1000\u001b[0m\u001b[0;34m\u001b[0m\u001b[0;34m\u001b[0m\u001b[0m\n\u001b[0m\u001b[1;32m      3\u001b[0m \u001b[0;34m\u001b[0m\u001b[0m\n\u001b[1;32m      4\u001b[0m \u001b[0mfig\u001b[0m\u001b[0;34m,\u001b[0m \u001b[0;34m(\u001b[0m\u001b[0max1\u001b[0m\u001b[0;34m,\u001b[0m \u001b[0max2\u001b[0m\u001b[0;34m)\u001b[0m \u001b[0;34m=\u001b[0m \u001b[0mpp\u001b[0m\u001b[0;34m.\u001b[0m\u001b[0msubplots\u001b[0m\u001b[0;34m(\u001b[0m\u001b[0;36m1\u001b[0m\u001b[0;34m,\u001b[0m \u001b[0;36m2\u001b[0m\u001b[0;34m,\u001b[0m \u001b[0mfigsize\u001b[0m\u001b[0;34m=\u001b[0m\u001b[0;34m(\u001b[0m\u001b[0;36m11\u001b[0m\u001b[0;34m,\u001b[0m \u001b[0;36m4\u001b[0m\u001b[0;34m)\u001b[0m\u001b[0;34m)\u001b[0m\u001b[0;34m\u001b[0m\u001b[0;34m\u001b[0m\u001b[0m\n\u001b[1;32m      5\u001b[0m \u001b[0;34m\u001b[0m\u001b[0m\n",
            "\u001b[0;31mNameError\u001b[0m: name 'df_result_ativoxperiod' is not defined"
          ]
        }
      ]
    },
    {
      "cell_type": "code",
      "metadata": {
        "id": "YaJriLDzAFP4"
      },
      "source": [
        ""
      ],
      "execution_count": null,
      "outputs": []
    },
    {
      "cell_type": "code",
      "metadata": {
        "colab": {
          "base_uri": "https://localhost:8080/"
        },
        "id": "dl1IaTEV5iMi",
        "outputId": "16a5f3e5-8ba7-4c1b-d4f3-180d86df23ef"
      },
      "source": [
        "df_autos_infracao.info()"
      ],
      "execution_count": null,
      "outputs": [
        {
          "name": "stdout",
          "output_type": "stream",
          "text": [
            "<class 'pandas.core.frame.DataFrame'>\n",
            "Int64Index: 449824 entries, 0 to 611065\n",
            "Data columns (total 23 columns):\n",
            " #   Column                  Non-Null Count   Dtype         \n",
            "---  ------                  --------------   -----         \n",
            " 0   SEQ_AUTO_INFRACAO       443492 non-null  object        \n",
            " 1   NUM_AUTO_INFRACAO       449824 non-null  object        \n",
            " 2   DAT_HORA_AUTO_INFRACAO  449824 non-null  datetime64[ns]\n",
            " 3   TIPO_AUTO               449784 non-null  object        \n",
            " 4   TIPO_MULTA              101367 non-null  object        \n",
            " 5   VAL_AUTO_INFRACAO       448340 non-null  float64       \n",
            " 6   UNID_ARRECADACAO        443492 non-null  object        \n",
            " 7   COD_MUNICIPIO           449824 non-null  object        \n",
            " 8   MUNICIPIO               449824 non-null  object        \n",
            " 9   UF                      449824 non-null  object        \n",
            " 10  FORMA_ENTREGA           136484 non-null  object        \n",
            " 11  DAT_CIENCIA_AUTUACAO    329217 non-null  datetime64[ns]\n",
            " 12  NUM_PROCESSO            440731 non-null  object        \n",
            " 13  NOME_INFRATOR           449199 non-null  object        \n",
            " 14  CPF_CNPJ_INFRATOR       447315 non-null  object        \n",
            " 15  CLASSIFICACAO_AREA      123763 non-null  object        \n",
            " 16  COD_INFRACAO            449824 non-null  object        \n",
            " 17  TIPO_INFRACAO           449824 non-null  object        \n",
            " 18  ACAO_FISCALIZATORIA     100319 non-null  object        \n",
            " 19  UNID_CONTROLE           399750 non-null  object        \n",
            " 20  TIPO_ACAO               142658 non-null  object        \n",
            " 21  OPERACAO                32188 non-null   object        \n",
            " 22  ORDEM_FISCALIZACAO      111524 non-null  object        \n",
            "dtypes: datetime64[ns](2), float64(1), object(20)\n",
            "memory usage: 82.4+ MB\n"
          ]
        }
      ]
    },
    {
      "cell_type": "code",
      "metadata": {
        "colab": {
          "base_uri": "https://localhost:8080/",
          "height": 417
        },
        "id": "iwoy-v4zhNGe",
        "outputId": "9802bdd8-6b2c-459b-b40c-0b2d735b74b7"
      },
      "source": [
        "s_arquivo_entrada = 'bioma.csv'\n",
        "df_importacao_bioma = pd.read_csv(s_googlepath_entrada + s_arquivo_entrada, \n",
        "                                  sep=';', skiprows=0, encoding='utf-8', dtype = {'BIOMA': str})\n",
        "df_importacao_bioma"
      ],
      "execution_count": null,
      "outputs": [
        {
          "data": {
            "text/html": [
              "<div>\n",
              "<style scoped>\n",
              "    .dataframe tbody tr th:only-of-type {\n",
              "        vertical-align: middle;\n",
              "    }\n",
              "\n",
              "    .dataframe tbody tr th {\n",
              "        vertical-align: top;\n",
              "    }\n",
              "\n",
              "    .dataframe thead th {\n",
              "        text-align: right;\n",
              "    }\n",
              "</style>\n",
              "<table border=\"1\" class=\"dataframe\">\n",
              "  <thead>\n",
              "    <tr style=\"text-align: right;\">\n",
              "      <th></th>\n",
              "      <th>SEQ_AUTO_INFRACAO</th>\n",
              "      <th>BIOMA</th>\n",
              "      <th>ULTIMA_ATUALIZACAO_RELATORIO</th>\n",
              "    </tr>\n",
              "  </thead>\n",
              "  <tbody>\n",
              "    <tr>\n",
              "      <th>0</th>\n",
              "      <td>1841865</td>\n",
              "      <td>Amazonia</td>\n",
              "      <td>05/09/2021 19:00</td>\n",
              "    </tr>\n",
              "    <tr>\n",
              "      <th>1</th>\n",
              "      <td>1877459</td>\n",
              "      <td>Amazonia</td>\n",
              "      <td>05/09/2021 19:00</td>\n",
              "    </tr>\n",
              "    <tr>\n",
              "      <th>2</th>\n",
              "      <td>2046512</td>\n",
              "      <td>Amazonia</td>\n",
              "      <td>05/09/2021 19:00</td>\n",
              "    </tr>\n",
              "    <tr>\n",
              "      <th>3</th>\n",
              "      <td>2047127</td>\n",
              "      <td>Amazonia</td>\n",
              "      <td>05/09/2021 19:00</td>\n",
              "    </tr>\n",
              "    <tr>\n",
              "      <th>4</th>\n",
              "      <td>2045672</td>\n",
              "      <td>Amazonia</td>\n",
              "      <td>05/09/2021 19:00</td>\n",
              "    </tr>\n",
              "    <tr>\n",
              "      <th>...</th>\n",
              "      <td>...</td>\n",
              "      <td>...</td>\n",
              "      <td>...</td>\n",
              "    </tr>\n",
              "    <tr>\n",
              "      <th>196193</th>\n",
              "      <td>2040198</td>\n",
              "      <td>Pantanal</td>\n",
              "      <td>05/09/2021 19:00</td>\n",
              "    </tr>\n",
              "    <tr>\n",
              "      <th>196194</th>\n",
              "      <td>1876210</td>\n",
              "      <td>Pantanal</td>\n",
              "      <td>05/09/2021 19:00</td>\n",
              "    </tr>\n",
              "    <tr>\n",
              "      <th>196195</th>\n",
              "      <td>1913491</td>\n",
              "      <td>Pantanal</td>\n",
              "      <td>05/09/2021 19:00</td>\n",
              "    </tr>\n",
              "    <tr>\n",
              "      <th>196196</th>\n",
              "      <td>1940773</td>\n",
              "      <td>Pantanal</td>\n",
              "      <td>05/09/2021 19:00</td>\n",
              "    </tr>\n",
              "    <tr>\n",
              "      <th>196197</th>\n",
              "      <td>2037902</td>\n",
              "      <td>Pantanal</td>\n",
              "      <td>05/09/2021 19:00</td>\n",
              "    </tr>\n",
              "  </tbody>\n",
              "</table>\n",
              "<p>196198 rows × 3 columns</p>\n",
              "</div>"
            ],
            "text/plain": [
              "        SEQ_AUTO_INFRACAO     BIOMA ULTIMA_ATUALIZACAO_RELATORIO\n",
              "0                 1841865  Amazonia             05/09/2021 19:00\n",
              "1                 1877459  Amazonia             05/09/2021 19:00\n",
              "2                 2046512  Amazonia             05/09/2021 19:00\n",
              "3                 2047127  Amazonia             05/09/2021 19:00\n",
              "4                 2045672  Amazonia             05/09/2021 19:00\n",
              "...                   ...       ...                          ...\n",
              "196193            2040198  Pantanal             05/09/2021 19:00\n",
              "196194            1876210  Pantanal             05/09/2021 19:00\n",
              "196195            1913491  Pantanal             05/09/2021 19:00\n",
              "196196            1940773  Pantanal             05/09/2021 19:00\n",
              "196197            2037902  Pantanal             05/09/2021 19:00\n",
              "\n",
              "[196198 rows x 3 columns]"
            ]
          },
          "execution_count": 370,
          "metadata": {},
          "output_type": "execute_result"
        }
      ]
    },
    {
      "cell_type": "code",
      "metadata": {
        "colab": {
          "base_uri": "https://localhost:8080/",
          "height": 806
        },
        "id": "i3xJ-UIJhO7L",
        "outputId": "fa4ba8a5-c2bc-427e-d268-5cb769f2b48e"
      },
      "source": [
        "df_autos_infracao.merge(df_importacao_bioma, how='left',on='SEQ_AUTO_INFRACAO')"
      ],
      "execution_count": null,
      "outputs": [
        {
          "data": {
            "text/html": [
              "<div>\n",
              "<style scoped>\n",
              "    .dataframe tbody tr th:only-of-type {\n",
              "        vertical-align: middle;\n",
              "    }\n",
              "\n",
              "    .dataframe tbody tr th {\n",
              "        vertical-align: top;\n",
              "    }\n",
              "\n",
              "    .dataframe thead th {\n",
              "        text-align: right;\n",
              "    }\n",
              "</style>\n",
              "<table border=\"1\" class=\"dataframe\">\n",
              "  <thead>\n",
              "    <tr style=\"text-align: right;\">\n",
              "      <th></th>\n",
              "      <th>SEQ_AUTO_INFRACAO</th>\n",
              "      <th>NUM_AUTO_INFRACAO</th>\n",
              "      <th>DAT_HORA_AUTO_INFRACAO</th>\n",
              "      <th>TIPO_AUTO</th>\n",
              "      <th>TIPO_MULTA</th>\n",
              "      <th>VAL_AUTO_INFRACAO</th>\n",
              "      <th>UNID_ARRECADACAO</th>\n",
              "      <th>COD_MUNICIPIO</th>\n",
              "      <th>MUNICIPIO</th>\n",
              "      <th>UF</th>\n",
              "      <th>FORMA_ENTREGA</th>\n",
              "      <th>DAT_CIENCIA_AUTUACAO</th>\n",
              "      <th>NUM_PROCESSO</th>\n",
              "      <th>NOME_INFRATOR</th>\n",
              "      <th>CPF_CNPJ_INFRATOR</th>\n",
              "      <th>CLASSIFICACAO_AREA</th>\n",
              "      <th>COD_INFRACAO</th>\n",
              "      <th>TIPO_INFRACAO</th>\n",
              "      <th>ACAO_FISCALIZATORIA</th>\n",
              "      <th>UNID_CONTROLE</th>\n",
              "      <th>TIPO_ACAO</th>\n",
              "      <th>OPERACAO</th>\n",
              "      <th>ORDEM_FISCALIZACAO</th>\n",
              "    </tr>\n",
              "  </thead>\n",
              "  <tbody>\n",
              "    <tr>\n",
              "      <th>0</th>\n",
              "      <td>3</td>\n",
              "      <td>26363</td>\n",
              "      <td>2004-03-05</td>\n",
              "      <td>Multa simples</td>\n",
              "      <td>NaN</td>\n",
              "      <td>1500.0</td>\n",
              "      <td>IMP/GEREX</td>\n",
              "      <td>2105302</td>\n",
              "      <td>IMPERATRIZ</td>\n",
              "      <td>MA</td>\n",
              "      <td>NaN</td>\n",
              "      <td>2004-03-05</td>\n",
              "      <td>0205100001204</td>\n",
              "      <td>PALADAR IOGURTE LTDA</td>\n",
              "      <td>01790868000103</td>\n",
              "      <td>NaN</td>\n",
              "      <td>401001</td>\n",
              "      <td>Flora</td>\n",
              "      <td>NaN</td>\n",
              "      <td>IMP/GEREX</td>\n",
              "      <td>Rotina</td>\n",
              "      <td>NaN</td>\n",
              "      <td>NaN</td>\n",
              "    </tr>\n",
              "    <tr>\n",
              "      <th>1</th>\n",
              "      <td>4</td>\n",
              "      <td>26364</td>\n",
              "      <td>2004-03-05</td>\n",
              "      <td>Multa simples</td>\n",
              "      <td>NaN</td>\n",
              "      <td>1500.0</td>\n",
              "      <td>IMP/GEREX</td>\n",
              "      <td>2105302</td>\n",
              "      <td>IMPERATRIZ</td>\n",
              "      <td>MA</td>\n",
              "      <td>NaN</td>\n",
              "      <td>2004-03-05</td>\n",
              "      <td>0205100001104</td>\n",
              "      <td>PALADAR IOGURTE LTDA</td>\n",
              "      <td>01790868000103</td>\n",
              "      <td>NaN</td>\n",
              "      <td>606002</td>\n",
              "      <td>Controle ambiental</td>\n",
              "      <td>NaN</td>\n",
              "      <td>IMP/GEREX</td>\n",
              "      <td>NaN</td>\n",
              "      <td>NaN</td>\n",
              "      <td>NaN</td>\n",
              "    </tr>\n",
              "    <tr>\n",
              "      <th>2</th>\n",
              "      <td>5</td>\n",
              "      <td>26365</td>\n",
              "      <td>2004-05-11</td>\n",
              "      <td>Multa simples</td>\n",
              "      <td>NaN</td>\n",
              "      <td>2500.0</td>\n",
              "      <td>IMP/GEREX</td>\n",
              "      <td>2100600</td>\n",
              "      <td>AMARANTE DO MARANHAO</td>\n",
              "      <td>MA</td>\n",
              "      <td>NaN</td>\n",
              "      <td>2004-05-11</td>\n",
              "      <td>0205100007104</td>\n",
              "      <td>CERAMICA GABRIELA LTDA - ME</td>\n",
              "      <td>04352741000192</td>\n",
              "      <td>NaN</td>\n",
              "      <td>401001</td>\n",
              "      <td>Flora</td>\n",
              "      <td>NaN</td>\n",
              "      <td>IMP/GEREX</td>\n",
              "      <td>NaN</td>\n",
              "      <td>NaN</td>\n",
              "      <td>NaN</td>\n",
              "    </tr>\n",
              "    <tr>\n",
              "      <th>3</th>\n",
              "      <td>7</td>\n",
              "      <td>26367</td>\n",
              "      <td>2004-11-04</td>\n",
              "      <td>Multa simples</td>\n",
              "      <td>NaN</td>\n",
              "      <td>200.0</td>\n",
              "      <td>IMP/GEREX</td>\n",
              "      <td>2104057</td>\n",
              "      <td>ESTREITO</td>\n",
              "      <td>MA</td>\n",
              "      <td>NaN</td>\n",
              "      <td>NaT</td>\n",
              "      <td>0205100026204</td>\n",
              "      <td>Deusivan Cavalcante Ferreira</td>\n",
              "      <td>***909373**</td>\n",
              "      <td>NaN</td>\n",
              "      <td>422001</td>\n",
              "      <td>Flora</td>\n",
              "      <td>NaN</td>\n",
              "      <td>IMP/GEREX</td>\n",
              "      <td>NaN</td>\n",
              "      <td>NaN</td>\n",
              "      <td>NaN</td>\n",
              "    </tr>\n",
              "    <tr>\n",
              "      <th>4</th>\n",
              "      <td>9</td>\n",
              "      <td>26369</td>\n",
              "      <td>2004-11-04</td>\n",
              "      <td>Multa simples</td>\n",
              "      <td>NaN</td>\n",
              "      <td>600.0</td>\n",
              "      <td>IMP/GEREX</td>\n",
              "      <td>2104057</td>\n",
              "      <td>ESTREITO</td>\n",
              "      <td>MA</td>\n",
              "      <td>NaN</td>\n",
              "      <td>NaT</td>\n",
              "      <td>0205100026304</td>\n",
              "      <td>FRANCISCO COELHO DA SILVA</td>\n",
              "      <td>***185942**</td>\n",
              "      <td>NaN</td>\n",
              "      <td>422001</td>\n",
              "      <td>Flora</td>\n",
              "      <td>NaN</td>\n",
              "      <td>IMP/GEREX</td>\n",
              "      <td>NaN</td>\n",
              "      <td>NaN</td>\n",
              "      <td>NaN</td>\n",
              "    </tr>\n",
              "    <tr>\n",
              "      <th>...</th>\n",
              "      <td>...</td>\n",
              "      <td>...</td>\n",
              "      <td>...</td>\n",
              "      <td>...</td>\n",
              "      <td>...</td>\n",
              "      <td>...</td>\n",
              "      <td>...</td>\n",
              "      <td>...</td>\n",
              "      <td>...</td>\n",
              "      <td>...</td>\n",
              "      <td>...</td>\n",
              "      <td>...</td>\n",
              "      <td>...</td>\n",
              "      <td>...</td>\n",
              "      <td>...</td>\n",
              "      <td>...</td>\n",
              "      <td>...</td>\n",
              "      <td>...</td>\n",
              "      <td>...</td>\n",
              "      <td>...</td>\n",
              "      <td>...</td>\n",
              "      <td>...</td>\n",
              "      <td>...</td>\n",
              "    </tr>\n",
              "    <tr>\n",
              "      <th>604716</th>\n",
              "      <td>2049520</td>\n",
              "      <td>7MZH5PA4</td>\n",
              "      <td>2021-09-01</td>\n",
              "      <td>Multa simples</td>\n",
              "      <td>Aberta</td>\n",
              "      <td>63400.0</td>\n",
              "      <td>ESEC TAMOIOS</td>\n",
              "      <td>3303807</td>\n",
              "      <td>PARATI</td>\n",
              "      <td>RJ</td>\n",
              "      <td>AR</td>\n",
              "      <td>NaT</td>\n",
              "      <td>NaN</td>\n",
              "      <td>Ana Eloisa Barra Justino</td>\n",
              "      <td>***877317**</td>\n",
              "      <td>Unidade de Conservação de Proteção Integral</td>\n",
              "      <td>709999</td>\n",
              "      <td>Pesca</td>\n",
              "      <td>26872138,0</td>\n",
              "      <td>ESEC TAMOIOS</td>\n",
              "      <td>Operação</td>\n",
              "      <td>NaN</td>\n",
              "      <td>RJ058252</td>\n",
              "    </tr>\n",
              "    <tr>\n",
              "      <th>604717</th>\n",
              "      <td>2049521</td>\n",
              "      <td>XRY7STNZ</td>\n",
              "      <td>2021-08-26</td>\n",
              "      <td>Multa simples</td>\n",
              "      <td>Aberta</td>\n",
              "      <td>2010500.0</td>\n",
              "      <td>RR/SUPES</td>\n",
              "      <td>1400100</td>\n",
              "      <td>BOA VISTA</td>\n",
              "      <td>RR</td>\n",
              "      <td>Pessoalmente</td>\n",
              "      <td>2021-08-26</td>\n",
              "      <td>02025001086202178</td>\n",
              "      <td>FILIPE JOSÉ DA SILVA GALVÃO</td>\n",
              "      <td>***005522**</td>\n",
              "      <td>PROPRIEDADE PARTICULAR</td>\n",
              "      <td>910005</td>\n",
              "      <td>Outras</td>\n",
              "      <td>26872139,0</td>\n",
              "      <td>RR/SUPES</td>\n",
              "      <td>Operação</td>\n",
              "      <td>NaN</td>\n",
              "      <td>RR053411</td>\n",
              "    </tr>\n",
              "    <tr>\n",
              "      <th>604718</th>\n",
              "      <td>2049522</td>\n",
              "      <td>H0U6PZ9Y</td>\n",
              "      <td>2021-08-26</td>\n",
              "      <td>Multa simples</td>\n",
              "      <td>Aberta</td>\n",
              "      <td>620500.0</td>\n",
              "      <td>RR/SUPES</td>\n",
              "      <td>1400100</td>\n",
              "      <td>BOA VISTA</td>\n",
              "      <td>RR</td>\n",
              "      <td>Pessoalmente</td>\n",
              "      <td>2021-08-26</td>\n",
              "      <td>02025001087202112</td>\n",
              "      <td>RODRIGO MARTINS DE MELLO</td>\n",
              "      <td>***345559**</td>\n",
              "      <td>Outras áreas</td>\n",
              "      <td>609998</td>\n",
              "      <td>Controle ambiental</td>\n",
              "      <td>26872140,0</td>\n",
              "      <td>RR/SUPES</td>\n",
              "      <td>Operação</td>\n",
              "      <td>NaN</td>\n",
              "      <td>RR053411</td>\n",
              "    </tr>\n",
              "    <tr>\n",
              "      <th>604719</th>\n",
              "      <td>2049523</td>\n",
              "      <td>LLPNWTNV</td>\n",
              "      <td>2021-08-27</td>\n",
              "      <td>Multa simples</td>\n",
              "      <td>Aberta</td>\n",
              "      <td>16500.0</td>\n",
              "      <td>RR/SUPES</td>\n",
              "      <td>1400100</td>\n",
              "      <td>BOA VISTA</td>\n",
              "      <td>RR</td>\n",
              "      <td>Pessoalmente</td>\n",
              "      <td>2021-08-27</td>\n",
              "      <td>02025001088202167</td>\n",
              "      <td>CATARATAS POCOS ARTESIANOS LTDA</td>\n",
              "      <td>01789289000132</td>\n",
              "      <td>Outras áreas</td>\n",
              "      <td>910004</td>\n",
              "      <td>Outras</td>\n",
              "      <td>26872141,0</td>\n",
              "      <td>RR/SUPES</td>\n",
              "      <td>Operação</td>\n",
              "      <td>NaN</td>\n",
              "      <td>RR053411</td>\n",
              "    </tr>\n",
              "    <tr>\n",
              "      <th>604720</th>\n",
              "      <td>2049524</td>\n",
              "      <td>962EQKUQ</td>\n",
              "      <td>2021-08-20</td>\n",
              "      <td>Multa simples</td>\n",
              "      <td>Aberta</td>\n",
              "      <td>11000.0</td>\n",
              "      <td>VEADEIROS</td>\n",
              "      <td>5200605</td>\n",
              "      <td>ALTO PARAISO DE GOIAS</td>\n",
              "      <td>GO</td>\n",
              "      <td>AR</td>\n",
              "      <td>NaT</td>\n",
              "      <td>NaN</td>\n",
              "      <td>HENRIQUE TURCHETTO GONTIJO SANTOS</td>\n",
              "      <td>***723001**</td>\n",
              "      <td>Unidade de Conservação de Proteção Integral</td>\n",
              "      <td>910004</td>\n",
              "      <td>Outras</td>\n",
              "      <td>26872144,0</td>\n",
              "      <td>VEADEIROS</td>\n",
              "      <td>Operação</td>\n",
              "      <td>NaN</td>\n",
              "      <td>GO039472</td>\n",
              "    </tr>\n",
              "  </tbody>\n",
              "</table>\n",
              "<p>440956 rows × 23 columns</p>\n",
              "</div>"
            ],
            "text/plain": [
              "       SEQ_AUTO_INFRACAO NUM_AUTO_INFRACAO  ... OPERACAO ORDEM_FISCALIZACAO\n",
              "0                      3             26363  ...      NaN                NaN\n",
              "1                      4             26364  ...      NaN                NaN\n",
              "2                      5             26365  ...      NaN                NaN\n",
              "3                      7             26367  ...      NaN                NaN\n",
              "4                      9             26369  ...      NaN                NaN\n",
              "...                  ...               ...  ...      ...                ...\n",
              "604716           2049520          7MZH5PA4  ...      NaN           RJ058252\n",
              "604717           2049521          XRY7STNZ  ...      NaN           RR053411\n",
              "604718           2049522          H0U6PZ9Y  ...      NaN           RR053411\n",
              "604719           2049523          LLPNWTNV  ...      NaN           RR053411\n",
              "604720           2049524          962EQKUQ  ...      NaN           GO039472\n",
              "\n",
              "[440956 rows x 23 columns]"
            ]
          },
          "execution_count": 378,
          "metadata": {},
          "output_type": "execute_result"
        }
      ]
    },
    {
      "cell_type": "code",
      "metadata": {
        "colab": {
          "base_uri": "https://localhost:8080/"
        },
        "id": "UggDimCkVnrD",
        "outputId": "8e2bddaa-755d-4949-9780-8008c9a59e77"
      },
      "source": [
        "df_autos_infracao.info()"
      ],
      "execution_count": null,
      "outputs": [
        {
          "name": "stdout",
          "output_type": "stream",
          "text": [
            "<class 'pandas.core.frame.DataFrame'>\n",
            "Int64Index: 440956 entries, 0 to 604720\n",
            "Data columns (total 23 columns):\n",
            " #   Column                  Non-Null Count   Dtype         \n",
            "---  ------                  --------------   -----         \n",
            " 0   SEQ_AUTO_INFRACAO       440956 non-null  object        \n",
            " 1   NUM_AUTO_INFRACAO       440956 non-null  object        \n",
            " 2   DAT_HORA_AUTO_INFRACAO  440956 non-null  datetime64[ns]\n",
            " 3   TIPO_AUTO               440956 non-null  object        \n",
            " 4   TIPO_MULTA              94994 non-null   object        \n",
            " 5   VAL_AUTO_INFRACAO       440956 non-null  float64       \n",
            " 6   UNID_ARRECADACAO        440956 non-null  object        \n",
            " 7   COD_MUNICIPIO           440956 non-null  object        \n",
            " 8   MUNICIPIO               440956 non-null  object        \n",
            " 9   UF                      440956 non-null  object        \n",
            " 10  FORMA_ENTREGA           129946 non-null  object        \n",
            " 11  DAT_CIENCIA_AUTUACAO    327741 non-null  datetime64[ns]\n",
            " 12  NUM_PROCESSO            435360 non-null  object        \n",
            " 13  NOME_INFRATOR           440338 non-null  object        \n",
            " 14  CPF_CNPJ_INFRATOR       438561 non-null  object        \n",
            " 15  CLASSIFICACAO_AREA      123543 non-null  object        \n",
            " 16  COD_INFRACAO            440956 non-null  object        \n",
            " 17  TIPO_INFRACAO           440956 non-null  object        \n",
            " 18  ACAO_FISCALIZATORIA     100100 non-null  object        \n",
            " 19  UNID_CONTROLE           392260 non-null  object        \n",
            " 20  TIPO_ACAO               142610 non-null  object        \n",
            " 21  OPERACAO                32164 non-null   object        \n",
            " 22  ORDEM_FISCALIZACAO      111316 non-null  object        \n",
            "dtypes: datetime64[ns](2), float64(1), object(20)\n",
            "memory usage: 100.7+ MB\n"
          ]
        }
      ]
    },
    {
      "cell_type": "markdown",
      "metadata": {
        "id": "z8O9zpJbANpg"
      },
      "source": [
        "**c) Unidades de lavratura e locais das infrações ambientais**\n",
        "Na análise da distribuição dos AI pelo local de cometimento do ilícito, nota-se que os Estados do Pará, Mato Grosso, Rondônia e Amazonas possuem significativa relevância em termos quantitativos e de valores. Juntos, os quatro Estados detêm 35% do total de AI lavrados e 73% do montante total do valor das multas aplicadas.\n",
        "\n",
        "Já em relação à unidade responsável pela lavratura dos AI, a maior relevância é da Sede do IBAMA em Brasília, que elaborou 45% do total de autos de infração no período. Dentre as operações realizadas pela Sede que explicam a elevada quantidade de autos, destaca-se a Operação Controle Remoto, que usa imagens de satélite e outras informações georreferenciadas para identificar infrações ambientais a partir do escritório do Instituto e enviá-las por correio ao autuado, bem como as fiscalizações relacionadas ao Cadastro Técnico Federal - CTF.\n",
        "\n",
        "Em termos de valores, a Sede e as Superintendências Estaduais do PA e MT lavraram cerca de 14 bilhões de reais em multas, concentrando 76% do valor total aplicado."
      ]
    },
    {
      "cell_type": "code",
      "metadata": {
        "colab": {
          "base_uri": "https://localhost:8080/",
          "height": 128
        },
        "id": "2l1Pbk_oAAjx",
        "outputId": "d3b25df0-8533-4eb0-d12c-aaa821e157d5"
      },
      "source": [
        "Locais de lavratura e valor IN "
      ],
      "execution_count": null,
      "outputs": [
        {
          "ename": "SyntaxError",
          "evalue": "ignored",
          "output_type": "error",
          "traceback": [
            "\u001b[0;36m  File \u001b[0;32m\"<ipython-input-5-322b6e95ba89>\"\u001b[0;36m, line \u001b[0;32m1\u001b[0m\n\u001b[0;31m    Locais de lavratura e valor IN\u001b[0m\n\u001b[0m            ^\u001b[0m\n\u001b[0;31mSyntaxError\u001b[0m\u001b[0;31m:\u001b[0m invalid syntax\n"
          ]
        }
      ]
    },
    {
      "cell_type": "markdown",
      "metadata": {
        "id": "jKQYqOwv2KZa"
      },
      "source": [
        "**6. CONCLUSÕES**\n",
        "---\n",
        "É importante observar que a fiscalização ambiental, em sentido amplo, é um processo sistêmico, cuja capacidade de gerar dissuasão nos infratores depende de diversas variáveis, entre as quais está a certeza e celeridade das sanções aplicadas.\n",
        "\n",
        "Portanto, em futuras etapas do trabalho deve-se analisar a etapas posteriores do trabalho estudo sobre o processo de fiscalização implica em anovas etapas do trabalho \n",
        "\n"
      ]
    },
    {
      "cell_type": "code",
      "metadata": {
        "id": "IjOqEfMe2YCX"
      },
      "source": [
        ",\n"
      ],
      "execution_count": null,
      "outputs": []
    }
  ]
}