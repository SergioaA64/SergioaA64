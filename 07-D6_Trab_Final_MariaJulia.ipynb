{
  "nbformat": 4,
  "nbformat_minor": 0,
  "metadata": {
    "colab": {
      "name": "D6_Trab_Final_MariaJulia.ipynb",
      "provenance": [],
      "collapsed_sections": [],
      "include_colab_link": true
    },
    "kernelspec": {
      "name": "python3",
      "display_name": "Python 3"
    },
    "language_info": {
      "name": "python"
    }
  },
  "cells": [
    {
      "cell_type": "markdown",
      "metadata": {
        "id": "view-in-github",
        "colab_type": "text"
      },
      "source": [
        "<a href=\"https://colab.research.google.com/github/SergioaA64/SergioaA64/blob/main/07-D6_Trab_Final_MariaJulia.ipynb\" target=\"_parent\"><img src=\"https://colab.research.google.com/assets/colab-badge.svg\" alt=\"Open In Colab\"/></a>"
      ]
    },
    {
      "cell_type": "markdown",
      "metadata": {
        "id": "sGSN1LIFqm9J"
      },
      "source": [
        "# **ESCOLA NACIONAL DE ADMINISTRAÇÃO PÚBLICA - ENAP**\n",
        "\n",
        "ESPECIALIZAÇÃO EM CIÊNCIA DE DADOS APLICADA A POLÍTICAS PÚBLICAS\n",
        "\n",
        "D6 – ESTATÍSTICA DESCRITIVA - TRABALHO FINAL\n",
        "\n",
        "PROFESSOR: EDUARDO MONTEIRO DE CASTRO GOMES\n",
        "\n",
        "ALUNA: MARIA JÚLIA CASTRO WEGELIN\n",
        "\n",
        "SET/2021"
      ]
    },
    {
      "cell_type": "markdown",
      "metadata": {
        "id": "LIe2WDxcrIS4"
      },
      "source": [
        "**CONTEXTUALIZAÇÃO DO PROBLEMA**\n",
        "\n",
        "O trabalho buscou fazer uma análise dos indicadores de acesso a água e esgotamento sanitário da população dos municípios brasileiros. Foram analisados também algumas informações como: vomume de água consumido per capita, valor dos investimentos do Estado em infraestrutura de acesso à agua e esgotamento sanitário, quantidade e duração das paralizações de fornecimento de água nos municípios e quantidade de reclamações relacionadas às paralizações de fornecimento de água. Foram adicionados dados também do IDH dos municípios para se analisar a correlação entre o acesso a àgua e esgotamento sanitário e o IDG dos municípios.\n",
        "\n",
        "**Fonte de dados:**\n",
        "\n",
        "Acesso a água e esgotamento sanitário: SNIS http://app4.mdr.gov.br/serieHistorica/# (tabela de informações e indicadores municipais consolidados).\n",
        "\n",
        "IDH: Dados extraídos do IBGE pela equipe que gerencia o CGUDATA."
      ]
    },
    {
      "cell_type": "markdown",
      "metadata": {
        "id": "FgKylTRcXyOb"
      },
      "source": [
        "**IMPORTAÇÃO E LIMPEZA DOS DADOS**"
      ]
    },
    {
      "cell_type": "code",
      "metadata": {
        "id": "cO_pmrzaodVG",
        "colab": {
          "base_uri": "https://localhost:8080/",
          "height": 236
        },
        "outputId": "eefafd4d-bf3e-4a8f-e036-f48cde7e8ec0"
      },
      "source": [
        "# Importação das bibliotecas e dos dados referentes ao acesso a água e esgotamento sanitário.\n",
        "\n",
        "import pandas as pd\n",
        "import numpy as np\n",
        "import scipy.stats\n",
        "import matplotlib.pyplot as plt\n",
        "import seaborn as sns\n",
        "import scipy.stats as stats\n",
        "  \n",
        "agua = pd.read_csv(\"https://raw.githubusercontent.com/mariajuliawegelin/D6/main/Informa%C3%A7%C3%B5eseindicadoresmunicipaisconsolidados_v2.csv\", encoding = \"iso8859_16\", sep =\";\")\n",
        "agua.fillna(0)\n",
        "agua['PopTotalEsgotamento'] = agua['PopTotalEsgotamento'].replace(np.nan, 0)\n",
        "agua['PopTotalAgua'] = agua['PopTotalAgua'].replace(np.nan, 0)\n",
        "agua.head()\n"
      ],
      "execution_count": null,
      "outputs": [
        {
          "output_type": "execute_result",
          "data": {
            "text/html": [
              "<div>\n",
              "<style scoped>\n",
              "    .dataframe tbody tr th:only-of-type {\n",
              "        vertical-align: middle;\n",
              "    }\n",
              "\n",
              "    .dataframe tbody tr th {\n",
              "        vertical-align: top;\n",
              "    }\n",
              "\n",
              "    .dataframe thead th {\n",
              "        text-align: right;\n",
              "    }\n",
              "</style>\n",
              "<table border=\"1\" class=\"dataframe\">\n",
              "  <thead>\n",
              "    <tr style=\"text-align: right;\">\n",
              "      <th></th>\n",
              "      <th>CódigoIBGE</th>\n",
              "      <th>CódigoMunicípio</th>\n",
              "      <th>Município</th>\n",
              "      <th>Estado</th>\n",
              "      <th>Regiao</th>\n",
              "      <th>Ano</th>\n",
              "      <th>PopTotalAgua</th>\n",
              "      <th>PopTotalEsgotamento</th>\n",
              "      <th>VolumeAguaProduzido</th>\n",
              "      <th>VolumeAguaConsumido</th>\n",
              "      <th>ConsumoAguaPercapita</th>\n",
              "      <th>ConsumoEnergiaEletrica</th>\n",
              "      <th>ConsumoEnergiaPercapita</th>\n",
              "      <th>InvestimentoTotalEstado</th>\n",
              "      <th>InvestimentoPercapita</th>\n",
              "      <th>QuantidadeParalizacoes</th>\n",
              "      <th>DuracaoParalizacoes</th>\n",
              "      <th>QuantidadeReclamacoes</th>\n",
              "    </tr>\n",
              "  </thead>\n",
              "  <tbody>\n",
              "    <tr>\n",
              "      <th>0</th>\n",
              "      <td>1200013</td>\n",
              "      <td>120001</td>\n",
              "      <td>Acrelândia</td>\n",
              "      <td>AC</td>\n",
              "      <td>N</td>\n",
              "      <td>2019</td>\n",
              "      <td>15256.0</td>\n",
              "      <td>0.0</td>\n",
              "      <td>939.81</td>\n",
              "      <td>253.87</td>\n",
              "      <td>0.02</td>\n",
              "      <td>424.40</td>\n",
              "      <td>0.03</td>\n",
              "      <td>175307.55</td>\n",
              "      <td>11.49</td>\n",
              "      <td>0.0</td>\n",
              "      <td>0.0</td>\n",
              "      <td>568.0</td>\n",
              "    </tr>\n",
              "    <tr>\n",
              "      <th>1</th>\n",
              "      <td>1200054</td>\n",
              "      <td>120005</td>\n",
              "      <td>Assis Brasil</td>\n",
              "      <td>AC</td>\n",
              "      <td>N</td>\n",
              "      <td>2019</td>\n",
              "      <td>7417.0</td>\n",
              "      <td>0.0</td>\n",
              "      <td>662.28</td>\n",
              "      <td>330.32</td>\n",
              "      <td>0.04</td>\n",
              "      <td>376.04</td>\n",
              "      <td>0.05</td>\n",
              "      <td>84980.97</td>\n",
              "      <td>11.46</td>\n",
              "      <td>12.0</td>\n",
              "      <td>225.0</td>\n",
              "      <td>515.0</td>\n",
              "    </tr>\n",
              "    <tr>\n",
              "      <th>2</th>\n",
              "      <td>1200104</td>\n",
              "      <td>120010</td>\n",
              "      <td>Brasiléia</td>\n",
              "      <td>AC</td>\n",
              "      <td>N</td>\n",
              "      <td>2019</td>\n",
              "      <td>26278.0</td>\n",
              "      <td>0.0</td>\n",
              "      <td>2712.12</td>\n",
              "      <td>826.20</td>\n",
              "      <td>0.03</td>\n",
              "      <td>892.49</td>\n",
              "      <td>0.03</td>\n",
              "      <td>297693.89</td>\n",
              "      <td>11.33</td>\n",
              "      <td>15.0</td>\n",
              "      <td>210.0</td>\n",
              "      <td>1059.0</td>\n",
              "    </tr>\n",
              "    <tr>\n",
              "      <th>3</th>\n",
              "      <td>1200138</td>\n",
              "      <td>120013</td>\n",
              "      <td>Bujari</td>\n",
              "      <td>AC</td>\n",
              "      <td>N</td>\n",
              "      <td>2019</td>\n",
              "      <td>10266.0</td>\n",
              "      <td>0.0</td>\n",
              "      <td>511.80</td>\n",
              "      <td>260.49</td>\n",
              "      <td>0.03</td>\n",
              "      <td>570.59</td>\n",
              "      <td>0.06</td>\n",
              "      <td>0.00</td>\n",
              "      <td>0.00</td>\n",
              "      <td>5.0</td>\n",
              "      <td>76.0</td>\n",
              "      <td>177.0</td>\n",
              "    </tr>\n",
              "    <tr>\n",
              "      <th>4</th>\n",
              "      <td>1200179</td>\n",
              "      <td>120017</td>\n",
              "      <td>Capixaba</td>\n",
              "      <td>AC</td>\n",
              "      <td>N</td>\n",
              "      <td>2019</td>\n",
              "      <td>11733.0</td>\n",
              "      <td>0.0</td>\n",
              "      <td>600.49</td>\n",
              "      <td>244.71</td>\n",
              "      <td>0.02</td>\n",
              "      <td>218.14</td>\n",
              "      <td>0.02</td>\n",
              "      <td>0.00</td>\n",
              "      <td>0.00</td>\n",
              "      <td>276.0</td>\n",
              "      <td>2608.0</td>\n",
              "      <td>235.0</td>\n",
              "    </tr>\n",
              "  </tbody>\n",
              "</table>\n",
              "</div>"
            ],
            "text/plain": [
              "   CódigoIBGE  CódigoMunicípio  ... DuracaoParalizacoes QuantidadeReclamacoes\n",
              "0     1200013           120001  ...                 0.0                 568.0\n",
              "1     1200054           120005  ...               225.0                 515.0\n",
              "2     1200104           120010  ...               210.0                1059.0\n",
              "3     1200138           120013  ...                76.0                 177.0\n",
              "4     1200179           120017  ...              2608.0                 235.0\n",
              "\n",
              "[5 rows x 18 columns]"
            ]
          },
          "metadata": {},
          "execution_count": 2
        }
      ]
    },
    {
      "cell_type": "code",
      "metadata": {
        "colab": {
          "base_uri": "https://localhost:8080/",
          "height": 301
        },
        "id": "s2yPzxcHGLz-",
        "outputId": "06fdf7f4-f76a-47d3-cd4f-c647d6f27fc4"
      },
      "source": [
        "# Importar dados do ihd dos municípios:\n",
        "idh = pd.read_csv(\"https://raw.githubusercontent.com/mariajuliawegelin/D6/main/entes_ibge_siafi_tse_idhm.csv\", encoding = \"iso8859_16\", sep =\";\" , decimal=\",\")\n",
        "idh = idh.rename(columns={'COD_IBGE': 'CódigoIBGE'})\n",
        "idh.head()"
      ],
      "execution_count": null,
      "outputs": [
        {
          "output_type": "execute_result",
          "data": {
            "text/html": [
              "<div>\n",
              "<style scoped>\n",
              "    .dataframe tbody tr th:only-of-type {\n",
              "        vertical-align: middle;\n",
              "    }\n",
              "\n",
              "    .dataframe tbody tr th {\n",
              "        vertical-align: top;\n",
              "    }\n",
              "\n",
              "    .dataframe thead th {\n",
              "        text-align: right;\n",
              "    }\n",
              "</style>\n",
              "<table border=\"1\" class=\"dataframe\">\n",
              "  <thead>\n",
              "    <tr style=\"text-align: right;\">\n",
              "      <th></th>\n",
              "      <th>CódigoIBGE</th>\n",
              "      <th>COD_SIAFI</th>\n",
              "      <th>NOME_ENTE</th>\n",
              "      <th>NOME_SIMPLIFICADO</th>\n",
              "      <th>SIGLA_UF</th>\n",
              "      <th>NOME_UF</th>\n",
              "      <th>LAT</th>\n",
              "      <th>LNG</th>\n",
              "      <th>POP_EST_2020</th>\n",
              "      <th>CAPITAL</th>\n",
              "      <th>NOME_ANTIGO_OU_GRAFIA_DIFERENTE</th>\n",
              "      <th>ALT</th>\n",
              "      <th>REGIAO</th>\n",
              "      <th>COD_UE_TSE_2016</th>\n",
              "      <th>IDHM</th>\n",
              "      <th>IDHM_RENDA</th>\n",
              "      <th>IDHM_EDUCACAO</th>\n",
              "      <th>IDHM_LONGEVIDADE</th>\n",
              "    </tr>\n",
              "  </thead>\n",
              "  <tbody>\n",
              "    <tr>\n",
              "      <th>0</th>\n",
              "      <td>1200000</td>\n",
              "      <td>NaN</td>\n",
              "      <td>Estado do Acre</td>\n",
              "      <td>ESTADO DO ACRE</td>\n",
              "      <td>AC</td>\n",
              "      <td>Acre</td>\n",
              "      <td>NaN</td>\n",
              "      <td>NaN</td>\n",
              "      <td>894470</td>\n",
              "      <td>NaN</td>\n",
              "      <td>NaN</td>\n",
              "      <td>NaN</td>\n",
              "      <td>N</td>\n",
              "      <td>NaN</td>\n",
              "      <td>0.663</td>\n",
              "      <td>0.671</td>\n",
              "      <td>0.777</td>\n",
              "      <td>0.559</td>\n",
              "    </tr>\n",
              "    <tr>\n",
              "      <th>1</th>\n",
              "      <td>2700000</td>\n",
              "      <td>NaN</td>\n",
              "      <td>Estado de Alagoas</td>\n",
              "      <td>ESTADO DE ALAGOAS</td>\n",
              "      <td>AL</td>\n",
              "      <td>Alagoas</td>\n",
              "      <td>NaN</td>\n",
              "      <td>NaN</td>\n",
              "      <td>3351543</td>\n",
              "      <td>NaN</td>\n",
              "      <td>NaN</td>\n",
              "      <td>NaN</td>\n",
              "      <td>NE</td>\n",
              "      <td>NaN</td>\n",
              "      <td>0.631</td>\n",
              "      <td>0.641</td>\n",
              "      <td>0.755</td>\n",
              "      <td>0.520</td>\n",
              "    </tr>\n",
              "    <tr>\n",
              "      <th>2</th>\n",
              "      <td>1300000</td>\n",
              "      <td>NaN</td>\n",
              "      <td>Estado do Amazonas</td>\n",
              "      <td>ESTADO DO AMAZONAS</td>\n",
              "      <td>AM</td>\n",
              "      <td>Amazonas</td>\n",
              "      <td>NaN</td>\n",
              "      <td>NaN</td>\n",
              "      <td>4207714</td>\n",
              "      <td>NaN</td>\n",
              "      <td>NaN</td>\n",
              "      <td>NaN</td>\n",
              "      <td>N</td>\n",
              "      <td>NaN</td>\n",
              "      <td>0.674</td>\n",
              "      <td>0.677</td>\n",
              "      <td>0.805</td>\n",
              "      <td>0.561</td>\n",
              "    </tr>\n",
              "    <tr>\n",
              "      <th>3</th>\n",
              "      <td>1600000</td>\n",
              "      <td>NaN</td>\n",
              "      <td>Estado do Amapá</td>\n",
              "      <td>ESTADO DO AMAPA</td>\n",
              "      <td>AP</td>\n",
              "      <td>Amapá</td>\n",
              "      <td>NaN</td>\n",
              "      <td>NaN</td>\n",
              "      <td>861773</td>\n",
              "      <td>NaN</td>\n",
              "      <td>NaN</td>\n",
              "      <td>NaN</td>\n",
              "      <td>N</td>\n",
              "      <td>NaN</td>\n",
              "      <td>0.708</td>\n",
              "      <td>0.694</td>\n",
              "      <td>0.813</td>\n",
              "      <td>0.629</td>\n",
              "    </tr>\n",
              "    <tr>\n",
              "      <th>4</th>\n",
              "      <td>2900000</td>\n",
              "      <td>NaN</td>\n",
              "      <td>Estado da Bahia</td>\n",
              "      <td>ESTADO DA BAHIA</td>\n",
              "      <td>BA</td>\n",
              "      <td>Bahia</td>\n",
              "      <td>NaN</td>\n",
              "      <td>NaN</td>\n",
              "      <td>14930634</td>\n",
              "      <td>NaN</td>\n",
              "      <td>NaN</td>\n",
              "      <td>NaN</td>\n",
              "      <td>NE</td>\n",
              "      <td>NaN</td>\n",
              "      <td>0.660</td>\n",
              "      <td>0.663</td>\n",
              "      <td>0.783</td>\n",
              "      <td>0.555</td>\n",
              "    </tr>\n",
              "  </tbody>\n",
              "</table>\n",
              "</div>"
            ],
            "text/plain": [
              "   CódigoIBGE  COD_SIAFI  ... IDHM_EDUCACAO IDHM_LONGEVIDADE\n",
              "0     1200000        NaN  ...         0.777            0.559\n",
              "1     2700000        NaN  ...         0.755            0.520\n",
              "2     1300000        NaN  ...         0.805            0.561\n",
              "3     1600000        NaN  ...         0.813            0.629\n",
              "4     2900000        NaN  ...         0.783            0.555\n",
              "\n",
              "[5 rows x 18 columns]"
            ]
          },
          "metadata": {},
          "execution_count": 3
        }
      ]
    },
    {
      "cell_type": "code",
      "metadata": {
        "id": "PrSy35hSXAgE",
        "colab": {
          "base_uri": "https://localhost:8080/",
          "height": 236
        },
        "outputId": "dbc14be6-b622-4ce1-c6e5-df8296dd9d51"
      },
      "source": [
        "# Mesclar tabelas, criar novas colunas que serão importantes para a análise e excluir algumas colunas que não serão necessárias:\n",
        "\n",
        "dados = pd.merge(agua, idh, on=['CódigoIBGE'], how=\"inner\")\n",
        "dados['PercPopAgua'] = dados['PopTotalAgua']/ dados['POP_EST_2020']\n",
        "dados['PercPopEsgotamento'] = dados['PopTotalEsgotamento']/ dados['POP_EST_2020']\n",
        "dados.drop(['COD_SIAFI', 'NOME_ENTE', 'NOME_SIMPLIFICADO', 'SIGLA_UF', 'NOME_UF', 'LAT',\t'LNG', 'CAPITAL',\t'NOME_ANTIGO_OU_GRAFIA_DIFERENTE',\t'ALT',\t'REGIAO',\t'COD_UE_TSE_2016'] , inplace=True, axis=1)\n",
        "dados.head()\n"
      ],
      "execution_count": null,
      "outputs": [
        {
          "output_type": "execute_result",
          "data": {
            "text/html": [
              "<div>\n",
              "<style scoped>\n",
              "    .dataframe tbody tr th:only-of-type {\n",
              "        vertical-align: middle;\n",
              "    }\n",
              "\n",
              "    .dataframe tbody tr th {\n",
              "        vertical-align: top;\n",
              "    }\n",
              "\n",
              "    .dataframe thead th {\n",
              "        text-align: right;\n",
              "    }\n",
              "</style>\n",
              "<table border=\"1\" class=\"dataframe\">\n",
              "  <thead>\n",
              "    <tr style=\"text-align: right;\">\n",
              "      <th></th>\n",
              "      <th>CódigoIBGE</th>\n",
              "      <th>CódigoMunicípio</th>\n",
              "      <th>Município</th>\n",
              "      <th>Estado</th>\n",
              "      <th>Regiao</th>\n",
              "      <th>Ano</th>\n",
              "      <th>PopTotalAgua</th>\n",
              "      <th>PopTotalEsgotamento</th>\n",
              "      <th>VolumeAguaProduzido</th>\n",
              "      <th>VolumeAguaConsumido</th>\n",
              "      <th>ConsumoAguaPercapita</th>\n",
              "      <th>ConsumoEnergiaEletrica</th>\n",
              "      <th>ConsumoEnergiaPercapita</th>\n",
              "      <th>InvestimentoTotalEstado</th>\n",
              "      <th>InvestimentoPercapita</th>\n",
              "      <th>QuantidadeParalizacoes</th>\n",
              "      <th>DuracaoParalizacoes</th>\n",
              "      <th>QuantidadeReclamacoes</th>\n",
              "      <th>POP_EST_2020</th>\n",
              "      <th>IDHM</th>\n",
              "      <th>IDHM_RENDA</th>\n",
              "      <th>IDHM_EDUCACAO</th>\n",
              "      <th>IDHM_LONGEVIDADE</th>\n",
              "      <th>PercPopAgua</th>\n",
              "      <th>PercPopEsgotamento</th>\n",
              "    </tr>\n",
              "  </thead>\n",
              "  <tbody>\n",
              "    <tr>\n",
              "      <th>0</th>\n",
              "      <td>1200013</td>\n",
              "      <td>120001</td>\n",
              "      <td>Acrelândia</td>\n",
              "      <td>AC</td>\n",
              "      <td>N</td>\n",
              "      <td>2019</td>\n",
              "      <td>15256.0</td>\n",
              "      <td>0.0</td>\n",
              "      <td>939.81</td>\n",
              "      <td>253.87</td>\n",
              "      <td>0.02</td>\n",
              "      <td>424.40</td>\n",
              "      <td>0.03</td>\n",
              "      <td>175307.55</td>\n",
              "      <td>11.49</td>\n",
              "      <td>0.0</td>\n",
              "      <td>0.0</td>\n",
              "      <td>568.0</td>\n",
              "      <td>15490</td>\n",
              "      <td>0.604</td>\n",
              "      <td>0.808</td>\n",
              "      <td>0.466</td>\n",
              "      <td>0.584</td>\n",
              "      <td>0.984893</td>\n",
              "      <td>0.0</td>\n",
              "    </tr>\n",
              "    <tr>\n",
              "      <th>1</th>\n",
              "      <td>1200054</td>\n",
              "      <td>120005</td>\n",
              "      <td>Assis Brasil</td>\n",
              "      <td>AC</td>\n",
              "      <td>N</td>\n",
              "      <td>2019</td>\n",
              "      <td>7417.0</td>\n",
              "      <td>0.0</td>\n",
              "      <td>662.28</td>\n",
              "      <td>330.32</td>\n",
              "      <td>0.04</td>\n",
              "      <td>376.04</td>\n",
              "      <td>0.05</td>\n",
              "      <td>84980.97</td>\n",
              "      <td>11.46</td>\n",
              "      <td>12.0</td>\n",
              "      <td>225.0</td>\n",
              "      <td>515.0</td>\n",
              "      <td>7534</td>\n",
              "      <td>0.588</td>\n",
              "      <td>0.770</td>\n",
              "      <td>0.456</td>\n",
              "      <td>0.578</td>\n",
              "      <td>0.984470</td>\n",
              "      <td>0.0</td>\n",
              "    </tr>\n",
              "    <tr>\n",
              "      <th>2</th>\n",
              "      <td>1200104</td>\n",
              "      <td>120010</td>\n",
              "      <td>Brasiléia</td>\n",
              "      <td>AC</td>\n",
              "      <td>N</td>\n",
              "      <td>2019</td>\n",
              "      <td>26278.0</td>\n",
              "      <td>0.0</td>\n",
              "      <td>2712.12</td>\n",
              "      <td>826.20</td>\n",
              "      <td>0.03</td>\n",
              "      <td>892.49</td>\n",
              "      <td>0.03</td>\n",
              "      <td>297693.89</td>\n",
              "      <td>11.33</td>\n",
              "      <td>15.0</td>\n",
              "      <td>210.0</td>\n",
              "      <td>1059.0</td>\n",
              "      <td>26702</td>\n",
              "      <td>0.614</td>\n",
              "      <td>0.770</td>\n",
              "      <td>0.485</td>\n",
              "      <td>0.619</td>\n",
              "      <td>0.984121</td>\n",
              "      <td>0.0</td>\n",
              "    </tr>\n",
              "    <tr>\n",
              "      <th>3</th>\n",
              "      <td>1200138</td>\n",
              "      <td>120013</td>\n",
              "      <td>Bujari</td>\n",
              "      <td>AC</td>\n",
              "      <td>N</td>\n",
              "      <td>2019</td>\n",
              "      <td>10266.0</td>\n",
              "      <td>0.0</td>\n",
              "      <td>511.80</td>\n",
              "      <td>260.49</td>\n",
              "      <td>0.03</td>\n",
              "      <td>570.59</td>\n",
              "      <td>0.06</td>\n",
              "      <td>0.00</td>\n",
              "      <td>0.00</td>\n",
              "      <td>5.0</td>\n",
              "      <td>76.0</td>\n",
              "      <td>177.0</td>\n",
              "      <td>10420</td>\n",
              "      <td>0.589</td>\n",
              "      <td>0.772</td>\n",
              "      <td>0.439</td>\n",
              "      <td>0.603</td>\n",
              "      <td>0.985221</td>\n",
              "      <td>0.0</td>\n",
              "    </tr>\n",
              "    <tr>\n",
              "      <th>4</th>\n",
              "      <td>1200179</td>\n",
              "      <td>120017</td>\n",
              "      <td>Capixaba</td>\n",
              "      <td>AC</td>\n",
              "      <td>N</td>\n",
              "      <td>2019</td>\n",
              "      <td>11733.0</td>\n",
              "      <td>0.0</td>\n",
              "      <td>600.49</td>\n",
              "      <td>244.71</td>\n",
              "      <td>0.02</td>\n",
              "      <td>218.14</td>\n",
              "      <td>0.02</td>\n",
              "      <td>0.00</td>\n",
              "      <td>0.00</td>\n",
              "      <td>276.0</td>\n",
              "      <td>2608.0</td>\n",
              "      <td>235.0</td>\n",
              "      <td>12008</td>\n",
              "      <td>0.575</td>\n",
              "      <td>0.794</td>\n",
              "      <td>0.398</td>\n",
              "      <td>0.601</td>\n",
              "      <td>0.977099</td>\n",
              "      <td>0.0</td>\n",
              "    </tr>\n",
              "  </tbody>\n",
              "</table>\n",
              "</div>"
            ],
            "text/plain": [
              "   CódigoIBGE  CódigoMunicípio  ... PercPopAgua PercPopEsgotamento\n",
              "0     1200013           120001  ...    0.984893                0.0\n",
              "1     1200054           120005  ...    0.984470                0.0\n",
              "2     1200104           120010  ...    0.984121                0.0\n",
              "3     1200138           120013  ...    0.985221                0.0\n",
              "4     1200179           120017  ...    0.977099                0.0\n",
              "\n",
              "[5 rows x 25 columns]"
            ]
          },
          "metadata": {},
          "execution_count": 4
        }
      ]
    },
    {
      "cell_type": "markdown",
      "metadata": {
        "id": "EBbnRmTcYDZV"
      },
      "source": [
        "**INFORMAÇÕES GERAIS SOBRE OS DADOS**"
      ]
    },
    {
      "cell_type": "markdown",
      "metadata": {
        "id": "xHMcWLKjpxiQ"
      },
      "source": [
        "A base de dados contém informações de 2019 dos 5.570 municípios brasileiros. Temos 25 variáveis, com as seguintes características:\n",
        "\n",
        "* **5 variáveis qualitativas nominais**: 'CodigoIBGE'; ‘CodigoMunicípio’; 'Município'; 'Estado'; 'Regiao'.\n",
        "* **7 variáveis quantitativas discretas**: 'Ano'; 'PopTotalEsgotamento'; 'PopTotal'; 'QuantidadeParalizacoes'; 'DuracaoParalizacoes'; 'QuantidadeReclamacoes'; 'POP_EST_2020'.\n",
        "* **13 variáveis quantitativas contínuas**: 'PercPopAgua'; 'PercPopEsgotamento'; 'VolumeAguaProduzido'; 'VolumeAguaConsumido'; 'ConsumoAguaPercapita'; 'ConsumoEnergiaEletrica'; 'ConsumoEnergiaPercapita'; 'InvestimetoTotalEstado'; 'InvestimentoPercapita'; 'IDHM';\t'IDHM_RENDA';\t'IDHM_EDUCACAO';\t'IDHM_LONGEVIDADE'.\t\n",
        "\n",
        "Obs: Cada linha corresponde a um município.\n",
        "\n",
        "Obs2: Os dados de esgotamento sanitário são de 2019, enquanto que os dados do total estimado da população e IDH são de 2020, o que pode distorcer algumas conclusões.  \n"
      ]
    },
    {
      "cell_type": "code",
      "metadata": {
        "colab": {
          "base_uri": "https://localhost:8080/",
          "height": 290
        },
        "id": "tHQWHo9FeOq2",
        "outputId": "7ee512de-ffc7-4591-dc12-aea6669930c3"
      },
      "source": [
        "# Descrição geral dos principais dados quantitativos relacionados ao acesso a água e esgotamento sanitário:\n",
        "\n",
        "dados[['PercPopAgua',\t'PercPopEsgotamento',\t'ConsumoAguaPercapita','ConsumoEnergiaPercapita',\t'InvestimentoTotalEstado',\t'InvestimentoPercapita',\t'QuantidadeParalizacoes',\t'DuracaoParalizacoes',\t'QuantidadeReclamacoes']].describe().round(2)"
      ],
      "execution_count": null,
      "outputs": [
        {
          "output_type": "execute_result",
          "data": {
            "text/html": [
              "<div>\n",
              "<style scoped>\n",
              "    .dataframe tbody tr th:only-of-type {\n",
              "        vertical-align: middle;\n",
              "    }\n",
              "\n",
              "    .dataframe tbody tr th {\n",
              "        vertical-align: top;\n",
              "    }\n",
              "\n",
              "    .dataframe thead th {\n",
              "        text-align: right;\n",
              "    }\n",
              "</style>\n",
              "<table border=\"1\" class=\"dataframe\">\n",
              "  <thead>\n",
              "    <tr style=\"text-align: right;\">\n",
              "      <th></th>\n",
              "      <th>PercPopAgua</th>\n",
              "      <th>PercPopEsgotamento</th>\n",
              "      <th>ConsumoAguaPercapita</th>\n",
              "      <th>ConsumoEnergiaPercapita</th>\n",
              "      <th>InvestimentoTotalEstado</th>\n",
              "      <th>InvestimentoPercapita</th>\n",
              "      <th>QuantidadeParalizacoes</th>\n",
              "      <th>DuracaoParalizacoes</th>\n",
              "      <th>QuantidadeReclamacoes</th>\n",
              "    </tr>\n",
              "  </thead>\n",
              "  <tbody>\n",
              "    <tr>\n",
              "      <th>count</th>\n",
              "      <td>5570.00</td>\n",
              "      <td>5570.00</td>\n",
              "      <td>5570.00</td>\n",
              "      <td>5570.00</td>\n",
              "      <td>4017.00</td>\n",
              "      <td>5570.00</td>\n",
              "      <td>5176.00</td>\n",
              "      <td>5176.00</td>\n",
              "      <td>5176.00</td>\n",
              "    </tr>\n",
              "    <tr>\n",
              "      <th>mean</th>\n",
              "      <td>0.93</td>\n",
              "      <td>0.46</td>\n",
              "      <td>0.04</td>\n",
              "      <td>0.04</td>\n",
              "      <td>130150.82</td>\n",
              "      <td>2.15</td>\n",
              "      <td>12.21</td>\n",
              "      <td>171.79</td>\n",
              "      <td>10021.33</td>\n",
              "    </tr>\n",
              "    <tr>\n",
              "      <th>std</th>\n",
              "      <td>0.26</td>\n",
              "      <td>0.50</td>\n",
              "      <td>0.09</td>\n",
              "      <td>0.10</td>\n",
              "      <td>2144274.51</td>\n",
              "      <td>30.26</td>\n",
              "      <td>60.20</td>\n",
              "      <td>893.01</td>\n",
              "      <td>57147.66</td>\n",
              "    </tr>\n",
              "    <tr>\n",
              "      <th>min</th>\n",
              "      <td>0.00</td>\n",
              "      <td>0.00</td>\n",
              "      <td>0.00</td>\n",
              "      <td>0.00</td>\n",
              "      <td>0.00</td>\n",
              "      <td>0.00</td>\n",
              "      <td>0.00</td>\n",
              "      <td>0.00</td>\n",
              "      <td>0.00</td>\n",
              "    </tr>\n",
              "    <tr>\n",
              "      <th>25%</th>\n",
              "      <td>0.99</td>\n",
              "      <td>0.00</td>\n",
              "      <td>0.02</td>\n",
              "      <td>0.01</td>\n",
              "      <td>0.00</td>\n",
              "      <td>0.00</td>\n",
              "      <td>0.00</td>\n",
              "      <td>0.00</td>\n",
              "      <td>349.00</td>\n",
              "    </tr>\n",
              "    <tr>\n",
              "      <th>50%</th>\n",
              "      <td>1.00</td>\n",
              "      <td>0.00</td>\n",
              "      <td>0.03</td>\n",
              "      <td>0.03</td>\n",
              "      <td>0.00</td>\n",
              "      <td>0.00</td>\n",
              "      <td>0.00</td>\n",
              "      <td>0.00</td>\n",
              "      <td>1530.00</td>\n",
              "    </tr>\n",
              "    <tr>\n",
              "      <th>75%</th>\n",
              "      <td>1.00</td>\n",
              "      <td>0.99</td>\n",
              "      <td>0.05</td>\n",
              "      <td>0.05</td>\n",
              "      <td>0.00</td>\n",
              "      <td>0.00</td>\n",
              "      <td>7.00</td>\n",
              "      <td>76.00</td>\n",
              "      <td>5261.75</td>\n",
              "    </tr>\n",
              "    <tr>\n",
              "      <th>max</th>\n",
              "      <td>1.18</td>\n",
              "      <td>1.18</td>\n",
              "      <td>5.59</td>\n",
              "      <td>4.20</td>\n",
              "      <td>91386958.80</td>\n",
              "      <td>1189.44</td>\n",
              "      <td>2153.00</td>\n",
              "      <td>23621.00</td>\n",
              "      <td>2215496.00</td>\n",
              "    </tr>\n",
              "  </tbody>\n",
              "</table>\n",
              "</div>"
            ],
            "text/plain": [
              "       PercPopAgua  ...  QuantidadeReclamacoes\n",
              "count      5570.00  ...                5176.00\n",
              "mean          0.93  ...               10021.33\n",
              "std           0.26  ...               57147.66\n",
              "min           0.00  ...                   0.00\n",
              "25%           0.99  ...                 349.00\n",
              "50%           1.00  ...                1530.00\n",
              "75%           1.00  ...                5261.75\n",
              "max           1.18  ...             2215496.00\n",
              "\n",
              "[8 rows x 9 columns]"
            ]
          },
          "metadata": {},
          "execution_count": 5
        }
      ]
    },
    {
      "cell_type": "markdown",
      "metadata": {
        "id": "dc5lxp9U1WSp"
      },
      "source": [
        "**Algumas informações iniciais sobre os dados:**\n",
        "\n",
        "- Média do percentual da população dos municípios que tem acesso a água: 93%\n",
        "\n",
        "- Média do percentual da população dos municípios que tem acesso a esgotamento sanitário: 46%\n",
        "\n",
        "- Investimento médio do Estado em 2019 per capita de R$ 2,15\n",
        "\n",
        "- O município que recebeu mais investimentos em 2019 recebeu R$ 91.386.958,80\n",
        "\n",
        "- A quantidade média de paralizações no ano é de 12,21\n",
        "\n",
        "- A duração média das paralizações foi de 171,79 minutos\n",
        "\n",
        "- A quantidade média de reclamações por município foi de 9.312, um município registrou 2.215.496 reclamações em 2019\n"
      ]
    },
    {
      "cell_type": "markdown",
      "metadata": {
        "id": "8WU8M-kxYTR6"
      },
      "source": [
        "**ANÁLISES UTILIZANDO TABELAS E GRÁFICOS**"
      ]
    },
    {
      "cell_type": "markdown",
      "metadata": {
        "id": "OPIHp6pwYkaW"
      },
      "source": [
        "**1) MUNICÍPIO COM MAIOR NÚMERO DE RECLAMAÇÕES RELACIONADAS AO ABASTECIMENTO DE ÁGUA E ESGOTAMENTO SANITÁRIO**"
      ]
    },
    {
      "cell_type": "code",
      "metadata": {
        "colab": {
          "base_uri": "https://localhost:8080/",
          "height": 99
        },
        "id": "IZhCLcxmZIKK",
        "outputId": "3ed5a123-d7c2-4fd2-d3f8-d19ace5887d3"
      },
      "source": [
        "# Qual o município em que houve o maior número de reclamações relacionadas ao abastecimento de água e esgoto?\n",
        "\n",
        "dados[dados['QuantidadeReclamacoes']==dados['QuantidadeReclamacoes'].max()]\n"
      ],
      "execution_count": null,
      "outputs": [
        {
          "output_type": "execute_result",
          "data": {
            "text/html": [
              "<div>\n",
              "<style scoped>\n",
              "    .dataframe tbody tr th:only-of-type {\n",
              "        vertical-align: middle;\n",
              "    }\n",
              "\n",
              "    .dataframe tbody tr th {\n",
              "        vertical-align: top;\n",
              "    }\n",
              "\n",
              "    .dataframe thead th {\n",
              "        text-align: right;\n",
              "    }\n",
              "</style>\n",
              "<table border=\"1\" class=\"dataframe\">\n",
              "  <thead>\n",
              "    <tr style=\"text-align: right;\">\n",
              "      <th></th>\n",
              "      <th>CódigoIBGE</th>\n",
              "      <th>CódigoMunicípio</th>\n",
              "      <th>Município</th>\n",
              "      <th>Estado</th>\n",
              "      <th>Regiao</th>\n",
              "      <th>Ano</th>\n",
              "      <th>PopTotalAgua</th>\n",
              "      <th>PopTotalEsgotamento</th>\n",
              "      <th>VolumeAguaProduzido</th>\n",
              "      <th>VolumeAguaConsumido</th>\n",
              "      <th>ConsumoAguaPercapita</th>\n",
              "      <th>ConsumoEnergiaEletrica</th>\n",
              "      <th>ConsumoEnergiaPercapita</th>\n",
              "      <th>InvestimentoTotalEstado</th>\n",
              "      <th>InvestimentoPercapita</th>\n",
              "      <th>QuantidadeParalizacoes</th>\n",
              "      <th>DuracaoParalizacoes</th>\n",
              "      <th>QuantidadeReclamacoes</th>\n",
              "      <th>POP_EST_2020</th>\n",
              "      <th>IDHM</th>\n",
              "      <th>IDHM_RENDA</th>\n",
              "      <th>IDHM_EDUCACAO</th>\n",
              "      <th>IDHM_LONGEVIDADE</th>\n",
              "      <th>PercPopAgua</th>\n",
              "      <th>PercPopEsgotamento</th>\n",
              "    </tr>\n",
              "  </thead>\n",
              "  <tbody>\n",
              "    <tr>\n",
              "      <th>537</th>\n",
              "      <td>2927408</td>\n",
              "      <td>292740</td>\n",
              "      <td>Salvador</td>\n",
              "      <td>BA</td>\n",
              "      <td>NE</td>\n",
              "      <td>2019</td>\n",
              "      <td>2872347.0</td>\n",
              "      <td>2872347.0</td>\n",
              "      <td>289068.85</td>\n",
              "      <td>121417.93</td>\n",
              "      <td>0.04</td>\n",
              "      <td>113426.65</td>\n",
              "      <td>0.04</td>\n",
              "      <td>NaN</td>\n",
              "      <td>0.0</td>\n",
              "      <td>971.0</td>\n",
              "      <td>10354.0</td>\n",
              "      <td>2215496.0</td>\n",
              "      <td>2886698</td>\n",
              "      <td>0.759</td>\n",
              "      <td>0.835</td>\n",
              "      <td>0.679</td>\n",
              "      <td>0.772</td>\n",
              "      <td>0.995029</td>\n",
              "      <td>0.995029</td>\n",
              "    </tr>\n",
              "  </tbody>\n",
              "</table>\n",
              "</div>"
            ],
            "text/plain": [
              "     CódigoIBGE  CódigoMunicípio  ... PercPopAgua PercPopEsgotamento\n",
              "537     2927408           292740  ...    0.995029           0.995029\n",
              "\n",
              "[1 rows x 25 columns]"
            ]
          },
          "metadata": {},
          "execution_count": 59
        }
      ]
    },
    {
      "cell_type": "markdown",
      "metadata": {
        "id": "qhS7TbAverAg"
      },
      "source": [
        "A princípio, esperava-se que o maior registro de reclamações estivesse em municípios mais populosos, como São Paulo ou Rio de Janeiro. Porém a maior quantidade de reclamações em 2019 foi no município de Salvador/BA."
      ]
    },
    {
      "cell_type": "markdown",
      "metadata": {
        "id": "5zzvOj8XY2EL"
      },
      "source": [
        "**2) ACESSO A ÁGUA E ESGOTAMENTO SANITÁRIO**"
      ]
    },
    {
      "cell_type": "code",
      "metadata": {
        "colab": {
          "base_uri": "https://localhost:8080/"
        },
        "id": "HQB8Vm46djJM",
        "outputId": "43e57982-7c43-4016-ad76-060b9ea91848"
      },
      "source": [
        "# Média do percentual da população dos municípios que tem acesso a água por Região:\n",
        "dados.groupby([\"Regiao\"])[\"PercPopAgua\"].mean()"
      ],
      "execution_count": null,
      "outputs": [
        {
          "output_type": "execute_result",
          "data": {
            "text/plain": [
              "Regiao\n",
              "CO    0.898218\n",
              "N     0.782244\n",
              "NE    0.909435\n",
              "S     0.972700\n",
              "SE    0.957980\n",
              "Name: PercPopAgua, dtype: float64"
            ]
          },
          "metadata": {},
          "execution_count": 79
        }
      ]
    },
    {
      "cell_type": "code",
      "metadata": {
        "colab": {
          "base_uri": "https://localhost:8080/",
          "height": 301
        },
        "id": "hwko7tnwpAJd",
        "outputId": "0fc9c10d-6529-42ba-eccb-52ead50b0d0b"
      },
      "source": [
        "agua = dados.groupby(\"Regiao\").agg([np.mean, np.std])\n",
        "agua = agua['PercPopAgua']*100\n",
        "agua.plot(kind = \"barh\", y = \"mean\", legend = False, title = \"% da População com acesso a Água\", color=['green','red','orange','silver','blue'])"
      ],
      "execution_count": null,
      "outputs": [
        {
          "output_type": "execute_result",
          "data": {
            "text/plain": [
              "<matplotlib.axes._subplots.AxesSubplot at 0x7f78f8cc27d0>"
            ]
          },
          "metadata": {},
          "execution_count": 156
        },
        {
          "output_type": "display_data",
          "data": {
            "image/png": "[encoded data removed]",
            "text/plain": [
              "<Figure size 432x288 with 1 Axes>"
            ]
          },
          "metadata": {
            "needs_background": "light"
          }
        }
      ]
    },
    {
      "cell_type": "code",
      "metadata": {
        "colab": {
          "base_uri": "https://localhost:8080/",
          "height": 350
        },
        "id": "IiCUlaxRXAem",
        "outputId": "24672ac4-49fe-4274-efac-2f5d14571c47"
      },
      "source": [
        "fig, ax = plt.subplots()\n",
        "dados.boxplot(column=\"PercPopAgua\", by=\"Regiao\", ax=ax)\n",
        "ax.set_xlabel(\"Região\")\n",
        "ax.set_ylabel(\"Acesso a água\")\n",
        "ax.set_title(\"Boxplot\")\n",
        "plt.suptitle(\"\")\n",
        "plt.show()"
      ],
      "execution_count": null,
      "outputs": [
        {
          "output_type": "stream",
          "name": "stderr",
          "text": [
            "/usr/local/lib/python3.7/dist-packages/numpy/core/_asarray.py:83: VisibleDeprecationWarning: Creating an ndarray from ragged nested sequences (which is a list-or-tuple of lists-or-tuples-or ndarrays with different lengths or shapes) is deprecated. If you meant to do this, you must specify 'dtype=object' when creating the ndarray\n",
            "  return array(a, dtype, copy=False, order=order)\n"
          ]
        },
        {
          "output_type": "display_data",
          "data": {
            "image/png": "[encoded data removed]",
            "text/plain": [
              "<Figure size 432x288 with 1 Axes>"
            ]
          },
          "metadata": {
            "needs_background": "light"
          }
        }
      ]
    },
    {
      "cell_type": "code",
      "metadata": {
        "colab": {
          "base_uri": "https://localhost:8080/",
          "height": 513
        },
        "id": "Rd0sS2dbWpX4",
        "outputId": "6d726eeb-e98f-4037-d418-4d972d1a859c"
      },
      "source": [
        "agua = dados.groupby(\"Estado\")['PercPopAgua'].agg([np.mean, np.std]).reset_index()\n",
        "plt.figure(figsize=(17,8))\n",
        "sns.barplot(x=\"Estado\", y=\"PercPopAgua\", hue='Regiao', data=dados, dodge=False, order=['AC','AM','AP','PA','RO','RR', 'TO','AL','BA','CE','MA','PB','PE','PI','RN','SE','DF','GO','MS','MT','PR','RS','SC','ES','MG','RJ','SP' ])\n",
        "plt.title(\"% da População com acesso a Agua\")\n",
        "plt.show()"
      ],
      "execution_count": null,
      "outputs": [
        {
          "output_type": "display_data",
          "data": {
            "image/png": "[encoded data removed]",
            "text/plain": [
              "<Figure size 1224x576 with 1 Axes>"
            ]
          },
          "metadata": {
            "needs_background": "light"
          }
        }
      ]
    },
    {
      "cell_type": "code",
      "metadata": {
        "colab": {
          "base_uri": "https://localhost:8080/"
        },
        "id": "9xPWd0Wnd-Hn",
        "outputId": "ad5f510c-8732-404a-888a-694bd5176910"
      },
      "source": [
        "# Média do percentual da população dos municípios que tem acesso a esgotamento sanitário por Região:\n",
        "\n",
        "dados.groupby([\"Regiao\"])[\"PercPopEsgotamento\"].mean()"
      ],
      "execution_count": null,
      "outputs": [
        {
          "output_type": "execute_result",
          "data": {
            "text/plain": [
              "Regiao\n",
              "CO    38.543897\n",
              "N     12.888889\n",
              "NE    29.598662\n",
              "S     34.844668\n",
              "SE    84.412470\n",
              "Name: PercPopEsgotamento, dtype: float64"
            ]
          },
          "metadata": {},
          "execution_count": 19
        }
      ]
    },
    {
      "cell_type": "code",
      "metadata": {
        "colab": {
          "base_uri": "https://localhost:8080/",
          "height": 298
        },
        "id": "me8bUrclf-oI",
        "outputId": "7637dd10-ca52-4e83-9e6a-00d3026b7717"
      },
      "source": [
        "esgotamento = dados.groupby(\"Regiao\").agg([np.mean, np.std])\n",
        "esgotamento = esgotamento['PercPopEsgotamento']*100\n",
        "esgotamento.plot(kind = \"barh\", y = \"mean\", legend = False, title = \"% da População com acesso a Esgotamento Sanitário\", color=['green','red','orange','silver','blue'])"
      ],
      "execution_count": null,
      "outputs": [
        {
          "output_type": "execute_result",
          "data": {
            "text/plain": [
              "<matplotlib.axes._subplots.AxesSubplot at 0x7f7914f1d890>"
            ]
          },
          "metadata": {},
          "execution_count": 178
        },
        {
          "output_type": "display_data",
          "data": {
            "image/png": "[encoded data removed]",
            "text/plain": [
              "<Figure size 432x288 with 1 Axes>"
            ]
          },
          "metadata": {
            "needs_background": "light"
          }
        }
      ]
    },
    {
      "cell_type": "code",
      "metadata": {
        "colab": {
          "base_uri": "https://localhost:8080/",
          "height": 513
        },
        "id": "wBiDS48CHi4X",
        "outputId": "190ae6f1-26c6-4d9d-8a02-bcc08c87e81c"
      },
      "source": [
        "esgotamento = dados.groupby(\"Estado\")['PercPopEsgotamento'].agg([np.mean, np.std]).reset_index()\n",
        "plt.figure(figsize=(17,8))\n",
        "sns.barplot(x=\"Estado\", y=\"PercPopEsgotamento\", hue='Regiao', data=dados, dodge=False, order=['AC','AM','AP','PA','RO','RR', 'TO','AL','BA','CE','MA','PB','PE','PI','RN','SE','DF','GO','MS','MT','PR','RS','SC','ES','MG','RJ','SP' ])\n",
        "plt.title(\"% da População com acesso a Esgotamento Sanitário\")\n",
        "plt.show()"
      ],
      "execution_count": null,
      "outputs": [
        {
          "output_type": "display_data",
          "data": {
            "image/png": "[encoded data removed]",
            "text/plain": [
              "<Figure size 1224x576 with 1 Axes>"
            ]
          },
          "metadata": {
            "needs_background": "light"
          }
        }
      ]
    },
    {
      "cell_type": "code",
      "metadata": {
        "colab": {
          "base_uri": "https://localhost:8080/",
          "height": 297
        },
        "id": "i8GxDS8BgNMQ",
        "outputId": "6c1c016f-6cdb-4633-d64f-a60c26735b8b"
      },
      "source": [
        "fig, ax = plt.subplots(1,2)\n",
        "sns.boxplot(ax = ax[0], x= 'Regiao', y = 'PercPopAgua', data=dados, whis=2, width=0.8, dodge=False)\n",
        "sns.boxplot(ax = ax[1], x= 'Regiao', y = 'PercPopEsgotamento', data=dados, whis=2, width=0.8, dodge=False)\n",
        "\n",
        "fig.tight_layout()\n",
        "plt.show()\n"
      ],
      "execution_count": null,
      "outputs": [
        {
          "output_type": "display_data",
          "data": {
            "image/png": "[encoded data removed]",
            "text/plain": [
              "<Figure size 432x288 with 2 Axes>"
            ]
          },
          "metadata": {
            "needs_background": "light"
          }
        }
      ]
    },
    {
      "cell_type": "markdown",
      "metadata": {
        "id": "UFEgmbsNmBzj"
      },
      "source": [
        "**•\tInterpretação dos resultados obtidos - Acesso a água e esgotamento sanitário**\n",
        "\n",
        "A região Norte é a que possui a população com menor acesso a água e esgotamento sanitário. A região Sudeste é a que possui maior acesso a água e esgotamento sanitário.\n",
        "Na maior parte dos municípios de todas as regiões, toda a população possui acesso a água. Mas ainda assim, em todas as Regiões há pelo menos um município cuja população não tem acesso a água.\n",
        "Os estados de SP e o DF são as unidades da federação com maior percentual de acesso a esgotamento sanitário, com baixo desvio padrão.\n",
        "O ES, RJ e MS, apesar de terem uma média alta de acesso a esgotamento sanitário, possuem um desvio padrão alto, com alguns municípios com acesso muito superior e outros muito inferior à média.\n",
        "O AP, apesar de ser o estado com maior média de acesso a esgotamento sanitário da região Norte, é o que possui maior desvio padrão.\n",
        "\n",
        "\n",
        "\n"
      ]
    },
    {
      "cell_type": "markdown",
      "metadata": {
        "id": "aZ1f03cCZVcJ"
      },
      "source": [
        "**3) CONSUMO DE ÁGUA**"
      ]
    },
    {
      "cell_type": "code",
      "metadata": {
        "colab": {
          "base_uri": "https://localhost:8080/"
        },
        "id": "YF5I0pPEtUAd",
        "outputId": "97748071-758c-4241-d742-5ac18fcede9c"
      },
      "source": [
        "# Análise dos dados sobre consumo de água per capita por região\n",
        "\n",
        "dados.groupby([\"Regiao\"])[\"ConsumoAguaPercapita\"].mean()"
      ],
      "execution_count": null,
      "outputs": [
        {
          "output_type": "execute_result",
          "data": {
            "text/plain": [
              "Regiao\n",
              "CO    0.040278\n",
              "N     0.021600\n",
              "NE    0.025385\n",
              "S     0.041830\n",
              "SE    0.050809\n",
              "Name: ConsumoAguaPercapita, dtype: float64"
            ]
          },
          "metadata": {},
          "execution_count": 40
        }
      ]
    },
    {
      "cell_type": "code",
      "metadata": {
        "colab": {
          "base_uri": "https://localhost:8080/",
          "height": 350
        },
        "id": "stS22vJ1JjrZ",
        "outputId": "871c9db3-27e1-4925-b99d-7c9139e09985"
      },
      "source": [
        "# Plota o Boxplot do consumo de água per capita por região\n",
        "\n",
        "fig, ax = plt.subplots()\n",
        "dados.boxplot(column=\"ConsumoAguaPercapita\", by=\"Regiao\", ax=ax)\n",
        "ax.set_xlabel(\"Região\")\n",
        "ax.set_ylabel(\"Consumo de Agua Percapita\")\n",
        "ax.set_title(\"Boxplot\")\n",
        "plt.suptitle(\"\")\n",
        "plt.show()\n"
      ],
      "execution_count": null,
      "outputs": [
        {
          "output_type": "stream",
          "name": "stderr",
          "text": [
            "/usr/local/lib/python3.7/dist-packages/numpy/core/_asarray.py:83: VisibleDeprecationWarning: Creating an ndarray from ragged nested sequences (which is a list-or-tuple of lists-or-tuples-or ndarrays with different lengths or shapes) is deprecated. If you meant to do this, you must specify 'dtype=object' when creating the ndarray\n",
            "  return array(a, dtype, copy=False, order=order)\n"
          ]
        },
        {
          "output_type": "display_data",
          "data": {
            "image/png": "[encoded data removed]",
            "text/plain": [
              "<Figure size 432x288 with 1 Axes>"
            ]
          },
          "metadata": {
            "needs_background": "light"
          }
        }
      ]
    },
    {
      "cell_type": "code",
      "metadata": {
        "colab": {
          "base_uri": "https://localhost:8080/",
          "height": 513
        },
        "id": "8D_L10kMaYMg",
        "outputId": "4b0fe433-4dd1-4bae-e4be-39f2eb41e057"
      },
      "source": [
        "consumo = dados.groupby(\"Estado\")['ConsumoAguaPercapita'].agg([np.mean, np.std]).reset_index()\n",
        "plt.figure(figsize=(17,8))\n",
        "sns.barplot(x=\"Estado\", y=\"ConsumoAguaPercapita\", hue='Regiao', data=dados, dodge=False, order=['AC','AM','AP','PA','RO','RR', 'TO','AL','BA','CE','MA','PB','PE','PI','RN','SE','DF','GO','MS','MT','PR','RS','SC','ES','MG','RJ','SP' ])\n",
        "plt.title(\"Consumo de água percapita\")\n",
        "plt.show()"
      ],
      "execution_count": null,
      "outputs": [
        {
          "output_type": "display_data",
          "data": {
            "image/png": "[encoded data removed]",
            "text/plain": [
              "<Figure size 1224x576 with 1 Axes>"
            ]
          },
          "metadata": {
            "needs_background": "light"
          }
        }
      ]
    },
    {
      "cell_type": "markdown",
      "metadata": {
        "id": "yXy1xljfkjTW"
      },
      "source": [
        "**•\tInterpretação dos resultados obtidos - Consumo de água percapita**\n",
        "\n",
        "O consumo de água percapita médio é maior na região Sudeste, sendo mais que o dobro do que o identificado na Região Norte, onde há o menor consumo percapita.\n",
        "Foram identificadas também algumas cidades onde o consumo é muito maior que a média da Região, onde podem ser analisadas as causas e avaliadas, se for o caso, medidas de redução de consumo."
      ]
    },
    {
      "cell_type": "markdown",
      "metadata": {
        "id": "FHvDtMY8Zp_A"
      },
      "source": [
        "**4) VOLUME DE ÁGUA PRODUZIDO E CONSUMIDO**"
      ]
    },
    {
      "cell_type": "code",
      "metadata": {
        "colab": {
          "base_uri": "https://localhost:8080/",
          "height": 290
        },
        "id": "31Z0sNuk0I7N",
        "outputId": "bf5b093d-4de9-45f2-a80a-66c9d7f5e82e"
      },
      "source": [
        "# Diagrama de dispersão: verificar se há relação entre o volume de água produzido no município e o volume de água consumido no município\n",
        "\n",
        "fig, ax = plt.subplots()\n",
        "ax.scatter(dados[\"VolumeAguaProduzido\"],dados[\"VolumeAguaConsumido\"])\n",
        "ax.set_xlabel(\"Volume de Agua Produzido\")\n",
        "ax.set_ylabel(\"Volume de Agua Consumido\")\n",
        "plt.show()\n"
      ],
      "execution_count": null,
      "outputs": [
        {
          "output_type": "display_data",
          "data": {
            "image/png": "[encoded data removed]",
            "text/plain": [
              "<Figure size 432x288 with 1 Axes>"
            ]
          },
          "metadata": {
            "needs_background": "light"
          }
        }
      ]
    },
    {
      "cell_type": "markdown",
      "metadata": {
        "id": "QUCbhPsz2u4-"
      },
      "source": [
        "**•\tInterpretação dos resultados obtidos - relação entre volume de água produzido e consumido**\n",
        "\n",
        "Apesar de haver algumas variáveis que destoam, com alguns municípios consumindo um volume muito maior do que produzem, observa-se um padrão linear entre as variáveis."
      ]
    },
    {
      "cell_type": "markdown",
      "metadata": {
        "id": "zf7hN0HGbICw"
      },
      "source": [
        "**5) RELAÇÃO ENTRE INVESTIMENTO E QUANTIDADE DE PARALIZAÇÕES**"
      ]
    },
    {
      "cell_type": "code",
      "metadata": {
        "colab": {
          "base_uri": "https://localhost:8080/",
          "height": 278
        },
        "id": "nxoR0KEn52X7",
        "outputId": "78bba960-6c54-4e09-bda0-e892a5cc4531"
      },
      "source": [
        "# Diagrama de dispersão: verificar se há relação entre o investimento per capita do Estado no município e a quantidade de paralizações de abastecimento no município\n",
        "\n",
        "fig, ax = plt.subplots()\n",
        "ax.scatter(dados[\"InvestimentoPercapita\"],dados[\"QuantidadeParalizacoes\"])\n",
        "ax.set_xlabel(\"InvestimentoPercapita\")\n",
        "ax.set_ylabel(\"QuantidadeParalizacoes\")\n",
        "plt.show()\n"
      ],
      "execution_count": null,
      "outputs": [
        {
          "output_type": "display_data",
          "data": {
            "image/png": "[encoded data removed]",
            "text/plain": [
              "<Figure size 432x288 with 1 Axes>"
            ]
          },
          "metadata": {
            "needs_background": "light"
          }
        }
      ]
    },
    {
      "cell_type": "markdown",
      "metadata": {
        "id": "7X7ndvt66oOR"
      },
      "source": [
        "**•\tInterpretação dos resultados obtidos - relação entre investimento per capita do Estado no município e a quantidade de paralizações**\n",
        "\n",
        "Não foi identificada relação entre o investimento per capita do Estado no município e a quantidade de paralizações de abastecimento no município."
      ]
    },
    {
      "cell_type": "markdown",
      "metadata": {
        "id": "56ANnA0VbVMA"
      },
      "source": [
        "**6) VALOR DE INVESTIMENTO DO ESTADO POR REGIÃO**"
      ]
    },
    {
      "cell_type": "code",
      "metadata": {
        "colab": {
          "base_uri": "https://localhost:8080/"
        },
        "id": "EFw32kJUtnRp",
        "outputId": "bcbe952e-667f-4116-ef13-4474985ff5a9"
      },
      "source": [
        "# Verificar quanto cada região recebeu em média de investimento per capita\n",
        "\n",
        "dados.groupby([\"Regiao\"])[\"InvestimentoPercapita\"].mean()"
      ],
      "execution_count": null,
      "outputs": [
        {
          "output_type": "execute_result",
          "data": {
            "text/plain": [
              "Regiao\n",
              "CO    3.872591\n",
              "N     5.039133\n",
              "NE    3.841628\n",
              "S     0.007641\n",
              "SE    0.611493\n",
              "Name: InvestimentoPercapita, dtype: float64"
            ]
          },
          "metadata": {},
          "execution_count": 64
        }
      ]
    },
    {
      "cell_type": "code",
      "metadata": {
        "colab": {
          "base_uri": "https://localhost:8080/"
        },
        "id": "bVaQ1_9G7KRq",
        "outputId": "2d6e72ca-7f6c-4398-879e-ffc183d023d9"
      },
      "source": [
        "# Verificar quanto cada região de investimentos totais do Estado\n",
        "\n",
        "dados.groupby([\"Regiao\"])[\"InvestimentoTotalEstado\"].sum()"
      ],
      "execution_count": null,
      "outputs": [
        {
          "output_type": "execute_result",
          "data": {
            "text/plain": [
              "Regiao\n",
              "CO    3.527792e+07\n",
              "N     1.853859e+08\n",
              "NE    2.803944e+08\n",
              "S     5.224975e+04\n",
              "SE    2.170540e+07\n",
              "Name: InvestimentoTotalEstado, dtype: float64"
            ]
          },
          "metadata": {},
          "execution_count": 65
        }
      ]
    },
    {
      "cell_type": "code",
      "metadata": {
        "colab": {
          "base_uri": "https://localhost:8080/",
          "height": 513
        },
        "id": "PL8tq1zebk1a",
        "outputId": "c1dc639c-1da9-4d7e-cf5e-14f36278de7b"
      },
      "source": [
        "investimento = dados.groupby(\"Estado\")['InvestimentoTotalEstado'].agg([np.mean, np.std]).reset_index()\n",
        "plt.figure(figsize=(17,8))\n",
        "sns.barplot(x=\"Estado\", y=\"InvestimentoTotalEstado\", hue='Regiao', data=dados, dodge=False, order=['AC','AM','AP','PA','RO','RR', 'TO','AL','BA','CE','MA','PB','PE','PI','RN','SE','DF','GO','MS','MT','PR','RS','SC','ES','MG','RJ','SP' ])\n",
        "plt.title(\"Investimento total do Estado\")\n",
        "plt.show()"
      ],
      "execution_count": null,
      "outputs": [
        {
          "output_type": "display_data",
          "data": {
            "image/png": "[encoded data removed]",
            "text/plain": [
              "<Figure size 1224x576 with 1 Axes>"
            ]
          },
          "metadata": {
            "needs_background": "light"
          }
        }
      ]
    },
    {
      "cell_type": "markdown",
      "metadata": {
        "id": "s5QrmY2h8p0C"
      },
      "source": [
        "**•\tInterpretação dos resultados obtidos - Investimentos**\n",
        "\n",
        " Em 2019, a região Norte foi quem recebeu o maior valor absoluto e per capita de investimentos do Estado."
      ]
    },
    {
      "cell_type": "markdown",
      "metadata": {
        "id": "h-5Rw87Pb6g1"
      },
      "source": [
        "**7) RELAÇÃO ENTRE CONSUMO DE ÁGUA PERCAPITA E TAMANHO DA POPULAÇÃO**"
      ]
    },
    {
      "cell_type": "code",
      "metadata": {
        "colab": {
          "base_uri": "https://localhost:8080/",
          "height": 370
        },
        "id": "0BFDeC5-tbKp",
        "outputId": "c884b4a1-9c9f-48f9-a427-1a3c08ee92bb"
      },
      "source": [
        "# Análise da relação entre o consumo de água per capita e o tamanho da população.\n",
        "sns.relplot(x=\"POP_EST_2020\", y=\"ConsumoAguaPercapita\", data= dados, col=\"Regiao\")\n",
        "plt.show()"
      ],
      "execution_count": null,
      "outputs": [
        {
          "output_type": "display_data",
          "data": {
            "image/png": "[encoded data removed]",
            "text/plain": [
              "<Figure size 1800x360 with 5 Axes>"
            ]
          },
          "metadata": {
            "needs_background": "light"
          }
        }
      ]
    },
    {
      "cell_type": "markdown",
      "metadata": {
        "id": "XUs2qXH6_Hd2"
      },
      "source": [
        "**•\tInterpretação dos resultados obtidos - Relação entre o consumo de água per capita e o tamanho da população**\n",
        "\n",
        "Em nenhuma das regiões foi verificada uma correlação entre o consumo de água per capita e o tamanho da população. Foram identificados pontualmente municípios cujo consumo de água per capita é muito maior que a média. Em todos os casos são municípios pequenos."
      ]
    },
    {
      "cell_type": "markdown",
      "metadata": {
        "id": "RbaJsjMBXZ_I"
      },
      "source": [
        "**8) RELAÇÃO ENTRE IDH E ACESSO A ESGOTAMENTO SANITARIO**"
      ]
    },
    {
      "cell_type": "code",
      "metadata": {
        "colab": {
          "base_uri": "https://localhost:8080/",
          "height": 279
        },
        "id": "9vfY9a_pqurJ",
        "outputId": "018acad4-c47b-43c3-b982-286b9aedc3a0"
      },
      "source": [
        "# Diagrama de dispersão: verificar se há relação entre idh e Esgotamento Sanitário\n",
        "fig, ax = plt.subplots()\n",
        "ax.scatter(dados[\"IDHM\"],dados[\"PercPopEsgotamento\"])\n",
        "ax.set_xlabel(\"IDHM\")\n",
        "ax.set_ylabel(\"PercPopEsgotamento\")\n",
        "plt.show()\n"
      ],
      "execution_count": null,
      "outputs": [
        {
          "output_type": "display_data",
          "data": {
            "image/png": "[encoded data removed]",
            "text/plain": [
              "<Figure size 432x288 with 1 Axes>"
            ]
          },
          "metadata": {
            "needs_background": "light"
          }
        }
      ]
    },
    {
      "cell_type": "markdown",
      "metadata": {
        "id": "z3sXknDcjUsQ"
      },
      "source": [
        "**• Interpretação dos resultados obtidos - Relação entre IDH e acesso a esgotamento sanitário**\n",
        "\n",
        "A princípio não se identifica relação entre as variáveis."
      ]
    },
    {
      "cell_type": "markdown",
      "metadata": {
        "id": "AR-03WsDp7YW"
      },
      "source": [
        "**TESTES DE HIPÓTESE**"
      ]
    },
    {
      "cell_type": "code",
      "metadata": {
        "id": "alFCSU3op5jx"
      },
      "source": [
        "# cria função para realização dos testes de hipótese\n",
        "def realiza_teste_quiquadrado(df, col1, col2, alpha=0.05):\n",
        "  \n",
        "  # obtem a tabela de contingência\n",
        "  tabela_contingencia = pd.crosstab(dados[col1], dados[col2])\n",
        "  \n",
        "  # Realiza o teste qui-quadrado para verificar se existe relação de dependência entre os col1 and col2\n",
        "  chi, p, dof, expected = stats.chi2_contingency(tabela_contingencia)\n",
        "\n",
        "  # Verifica se o p_valor é menor que o nível de significância\n",
        "  if p < alpha:\n",
        "    print(\"As variáveis {} e {} são dependentes\".format(col1, col2))\n",
        "  else:\n",
        "    print(\"As variáveis {} e {} não são dependentes\".format(col1, col2))\n",
        "\n",
        "  print()\n",
        "  print(\"Tabela de Contingência:\")\n",
        "  print(tabela_contingencia)"
      ],
      "execution_count": null,
      "outputs": []
    },
    {
      "cell_type": "code",
      "metadata": {
        "id": "VWGEGLFe_QIY",
        "colab": {
          "base_uri": "https://localhost:8080/"
        },
        "outputId": "84ac33ea-21c9-4e22-f8d8-0a3963459150"
      },
      "source": [
        "# Realiza o teste qui-quadrado para verificar se existe relação de dependência entre os IDH e acesso a esgotamento sanitário\n",
        "realiza_teste_quiquadrado(dados, 'PercPopEsgotamento', 'IDHM')"
      ],
      "execution_count": null,
      "outputs": [
        {
          "output_type": "stream",
          "name": "stdout",
          "text": [
            "As variáveis PercPopEsgotamento e IDHM não são dependentes\n",
            "\n",
            "Tabela de Contingência:\n",
            "IDHM                0.418  0.443  0.450  0.452  ...  0.845  0.847  0.854  0.862\n",
            "PercPopEsgotamento                              ...                            \n",
            "0.000000                1      1      1      1  ...      0      0      0      0\n",
            "0.931535                0      0      0      0  ...      0      0      0      0\n",
            "0.942485                0      0      0      0  ...      0      0      0      0\n",
            "0.951295                0      0      0      0  ...      0      0      0      0\n",
            "0.954358                0      0      0      0  ...      0      0      0      0\n",
            "...                   ...    ...    ...    ...  ...    ...    ...    ...    ...\n",
            "1.033977                0      0      0      0  ...      0      0      0      0\n",
            "1.034051                0      0      0      0  ...      0      0      0      0\n",
            "1.039755                0      0      0      0  ...      0      0      0      0\n",
            "1.154578                0      0      0      0  ...      0      0      0      0\n",
            "1.175624                0      0      0      0  ...      0      0      0      0\n",
            "\n",
            "[2576 rows x 349 columns]\n"
          ]
        }
      ]
    },
    {
      "cell_type": "code",
      "metadata": {
        "colab": {
          "base_uri": "https://localhost:8080/"
        },
        "id": "rCEq1vJyhZMO",
        "outputId": "942737b9-70ee-4312-b0c8-bc26c939c91c"
      },
      "source": [
        "# Realiza o teste qui-quadrado para verificar se existe relação de dependência entre os PercPopEsgotamento e InvestimentoTotalEstado\n",
        "realiza_teste_quiquadrado(dados, 'PercPopEsgotamento', 'InvestimentoTotalEstado')"
      ],
      "execution_count": null,
      "outputs": [
        {
          "output_type": "stream",
          "name": "stdout",
          "text": [
            "As variáveis PercPopEsgotamento e InvestimentoTotalEstado são dependentes\n",
            "\n",
            "Tabela de Contingência:\n",
            "InvestimentoTotalEstado  0.00         4.00         ...  49632262.76  91386958.80\n",
            "PercPopEsgotamento                                 ...                          \n",
            "0.000000                        1908            0  ...            0            0\n",
            "0.931535                           1            0  ...            0            0\n",
            "0.942485                           1            0  ...            0            0\n",
            "0.951295                           0            0  ...            0            0\n",
            "0.954358                           1            0  ...            0            0\n",
            "...                              ...          ...  ...          ...          ...\n",
            "1.029378                           1            0  ...            0            0\n",
            "1.029380                           1            0  ...            0            0\n",
            "1.029538                           1            0  ...            0            0\n",
            "1.039755                           1            0  ...            0            0\n",
            "1.175624                           1            0  ...            0            0\n",
            "\n",
            "[2031 rows x 138 columns]\n"
          ]
        }
      ]
    },
    {
      "cell_type": "markdown",
      "metadata": {
        "id": "2H_tkyVbs3Ys"
      },
      "source": [
        "**• Interpretação dos resultados obtidos - Correlação entre IDH e acesso a esgotamento sanitário**\n",
        "\n",
        "Não foi identificada correlação direta entre IDH e acesso a esgotamento sanitário. Possivelmente seria necessário verificar outros fatores que impactam no IDH para que seja avaliado o efeito apenas do acesso a esgotamento sanitário em municípios onde esses outros fatores são semelhantes."
      ]
    },
    {
      "cell_type": "markdown",
      "metadata": {
        "id": "D-msGnonh2y1"
      },
      "source": [
        "**• Interpretação dos resultados obtidos - Correlação entre Percentual da População com acesso a Esgotamento Sanitário e acesso a Investimento Total Estado no município**\n",
        "\n",
        "Foi identificada correlação direta entre o Percentual da população com acesso a esgotamento sanitário e o investimento total do Estado. Isso confirma o que foi visto nos gráficos, de que os estados do Norte possuem menos acesso a esgotamento sanitário e maior volume de investimento do Estado, enquanto que os estados do Sudeste possuem maior acesso a esgotamento sanitário e menor volume de investimentos do Estado."
      ]
    }
  ]
}