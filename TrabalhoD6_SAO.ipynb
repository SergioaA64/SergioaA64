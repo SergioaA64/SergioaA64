{
  "nbformat": 4,
  "nbformat_minor": 0,
  "metadata": {
    "colab": {
      "name": "TrabalhoD6-SAO.ipynb",
      "provenance": [],
      "collapsed_sections": [],
      "mount_file_id": "1qDnNabectfyYEvlg0Y3IFkKgkCogCoSE",
      "authorship_tag": "ABX9TyOFmVLkyXVE3VcRKUZoKYtA",
      "include_colab_link": true
    },
    "kernelspec": {
      "name": "python3",
      "display_name": "Python 3"
    },
    "language_info": {
      "name": "python"
    }
  },
  "cells": [
    {
      "cell_type": "markdown",
      "metadata": {
        "id": "view-in-github",
        "colab_type": "text"
      },
      "source": [
        "<a href=\"https://colab.research.google.com/github/SergioaA64/SergioaA64/blob/main/TrabalhoD6_SAO.ipynb\" target=\"_parent\"><img src=\"https://colab.research.google.com/assets/colab-badge.svg\" alt=\"Open In Colab\"/></a>"
      ]
    },
    {
      "cell_type": "markdown",
      "metadata": {
        "id": "UGYvNArGiL7J"
      },
      "source": [
        "## TRABALHO D6 - ESTATÍSTICA DESCRITIVA\n",
        "Nome: Sergio Affonso de Oliveira\n",
        "\n",
        "Professor: Eduardo Monteiro de Castro Gomes\n"
      ]
    },
    {
      "cell_type": "markdown",
      "metadata": {
        "id": "89uYzMQLiMLr"
      },
      "source": [
        "### Tema : Auxílio Emergencial da Cultura - Lei Aldir Blanc"
      ]
    },
    {
      "cell_type": "markdown",
      "metadata": {
        "id": "bDLd0wbVIKlC"
      },
      "source": [
        "O Auxílio emergencial da Cultura foi criado em junho de 2020 com o objetivo de auxiliar e apoiar profissionais do setor, estabelecimentos e iniciativas culturais durante a pandemia. O trabalho terá como ênfase as iniciativas culturais contempladas com o benefício.\n",
        "\n",
        "Esse auxílio emergencial, de acordo com a Lei 14.017 de 29 de junho de 2020, pode ser executado três formas seguintes:\n",
        "\n",
        "I - renda emergencial mensal aos trabalhadores e trabalhadoras da cultura;\n",
        "\n",
        "II - subsídio mensal para manutenção de espaços artísticos e culturais, instituições e organizações culturais comunitárias que tiveram as suas atividades interrompidas por força das medidas de isolamento social; e\n",
        "\n",
        "III - editais, chamadas públicas, prêmios, aquisição de bens e serviços vinculados ao setor cultural e outros instrumentos destinados à manutenção de agentes, de espaços, de iniciativas, de cursos, de produções, de desenvolvimento de atividades de economia criativa e de economia solidária, de produções audiovisuais, de manifestações culturais, bem como à realização de atividades artísticas e culturais que possam ser transmitidas pela internet ou disponibilizadas por meio de redes sociais e outras plataformas digitais.\n",
        "\n",
        "Os recursos são executados de forma descentralizada, mediante transferências da União aos Estados, aos Municípios e ao Distrito Federal.\n",
        "\n",
        "A participação dos Estados e municípios é eletiva: o Ente Federado deve se cadastrar e apresentar um plano de ação.\n",
        "\n",
        "Fonte de dados: http://portalsnc.cultura.gov.br/indicadorescultura/ e\n",
        "https://www.ibge.gov.br/\n"
      ]
    },
    {
      "cell_type": "markdown",
      "metadata": {
        "id": "1lVr6kPpi6bL"
      },
      "source": [
        "Este trabalho restringiu-se a apresentar aspectos gerais da política em execução, de forma a aplicar as técnicas de estatísticas transmitidas, e apresentar uma primeira análise desses dados, como:\n",
        "- Valor transferido ao município por habitante;\n",
        "- Panorama dos municípios cadastrados e não cadastrados;\n",
        "- Correlação entre o IDHM e a participação no Programa do Auxílio Emergencial; e\n",
        "- Teste de hipótese: se existe dependência entre a participação no Programa e o IDHM."
      ]
    },
    {
      "cell_type": "code",
      "metadata": {
        "id": "YJHaROSiidH3"
      },
      "source": [
        "import pandas as pd\n",
        "import seaborn as sns\n",
        "import numpy as np\n",
        "import matplotlib.pyplot as plt\n",
        "import scipy.stats as stats"
      ],
      "execution_count": 55,
      "outputs": []
    },
    {
      "cell_type": "markdown",
      "metadata": {
        "id": "tl-SRAKA3SdF"
      },
      "source": [
        "Importção de dados com a população e IDHM de todos os municípios. Fonte IBGE\n",
        "Informação da situação do Município em Relação à Lei Aldir Blanc"
      ]
    },
    {
      "cell_type": "code",
      "metadata": {
        "colab": {
          "base_uri": "https://localhost:8080/",
          "height": 424
        },
        "id": "OTPSUIQQd6qN",
        "outputId": "b1ee473f-e30b-4050-c653-8649499070ed"
      },
      "source": [
        "ibge = pd.read_csv(\"https://raw.githubusercontent.com/SergioaA64/SergioaA64/main/DADOS.csv\", encoding = \"iso8859_16\", sep =\";\", decimal=\",\")\n",
        "\n",
        "# ibge.head()\n",
        "ibge"
      ],
      "execution_count": 56,
      "outputs": [
        {
          "output_type": "execute_result",
          "data": {
            "text/html": [
              "<div>\n",
              "<style scoped>\n",
              "    .dataframe tbody tr th:only-of-type {\n",
              "        vertical-align: middle;\n",
              "    }\n",
              "\n",
              "    .dataframe tbody tr th {\n",
              "        vertical-align: top;\n",
              "    }\n",
              "\n",
              "    .dataframe thead th {\n",
              "        text-align: right;\n",
              "    }\n",
              "</style>\n",
              "<table border=\"1\" class=\"dataframe\">\n",
              "  <thead>\n",
              "    <tr style=\"text-align: right;\">\n",
              "      <th></th>\n",
              "      <th>COD_IBGE</th>\n",
              "      <th>COD_SIAFI</th>\n",
              "      <th>NOME_ENTE</th>\n",
              "      <th>NOME_SIMPLIFICADO</th>\n",
              "      <th>SIGLA_UF</th>\n",
              "      <th>NOME_UF</th>\n",
              "      <th>POP_EST_2020</th>\n",
              "      <th>CAPITAL</th>\n",
              "      <th>REGIAO</th>\n",
              "      <th>IDHM</th>\n",
              "      <th>IDHM_RENDA</th>\n",
              "      <th>IDHM_EDUCACAO</th>\n",
              "      <th>IDHM_LONGEVIDADE</th>\n",
              "      <th>SITUACAO</th>\n",
              "    </tr>\n",
              "  </thead>\n",
              "  <tbody>\n",
              "    <tr>\n",
              "      <th>0</th>\n",
              "      <td>5200050</td>\n",
              "      <td>1050.0</td>\n",
              "      <td>Abadia de Goiás</td>\n",
              "      <td>ABADIA DE GOIAS</td>\n",
              "      <td>GO</td>\n",
              "      <td>Goiás</td>\n",
              "      <td>8958</td>\n",
              "      <td>0</td>\n",
              "      <td>CO</td>\n",
              "      <td>0.708</td>\n",
              "      <td>0.830</td>\n",
              "      <td>0.622</td>\n",
              "      <td>0.687</td>\n",
              "      <td>Năo Cadastrado</td>\n",
              "    </tr>\n",
              "    <tr>\n",
              "      <th>1</th>\n",
              "      <td>3100104</td>\n",
              "      <td>4001.0</td>\n",
              "      <td>Abadia dos Dourados</td>\n",
              "      <td>ABADIA DOS DOURADOS</td>\n",
              "      <td>MG</td>\n",
              "      <td>Minas Gerais</td>\n",
              "      <td>7006</td>\n",
              "      <td>0</td>\n",
              "      <td>SE</td>\n",
              "      <td>0.689</td>\n",
              "      <td>0.839</td>\n",
              "      <td>0.563</td>\n",
              "      <td>0.693</td>\n",
              "      <td>Aprovado</td>\n",
              "    </tr>\n",
              "    <tr>\n",
              "      <th>2</th>\n",
              "      <td>5200100</td>\n",
              "      <td>9201.0</td>\n",
              "      <td>Abadiânia</td>\n",
              "      <td>ABADIANIA</td>\n",
              "      <td>GO</td>\n",
              "      <td>Goiás</td>\n",
              "      <td>20461</td>\n",
              "      <td>0</td>\n",
              "      <td>CO</td>\n",
              "      <td>0.689</td>\n",
              "      <td>0.841</td>\n",
              "      <td>0.579</td>\n",
              "      <td>0.671</td>\n",
              "      <td>Năo Cadastrado</td>\n",
              "    </tr>\n",
              "    <tr>\n",
              "      <th>3</th>\n",
              "      <td>3100203</td>\n",
              "      <td>4003.0</td>\n",
              "      <td>Abaeté</td>\n",
              "      <td>ABAETE</td>\n",
              "      <td>MG</td>\n",
              "      <td>Minas Gerais</td>\n",
              "      <td>23250</td>\n",
              "      <td>0</td>\n",
              "      <td>SE</td>\n",
              "      <td>0.698</td>\n",
              "      <td>0.848</td>\n",
              "      <td>0.556</td>\n",
              "      <td>0.720</td>\n",
              "      <td>Aprovado</td>\n",
              "    </tr>\n",
              "    <tr>\n",
              "      <th>4</th>\n",
              "      <td>1500107</td>\n",
              "      <td>401.0</td>\n",
              "      <td>Abaetetuba</td>\n",
              "      <td>ABAETETUBA</td>\n",
              "      <td>PA</td>\n",
              "      <td>Pará</td>\n",
              "      <td>159080</td>\n",
              "      <td>0</td>\n",
              "      <td>N</td>\n",
              "      <td>0.628</td>\n",
              "      <td>0.798</td>\n",
              "      <td>0.537</td>\n",
              "      <td>0.579</td>\n",
              "      <td>Aprovado</td>\n",
              "    </tr>\n",
              "    <tr>\n",
              "      <th>...</th>\n",
              "      <td>...</td>\n",
              "      <td>...</td>\n",
              "      <td>...</td>\n",
              "      <td>...</td>\n",
              "      <td>...</td>\n",
              "      <td>...</td>\n",
              "      <td>...</td>\n",
              "      <td>...</td>\n",
              "      <td>...</td>\n",
              "      <td>...</td>\n",
              "      <td>...</td>\n",
              "      <td>...</td>\n",
              "      <td>...</td>\n",
              "      <td>...</td>\n",
              "    </tr>\n",
              "    <tr>\n",
              "      <th>5565</th>\n",
              "      <td>2933604</td>\n",
              "      <td>3971.0</td>\n",
              "      <td>Xique-Xique</td>\n",
              "      <td>XIQUE XIQUE</td>\n",
              "      <td>BA</td>\n",
              "      <td>Bahia</td>\n",
              "      <td>46523</td>\n",
              "      <td>0</td>\n",
              "      <td>NE</td>\n",
              "      <td>0.585</td>\n",
              "      <td>0.741</td>\n",
              "      <td>0.479</td>\n",
              "      <td>0.563</td>\n",
              "      <td>Aprovado</td>\n",
              "    </tr>\n",
              "    <tr>\n",
              "      <th>5566</th>\n",
              "      <td>2517407</td>\n",
              "      <td>542.0</td>\n",
              "      <td>Zabelê</td>\n",
              "      <td>ZABELE</td>\n",
              "      <td>PB</td>\n",
              "      <td>Paraíba</td>\n",
              "      <td>2255</td>\n",
              "      <td>0</td>\n",
              "      <td>NE</td>\n",
              "      <td>0.623</td>\n",
              "      <td>0.725</td>\n",
              "      <td>0.587</td>\n",
              "      <td>0.567</td>\n",
              "      <td>Aprovado</td>\n",
              "    </tr>\n",
              "    <tr>\n",
              "      <th>5567</th>\n",
              "      <td>3557154</td>\n",
              "      <td>2973.0</td>\n",
              "      <td>Zacarias</td>\n",
              "      <td>ZACARIAS</td>\n",
              "      <td>SP</td>\n",
              "      <td>Săo Paulo</td>\n",
              "      <td>2752</td>\n",
              "      <td>0</td>\n",
              "      <td>SE</td>\n",
              "      <td>0.729</td>\n",
              "      <td>0.826</td>\n",
              "      <td>0.674</td>\n",
              "      <td>0.695</td>\n",
              "      <td>Năo Cadastrado</td>\n",
              "    </tr>\n",
              "    <tr>\n",
              "      <th>5568</th>\n",
              "      <td>2114007</td>\n",
              "      <td>1287.0</td>\n",
              "      <td>Zé Doca</td>\n",
              "      <td>ZE DOCA</td>\n",
              "      <td>MA</td>\n",
              "      <td>Maranhăo</td>\n",
              "      <td>51956</td>\n",
              "      <td>0</td>\n",
              "      <td>NE</td>\n",
              "      <td>0.595</td>\n",
              "      <td>0.745</td>\n",
              "      <td>0.505</td>\n",
              "      <td>0.559</td>\n",
              "      <td>Năo Cadastrado</td>\n",
              "    </tr>\n",
              "    <tr>\n",
              "      <th>5569</th>\n",
              "      <td>4219853</td>\n",
              "      <td>950.0</td>\n",
              "      <td>Zortéa</td>\n",
              "      <td>ZORTEA</td>\n",
              "      <td>SC</td>\n",
              "      <td>Santa Catarina</td>\n",
              "      <td>3398</td>\n",
              "      <td>0</td>\n",
              "      <td>S</td>\n",
              "      <td>0.761</td>\n",
              "      <td>0.885</td>\n",
              "      <td>0.661</td>\n",
              "      <td>0.752</td>\n",
              "      <td>Aprovado</td>\n",
              "    </tr>\n",
              "  </tbody>\n",
              "</table>\n",
              "<p>5570 rows × 14 columns</p>\n",
              "</div>"
            ],
            "text/plain": [
              "      COD_IBGE  COD_SIAFI  ... IDHM_LONGEVIDADE        SITUACAO\n",
              "0      5200050     1050.0  ...            0.687  Năo Cadastrado\n",
              "1      3100104     4001.0  ...            0.693        Aprovado\n",
              "2      5200100     9201.0  ...            0.671  Năo Cadastrado\n",
              "3      3100203     4003.0  ...            0.720        Aprovado\n",
              "4      1500107      401.0  ...            0.579        Aprovado\n",
              "...        ...        ...  ...              ...             ...\n",
              "5565   2933604     3971.0  ...            0.563        Aprovado\n",
              "5566   2517407      542.0  ...            0.567        Aprovado\n",
              "5567   3557154     2973.0  ...            0.695  Năo Cadastrado\n",
              "5568   2114007     1287.0  ...            0.559  Năo Cadastrado\n",
              "5569   4219853      950.0  ...            0.752        Aprovado\n",
              "\n",
              "[5570 rows x 14 columns]"
            ]
          },
          "metadata": {},
          "execution_count": 56
        }
      ]
    },
    {
      "cell_type": "markdown",
      "metadata": {
        "id": "6ZUPa-Z2AlZF"
      },
      "source": [
        "Importação de dados com a execução dos Municípios da Lei Aldir Blanc\n"
      ]
    },
    {
      "cell_type": "code",
      "metadata": {
        "colab": {
          "base_uri": "https://localhost:8080/",
          "height": 424
        },
        "id": "4e977tM1e15M",
        "outputId": "3c392d9f-bf47-43a5-c1da-68fd2dffb72d"
      },
      "source": [
        "execucao = pd.read_csv(\"https://raw.githubusercontent.com/SergioaA64/SergioaA64/main/EXECUCAO.csv\", encoding = \"iso8859_16\", sep =\";\", na_values=0)\n",
        "\n",
        "\n",
        "execucao\n"
      ],
      "execution_count": 57,
      "outputs": [
        {
          "output_type": "execute_result",
          "data": {
            "text/html": [
              "<div>\n",
              "<style scoped>\n",
              "    .dataframe tbody tr th:only-of-type {\n",
              "        vertical-align: middle;\n",
              "    }\n",
              "\n",
              "    .dataframe tbody tr th {\n",
              "        vertical-align: top;\n",
              "    }\n",
              "\n",
              "    .dataframe thead th {\n",
              "        text-align: right;\n",
              "    }\n",
              "</style>\n",
              "<table border=\"1\" class=\"dataframe\">\n",
              "  <thead>\n",
              "    <tr style=\"text-align: right;\">\n",
              "      <th></th>\n",
              "      <th>UF</th>\n",
              "      <th>MUNICIPIOS</th>\n",
              "      <th>TRANSFERIDO</th>\n",
              "      <th>SALDO_CONTA</th>\n",
              "      <th>PORCENT_SALDO</th>\n",
              "      <th>PORCENT_EXECUTADO</th>\n",
              "    </tr>\n",
              "  </thead>\n",
              "  <tbody>\n",
              "    <tr>\n",
              "      <th>0</th>\n",
              "      <td>MG</td>\n",
              "      <td>ABADIA DOS DOURADOS</td>\n",
              "      <td>65849.20</td>\n",
              "      <td>14.11</td>\n",
              "      <td>0.00021427747034132534</td>\n",
              "      <td>0.999786</td>\n",
              "    </tr>\n",
              "    <tr>\n",
              "      <th>1</th>\n",
              "      <td>MG</td>\n",
              "      <td>ABAETE</td>\n",
              "      <td>184561.08</td>\n",
              "      <td>20.15</td>\n",
              "      <td>0.0001091779480267454</td>\n",
              "      <td>0.999891</td>\n",
              "    </tr>\n",
              "    <tr>\n",
              "      <th>2</th>\n",
              "      <td>PA</td>\n",
              "      <td>ABAETETUBA</td>\n",
              "      <td>1135508.09</td>\n",
              "      <td>1.23</td>\n",
              "      <td>0.0000010832155321764373</td>\n",
              "      <td>0.999999</td>\n",
              "    </tr>\n",
              "    <tr>\n",
              "      <th>3</th>\n",
              "      <td>CE</td>\n",
              "      <td>ABAIARA</td>\n",
              "      <td>102603.05</td>\n",
              "      <td>103302.04</td>\n",
              "      <td>10.068.125.655.134.000</td>\n",
              "      <td>NaN</td>\n",
              "    </tr>\n",
              "    <tr>\n",
              "      <th>4</th>\n",
              "      <td>BA</td>\n",
              "      <td>ABAIRA</td>\n",
              "      <td>76839.48</td>\n",
              "      <td>NaN</td>\n",
              "      <td>NaN</td>\n",
              "      <td>1.000000</td>\n",
              "    </tr>\n",
              "    <tr>\n",
              "      <th>...</th>\n",
              "      <td>...</td>\n",
              "      <td>...</td>\n",
              "      <td>...</td>\n",
              "      <td>...</td>\n",
              "      <td>...</td>\n",
              "      <td>...</td>\n",
              "    </tr>\n",
              "    <tr>\n",
              "      <th>4144</th>\n",
              "      <td>PE</td>\n",
              "      <td>XEXEU</td>\n",
              "      <td>129070.44</td>\n",
              "      <td>7577.88</td>\n",
              "      <td>0.05871119676976386</td>\n",
              "      <td>0.941289</td>\n",
              "    </tr>\n",
              "    <tr>\n",
              "      <th>4145</th>\n",
              "      <td>PA</td>\n",
              "      <td>XINGUARA</td>\n",
              "      <td>323115.91</td>\n",
              "      <td>83705.09</td>\n",
              "      <td>0.25905592206833766</td>\n",
              "      <td>0.740944</td>\n",
              "    </tr>\n",
              "    <tr>\n",
              "      <th>4146</th>\n",
              "      <td>BA</td>\n",
              "      <td>XIQUE XIQUE</td>\n",
              "      <td>355168.07</td>\n",
              "      <td>82.88</td>\n",
              "      <td>0.0002333543102565498</td>\n",
              "      <td>0.999767</td>\n",
              "    </tr>\n",
              "    <tr>\n",
              "      <th>4147</th>\n",
              "      <td>PB</td>\n",
              "      <td>ZABELE</td>\n",
              "      <td>38501.21</td>\n",
              "      <td>11.93</td>\n",
              "      <td>0.00030986039140068586</td>\n",
              "      <td>0.999690</td>\n",
              "    </tr>\n",
              "    <tr>\n",
              "      <th>4148</th>\n",
              "      <td>SC</td>\n",
              "      <td>ZORTEA</td>\n",
              "      <td>40913.53</td>\n",
              "      <td>309.54</td>\n",
              "      <td>0.007565712369477775</td>\n",
              "      <td>0.992434</td>\n",
              "    </tr>\n",
              "  </tbody>\n",
              "</table>\n",
              "<p>4149 rows × 6 columns</p>\n",
              "</div>"
            ],
            "text/plain": [
              "      UF           MUNICIPIOS  ...             PORCENT_SALDO  PORCENT_EXECUTADO\n",
              "0     MG  ABADIA DOS DOURADOS  ...    0.00021427747034132534           0.999786\n",
              "1     MG               ABAETE  ...     0.0001091779480267454           0.999891\n",
              "2     PA           ABAETETUBA  ...  0.0000010832155321764373           0.999999\n",
              "3     CE              ABAIARA  ...    10.068.125.655.134.000                NaN\n",
              "4     BA               ABAIRA  ...                       NaN           1.000000\n",
              "...   ..                  ...  ...                       ...                ...\n",
              "4144  PE                XEXEU  ...       0.05871119676976386           0.941289\n",
              "4145  PA             XINGUARA  ...       0.25905592206833766           0.740944\n",
              "4146  BA          XIQUE XIQUE  ...     0.0002333543102565498           0.999767\n",
              "4147  PB               ZABELE  ...    0.00030986039140068586           0.999690\n",
              "4148  SC               ZORTEA  ...      0.007565712369477775           0.992434\n",
              "\n",
              "[4149 rows x 6 columns]"
            ]
          },
          "metadata": {},
          "execution_count": 57
        }
      ]
    },
    {
      "cell_type": "code",
      "metadata": {
        "id": "qmehHKUSN57S",
        "colab": {
          "base_uri": "https://localhost:8080/",
          "height": 496
        },
        "outputId": "f8189fb5-3c47-405e-c8d6-082d36275d23"
      },
      "source": [
        "# Mesclar tabelas, criar novas colunas que serão importantes para a análise\n",
        "# Notar que as tabelas têm diferentes números de registros, pois nem todos os municípios aderiram ao Programa.\n",
        "\n",
        "dados = pd.merge(execucao, ibge, left_on='MUNICIPIOS', right_on='NOME_SIMPLIFICADO', how='inner')\n",
        "\n",
        "dados['ValorMedioHab'] = dados['TRANSFERIDO'] / dados['POP_EST_2020']\n",
        "dados.drop(['COD_SIAFI', 'NOME_ENTE'], inplace=True, axis=1)\n",
        "dados\n"
      ],
      "execution_count": 58,
      "outputs": [
        {
          "output_type": "execute_result",
          "data": {
            "text/html": [
              "<div>\n",
              "<style scoped>\n",
              "    .dataframe tbody tr th:only-of-type {\n",
              "        vertical-align: middle;\n",
              "    }\n",
              "\n",
              "    .dataframe tbody tr th {\n",
              "        vertical-align: top;\n",
              "    }\n",
              "\n",
              "    .dataframe thead th {\n",
              "        text-align: right;\n",
              "    }\n",
              "</style>\n",
              "<table border=\"1\" class=\"dataframe\">\n",
              "  <thead>\n",
              "    <tr style=\"text-align: right;\">\n",
              "      <th></th>\n",
              "      <th>UF</th>\n",
              "      <th>MUNICIPIOS</th>\n",
              "      <th>TRANSFERIDO</th>\n",
              "      <th>SALDO_CONTA</th>\n",
              "      <th>PORCENT_SALDO</th>\n",
              "      <th>PORCENT_EXECUTADO</th>\n",
              "      <th>COD_IBGE</th>\n",
              "      <th>NOME_SIMPLIFICADO</th>\n",
              "      <th>SIGLA_UF</th>\n",
              "      <th>NOME_UF</th>\n",
              "      <th>POP_EST_2020</th>\n",
              "      <th>CAPITAL</th>\n",
              "      <th>REGIAO</th>\n",
              "      <th>IDHM</th>\n",
              "      <th>IDHM_RENDA</th>\n",
              "      <th>IDHM_EDUCACAO</th>\n",
              "      <th>IDHM_LONGEVIDADE</th>\n",
              "      <th>SITUACAO</th>\n",
              "      <th>ValorMedioHab</th>\n",
              "    </tr>\n",
              "  </thead>\n",
              "  <tbody>\n",
              "    <tr>\n",
              "      <th>0</th>\n",
              "      <td>MG</td>\n",
              "      <td>ABADIA DOS DOURADOS</td>\n",
              "      <td>65849.20</td>\n",
              "      <td>14.11</td>\n",
              "      <td>0.00021427747034132534</td>\n",
              "      <td>0.999786</td>\n",
              "      <td>3100104</td>\n",
              "      <td>ABADIA DOS DOURADOS</td>\n",
              "      <td>MG</td>\n",
              "      <td>Minas Gerais</td>\n",
              "      <td>7006</td>\n",
              "      <td>0</td>\n",
              "      <td>SE</td>\n",
              "      <td>0.689</td>\n",
              "      <td>0.839</td>\n",
              "      <td>0.563</td>\n",
              "      <td>0.693</td>\n",
              "      <td>Aprovado</td>\n",
              "      <td>9.398972</td>\n",
              "    </tr>\n",
              "    <tr>\n",
              "      <th>1</th>\n",
              "      <td>MG</td>\n",
              "      <td>ABAETE</td>\n",
              "      <td>184561.08</td>\n",
              "      <td>20.15</td>\n",
              "      <td>0.0001091779480267454</td>\n",
              "      <td>0.999891</td>\n",
              "      <td>3100203</td>\n",
              "      <td>ABAETE</td>\n",
              "      <td>MG</td>\n",
              "      <td>Minas Gerais</td>\n",
              "      <td>23250</td>\n",
              "      <td>0</td>\n",
              "      <td>SE</td>\n",
              "      <td>0.698</td>\n",
              "      <td>0.848</td>\n",
              "      <td>0.556</td>\n",
              "      <td>0.720</td>\n",
              "      <td>Aprovado</td>\n",
              "      <td>7.938111</td>\n",
              "    </tr>\n",
              "    <tr>\n",
              "      <th>2</th>\n",
              "      <td>PA</td>\n",
              "      <td>ABAETETUBA</td>\n",
              "      <td>1135508.09</td>\n",
              "      <td>1.23</td>\n",
              "      <td>0.0000010832155321764373</td>\n",
              "      <td>0.999999</td>\n",
              "      <td>1500107</td>\n",
              "      <td>ABAETETUBA</td>\n",
              "      <td>PA</td>\n",
              "      <td>Pará</td>\n",
              "      <td>159080</td>\n",
              "      <td>0</td>\n",
              "      <td>N</td>\n",
              "      <td>0.628</td>\n",
              "      <td>0.798</td>\n",
              "      <td>0.537</td>\n",
              "      <td>0.579</td>\n",
              "      <td>Aprovado</td>\n",
              "      <td>7.137969</td>\n",
              "    </tr>\n",
              "    <tr>\n",
              "      <th>3</th>\n",
              "      <td>CE</td>\n",
              "      <td>ABAIARA</td>\n",
              "      <td>102603.05</td>\n",
              "      <td>103302.04</td>\n",
              "      <td>10.068.125.655.134.000</td>\n",
              "      <td>NaN</td>\n",
              "      <td>2300101</td>\n",
              "      <td>ABAIARA</td>\n",
              "      <td>CE</td>\n",
              "      <td>Ceará</td>\n",
              "      <td>11853</td>\n",
              "      <td>0</td>\n",
              "      <td>NE</td>\n",
              "      <td>0.628</td>\n",
              "      <td>0.748</td>\n",
              "      <td>0.612</td>\n",
              "      <td>0.540</td>\n",
              "      <td>Aprovado</td>\n",
              "      <td>8.656294</td>\n",
              "    </tr>\n",
              "    <tr>\n",
              "      <th>4</th>\n",
              "      <td>BA</td>\n",
              "      <td>ABAIRA</td>\n",
              "      <td>76839.48</td>\n",
              "      <td>NaN</td>\n",
              "      <td>NaN</td>\n",
              "      <td>1.000000</td>\n",
              "      <td>2900108</td>\n",
              "      <td>ABAIRA</td>\n",
              "      <td>BA</td>\n",
              "      <td>Bahia</td>\n",
              "      <td>8710</td>\n",
              "      <td>0</td>\n",
              "      <td>NE</td>\n",
              "      <td>0.603</td>\n",
              "      <td>0.746</td>\n",
              "      <td>0.510</td>\n",
              "      <td>0.577</td>\n",
              "      <td>Aprovado</td>\n",
              "      <td>8.821984</td>\n",
              "    </tr>\n",
              "    <tr>\n",
              "      <th>...</th>\n",
              "      <td>...</td>\n",
              "      <td>...</td>\n",
              "      <td>...</td>\n",
              "      <td>...</td>\n",
              "      <td>...</td>\n",
              "      <td>...</td>\n",
              "      <td>...</td>\n",
              "      <td>...</td>\n",
              "      <td>...</td>\n",
              "      <td>...</td>\n",
              "      <td>...</td>\n",
              "      <td>...</td>\n",
              "      <td>...</td>\n",
              "      <td>...</td>\n",
              "      <td>...</td>\n",
              "      <td>...</td>\n",
              "      <td>...</td>\n",
              "      <td>...</td>\n",
              "      <td>...</td>\n",
              "    </tr>\n",
              "    <tr>\n",
              "      <th>4634</th>\n",
              "      <td>PE</td>\n",
              "      <td>XEXEU</td>\n",
              "      <td>129070.44</td>\n",
              "      <td>7577.88</td>\n",
              "      <td>0.05871119676976386</td>\n",
              "      <td>0.941289</td>\n",
              "      <td>2616506</td>\n",
              "      <td>XEXEU</td>\n",
              "      <td>PE</td>\n",
              "      <td>Pernambuco</td>\n",
              "      <td>14757</td>\n",
              "      <td>0</td>\n",
              "      <td>NE</td>\n",
              "      <td>0.552</td>\n",
              "      <td>0.703</td>\n",
              "      <td>0.436</td>\n",
              "      <td>0.549</td>\n",
              "      <td>Aprovado</td>\n",
              "      <td>8.746387</td>\n",
              "    </tr>\n",
              "    <tr>\n",
              "      <th>4635</th>\n",
              "      <td>PA</td>\n",
              "      <td>XINGUARA</td>\n",
              "      <td>323115.91</td>\n",
              "      <td>83705.09</td>\n",
              "      <td>0.25905592206833766</td>\n",
              "      <td>0.740944</td>\n",
              "      <td>1508407</td>\n",
              "      <td>XINGUARA</td>\n",
              "      <td>PA</td>\n",
              "      <td>Pará</td>\n",
              "      <td>45086</td>\n",
              "      <td>0</td>\n",
              "      <td>N</td>\n",
              "      <td>0.646</td>\n",
              "      <td>0.800</td>\n",
              "      <td>0.503</td>\n",
              "      <td>0.671</td>\n",
              "      <td>Aprovado</td>\n",
              "      <td>7.166657</td>\n",
              "    </tr>\n",
              "    <tr>\n",
              "      <th>4636</th>\n",
              "      <td>BA</td>\n",
              "      <td>XIQUE XIQUE</td>\n",
              "      <td>355168.07</td>\n",
              "      <td>82.88</td>\n",
              "      <td>0.0002333543102565498</td>\n",
              "      <td>0.999767</td>\n",
              "      <td>2933604</td>\n",
              "      <td>XIQUE XIQUE</td>\n",
              "      <td>BA</td>\n",
              "      <td>Bahia</td>\n",
              "      <td>46523</td>\n",
              "      <td>0</td>\n",
              "      <td>NE</td>\n",
              "      <td>0.585</td>\n",
              "      <td>0.741</td>\n",
              "      <td>0.479</td>\n",
              "      <td>0.563</td>\n",
              "      <td>Aprovado</td>\n",
              "      <td>7.634247</td>\n",
              "    </tr>\n",
              "    <tr>\n",
              "      <th>4637</th>\n",
              "      <td>PB</td>\n",
              "      <td>ZABELE</td>\n",
              "      <td>38501.21</td>\n",
              "      <td>11.93</td>\n",
              "      <td>0.00030986039140068586</td>\n",
              "      <td>0.999690</td>\n",
              "      <td>2517407</td>\n",
              "      <td>ZABELE</td>\n",
              "      <td>PB</td>\n",
              "      <td>Paraíba</td>\n",
              "      <td>2255</td>\n",
              "      <td>0</td>\n",
              "      <td>NE</td>\n",
              "      <td>0.623</td>\n",
              "      <td>0.725</td>\n",
              "      <td>0.587</td>\n",
              "      <td>0.567</td>\n",
              "      <td>Aprovado</td>\n",
              "      <td>17.073707</td>\n",
              "    </tr>\n",
              "    <tr>\n",
              "      <th>4638</th>\n",
              "      <td>SC</td>\n",
              "      <td>ZORTEA</td>\n",
              "      <td>40913.53</td>\n",
              "      <td>309.54</td>\n",
              "      <td>0.007565712369477775</td>\n",
              "      <td>0.992434</td>\n",
              "      <td>4219853</td>\n",
              "      <td>ZORTEA</td>\n",
              "      <td>SC</td>\n",
              "      <td>Santa Catarina</td>\n",
              "      <td>3398</td>\n",
              "      <td>0</td>\n",
              "      <td>S</td>\n",
              "      <td>0.761</td>\n",
              "      <td>0.885</td>\n",
              "      <td>0.661</td>\n",
              "      <td>0.752</td>\n",
              "      <td>Aprovado</td>\n",
              "      <td>12.040474</td>\n",
              "    </tr>\n",
              "  </tbody>\n",
              "</table>\n",
              "<p>4639 rows × 19 columns</p>\n",
              "</div>"
            ],
            "text/plain": [
              "      UF           MUNICIPIOS  ...  SITUACAO  ValorMedioHab\n",
              "0     MG  ABADIA DOS DOURADOS  ...  Aprovado       9.398972\n",
              "1     MG               ABAETE  ...  Aprovado       7.938111\n",
              "2     PA           ABAETETUBA  ...  Aprovado       7.137969\n",
              "3     CE              ABAIARA  ...  Aprovado       8.656294\n",
              "4     BA               ABAIRA  ...  Aprovado       8.821984\n",
              "...   ..                  ...  ...       ...            ...\n",
              "4634  PE                XEXEU  ...  Aprovado       8.746387\n",
              "4635  PA             XINGUARA  ...  Aprovado       7.166657\n",
              "4636  BA          XIQUE XIQUE  ...  Aprovado       7.634247\n",
              "4637  PB               ZABELE  ...  Aprovado      17.073707\n",
              "4638  SC               ZORTEA  ...  Aprovado      12.040474\n",
              "\n",
              "[4639 rows x 19 columns]"
            ]
          },
          "metadata": {},
          "execution_count": 58
        }
      ]
    },
    {
      "cell_type": "markdown",
      "metadata": {
        "id": "EE8UMxItkqu2"
      },
      "source": [
        "Informações Gerais sobre os dados"
      ]
    },
    {
      "cell_type": "markdown",
      "metadata": {
        "id": "vdMAeD0TnpsJ"
      },
      "source": [
        "A base de dados contém informações dos 4639 municípios brasileiros que foram beneficiados com o Auxilio emergengial da cultura. A base \"ibge\" contém informações de todos os 5570 municípios.\n",
        "\n",
        "Temos 19 variáveis, com as seguintes características:\n",
        "\n",
        "\n",
        "  -  10 variáveis qualitativas nominais: 'UF'; 'Muicipios'; 'Cod_IBGE\"; 'Nome_Simplificado'; \"Sigla_UF', 'Nome_UF'; ‘CodigoMunicípio’; 'Município'; 'Estado'; 'Regiao'.\n",
        "    \n",
        "  -  1 variável quantitativa discreta: , 'Capital'.\n",
        "\n",
        "  - 9 variáveis quantitativas contínuas: 'Saldo_Conta', 'Porcent_Saldo', Porcent_Executado', 'Pop_Est_2020'; 'IDHM'; 'IDHM_RENDA'; 'IDHM_EDUCACAO'; 'IDHM_LONGEVIDADE'; 'ValorMedioHab'.\n",
        "\n",
        "Obs: Cada linha corresponde a um município.\n",
        "\n",
        "Obs2: Os dados de valores transferidos aos municípios são de agosto de 2021, o que pode distorcer algumas conclusões.\n"
      ]
    },
    {
      "cell_type": "markdown",
      "metadata": {
        "id": "YGg9LhGXIK4a"
      },
      "source": [
        "1 - Avaliação do valor transferido ao Município por Habitante"
      ]
    },
    {
      "cell_type": "code",
      "metadata": {
        "colab": {
          "base_uri": "https://localhost:8080/",
          "height": 261
        },
        "id": "E1pxLo5aI4cX",
        "outputId": "2d3080d8-ba80-4b2c-8b78-22257e6c2f71"
      },
      "source": [
        "# refazendo o índice dos dados\n",
        "dados = dados.reindex()\n",
        "\n",
        "# descricao dos dados com informações dos valores transferidos, população e valor transferido por habitante\n",
        "dados.head()\n",
        "\n",
        "\n"
      ],
      "execution_count": 59,
      "outputs": [
        {
          "output_type": "execute_result",
          "data": {
            "text/html": [
              "<div>\n",
              "<style scoped>\n",
              "    .dataframe tbody tr th:only-of-type {\n",
              "        vertical-align: middle;\n",
              "    }\n",
              "\n",
              "    .dataframe tbody tr th {\n",
              "        vertical-align: top;\n",
              "    }\n",
              "\n",
              "    .dataframe thead th {\n",
              "        text-align: right;\n",
              "    }\n",
              "</style>\n",
              "<table border=\"1\" class=\"dataframe\">\n",
              "  <thead>\n",
              "    <tr style=\"text-align: right;\">\n",
              "      <th></th>\n",
              "      <th>UF</th>\n",
              "      <th>MUNICIPIOS</th>\n",
              "      <th>TRANSFERIDO</th>\n",
              "      <th>SALDO_CONTA</th>\n",
              "      <th>PORCENT_SALDO</th>\n",
              "      <th>PORCENT_EXECUTADO</th>\n",
              "      <th>COD_IBGE</th>\n",
              "      <th>NOME_SIMPLIFICADO</th>\n",
              "      <th>SIGLA_UF</th>\n",
              "      <th>NOME_UF</th>\n",
              "      <th>POP_EST_2020</th>\n",
              "      <th>CAPITAL</th>\n",
              "      <th>REGIAO</th>\n",
              "      <th>IDHM</th>\n",
              "      <th>IDHM_RENDA</th>\n",
              "      <th>IDHM_EDUCACAO</th>\n",
              "      <th>IDHM_LONGEVIDADE</th>\n",
              "      <th>SITUACAO</th>\n",
              "      <th>ValorMedioHab</th>\n",
              "    </tr>\n",
              "  </thead>\n",
              "  <tbody>\n",
              "    <tr>\n",
              "      <th>0</th>\n",
              "      <td>MG</td>\n",
              "      <td>ABADIA DOS DOURADOS</td>\n",
              "      <td>65849.20</td>\n",
              "      <td>14.11</td>\n",
              "      <td>0.00021427747034132534</td>\n",
              "      <td>0.999786</td>\n",
              "      <td>3100104</td>\n",
              "      <td>ABADIA DOS DOURADOS</td>\n",
              "      <td>MG</td>\n",
              "      <td>Minas Gerais</td>\n",
              "      <td>7006</td>\n",
              "      <td>0</td>\n",
              "      <td>SE</td>\n",
              "      <td>0.689</td>\n",
              "      <td>0.839</td>\n",
              "      <td>0.563</td>\n",
              "      <td>0.693</td>\n",
              "      <td>Aprovado</td>\n",
              "      <td>9.398972</td>\n",
              "    </tr>\n",
              "    <tr>\n",
              "      <th>1</th>\n",
              "      <td>MG</td>\n",
              "      <td>ABAETE</td>\n",
              "      <td>184561.08</td>\n",
              "      <td>20.15</td>\n",
              "      <td>0.0001091779480267454</td>\n",
              "      <td>0.999891</td>\n",
              "      <td>3100203</td>\n",
              "      <td>ABAETE</td>\n",
              "      <td>MG</td>\n",
              "      <td>Minas Gerais</td>\n",
              "      <td>23250</td>\n",
              "      <td>0</td>\n",
              "      <td>SE</td>\n",
              "      <td>0.698</td>\n",
              "      <td>0.848</td>\n",
              "      <td>0.556</td>\n",
              "      <td>0.720</td>\n",
              "      <td>Aprovado</td>\n",
              "      <td>7.938111</td>\n",
              "    </tr>\n",
              "    <tr>\n",
              "      <th>2</th>\n",
              "      <td>PA</td>\n",
              "      <td>ABAETETUBA</td>\n",
              "      <td>1135508.09</td>\n",
              "      <td>1.23</td>\n",
              "      <td>0.0000010832155321764373</td>\n",
              "      <td>0.999999</td>\n",
              "      <td>1500107</td>\n",
              "      <td>ABAETETUBA</td>\n",
              "      <td>PA</td>\n",
              "      <td>Pará</td>\n",
              "      <td>159080</td>\n",
              "      <td>0</td>\n",
              "      <td>N</td>\n",
              "      <td>0.628</td>\n",
              "      <td>0.798</td>\n",
              "      <td>0.537</td>\n",
              "      <td>0.579</td>\n",
              "      <td>Aprovado</td>\n",
              "      <td>7.137969</td>\n",
              "    </tr>\n",
              "    <tr>\n",
              "      <th>3</th>\n",
              "      <td>CE</td>\n",
              "      <td>ABAIARA</td>\n",
              "      <td>102603.05</td>\n",
              "      <td>103302.04</td>\n",
              "      <td>10.068.125.655.134.000</td>\n",
              "      <td>NaN</td>\n",
              "      <td>2300101</td>\n",
              "      <td>ABAIARA</td>\n",
              "      <td>CE</td>\n",
              "      <td>Ceará</td>\n",
              "      <td>11853</td>\n",
              "      <td>0</td>\n",
              "      <td>NE</td>\n",
              "      <td>0.628</td>\n",
              "      <td>0.748</td>\n",
              "      <td>0.612</td>\n",
              "      <td>0.540</td>\n",
              "      <td>Aprovado</td>\n",
              "      <td>8.656294</td>\n",
              "    </tr>\n",
              "    <tr>\n",
              "      <th>4</th>\n",
              "      <td>BA</td>\n",
              "      <td>ABAIRA</td>\n",
              "      <td>76839.48</td>\n",
              "      <td>NaN</td>\n",
              "      <td>NaN</td>\n",
              "      <td>1.000000</td>\n",
              "      <td>2900108</td>\n",
              "      <td>ABAIRA</td>\n",
              "      <td>BA</td>\n",
              "      <td>Bahia</td>\n",
              "      <td>8710</td>\n",
              "      <td>0</td>\n",
              "      <td>NE</td>\n",
              "      <td>0.603</td>\n",
              "      <td>0.746</td>\n",
              "      <td>0.510</td>\n",
              "      <td>0.577</td>\n",
              "      <td>Aprovado</td>\n",
              "      <td>8.821984</td>\n",
              "    </tr>\n",
              "  </tbody>\n",
              "</table>\n",
              "</div>"
            ],
            "text/plain": [
              "   UF           MUNICIPIOS  ...  SITUACAO  ValorMedioHab\n",
              "0  MG  ABADIA DOS DOURADOS  ...  Aprovado       9.398972\n",
              "1  MG               ABAETE  ...  Aprovado       7.938111\n",
              "2  PA           ABAETETUBA  ...  Aprovado       7.137969\n",
              "3  CE              ABAIARA  ...  Aprovado       8.656294\n",
              "4  BA               ABAIRA  ...  Aprovado       8.821984\n",
              "\n",
              "[5 rows x 19 columns]"
            ]
          },
          "metadata": {},
          "execution_count": 59
        }
      ]
    },
    {
      "cell_type": "code",
      "metadata": {
        "colab": {
          "base_uri": "https://localhost:8080/",
          "height": 496
        },
        "id": "o4R2US101zJw",
        "outputId": "86da33c8-3904-430d-f96c-7f1d5dfb2c68"
      },
      "source": [
        "# Média dos valores transferidos ao Município, por Habitante\n",
        "dados.groupby([\"REGIAO\"])[\"ValorMedioHab\"]\n",
        "dados['ValorMedioHab'] = dados['TRANSFERIDO'] / dados['POP_EST_2020']\n",
        "dados"
      ],
      "execution_count": 60,
      "outputs": [
        {
          "output_type": "execute_result",
          "data": {
            "text/html": [
              "<div>\n",
              "<style scoped>\n",
              "    .dataframe tbody tr th:only-of-type {\n",
              "        vertical-align: middle;\n",
              "    }\n",
              "\n",
              "    .dataframe tbody tr th {\n",
              "        vertical-align: top;\n",
              "    }\n",
              "\n",
              "    .dataframe thead th {\n",
              "        text-align: right;\n",
              "    }\n",
              "</style>\n",
              "<table border=\"1\" class=\"dataframe\">\n",
              "  <thead>\n",
              "    <tr style=\"text-align: right;\">\n",
              "      <th></th>\n",
              "      <th>UF</th>\n",
              "      <th>MUNICIPIOS</th>\n",
              "      <th>TRANSFERIDO</th>\n",
              "      <th>SALDO_CONTA</th>\n",
              "      <th>PORCENT_SALDO</th>\n",
              "      <th>PORCENT_EXECUTADO</th>\n",
              "      <th>COD_IBGE</th>\n",
              "      <th>NOME_SIMPLIFICADO</th>\n",
              "      <th>SIGLA_UF</th>\n",
              "      <th>NOME_UF</th>\n",
              "      <th>POP_EST_2020</th>\n",
              "      <th>CAPITAL</th>\n",
              "      <th>REGIAO</th>\n",
              "      <th>IDHM</th>\n",
              "      <th>IDHM_RENDA</th>\n",
              "      <th>IDHM_EDUCACAO</th>\n",
              "      <th>IDHM_LONGEVIDADE</th>\n",
              "      <th>SITUACAO</th>\n",
              "      <th>ValorMedioHab</th>\n",
              "    </tr>\n",
              "  </thead>\n",
              "  <tbody>\n",
              "    <tr>\n",
              "      <th>0</th>\n",
              "      <td>MG</td>\n",
              "      <td>ABADIA DOS DOURADOS</td>\n",
              "      <td>65849.20</td>\n",
              "      <td>14.11</td>\n",
              "      <td>0.00021427747034132534</td>\n",
              "      <td>0.999786</td>\n",
              "      <td>3100104</td>\n",
              "      <td>ABADIA DOS DOURADOS</td>\n",
              "      <td>MG</td>\n",
              "      <td>Minas Gerais</td>\n",
              "      <td>7006</td>\n",
              "      <td>0</td>\n",
              "      <td>SE</td>\n",
              "      <td>0.689</td>\n",
              "      <td>0.839</td>\n",
              "      <td>0.563</td>\n",
              "      <td>0.693</td>\n",
              "      <td>Aprovado</td>\n",
              "      <td>9.398972</td>\n",
              "    </tr>\n",
              "    <tr>\n",
              "      <th>1</th>\n",
              "      <td>MG</td>\n",
              "      <td>ABAETE</td>\n",
              "      <td>184561.08</td>\n",
              "      <td>20.15</td>\n",
              "      <td>0.0001091779480267454</td>\n",
              "      <td>0.999891</td>\n",
              "      <td>3100203</td>\n",
              "      <td>ABAETE</td>\n",
              "      <td>MG</td>\n",
              "      <td>Minas Gerais</td>\n",
              "      <td>23250</td>\n",
              "      <td>0</td>\n",
              "      <td>SE</td>\n",
              "      <td>0.698</td>\n",
              "      <td>0.848</td>\n",
              "      <td>0.556</td>\n",
              "      <td>0.720</td>\n",
              "      <td>Aprovado</td>\n",
              "      <td>7.938111</td>\n",
              "    </tr>\n",
              "    <tr>\n",
              "      <th>2</th>\n",
              "      <td>PA</td>\n",
              "      <td>ABAETETUBA</td>\n",
              "      <td>1135508.09</td>\n",
              "      <td>1.23</td>\n",
              "      <td>0.0000010832155321764373</td>\n",
              "      <td>0.999999</td>\n",
              "      <td>1500107</td>\n",
              "      <td>ABAETETUBA</td>\n",
              "      <td>PA</td>\n",
              "      <td>Pará</td>\n",
              "      <td>159080</td>\n",
              "      <td>0</td>\n",
              "      <td>N</td>\n",
              "      <td>0.628</td>\n",
              "      <td>0.798</td>\n",
              "      <td>0.537</td>\n",
              "      <td>0.579</td>\n",
              "      <td>Aprovado</td>\n",
              "      <td>7.137969</td>\n",
              "    </tr>\n",
              "    <tr>\n",
              "      <th>3</th>\n",
              "      <td>CE</td>\n",
              "      <td>ABAIARA</td>\n",
              "      <td>102603.05</td>\n",
              "      <td>103302.04</td>\n",
              "      <td>10.068.125.655.134.000</td>\n",
              "      <td>NaN</td>\n",
              "      <td>2300101</td>\n",
              "      <td>ABAIARA</td>\n",
              "      <td>CE</td>\n",
              "      <td>Ceará</td>\n",
              "      <td>11853</td>\n",
              "      <td>0</td>\n",
              "      <td>NE</td>\n",
              "      <td>0.628</td>\n",
              "      <td>0.748</td>\n",
              "      <td>0.612</td>\n",
              "      <td>0.540</td>\n",
              "      <td>Aprovado</td>\n",
              "      <td>8.656294</td>\n",
              "    </tr>\n",
              "    <tr>\n",
              "      <th>4</th>\n",
              "      <td>BA</td>\n",
              "      <td>ABAIRA</td>\n",
              "      <td>76839.48</td>\n",
              "      <td>NaN</td>\n",
              "      <td>NaN</td>\n",
              "      <td>1.000000</td>\n",
              "      <td>2900108</td>\n",
              "      <td>ABAIRA</td>\n",
              "      <td>BA</td>\n",
              "      <td>Bahia</td>\n",
              "      <td>8710</td>\n",
              "      <td>0</td>\n",
              "      <td>NE</td>\n",
              "      <td>0.603</td>\n",
              "      <td>0.746</td>\n",
              "      <td>0.510</td>\n",
              "      <td>0.577</td>\n",
              "      <td>Aprovado</td>\n",
              "      <td>8.821984</td>\n",
              "    </tr>\n",
              "    <tr>\n",
              "      <th>...</th>\n",
              "      <td>...</td>\n",
              "      <td>...</td>\n",
              "      <td>...</td>\n",
              "      <td>...</td>\n",
              "      <td>...</td>\n",
              "      <td>...</td>\n",
              "      <td>...</td>\n",
              "      <td>...</td>\n",
              "      <td>...</td>\n",
              "      <td>...</td>\n",
              "      <td>...</td>\n",
              "      <td>...</td>\n",
              "      <td>...</td>\n",
              "      <td>...</td>\n",
              "      <td>...</td>\n",
              "      <td>...</td>\n",
              "      <td>...</td>\n",
              "      <td>...</td>\n",
              "      <td>...</td>\n",
              "    </tr>\n",
              "    <tr>\n",
              "      <th>4634</th>\n",
              "      <td>PE</td>\n",
              "      <td>XEXEU</td>\n",
              "      <td>129070.44</td>\n",
              "      <td>7577.88</td>\n",
              "      <td>0.05871119676976386</td>\n",
              "      <td>0.941289</td>\n",
              "      <td>2616506</td>\n",
              "      <td>XEXEU</td>\n",
              "      <td>PE</td>\n",
              "      <td>Pernambuco</td>\n",
              "      <td>14757</td>\n",
              "      <td>0</td>\n",
              "      <td>NE</td>\n",
              "      <td>0.552</td>\n",
              "      <td>0.703</td>\n",
              "      <td>0.436</td>\n",
              "      <td>0.549</td>\n",
              "      <td>Aprovado</td>\n",
              "      <td>8.746387</td>\n",
              "    </tr>\n",
              "    <tr>\n",
              "      <th>4635</th>\n",
              "      <td>PA</td>\n",
              "      <td>XINGUARA</td>\n",
              "      <td>323115.91</td>\n",
              "      <td>83705.09</td>\n",
              "      <td>0.25905592206833766</td>\n",
              "      <td>0.740944</td>\n",
              "      <td>1508407</td>\n",
              "      <td>XINGUARA</td>\n",
              "      <td>PA</td>\n",
              "      <td>Pará</td>\n",
              "      <td>45086</td>\n",
              "      <td>0</td>\n",
              "      <td>N</td>\n",
              "      <td>0.646</td>\n",
              "      <td>0.800</td>\n",
              "      <td>0.503</td>\n",
              "      <td>0.671</td>\n",
              "      <td>Aprovado</td>\n",
              "      <td>7.166657</td>\n",
              "    </tr>\n",
              "    <tr>\n",
              "      <th>4636</th>\n",
              "      <td>BA</td>\n",
              "      <td>XIQUE XIQUE</td>\n",
              "      <td>355168.07</td>\n",
              "      <td>82.88</td>\n",
              "      <td>0.0002333543102565498</td>\n",
              "      <td>0.999767</td>\n",
              "      <td>2933604</td>\n",
              "      <td>XIQUE XIQUE</td>\n",
              "      <td>BA</td>\n",
              "      <td>Bahia</td>\n",
              "      <td>46523</td>\n",
              "      <td>0</td>\n",
              "      <td>NE</td>\n",
              "      <td>0.585</td>\n",
              "      <td>0.741</td>\n",
              "      <td>0.479</td>\n",
              "      <td>0.563</td>\n",
              "      <td>Aprovado</td>\n",
              "      <td>7.634247</td>\n",
              "    </tr>\n",
              "    <tr>\n",
              "      <th>4637</th>\n",
              "      <td>PB</td>\n",
              "      <td>ZABELE</td>\n",
              "      <td>38501.21</td>\n",
              "      <td>11.93</td>\n",
              "      <td>0.00030986039140068586</td>\n",
              "      <td>0.999690</td>\n",
              "      <td>2517407</td>\n",
              "      <td>ZABELE</td>\n",
              "      <td>PB</td>\n",
              "      <td>Paraíba</td>\n",
              "      <td>2255</td>\n",
              "      <td>0</td>\n",
              "      <td>NE</td>\n",
              "      <td>0.623</td>\n",
              "      <td>0.725</td>\n",
              "      <td>0.587</td>\n",
              "      <td>0.567</td>\n",
              "      <td>Aprovado</td>\n",
              "      <td>17.073707</td>\n",
              "    </tr>\n",
              "    <tr>\n",
              "      <th>4638</th>\n",
              "      <td>SC</td>\n",
              "      <td>ZORTEA</td>\n",
              "      <td>40913.53</td>\n",
              "      <td>309.54</td>\n",
              "      <td>0.007565712369477775</td>\n",
              "      <td>0.992434</td>\n",
              "      <td>4219853</td>\n",
              "      <td>ZORTEA</td>\n",
              "      <td>SC</td>\n",
              "      <td>Santa Catarina</td>\n",
              "      <td>3398</td>\n",
              "      <td>0</td>\n",
              "      <td>S</td>\n",
              "      <td>0.761</td>\n",
              "      <td>0.885</td>\n",
              "      <td>0.661</td>\n",
              "      <td>0.752</td>\n",
              "      <td>Aprovado</td>\n",
              "      <td>12.040474</td>\n",
              "    </tr>\n",
              "  </tbody>\n",
              "</table>\n",
              "<p>4639 rows × 19 columns</p>\n",
              "</div>"
            ],
            "text/plain": [
              "      UF           MUNICIPIOS  ...  SITUACAO  ValorMedioHab\n",
              "0     MG  ABADIA DOS DOURADOS  ...  Aprovado       9.398972\n",
              "1     MG               ABAETE  ...  Aprovado       7.938111\n",
              "2     PA           ABAETETUBA  ...  Aprovado       7.137969\n",
              "3     CE              ABAIARA  ...  Aprovado       8.656294\n",
              "4     BA               ABAIRA  ...  Aprovado       8.821984\n",
              "...   ..                  ...  ...       ...            ...\n",
              "4634  PE                XEXEU  ...  Aprovado       8.746387\n",
              "4635  PA             XINGUARA  ...  Aprovado       7.166657\n",
              "4636  BA          XIQUE XIQUE  ...  Aprovado       7.634247\n",
              "4637  PB               ZABELE  ...  Aprovado      17.073707\n",
              "4638  SC               ZORTEA  ...  Aprovado      12.040474\n",
              "\n",
              "[4639 rows x 19 columns]"
            ]
          },
          "metadata": {},
          "execution_count": 60
        }
      ]
    },
    {
      "cell_type": "code",
      "metadata": {
        "colab": {
          "base_uri": "https://localhost:8080/"
        },
        "id": "_IzAUTl412O1",
        "outputId": "5d47dffc-fc35-447c-abea-bde9f6fb872f"
      },
      "source": [
        "# Cálculo da média dos valores transferidos, por Região\n",
        "\n",
        "dados.groupby([\"REGIAO\"])[\"ValorMedioHab\"].mean()\n"
      ],
      "execution_count": 61,
      "outputs": [
        {
          "output_type": "execute_result",
          "data": {
            "text/plain": [
              "REGIAO\n",
              "CO    10.620305\n",
              "N     11.212252\n",
              "NE    11.861003\n",
              "S     13.037373\n",
              "SE     9.625674\n",
              "Name: ValorMedioHab, dtype: float64"
            ]
          },
          "metadata": {},
          "execution_count": 61
        }
      ]
    },
    {
      "cell_type": "code",
      "metadata": {
        "colab": {
          "base_uri": "https://localhost:8080/"
        },
        "id": "Ho1mk56Hanf9",
        "outputId": "67b35177-b0f8-4e69-9e72-b92d96843123"
      },
      "source": [
        "# Cálculo da média, dos valores transferidos, por Estado\n",
        "dados.groupby([\"SIGLA_UF\"])[\"ValorMedioHab\"].mean()\n"
      ],
      "execution_count": 62,
      "outputs": [
        {
          "output_type": "execute_result",
          "data": {
            "text/plain": [
              "SIGLA_UF\n",
              "AC     6.615589\n",
              "AL     9.244089\n",
              "AM     7.103770\n",
              "AP     6.765591\n",
              "BA     8.792170\n",
              "CE     8.078822\n",
              "ES     8.070936\n",
              "GO    13.153651\n",
              "MA     7.817606\n",
              "MG    10.486672\n",
              "MS     9.007421\n",
              "MT     8.113118\n",
              "PA     7.552504\n",
              "PB    21.587027\n",
              "PE     8.468517\n",
              "PI    11.940014\n",
              "PR    12.956324\n",
              "RJ     7.901815\n",
              "RN    17.587206\n",
              "RO     6.959786\n",
              "RR     6.202284\n",
              "RS    11.122709\n",
              "SC    16.157230\n",
              "SE    10.980025\n",
              "SP     9.034807\n",
              "TO    18.960240\n",
              "Name: ValorMedioHab, dtype: float64"
            ]
          },
          "metadata": {},
          "execution_count": 62
        }
      ]
    },
    {
      "cell_type": "code",
      "metadata": {
        "colab": {
          "base_uri": "https://localhost:8080/",
          "height": 302
        },
        "id": "NBl6Ahs7PFeU",
        "outputId": "f6964b8c-4318-47d3-85f6-dfd867337e92"
      },
      "source": [
        "#dados = dados.reindex()\n",
        "fig , ax = plt.subplots()\n",
        "# ibge[\"SITUACAO\"].value_counts().plot.bar(color=[\"blue\",\"green\", \"black\"])\n",
        "dados.groupby(\"SIGLA_UF\")[\"ValorMedioHab\"].mean().plot.bar(color=['green','red','orange','silver','blue'])\n",
        "ax.set_ylabel(\"Valor Médio\")\n",
        "ax.set_xlabel(\"UF\")\n",
        "ax.set_title(\"Valor Médio de Recursos Transferidos por Habitante e por Estado\")\n",
        "# ax.set_ylim(0,12)\n",
        "plt.show()"
      ],
      "execution_count": 63,
      "outputs": [
        {
          "output_type": "display_data",
          "data": {
            "image/png": "[encoded data removed]",
            "text/plain": [
              "<Figure size 432x288 with 1 Axes>"
            ]
          },
          "metadata": {
            "needs_background": "light"
          }
        }
      ]
    },
    {
      "cell_type": "code",
      "metadata": {
        "colab": {
          "base_uri": "https://localhost:8080/",
          "height": 300
        },
        "id": "yP84Mg9qbc9M",
        "outputId": "08cfe72e-e596-4098-fc19-3d60766d4a4a"
      },
      "source": [
        "# apresenta dados gerais dos valores médios recebidos por habitante pelo Município\n",
        "dados.describe()\n"
      ],
      "execution_count": 64,
      "outputs": [
        {
          "output_type": "execute_result",
          "data": {
            "text/html": [
              "<div>\n",
              "<style scoped>\n",
              "    .dataframe tbody tr th:only-of-type {\n",
              "        vertical-align: middle;\n",
              "    }\n",
              "\n",
              "    .dataframe tbody tr th {\n",
              "        vertical-align: top;\n",
              "    }\n",
              "\n",
              "    .dataframe thead th {\n",
              "        text-align: right;\n",
              "    }\n",
              "</style>\n",
              "<table border=\"1\" class=\"dataframe\">\n",
              "  <thead>\n",
              "    <tr style=\"text-align: right;\">\n",
              "      <th></th>\n",
              "      <th>TRANSFERIDO</th>\n",
              "      <th>SALDO_CONTA</th>\n",
              "      <th>PORCENT_EXECUTADO</th>\n",
              "      <th>COD_IBGE</th>\n",
              "      <th>POP_EST_2020</th>\n",
              "      <th>CAPITAL</th>\n",
              "      <th>IDHM</th>\n",
              "      <th>IDHM_RENDA</th>\n",
              "      <th>IDHM_EDUCACAO</th>\n",
              "      <th>IDHM_LONGEVIDADE</th>\n",
              "      <th>ValorMedioHab</th>\n",
              "    </tr>\n",
              "  </thead>\n",
              "  <tbody>\n",
              "    <tr>\n",
              "      <th>count</th>\n",
              "      <td>4.639000e+03</td>\n",
              "      <td>4.232000e+03</td>\n",
              "      <td>3710.000000</td>\n",
              "      <td>4.639000e+03</td>\n",
              "      <td>4.639000e+03</td>\n",
              "      <td>4639.000000</td>\n",
              "      <td>4636.000000</td>\n",
              "      <td>4636.000000</td>\n",
              "      <td>4636.000000</td>\n",
              "      <td>4636.000000</td>\n",
              "      <td>4639.000000</td>\n",
              "    </tr>\n",
              "    <tr>\n",
              "      <th>mean</th>\n",
              "      <td>2.533427e+05</td>\n",
              "      <td>6.634221e+04</td>\n",
              "      <td>0.841640</td>\n",
              "      <td>3.180248e+06</td>\n",
              "      <td>3.590735e+04</td>\n",
              "      <td>0.001293</td>\n",
              "      <td>0.658108</td>\n",
              "      <td>0.799952</td>\n",
              "      <td>0.559134</td>\n",
              "      <td>0.640936</td>\n",
              "      <td>11.365320</td>\n",
              "    </tr>\n",
              "    <tr>\n",
              "      <th>std</th>\n",
              "      <td>4.621067e+05</td>\n",
              "      <td>1.462363e+05</td>\n",
              "      <td>0.236840</td>\n",
              "      <td>9.186624e+05</td>\n",
              "      <td>8.329194e+04</td>\n",
              "      <td>0.035944</td>\n",
              "      <td>0.073184</td>\n",
              "      <td>0.046155</td>\n",
              "      <td>0.093657</td>\n",
              "      <td>0.082067</td>\n",
              "      <td>31.208541</td>\n",
              "    </tr>\n",
              "    <tr>\n",
              "      <th>min</th>\n",
              "      <td>2.845551e+04</td>\n",
              "      <td>1.000000e-02</td>\n",
              "      <td>0.003374</td>\n",
              "      <td>1.100023e+06</td>\n",
              "      <td>7.760000e+02</td>\n",
              "      <td>0.000000</td>\n",
              "      <td>0.418000</td>\n",
              "      <td>0.672000</td>\n",
              "      <td>0.207000</td>\n",
              "      <td>0.400000</td>\n",
              "      <td>0.034829</td>\n",
              "    </tr>\n",
              "    <tr>\n",
              "      <th>25%</th>\n",
              "      <td>6.335718e+04</td>\n",
              "      <td>4.076225e+02</td>\n",
              "      <td>0.752868</td>\n",
              "      <td>2.508654e+06</td>\n",
              "      <td>6.752000e+03</td>\n",
              "      <td>0.000000</td>\n",
              "      <td>0.595000</td>\n",
              "      <td>0.766000</td>\n",
              "      <td>0.488000</td>\n",
              "      <td>0.567000</td>\n",
              "      <td>7.549166</td>\n",
              "    </tr>\n",
              "    <tr>\n",
              "      <th>50%</th>\n",
              "      <td>1.259156e+05</td>\n",
              "      <td>2.243762e+04</td>\n",
              "      <td>0.978619</td>\n",
              "      <td>3.126604e+06</td>\n",
              "      <td>1.450300e+04</td>\n",
              "      <td>0.000000</td>\n",
              "      <td>0.662000</td>\n",
              "      <td>0.805000</td>\n",
              "      <td>0.558000</td>\n",
              "      <td>0.646500</td>\n",
              "      <td>8.387725</td>\n",
              "    </tr>\n",
              "    <tr>\n",
              "      <th>75%</th>\n",
              "      <td>2.416072e+05</td>\n",
              "      <td>7.288370e+04</td>\n",
              "      <td>0.999756</td>\n",
              "      <td>4.106704e+06</td>\n",
              "      <td>3.088400e+04</td>\n",
              "      <td>0.000000</td>\n",
              "      <td>0.719000</td>\n",
              "      <td>0.837000</td>\n",
              "      <td>0.632000</td>\n",
              "      <td>0.709000</td>\n",
              "      <td>9.681256</td>\n",
              "    </tr>\n",
              "    <tr>\n",
              "      <th>max</th>\n",
              "      <td>8.085843e+06</td>\n",
              "      <td>3.126408e+06</td>\n",
              "      <td>1.000000</td>\n",
              "      <td>5.221858e+06</td>\n",
              "      <td>1.499641e+06</td>\n",
              "      <td>1.000000</td>\n",
              "      <td>0.862000</td>\n",
              "      <td>0.894000</td>\n",
              "      <td>0.825000</td>\n",
              "      <td>0.891000</td>\n",
              "      <td>1716.076664</td>\n",
              "    </tr>\n",
              "  </tbody>\n",
              "</table>\n",
              "</div>"
            ],
            "text/plain": [
              "        TRANSFERIDO   SALDO_CONTA  ...  IDHM_LONGEVIDADE  ValorMedioHab\n",
              "count  4.639000e+03  4.232000e+03  ...       4636.000000    4639.000000\n",
              "mean   2.533427e+05  6.634221e+04  ...          0.640936      11.365320\n",
              "std    4.621067e+05  1.462363e+05  ...          0.082067      31.208541\n",
              "min    2.845551e+04  1.000000e-02  ...          0.400000       0.034829\n",
              "25%    6.335718e+04  4.076225e+02  ...          0.567000       7.549166\n",
              "50%    1.259156e+05  2.243762e+04  ...          0.646500       8.387725\n",
              "75%    2.416072e+05  7.288370e+04  ...          0.709000       9.681256\n",
              "max    8.085843e+06  3.126408e+06  ...          0.891000    1716.076664\n",
              "\n",
              "[8 rows x 11 columns]"
            ]
          },
          "metadata": {},
          "execution_count": 64
        }
      ]
    },
    {
      "cell_type": "code",
      "metadata": {
        "colab": {
          "base_uri": "https://localhost:8080/",
          "height": 351
        },
        "id": "PSjxMJClmWNo",
        "outputId": "76f9595f-5f2b-4e1f-c704-afa9aefa38df"
      },
      "source": [
        "# São considerados apenas os municípios que tiveram seu plano de ação aprovado e receberam transferêsncias de recursos\n",
        "\n",
        "fig, ax = plt.subplots()\n",
        "dados.boxplot(column=\"ValorMedioHab\", by=\"REGIAO\", ax=ax)\n",
        "ax.set_xlabel(\"Regiao\")\n",
        "ax.set_ylabel(\"ValorMedioHab\")\n",
        "ax.set_title(\"Valor Médio por Habitante, por Região\")\n",
        "plt.suptitle(\"\")\n",
        "plt.show()"
      ],
      "execution_count": 65,
      "outputs": [
        {
          "output_type": "stream",
          "name": "stderr",
          "text": [
            "/usr/local/lib/python3.7/dist-packages/numpy/core/_asarray.py:83: VisibleDeprecationWarning: Creating an ndarray from ragged nested sequences (which is a list-or-tuple of lists-or-tuples-or ndarrays with different lengths or shapes) is deprecated. If you meant to do this, you must specify 'dtype=object' when creating the ndarray\n",
            "  return array(a, dtype, copy=False, order=order)\n"
          ]
        },
        {
          "output_type": "display_data",
          "data": {
            "image/png": "[encoded data removed]",
            "text/plain": [
              "<Figure size 432x288 with 1 Axes>"
            ]
          },
          "metadata": {
            "needs_background": "light"
          }
        }
      ]
    },
    {
      "cell_type": "code",
      "metadata": {
        "colab": {
          "base_uri": "https://localhost:8080/",
          "height": 351
        },
        "id": "XkeC1VpZynIq",
        "outputId": "25402888-b4e6-48a3-8620-5ad404116fc8"
      },
      "source": [
        "fig, ax = plt.subplots()\n",
        "dados.boxplot(column=\"ValorMedioHab\", by=\"REGIAO\", ax=ax)\n",
        "ax.set_xlabel(\"Regiao\")\n",
        "ax.set_ylabel(\"ValorMedioHab\")\n",
        "ax.set_title(\"Valor Médio por Habitante, por Região\")\n",
        "ax.set_ylim(0,100)\n",
        "plt.suptitle(\"\")\n",
        "plt.show()"
      ],
      "execution_count": 66,
      "outputs": [
        {
          "output_type": "stream",
          "name": "stderr",
          "text": [
            "/usr/local/lib/python3.7/dist-packages/numpy/core/_asarray.py:83: VisibleDeprecationWarning: Creating an ndarray from ragged nested sequences (which is a list-or-tuple of lists-or-tuples-or ndarrays with different lengths or shapes) is deprecated. If you meant to do this, you must specify 'dtype=object' when creating the ndarray\n",
            "  return array(a, dtype, copy=False, order=order)\n"
          ]
        },
        {
          "output_type": "display_data",
          "data": {
            "image/png": "[encoded data removed]",
            "text/plain": [
              "<Figure size 432x288 with 1 Axes>"
            ]
          },
          "metadata": {
            "needs_background": "light"
          }
        }
      ]
    },
    {
      "cell_type": "code",
      "metadata": {
        "colab": {
          "base_uri": "https://localhost:8080/",
          "height": 281
        },
        "id": "ky-Bt4r9IN-f",
        "outputId": "4fba4696-5203-41a4-fa4d-b0fcd4e16c8e"
      },
      "source": [
        "# Plotagem do Histograma do valor médio transferido por habitante\n",
        "dados['ValorMedioHab'].plot(kind='hist', bins=100)\n",
        "plt.title(\"Distribuição Valor Médio por Habitante\")\n",
        "plt.show()"
      ],
      "execution_count": 67,
      "outputs": [
        {
          "output_type": "display_data",
          "data": {
            "image/png": "[encoded data removed]",
            "text/plain": [
              "<Figure size 432x288 with 1 Axes>"
            ]
          },
          "metadata": {
            "needs_background": "light"
          }
        }
      ]
    },
    {
      "cell_type": "code",
      "metadata": {
        "colab": {
          "base_uri": "https://localhost:8080/"
        },
        "id": "O2VWbZCdINyx",
        "outputId": "93dfe04a-4c01-4526-a44f-c2f6b0f8c01e"
      },
      "source": [
        "# Apresentação da mediana dos valores médios transferidos por habitante\n",
        "q5 = dados[\"ValorMedioHab\"].quantile(.50)\n",
        "q5"
      ],
      "execution_count": 68,
      "outputs": [
        {
          "output_type": "execute_result",
          "data": {
            "text/plain": [
              "8.387725396191238"
            ]
          },
          "metadata": {},
          "execution_count": 68
        }
      ]
    },
    {
      "cell_type": "code",
      "metadata": {
        "colab": {
          "base_uri": "https://localhost:8080/"
        },
        "id": "gECxMLmmINne",
        "outputId": "a89c7712-eae1-4434-bc6a-8b2c6fde48a3"
      },
      "source": [
        "# Apresentação do decil superior dos valores médios transferidos por habitante\n",
        "q9 = dados[\"ValorMedioHab\"].quantile(.90)\n",
        "q9"
      ],
      "execution_count": 69,
      "outputs": [
        {
          "output_type": "execute_result",
          "data": {
            "text/plain": [
              "13.279942024829221"
            ]
          },
          "metadata": {},
          "execution_count": 69
        }
      ]
    },
    {
      "cell_type": "code",
      "metadata": {
        "colab": {
          "base_uri": "https://localhost:8080/"
        },
        "id": "u8cVlIuRneSb",
        "outputId": "781f3fad-c07a-4c07-8af0-86f4a0ef0fea"
      },
      "source": [
        "# Valor do centil 95% dos valores médios transferidos por habitante\n",
        "q95 = dados[\"ValorMedioHab\"].quantile(.95)\n",
        "q95"
      ],
      "execution_count": 70,
      "outputs": [
        {
          "output_type": "execute_result",
          "data": {
            "text/plain": [
              "17.213336817409342"
            ]
          },
          "metadata": {},
          "execution_count": 70
        }
      ]
    },
    {
      "cell_type": "markdown",
      "metadata": {
        "id": "TEBP_MZDILin"
      },
      "source": [
        "Interpretação: ao se observar de modo amplo, não se percebe distorçoes do valor médio transferido por habitante aos Municípios, contudo, ao se categorizar cada vez mais os valores médios, começa-se a perceber uma quantidade razoável de outliers.\n",
        "Essa quantidade de outliers pode ser devido a uma base de dados não totalmente confiável, com erros, ou indícios de favorecimento do Ente Federado.\n",
        "Assim, afasta-se o critério de população do Município, isto é, um Município mais populoso NÃO implica em maior transferência de recursos."
      ]
    },
    {
      "cell_type": "markdown",
      "metadata": {
        "id": "TNogsgTcILML"
      },
      "source": [
        "2 - Panorama dos Municípios Cadastrados e Não Cadastrados no Programa\n"
      ]
    },
    {
      "cell_type": "code",
      "metadata": {
        "colab": {
          "base_uri": "https://localhost:8080/",
          "height": 420
        },
        "id": "_OxKl7NCINUT",
        "outputId": "d8afe16a-3ad2-4f7c-e27e-69c82c2b4c81"
      },
      "source": [
        "\n",
        "fig , ax = plt.subplots()\n",
        "# ibge[\"SITUACAO\"].value_counts().plot.bar(color=[\"blue\",\"green\", \"black\"])\n",
        "ibge.groupby(\"REGIAO\")[\"SITUACAO\"].value_counts().plot.bar(color=[\"blue\",\"green\", \"black\"])\n",
        "ax.set_ylabel(\"Contagem\")\n",
        "ax.set_xlabel(\"REGIAO\")\n",
        "ax.set_title(\"Quantidade de Municípios Cadastrados e Não Cadastrados no Programa\")\n",
        "# ax.set_ylim(0,12)\n",
        "plt.show()\n",
        "\n"
      ],
      "execution_count": 71,
      "outputs": [
        {
          "output_type": "display_data",
          "data": {
            "image/png": "[encoded data removed]",
            "text/plain": [
              "<Figure size 432x288 with 1 Axes>"
            ]
          },
          "metadata": {
            "needs_background": "light"
          }
        }
      ]
    },
    {
      "cell_type": "markdown",
      "metadata": {
        "id": "LfVvayGJwjEp"
      },
      "source": [
        "Observa-se que a Região Nordeste apresenta a maior proporção entre os Municípios cadastrados no Programa, enquanto que a Região Centro-Oeste é a que apresenta a menor proporção."
      ]
    },
    {
      "cell_type": "markdown",
      "metadata": {
        "id": "-1ItAGrwILXb"
      },
      "source": [
        "3 - Correlação entre o IDHM e a participação no Programa do Auxílio Emergencial."
      ]
    },
    {
      "cell_type": "markdown",
      "metadata": {
        "id": "cKQjBuyJ1s4U"
      },
      "source": [
        "Deseja-se investigar se os Municípios que apresentam maior IDHM estão mais propensos a se cadastrar no Programa para receber o Auxílio Emergencial da Cultura."
      ]
    },
    {
      "cell_type": "code",
      "metadata": {
        "id": "jl3bN1h6wUjS"
      },
      "source": [
        "# \n",
        "# Verificar o IDH médio em relação à participação ou não no Programa\n",
        "# idh = pd.to_numeric('IDHM')\n",
        "# ibge[\"IDH\"] = pd.to_numeric(ibge[\"IDHM\"])\n",
        "#ibge[\"IDH\"] = ibge[\"IDHM\"].astype(float, errors = 'raise')\n",
        "\n",
        "# ibge.groupby(['SITUACAO'])['IDH'].mean()\n",
        "\n",
        "# sns.barplot(x=\"SITUACAO\", y=\"IDHM\") #, hue='Regiao', data=dados, dodge=False, order=['AC','AM','AP','PA','RO','RR', 'TO','AL','BA','CE','MA','PB','PE','PI','RN','SE','DF','GO','MS','MT','PR','RS','SC','ES','MG','RJ','SP' ])\n",
        "# plt.title(\"Relação entre Participação no Programa e IDH\")\n",
        "# plt.show()"
      ],
      "execution_count": 72,
      "outputs": []
    },
    {
      "cell_type": "code",
      "metadata": {
        "id": "QR4fwQABwVMI",
        "colab": {
          "base_uri": "https://localhost:8080/",
          "height": 629
        },
        "outputId": "34511204-cb1c-441d-e733-bf7b9eddf4da"
      },
      "source": [
        "fig, ax = plt.subplots()\n",
        "ax.scatter(ibge[\"SITUACAO\"],ibge[\"IDHM\"])\n",
        "ax.set_xlabel('SITUACAO')\n",
        "ax.set_ylabel('IDHM')\n",
        "ax.set_title('Dispersão dos Municípios relacionando seu IDHM com a participação do Programa')\n",
        "plt.show()\n",
        "\n",
        "fig, ax = plt.subplots()\n",
        "ibge.boxplot(column=\"IDHM\", by=\"SITUACAO\", ax=ax)\n",
        "ax.set_xlabel(\"Situação\")\n",
        "ax.set_ylabel(\"IDHM\")\n",
        "ax.set_title(\"Comparação do IDHM com a Situação do Município\")\n",
        "#ax.set_ylim(0,100)\n",
        "plt.suptitle(\"\")\n",
        "plt.show()"
      ],
      "execution_count": 76,
      "outputs": [
        {
          "output_type": "display_data",
          "data": {
            "image/png": "[encoded data removed]",
            "text/plain": [
              "<Figure size 432x288 with 1 Axes>"
            ]
          },
          "metadata": {
            "needs_background": "light"
          }
        },
        {
          "output_type": "stream",
          "name": "stderr",
          "text": [
            "/usr/local/lib/python3.7/dist-packages/numpy/core/_asarray.py:83: VisibleDeprecationWarning: Creating an ndarray from ragged nested sequences (which is a list-or-tuple of lists-or-tuples-or ndarrays with different lengths or shapes) is deprecated. If you meant to do this, you must specify 'dtype=object' when creating the ndarray\n",
            "  return array(a, dtype, copy=False, order=order)\n"
          ]
        },
        {
          "output_type": "display_data",
          "data": {
            "image/png": "[encoded data removed]",
            "text/plain": [
              "<Figure size 432x288 with 1 Axes>"
            ]
          },
          "metadata": {
            "needs_background": "light"
          }
        }
      ]
    },
    {
      "cell_type": "markdown",
      "metadata": {
        "id": "oRR87eWrdomU"
      },
      "source": [
        "Interpretação dos gráficos: O IDH do Município não influencia na sua participação no Programa do Auxílio Emergencial da Cultura."
      ]
    },
    {
      "cell_type": "code",
      "metadata": {
        "id": "6-XmiWm8wU1N",
        "colab": {
          "base_uri": "https://localhost:8080/"
        },
        "outputId": "eba86686-ff91-4786-ad27-9b5ce4566c09"
      },
      "source": [
        "ibge['IDHM'].describe()\n"
      ],
      "execution_count": 74,
      "outputs": [
        {
          "output_type": "execute_result",
          "data": {
            "text/plain": [
              "count    5565.000000\n",
              "mean        0.659157\n",
              "std         0.071997\n",
              "min         0.418000\n",
              "25%         0.599000\n",
              "50%         0.665000\n",
              "75%         0.718000\n",
              "max         0.862000\n",
              "Name: IDHM, dtype: float64"
            ]
          },
          "metadata": {},
          "execution_count": 74
        }
      ]
    },
    {
      "cell_type": "markdown",
      "metadata": {
        "id": "I3VxUwJqBns3"
      },
      "source": [
        "4 - Teste de Hipótese"
      ]
    },
    {
      "cell_type": "code",
      "metadata": {
        "colab": {
          "base_uri": "https://localhost:8080/",
          "height": 394
        },
        "id": "azXTQbJnhAhu",
        "outputId": "ba72a4ed-fd58-4054-b905-0753815aecb7"
      },
      "source": [
        "dados.corr()"
      ],
      "execution_count": 78,
      "outputs": [
        {
          "output_type": "execute_result",
          "data": {
            "text/html": [
              "<div>\n",
              "<style scoped>\n",
              "    .dataframe tbody tr th:only-of-type {\n",
              "        vertical-align: middle;\n",
              "    }\n",
              "\n",
              "    .dataframe tbody tr th {\n",
              "        vertical-align: top;\n",
              "    }\n",
              "\n",
              "    .dataframe thead th {\n",
              "        text-align: right;\n",
              "    }\n",
              "</style>\n",
              "<table border=\"1\" class=\"dataframe\">\n",
              "  <thead>\n",
              "    <tr style=\"text-align: right;\">\n",
              "      <th></th>\n",
              "      <th>TRANSFERIDO</th>\n",
              "      <th>SALDO_CONTA</th>\n",
              "      <th>PORCENT_EXECUTADO</th>\n",
              "      <th>COD_IBGE</th>\n",
              "      <th>POP_EST_2020</th>\n",
              "      <th>CAPITAL</th>\n",
              "      <th>IDHM</th>\n",
              "      <th>IDHM_RENDA</th>\n",
              "      <th>IDHM_EDUCACAO</th>\n",
              "      <th>IDHM_LONGEVIDADE</th>\n",
              "      <th>ValorMedioHab</th>\n",
              "    </tr>\n",
              "  </thead>\n",
              "  <tbody>\n",
              "    <tr>\n",
              "      <th>TRANSFERIDO</th>\n",
              "      <td>1.000000</td>\n",
              "      <td>0.400403</td>\n",
              "      <td>-0.002440</td>\n",
              "      <td>0.021743</td>\n",
              "      <td>0.839115</td>\n",
              "      <td>-0.009034</td>\n",
              "      <td>0.259770</td>\n",
              "      <td>0.178399</td>\n",
              "      <td>0.272717</td>\n",
              "      <td>0.242446</td>\n",
              "      <td>0.152602</td>\n",
              "    </tr>\n",
              "    <tr>\n",
              "      <th>SALDO_CONTA</th>\n",
              "      <td>0.400403</td>\n",
              "      <td>1.000000</td>\n",
              "      <td>-0.484436</td>\n",
              "      <td>0.013082</td>\n",
              "      <td>0.319478</td>\n",
              "      <td>0.002022</td>\n",
              "      <td>0.100022</td>\n",
              "      <td>0.069777</td>\n",
              "      <td>0.104752</td>\n",
              "      <td>0.093842</td>\n",
              "      <td>0.014318</td>\n",
              "    </tr>\n",
              "    <tr>\n",
              "      <th>PORCENT_EXECUTADO</th>\n",
              "      <td>-0.002440</td>\n",
              "      <td>-0.484436</td>\n",
              "      <td>1.000000</td>\n",
              "      <td>-0.017501</td>\n",
              "      <td>0.001962</td>\n",
              "      <td>-0.013046</td>\n",
              "      <td>-0.027951</td>\n",
              "      <td>-0.011992</td>\n",
              "      <td>-0.031734</td>\n",
              "      <td>-0.027478</td>\n",
              "      <td>0.018551</td>\n",
              "    </tr>\n",
              "    <tr>\n",
              "      <th>COD_IBGE</th>\n",
              "      <td>0.021743</td>\n",
              "      <td>0.013082</td>\n",
              "      <td>-0.017501</td>\n",
              "      <td>1.000000</td>\n",
              "      <td>0.017562</td>\n",
              "      <td>-0.019276</td>\n",
              "      <td>0.627715</td>\n",
              "      <td>0.604121</td>\n",
              "      <td>0.516237</td>\n",
              "      <td>0.676592</td>\n",
              "      <td>0.002364</td>\n",
              "    </tr>\n",
              "    <tr>\n",
              "      <th>POP_EST_2020</th>\n",
              "      <td>0.839115</td>\n",
              "      <td>0.319478</td>\n",
              "      <td>0.001962</td>\n",
              "      <td>0.017562</td>\n",
              "      <td>1.000000</td>\n",
              "      <td>0.383274</td>\n",
              "      <td>0.270221</td>\n",
              "      <td>0.183064</td>\n",
              "      <td>0.281817</td>\n",
              "      <td>0.256632</td>\n",
              "      <td>-0.059548</td>\n",
              "    </tr>\n",
              "    <tr>\n",
              "      <th>CAPITAL</th>\n",
              "      <td>-0.009034</td>\n",
              "      <td>0.002022</td>\n",
              "      <td>-0.013046</td>\n",
              "      <td>-0.019276</td>\n",
              "      <td>0.383274</td>\n",
              "      <td>1.000000</td>\n",
              "      <td>0.053405</td>\n",
              "      <td>0.022788</td>\n",
              "      <td>0.057418</td>\n",
              "      <td>0.055742</td>\n",
              "      <td>-0.012771</td>\n",
              "    </tr>\n",
              "    <tr>\n",
              "      <th>IDHM</th>\n",
              "      <td>0.259770</td>\n",
              "      <td>0.100022</td>\n",
              "      <td>-0.027951</td>\n",
              "      <td>0.627715</td>\n",
              "      <td>0.270221</td>\n",
              "      <td>0.053405</td>\n",
              "      <td>1.000000</td>\n",
              "      <td>0.862487</td>\n",
              "      <td>0.953292</td>\n",
              "      <td>0.953045</td>\n",
              "      <td>-0.013999</td>\n",
              "    </tr>\n",
              "    <tr>\n",
              "      <th>IDHM_RENDA</th>\n",
              "      <td>0.178399</td>\n",
              "      <td>0.069777</td>\n",
              "      <td>-0.011992</td>\n",
              "      <td>0.604121</td>\n",
              "      <td>0.183064</td>\n",
              "      <td>0.022788</td>\n",
              "      <td>0.862487</td>\n",
              "      <td>1.000000</td>\n",
              "      <td>0.722035</td>\n",
              "      <td>0.844198</td>\n",
              "      <td>-0.007703</td>\n",
              "    </tr>\n",
              "    <tr>\n",
              "      <th>IDHM_EDUCACAO</th>\n",
              "      <td>0.272717</td>\n",
              "      <td>0.104752</td>\n",
              "      <td>-0.031734</td>\n",
              "      <td>0.516237</td>\n",
              "      <td>0.281817</td>\n",
              "      <td>0.057418</td>\n",
              "      <td>0.953292</td>\n",
              "      <td>0.722035</td>\n",
              "      <td>1.000000</td>\n",
              "      <td>0.832642</td>\n",
              "      <td>-0.009923</td>\n",
              "    </tr>\n",
              "    <tr>\n",
              "      <th>IDHM_LONGEVIDADE</th>\n",
              "      <td>0.242446</td>\n",
              "      <td>0.093842</td>\n",
              "      <td>-0.027478</td>\n",
              "      <td>0.676592</td>\n",
              "      <td>0.256632</td>\n",
              "      <td>0.055742</td>\n",
              "      <td>0.953045</td>\n",
              "      <td>0.844198</td>\n",
              "      <td>0.832642</td>\n",
              "      <td>1.000000</td>\n",
              "      <td>-0.021381</td>\n",
              "    </tr>\n",
              "    <tr>\n",
              "      <th>ValorMedioHab</th>\n",
              "      <td>0.152602</td>\n",
              "      <td>0.014318</td>\n",
              "      <td>0.018551</td>\n",
              "      <td>0.002364</td>\n",
              "      <td>-0.059548</td>\n",
              "      <td>-0.012771</td>\n",
              "      <td>-0.013999</td>\n",
              "      <td>-0.007703</td>\n",
              "      <td>-0.009923</td>\n",
              "      <td>-0.021381</td>\n",
              "      <td>1.000000</td>\n",
              "    </tr>\n",
              "  </tbody>\n",
              "</table>\n",
              "</div>"
            ],
            "text/plain": [
              "                   TRANSFERIDO  SALDO_CONTA  ...  IDHM_LONGEVIDADE  ValorMedioHab\n",
              "TRANSFERIDO           1.000000     0.400403  ...          0.242446       0.152602\n",
              "SALDO_CONTA           0.400403     1.000000  ...          0.093842       0.014318\n",
              "PORCENT_EXECUTADO    -0.002440    -0.484436  ...         -0.027478       0.018551\n",
              "COD_IBGE              0.021743     0.013082  ...          0.676592       0.002364\n",
              "POP_EST_2020          0.839115     0.319478  ...          0.256632      -0.059548\n",
              "CAPITAL              -0.009034     0.002022  ...          0.055742      -0.012771\n",
              "IDHM                  0.259770     0.100022  ...          0.953045      -0.013999\n",
              "IDHM_RENDA            0.178399     0.069777  ...          0.844198      -0.007703\n",
              "IDHM_EDUCACAO         0.272717     0.104752  ...          0.832642      -0.009923\n",
              "IDHM_LONGEVIDADE      0.242446     0.093842  ...          1.000000      -0.021381\n",
              "ValorMedioHab         0.152602     0.014318  ...         -0.021381       1.000000\n",
              "\n",
              "[11 rows x 11 columns]"
            ]
          },
          "metadata": {},
          "execution_count": 78
        }
      ]
    },
    {
      "cell_type": "markdown",
      "metadata": {
        "id": "c5bCNvaLhXxo"
      },
      "source": [
        "Hipótese: verificar se existe relação de dependência entre o IDHM e o Valor Médio repassado por habitante."
      ]
    },
    {
      "cell_type": "code",
      "metadata": {
        "id": "OW3A-H0khXVr"
      },
      "source": [
        "# cria função para realização dos testes de hipótese\n",
        "def realiza_teste_quiquadrado(df, col1, col2, alpha=0.05):\n",
        "  \n",
        "  # obtem a tabela de contingência\n",
        "  tabela_contingencia = pd.crosstab(dados[col1], dados[col2])\n",
        "  \n",
        "  # Realiza o teste qui-quadrado para verificar se existe relação de dependência entre os col1 and col2\n",
        "  chi, p, dof, expected = stats.chi2_contingency(tabela_contingencia)\n",
        "\n",
        "  # Verifica se o p_valor é menor que o nível de significância\n",
        "  if p < alpha:\n",
        "    print(\"As variáveis {} e {} são dependentes\".format(col1, col2))\n",
        "  else:\n",
        "    print(\"As variáveis {} e {} não são dependentes\".format(col1, col2))\n",
        "\n",
        "  print()\n",
        "\n",
        "  print(\"Valor de p encontrado\")\n",
        "  print(p)\n",
        "  \n",
        "  print(\"Tabela de Contingência:\")\n",
        "  print(tabela_contingencia)"
      ],
      "execution_count": 91,
      "outputs": []
    },
    {
      "cell_type": "code",
      "metadata": {
        "colab": {
          "base_uri": "https://localhost:8080/"
        },
        "id": "fGMV-slpjhcZ",
        "outputId": "063723a5-5e44-42b6-8b35-653ee6a6b74c"
      },
      "source": [
        "realiza_teste_quiquadrado(dados, 'IDHM', 'ValorMedioHab')"
      ],
      "execution_count": 92,
      "outputs": [
        {
          "output_type": "stream",
          "name": "stdout",
          "text": [
            "As variáveis IDHM e ValorMedioHab não são dependentes\n",
            "\n",
            "Valor de p encontrado\n",
            "0.4244724556062183\n",
            "Tabela de Contingência:\n",
            "ValorMedioHab  0.034829     0.055597     ...  412.097145   1716.076664\n",
            "IDHM                                     ...                          \n",
            "0.418                    0            0  ...            0            0\n",
            "0.443                    0            0  ...            0            0\n",
            "0.452                    0            0  ...            0            0\n",
            "0.453                    0            0  ...            0            0\n",
            "0.471                    0            0  ...            0            0\n",
            "...                    ...          ...  ...          ...          ...\n",
            "0.837                    0            0  ...            0            0\n",
            "0.840                    0            0  ...            0            0\n",
            "0.845                    0            0  ...            0            0\n",
            "0.854                    0            0  ...            0            0\n",
            "0.862                    0            0  ...            0            0\n",
            "\n",
            "[336 rows x 4636 columns]\n"
          ]
        }
      ]
    },
    {
      "cell_type": "markdown",
      "metadata": {
        "id": "TnRxTjS-kH7B"
      },
      "source": [
        "Interpretação dos dados obtidos - Correlação entre IDHM e Valor Médio repassado ao Município\n",
        "Não foi identificada correlação direta entre o IDHM e o Valor Médio repassado. A pergunta que a hipótese investigativa se propôs a responder é: \"Municípios com maior IDHM se preocupam mais em manter suas estruturas culturais do que Municípios com menor IDHM? Por esse teste de hipótese a resposta é não. "
      ]
    },
    {
      "cell_type": "markdown",
      "metadata": {
        "id": "5eYbOOzrmj9N"
      },
      "source": [
        "**CONCLUSÕES**"
      ]
    },
    {
      "cell_type": "markdown",
      "metadata": {
        "id": "5PiSg6dFmklj"
      },
      "source": [
        "Este trabalho foi realizado com os seguintes objetivos:\n",
        "- fixar os conceitos de Estatística Descritiva apresentados na disciplina;\n",
        "- Utilizar a linguagem Python para fins de de análise e como uma preparação para a manipulação de grandes bases de dados;\n",
        "\n",
        "Optou-se pelo uso de dados reais, os quais apresentam as mais diversas inconsistências, tais quais nomes inseridos de formas diferentes, CPFs no lugar de CNPJs, dentre outras. Fez-se previamente uma limpeza mínima nos dados, de forma a empregar os recursos de estatística e da linguagem Python para identificar essas inconsistências e subsidiariamente possíveis fraudes. \n"
      ]
    }
  ]
}