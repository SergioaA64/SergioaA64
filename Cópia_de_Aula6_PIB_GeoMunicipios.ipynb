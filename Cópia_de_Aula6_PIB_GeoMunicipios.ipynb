{
  "nbformat": 4,
  "nbformat_minor": 0,
  "metadata": {
    "colab": {
      "name": "Cópia de Aula6_PIB_GeoMunicipios.ipynb",
      "provenance": [],
      "collapsed_sections": [],
      "include_colab_link": true
    },
    "kernelspec": {
      "name": "python3",
      "display_name": "Python 3"
    },
    "language_info": {
      "name": "python"
    }
  },
  "cells": [
    {
      "cell_type": "markdown",
      "metadata": {
        "id": "view-in-github",
        "colab_type": "text"
      },
      "source": [
        "<a href=\"https://colab.research.google.com/github/SergioaA64/SergioaA64/blob/main/C%C3%B3pia_de_Aula6_PIB_GeoMunicipios.ipynb\" target=\"_parent\"><img src=\"https://colab.research.google.com/assets/colab-badge.svg\" alt=\"Open In Colab\"/></a>"
      ]
    },
    {
      "cell_type": "markdown",
      "metadata": {
        "id": "NSLs83IDUKfq"
      },
      "source": [
        "# ETL para carregar o PIB, População e o Centróide dos municípios"
      ]
    },
    {
      "cell_type": "code",
      "metadata": {
        "colab": {
          "base_uri": "https://localhost:8080/",
          "height": 473
        },
        "id": "Z0nybKmRrJRn",
        "outputId": "da4cb8fa-2172-42bd-c041-78acfd4af779"
      },
      "source": [
        "from google.colab import auth\n",
        "auth.authenticate_user()\n",
        "print('Authenticated')"
      ],
      "execution_count": null,
      "outputs": [
        {
          "name": "stdout",
          "output_type": "stream",
          "text": [
            "Go to the following link in your browser:\n",
            "\n",
            "    https://accounts.google.com/o/oauth2/auth?response_type=code&client_id=32555940559.apps.googleusercontent.com&redirect_uri=urn%3Aietf%3Awg%3Aoauth%3A2.0%3Aoob&scope=openid+https%3A%2F%2Fwww.googleapis.com%2Fauth%2Fuserinfo.email+https%3A%2F%2Fwww.googleapis.com%2Fauth%2Fcloud-platform+https%3A%2F%2Fwww.googleapis.com%2Fauth%2Fappengine.admin+https%3A%2F%2Fwww.googleapis.com%2Fauth%2Fcompute+https%3A%2F%2Fwww.googleapis.com%2Fauth%2Faccounts.reauth+https%3A%2F%2Fwww.googleapis.com%2Fauth%2Fdrive&state=QSKD1I6mMdWOPsUp2HUy5aL6wUlftR&prompt=consent&access_type=offline&code_challenge=N9R_AdnMWfj_GpsrD3FPHckar4js21Z8dcKy1N4EvXs&code_challenge_method=S256\n",
            "\n",
            "Enter verification code: alexpereira\n"
          ]
        },
        {
          "output_type": "error",
          "ename": "AuthorizationError",
          "evalue": "ignored",
          "traceback": [
            "\u001b[0;31m---------------------------------------------------------------------------\u001b[0m",
            "\u001b[0;31mAuthorizationError\u001b[0m                        Traceback (most recent call last)",
            "\u001b[0;32m<ipython-input-1-93f8cbc33ddf>\u001b[0m in \u001b[0;36m<module>\u001b[0;34m()\u001b[0m\n\u001b[1;32m      1\u001b[0m \u001b[0;32mfrom\u001b[0m \u001b[0mgoogle\u001b[0m\u001b[0;34m.\u001b[0m\u001b[0mcolab\u001b[0m \u001b[0;32mimport\u001b[0m \u001b[0mauth\u001b[0m\u001b[0;34m\u001b[0m\u001b[0;34m\u001b[0m\u001b[0m\n\u001b[0;32m----> 2\u001b[0;31m \u001b[0mauth\u001b[0m\u001b[0;34m.\u001b[0m\u001b[0mauthenticate_user\u001b[0m\u001b[0;34m(\u001b[0m\u001b[0;34m)\u001b[0m\u001b[0;34m\u001b[0m\u001b[0;34m\u001b[0m\u001b[0m\n\u001b[0m\u001b[1;32m      3\u001b[0m \u001b[0mprint\u001b[0m\u001b[0;34m(\u001b[0m\u001b[0;34m'Authenticated'\u001b[0m\u001b[0;34m)\u001b[0m\u001b[0;34m\u001b[0m\u001b[0;34m\u001b[0m\u001b[0m\n",
            "\u001b[0;32m/usr/local/lib/python3.7/dist-packages/google/colab/auth.py\u001b[0m in \u001b[0;36mauthenticate_user\u001b[0;34m(clear_output)\u001b[0m\n\u001b[1;32m    151\u001b[0m     \u001b[0mcontext_manager\u001b[0m \u001b[0;34m=\u001b[0m \u001b[0m_output\u001b[0m\u001b[0;34m.\u001b[0m\u001b[0mtemporary\u001b[0m \u001b[0;32mif\u001b[0m \u001b[0mclear_output\u001b[0m \u001b[0;32melse\u001b[0m \u001b[0m_noop\u001b[0m\u001b[0;34m\u001b[0m\u001b[0;34m\u001b[0m\u001b[0m\n\u001b[1;32m    152\u001b[0m     \u001b[0;32mwith\u001b[0m \u001b[0mcontext_manager\u001b[0m\u001b[0;34m(\u001b[0m\u001b[0;34m)\u001b[0m\u001b[0;34m:\u001b[0m\u001b[0;34m\u001b[0m\u001b[0;34m\u001b[0m\u001b[0m\n\u001b[0;32m--> 153\u001b[0;31m       \u001b[0m_gcloud_login\u001b[0m\u001b[0;34m(\u001b[0m\u001b[0;34m)\u001b[0m\u001b[0;34m\u001b[0m\u001b[0;34m\u001b[0m\u001b[0m\n\u001b[0m\u001b[1;32m    154\u001b[0m     \u001b[0m_install_adc\u001b[0m\u001b[0;34m(\u001b[0m\u001b[0;34m)\u001b[0m\u001b[0;34m\u001b[0m\u001b[0;34m\u001b[0m\u001b[0m\n\u001b[1;32m    155\u001b[0m     \u001b[0mcolab_tpu_addr\u001b[0m \u001b[0;34m=\u001b[0m \u001b[0m_os\u001b[0m\u001b[0;34m.\u001b[0m\u001b[0menviron\u001b[0m\u001b[0;34m.\u001b[0m\u001b[0mget\u001b[0m\u001b[0;34m(\u001b[0m\u001b[0;34m'COLAB_TPU_ADDR'\u001b[0m\u001b[0;34m,\u001b[0m \u001b[0;34m''\u001b[0m\u001b[0;34m)\u001b[0m\u001b[0;34m\u001b[0m\u001b[0;34m\u001b[0m\u001b[0m\n",
            "\u001b[0;32m/usr/local/lib/python3.7/dist-packages/google/colab/auth.py\u001b[0m in \u001b[0;36m_gcloud_login\u001b[0;34m()\u001b[0m\n\u001b[1;32m     99\u001b[0m     \u001b[0m_os\u001b[0m\u001b[0;34m.\u001b[0m\u001b[0mremove\u001b[0m\u001b[0;34m(\u001b[0m\u001b[0mname\u001b[0m\u001b[0;34m)\u001b[0m\u001b[0;34m\u001b[0m\u001b[0;34m\u001b[0m\u001b[0m\n\u001b[1;32m    100\u001b[0m   \u001b[0;32mif\u001b[0m \u001b[0mgcloud_process\u001b[0m\u001b[0;34m.\u001b[0m\u001b[0mreturncode\u001b[0m\u001b[0;34m:\u001b[0m\u001b[0;34m\u001b[0m\u001b[0;34m\u001b[0m\u001b[0m\n\u001b[0;32m--> 101\u001b[0;31m     \u001b[0;32mraise\u001b[0m \u001b[0m_errors\u001b[0m\u001b[0;34m.\u001b[0m\u001b[0mAuthorizationError\u001b[0m\u001b[0;34m(\u001b[0m\u001b[0;34m'Error fetching credentials'\u001b[0m\u001b[0;34m)\u001b[0m\u001b[0;34m\u001b[0m\u001b[0;34m\u001b[0m\u001b[0m\n\u001b[0m\u001b[1;32m    102\u001b[0m \u001b[0;34m\u001b[0m\u001b[0m\n\u001b[1;32m    103\u001b[0m \u001b[0;34m\u001b[0m\u001b[0m\n",
            "\u001b[0;31mAuthorizationError\u001b[0m: Error fetching credentials"
          ]
        }
      ]
    },
    {
      "cell_type": "markdown",
      "metadata": {
        "id": "8s4jTg8whNNe"
      },
      "source": [
        "## Pré-processamento dos centroides dos municipios"
      ]
    },
    {
      "cell_type": "markdown",
      "metadata": {
        "id": "mPxPT4bAurG3"
      },
      "source": [
        "### Solução 1 - Processamento do arquivo de banco de dados (dbf)\n",
        "\n",
        "\n"
      ]
    },
    {
      "cell_type": "code",
      "metadata": {
        "colab": {
          "base_uri": "https://localhost:8080/"
        },
        "id": "VyoV79hsf1nP",
        "outputId": "fdd8595f-8181-4b35-9e29-6f39349bab0a"
      },
      "source": [
        "!pip install dbf"
      ],
      "execution_count": null,
      "outputs": [
        {
          "output_type": "stream",
          "name": "stdout",
          "text": [
            "Collecting dbf\n",
            "  Downloading dbf-0.99.1-py3-none-any.whl (107 kB)\n",
            "\u001b[?25l\r\u001b[K     |███                             | 10 kB 23.3 MB/s eta 0:00:01\r\u001b[K     |██████▏                         | 20 kB 11.0 MB/s eta 0:00:01\r\u001b[K     |█████████▏                      | 30 kB 8.9 MB/s eta 0:00:01\r\u001b[K     |████████████▎                   | 40 kB 8.0 MB/s eta 0:00:01\r\u001b[K     |███████████████▎                | 51 kB 4.4 MB/s eta 0:00:01\r\u001b[K     |██████████████████▍             | 61 kB 4.6 MB/s eta 0:00:01\r\u001b[K     |█████████████████████▍          | 71 kB 4.6 MB/s eta 0:00:01\r\u001b[K     |████████████████████████▌       | 81 kB 5.2 MB/s eta 0:00:01\r\u001b[K     |███████████████████████████▌    | 92 kB 5.3 MB/s eta 0:00:01\r\u001b[K     |██████████████████████████████▋ | 102 kB 4.4 MB/s eta 0:00:01\r\u001b[K     |████████████████████████████████| 107 kB 4.4 MB/s \n",
            "\u001b[?25hCollecting aenum\n",
            "  Downloading aenum-3.1.5-py3-none-any.whl (128 kB)\n",
            "\u001b[K     |████████████████████████████████| 128 kB 30.5 MB/s \n",
            "\u001b[?25hInstalling collected packages: aenum, dbf\n",
            "Successfully installed aenum-3.1.5 dbf-0.99.1\n"
          ]
        }
      ]
    },
    {
      "cell_type": "code",
      "metadata": {
        "colab": {
          "base_uri": "https://localhost:8080/"
        },
        "id": "Pirb1jvpgD_X",
        "outputId": "1e301734-d8ea-4806-8a5b-97e4cc467bf3"
      },
      "source": [
        "#Fonte oficial https://www.ibge.gov.br/geociencias/organizacao-do-territorio/estrutura-territorial/27385-localidades.html?=&t=downloads\n",
        "\n",
        "!wget https://github.com/renatocol/Latitude_Longitude_Brasil/raw/master/BR_Localidades_2010.dbf"
      ],
      "execution_count": null,
      "outputs": [
        {
          "output_type": "stream",
          "name": "stdout",
          "text": [
            "--2021-11-23 17:03:14--  https://github.com/renatocol/Latitude_Longitude_Brasil/raw/master/BR_Localidades_2010.dbf\n",
            "Resolving github.com (github.com)... 52.69.186.44\n",
            "Connecting to github.com (github.com)|52.69.186.44|:443... connected.\n",
            "HTTP request sent, awaiting response... 302 Found\n",
            "Location: https://raw.githubusercontent.com/renatocol/Latitude_Longitude_Brasil/master/BR_Localidades_2010.dbf [following]\n",
            "--2021-11-23 17:03:15--  https://raw.githubusercontent.com/renatocol/Latitude_Longitude_Brasil/master/BR_Localidades_2010.dbf\n",
            "Resolving raw.githubusercontent.com (raw.githubusercontent.com)... 185.199.108.133, 185.199.110.133, 185.199.111.133, ...\n",
            "Connecting to raw.githubusercontent.com (raw.githubusercontent.com)|185.199.108.133|:443... connected.\n",
            "HTTP request sent, awaiting response... 200 OK\n",
            "Length: 17794056 (17M) [application/octet-stream]\n",
            "Saving to: ‘BR_Localidades_2010.dbf’\n",
            "\n",
            "BR_Localidades_2010 100%[===================>]  16.97M   107MB/s    in 0.2s    \n",
            "\n",
            "2021-11-23 17:03:16 (107 MB/s) - ‘BR_Localidades_2010.dbf’ saved [17794056/17794056]\n",
            "\n"
          ]
        }
      ]
    },
    {
      "cell_type": "code",
      "metadata": {
        "id": "ktT6o9e3d9Ia"
      },
      "source": [
        "import dbf\n",
        "import pandas as pd\n",
        "\n",
        "table = dbf.Table(filename='./BR_Localidades_2010.dbf')\n",
        "table.open(dbf.READ_ONLY)\n",
        "df = pd.DataFrame(table)\n",
        "table.close()\n",
        "\n",
        "print(df)"
      ],
      "execution_count": null,
      "outputs": []
    },
    {
      "cell_type": "code",
      "metadata": {
        "id": "HzYZaPcYfzjt"
      },
      "source": [
        "df.head()"
      ],
      "execution_count": null,
      "outputs": []
    },
    {
      "cell_type": "code",
      "metadata": {
        "id": "B10zY5Teq3wH"
      },
      "source": [
        "\n",
        "# Equivalente SQL: select col9 as cod_ibge, col16 as categoria, col18 as long, col19 as lat from df\n",
        "df_geo = df[[9,16,18,19]].rename(columns={9:\"cod_ibge\", 16:\"categoria\", 18:\"long\", 19:\"lat\"})\n",
        "df_geo['cod_ibge'] = df_geo['cod_ibge'].str.strip()\n",
        "df_geo['categoria'] = df_geo['categoria'].str.strip()\n",
        "df_geo = df_geo[df_geo['categoria']=='CIDADE']\n",
        "df_geo.info()"
      ],
      "execution_count": null,
      "outputs": []
    },
    {
      "cell_type": "code",
      "metadata": {
        "id": "r8miF1NlhC8E"
      },
      "source": [
        "df_geo['lat_long'] = df_geo[['lat','long']].apply(lambda x: f\"{str(x['lat']).replace(',','.')},{str(x['long']).replace(',','.')}\", axis=1)\n",
        "df_geo.head()"
      ],
      "execution_count": null,
      "outputs": []
    },
    {
      "cell_type": "markdown",
      "metadata": {
        "id": "5n8vHEwL8CYs"
      },
      "source": [
        "### Solução 2 - Converter o arquivo dbf para xlsx usando o excel. Processar o arquivo xlsx com o pandas\n",
        "#### Vantagem: mais rápido do que o pandas processar o arquivo dbf.\n",
        "#### URL do arquivo exportado para xlsx https://github.com/alexlopespereira/enapespcd2021/raw/main/data/originais/centroide_municipios/BR_Localidades_2010_v1.xlsx"
      ]
    },
    {
      "cell_type": "code",
      "metadata": {
        "id": "ahpYLTYhbS5j"
      },
      "source": [
        "df_xlsx = pd.read_excel('https://github.com/alexlopespereira/enapespcd2021/raw/main/data/originais/centroide_municipios/BR_Localidades_2010_v1.xlsx', dtype={\"CD_GEOCODM,C,20\":str})\n",
        "df_xlsx.head()"
      ],
      "execution_count": null,
      "outputs": []
    },
    {
      "cell_type": "code",
      "metadata": {
        "id": "1vkv7S9U_Qyg"
      },
      "source": [
        "dfxlsx_geo = df_xlsx[['CD_GEOCODM,C,20','NM_CATEGOR,C,50','LONG,N,24,6','LAT,N,24,6']].rename(columns={'CD_GEOCODM,C,20':\"cod_ibge\", 'NM_CATEGOR,C,50':\"categoria\", 'LONG,N,24,6':\"long\", 'LAT,N,24,6':\"lat\"})\n",
        "dfxlsx_geo.head()"
      ],
      "execution_count": null,
      "outputs": []
    },
    {
      "cell_type": "code",
      "metadata": {
        "id": "ODzvpflCABeU"
      },
      "source": [
        "# dfxlsx_geo['cod_ibge'] = dfxlsx_geo['cod_ibge'].str.strip()\n",
        "dfxlsx_geo['categoria'] = dfxlsx_geo['categoria'].str.strip()\n",
        "dfxlsx_geo = dfxlsx_geo[dfxlsx_geo['categoria']=='CIDADE']\n",
        "dfxlsx_geo['lat_long'] = dfxlsx_geo[['lat','long']].apply(lambda x: f\"{str(x['lat']).replace(',','.')},{str(x['long']).replace(',','.')}\", axis=1)\n",
        "dfxlsx_geo.head()"
      ],
      "execution_count": null,
      "outputs": []
    },
    {
      "cell_type": "markdown",
      "metadata": {
        "id": "nYvsKDhykTRA"
      },
      "source": [
        "## Join com a tabela de PIB per capita"
      ]
    },
    {
      "cell_type": "code",
      "metadata": {
        "id": "nr473Gngi9k0"
      },
      "source": [
        ""
      ],
      "execution_count": null,
      "outputs": []
    },
    {
      "cell_type": "code",
      "metadata": {
        "colab": {
          "base_uri": "https://localhost:8080/",
          "height": 213
        },
        "id": "_5n6tiX_mgHj",
        "outputId": "2d29fe39-9921-4dd1-cb56-2742339e0763"
      },
      "source": [
        "import pandas as pd\n",
        "## Defina o id do seu projeto no bigquery!!!!!\n",
        "# project_id = 'enap-331414' # Defina o id do seu projeto no bigquery!!!!!\n",
        "  project_id = 'enap-sao00001' # Defina o id do seu projeto no bigquery!!!!!## Defina o id do seu projeto no bigquery!!!!!\n",
        "\n",
        "df_pibpercapita = pd.io.gbq.read_gbq('''\n",
        "SELECT pop.*, dsc.nome_municipio, pib.pib, pib.pib/pop.populacao as pibpercapita FROM `basedosdados.br_ibge_populacao.municipio` pop\n",
        "LEFT JOIN `basedosdados.br_ibge_pib.municipio` pib on pop.id_municipio = pib.id_municipio and pib.ano = pop.ano\n",
        "LEFT JOIN (\n",
        "    select distinct (sc.id_municipio), sc.nome_municipio from `basedosdados.br_geobr_mapas.setor_censitario_2010` sc\n",
        "    ) as dsc on dsc.id_municipio = pop.id_municipio\n",
        "''', project_id=project_id)\n",
        "\n",
        "df_pibpercapita.head()"
      ],
      "execution_count": null,
      "outputs": [
        {
          "output_type": "execute_result",
          "data": {
            "text/html": [
              "<div>\n",
              "<style scoped>\n",
              "    .dataframe tbody tr th:only-of-type {\n",
              "        vertical-align: middle;\n",
              "    }\n",
              "\n",
              "    .dataframe tbody tr th {\n",
              "        vertical-align: top;\n",
              "    }\n",
              "\n",
              "    .dataframe thead th {\n",
              "        text-align: right;\n",
              "    }\n",
              "</style>\n",
              "<table border=\"1\" class=\"dataframe\">\n",
              "  <thead>\n",
              "    <tr style=\"text-align: right;\">\n",
              "      <th></th>\n",
              "      <th>ano</th>\n",
              "      <th>sigla_uf</th>\n",
              "      <th>id_municipio</th>\n",
              "      <th>populacao</th>\n",
              "      <th>nome_municipio</th>\n",
              "      <th>pib</th>\n",
              "      <th>pibpercapita</th>\n",
              "    </tr>\n",
              "  </thead>\n",
              "  <tbody>\n",
              "    <tr>\n",
              "      <th>0</th>\n",
              "      <td>1991</td>\n",
              "      <td>RO</td>\n",
              "      <td>1100015</td>\n",
              "      <td>31981.0</td>\n",
              "      <td>Alta Floresta D'oeste</td>\n",
              "      <td>NaN</td>\n",
              "      <td>NaN</td>\n",
              "    </tr>\n",
              "    <tr>\n",
              "      <th>1</th>\n",
              "      <td>1992</td>\n",
              "      <td>RO</td>\n",
              "      <td>1100015</td>\n",
              "      <td>34768.0</td>\n",
              "      <td>Alta Floresta D'oeste</td>\n",
              "      <td>NaN</td>\n",
              "      <td>NaN</td>\n",
              "    </tr>\n",
              "    <tr>\n",
              "      <th>2</th>\n",
              "      <td>1993</td>\n",
              "      <td>RO</td>\n",
              "      <td>1100015</td>\n",
              "      <td>37036.0</td>\n",
              "      <td>Alta Floresta D'oeste</td>\n",
              "      <td>NaN</td>\n",
              "      <td>NaN</td>\n",
              "    </tr>\n",
              "    <tr>\n",
              "      <th>3</th>\n",
              "      <td>1994</td>\n",
              "      <td>RO</td>\n",
              "      <td>1100015</td>\n",
              "      <td>39325.0</td>\n",
              "      <td>Alta Floresta D'oeste</td>\n",
              "      <td>NaN</td>\n",
              "      <td>NaN</td>\n",
              "    </tr>\n",
              "    <tr>\n",
              "      <th>4</th>\n",
              "      <td>1995</td>\n",
              "      <td>RO</td>\n",
              "      <td>1100015</td>\n",
              "      <td>41574.0</td>\n",
              "      <td>Alta Floresta D'oeste</td>\n",
              "      <td>NaN</td>\n",
              "      <td>NaN</td>\n",
              "    </tr>\n",
              "  </tbody>\n",
              "</table>\n",
              "</div>"
            ],
            "text/plain": [
              "    ano sigla_uf id_municipio  ...         nome_municipio pib  pibpercapita\n",
              "0  1991       RO      1100015  ...  Alta Floresta D'oeste NaN           NaN\n",
              "1  1992       RO      1100015  ...  Alta Floresta D'oeste NaN           NaN\n",
              "2  1993       RO      1100015  ...  Alta Floresta D'oeste NaN           NaN\n",
              "3  1994       RO      1100015  ...  Alta Floresta D'oeste NaN           NaN\n",
              "4  1995       RO      1100015  ...  Alta Floresta D'oeste NaN           NaN\n",
              "\n",
              "[5 rows x 7 columns]"
            ]
          },
          "metadata": {},
          "execution_count": 26
        }
      ]
    },
    {
      "cell_type": "code",
      "metadata": {
        "colab": {
          "base_uri": "https://localhost:8080/",
          "height": 213
        },
        "id": "d9D71W9Aqi1q",
        "outputId": "36349656-cf0c-498a-b7e4-fbfa41943db0"
      },
      "source": [
        "#Algebra relacional: Join. Ou seja, junção de tabelas.\n",
        "df_merge = df_pibpercapita.merge(df_geo[['cod_ibge','lat_long']], how='left', left_on='id_municipio', right_on='cod_ibge') \n",
        "df_merge.head()"
      ],
      "execution_count": null,
      "outputs": [
        {
          "output_type": "execute_result",
          "data": {
            "text/html": [
              "<div>\n",
              "<style scoped>\n",
              "    .dataframe tbody tr th:only-of-type {\n",
              "        vertical-align: middle;\n",
              "    }\n",
              "\n",
              "    .dataframe tbody tr th {\n",
              "        vertical-align: top;\n",
              "    }\n",
              "\n",
              "    .dataframe thead th {\n",
              "        text-align: right;\n",
              "    }\n",
              "</style>\n",
              "<table border=\"1\" class=\"dataframe\">\n",
              "  <thead>\n",
              "    <tr style=\"text-align: right;\">\n",
              "      <th></th>\n",
              "      <th>ano</th>\n",
              "      <th>sigla_uf</th>\n",
              "      <th>id_municipio</th>\n",
              "      <th>populacao</th>\n",
              "      <th>nome_municipio</th>\n",
              "      <th>pib</th>\n",
              "      <th>pibpercapita</th>\n",
              "      <th>cod_ibge</th>\n",
              "      <th>lat_long</th>\n",
              "    </tr>\n",
              "  </thead>\n",
              "  <tbody>\n",
              "    <tr>\n",
              "      <th>0</th>\n",
              "      <td>1991</td>\n",
              "      <td>RO</td>\n",
              "      <td>1100015</td>\n",
              "      <td>31981.0</td>\n",
              "      <td>Alta Floresta D'oeste</td>\n",
              "      <td>NaN</td>\n",
              "      <td>NaN</td>\n",
              "      <td>1100015</td>\n",
              "      <td>-11.9355403048,-61.9998238963</td>\n",
              "    </tr>\n",
              "    <tr>\n",
              "      <th>1</th>\n",
              "      <td>1992</td>\n",
              "      <td>RO</td>\n",
              "      <td>1100015</td>\n",
              "      <td>34768.0</td>\n",
              "      <td>Alta Floresta D'oeste</td>\n",
              "      <td>NaN</td>\n",
              "      <td>NaN</td>\n",
              "      <td>1100015</td>\n",
              "      <td>-11.9355403048,-61.9998238963</td>\n",
              "    </tr>\n",
              "    <tr>\n",
              "      <th>2</th>\n",
              "      <td>1993</td>\n",
              "      <td>RO</td>\n",
              "      <td>1100015</td>\n",
              "      <td>37036.0</td>\n",
              "      <td>Alta Floresta D'oeste</td>\n",
              "      <td>NaN</td>\n",
              "      <td>NaN</td>\n",
              "      <td>1100015</td>\n",
              "      <td>-11.9355403048,-61.9998238963</td>\n",
              "    </tr>\n",
              "    <tr>\n",
              "      <th>3</th>\n",
              "      <td>1994</td>\n",
              "      <td>RO</td>\n",
              "      <td>1100015</td>\n",
              "      <td>39325.0</td>\n",
              "      <td>Alta Floresta D'oeste</td>\n",
              "      <td>NaN</td>\n",
              "      <td>NaN</td>\n",
              "      <td>1100015</td>\n",
              "      <td>-11.9355403048,-61.9998238963</td>\n",
              "    </tr>\n",
              "    <tr>\n",
              "      <th>4</th>\n",
              "      <td>1995</td>\n",
              "      <td>RO</td>\n",
              "      <td>1100015</td>\n",
              "      <td>41574.0</td>\n",
              "      <td>Alta Floresta D'oeste</td>\n",
              "      <td>NaN</td>\n",
              "      <td>NaN</td>\n",
              "      <td>1100015</td>\n",
              "      <td>-11.9355403048,-61.9998238963</td>\n",
              "    </tr>\n",
              "  </tbody>\n",
              "</table>\n",
              "</div>"
            ],
            "text/plain": [
              "    ano sigla_uf  ... cod_ibge                       lat_long\n",
              "0  1991       RO  ...  1100015  -11.9355403048,-61.9998238963\n",
              "1  1992       RO  ...  1100015  -11.9355403048,-61.9998238963\n",
              "2  1993       RO  ...  1100015  -11.9355403048,-61.9998238963\n",
              "3  1994       RO  ...  1100015  -11.9355403048,-61.9998238963\n",
              "4  1995       RO  ...  1100015  -11.9355403048,-61.9998238963\n",
              "\n",
              "[5 rows x 9 columns]"
            ]
          },
          "metadata": {},
          "execution_count": 30
        }
      ]
    },
    {
      "cell_type": "code",
      "metadata": {
        "colab": {
          "base_uri": "https://localhost:8080/",
          "height": 213
        },
        "id": "WosvyRJrvnau",
        "outputId": "a2b70df1-987e-4f20-ca55-837b72f79376"
      },
      "source": [
        "del df_merge['cod_ibge']\n",
        "df_merge.head()"
      ],
      "execution_count": null,
      "outputs": [
        {
          "output_type": "execute_result",
          "data": {
            "text/html": [
              "<div>\n",
              "<style scoped>\n",
              "    .dataframe tbody tr th:only-of-type {\n",
              "        vertical-align: middle;\n",
              "    }\n",
              "\n",
              "    .dataframe tbody tr th {\n",
              "        vertical-align: top;\n",
              "    }\n",
              "\n",
              "    .dataframe thead th {\n",
              "        text-align: right;\n",
              "    }\n",
              "</style>\n",
              "<table border=\"1\" class=\"dataframe\">\n",
              "  <thead>\n",
              "    <tr style=\"text-align: right;\">\n",
              "      <th></th>\n",
              "      <th>ano</th>\n",
              "      <th>sigla_uf</th>\n",
              "      <th>id_municipio</th>\n",
              "      <th>populacao</th>\n",
              "      <th>nome_municipio</th>\n",
              "      <th>pib</th>\n",
              "      <th>pibpercapita</th>\n",
              "      <th>lat_long</th>\n",
              "    </tr>\n",
              "  </thead>\n",
              "  <tbody>\n",
              "    <tr>\n",
              "      <th>0</th>\n",
              "      <td>1991</td>\n",
              "      <td>RO</td>\n",
              "      <td>1100015</td>\n",
              "      <td>31981.0</td>\n",
              "      <td>Alta Floresta D'oeste</td>\n",
              "      <td>NaN</td>\n",
              "      <td>NaN</td>\n",
              "      <td>-11.9355403048,-61.9998238963</td>\n",
              "    </tr>\n",
              "    <tr>\n",
              "      <th>1</th>\n",
              "      <td>1992</td>\n",
              "      <td>RO</td>\n",
              "      <td>1100015</td>\n",
              "      <td>34768.0</td>\n",
              "      <td>Alta Floresta D'oeste</td>\n",
              "      <td>NaN</td>\n",
              "      <td>NaN</td>\n",
              "      <td>-11.9355403048,-61.9998238963</td>\n",
              "    </tr>\n",
              "    <tr>\n",
              "      <th>2</th>\n",
              "      <td>1993</td>\n",
              "      <td>RO</td>\n",
              "      <td>1100015</td>\n",
              "      <td>37036.0</td>\n",
              "      <td>Alta Floresta D'oeste</td>\n",
              "      <td>NaN</td>\n",
              "      <td>NaN</td>\n",
              "      <td>-11.9355403048,-61.9998238963</td>\n",
              "    </tr>\n",
              "    <tr>\n",
              "      <th>3</th>\n",
              "      <td>1994</td>\n",
              "      <td>RO</td>\n",
              "      <td>1100015</td>\n",
              "      <td>39325.0</td>\n",
              "      <td>Alta Floresta D'oeste</td>\n",
              "      <td>NaN</td>\n",
              "      <td>NaN</td>\n",
              "      <td>-11.9355403048,-61.9998238963</td>\n",
              "    </tr>\n",
              "    <tr>\n",
              "      <th>4</th>\n",
              "      <td>1995</td>\n",
              "      <td>RO</td>\n",
              "      <td>1100015</td>\n",
              "      <td>41574.0</td>\n",
              "      <td>Alta Floresta D'oeste</td>\n",
              "      <td>NaN</td>\n",
              "      <td>NaN</td>\n",
              "      <td>-11.9355403048,-61.9998238963</td>\n",
              "    </tr>\n",
              "  </tbody>\n",
              "</table>\n",
              "</div>"
            ],
            "text/plain": [
              "    ano sigla_uf id_municipio  ...  pib pibpercapita                       lat_long\n",
              "0  1991       RO      1100015  ...  NaN          NaN  -11.9355403048,-61.9998238963\n",
              "1  1992       RO      1100015  ...  NaN          NaN  -11.9355403048,-61.9998238963\n",
              "2  1993       RO      1100015  ...  NaN          NaN  -11.9355403048,-61.9998238963\n",
              "3  1994       RO      1100015  ...  NaN          NaN  -11.9355403048,-61.9998238963\n",
              "4  1995       RO      1100015  ...  NaN          NaN  -11.9355403048,-61.9998238963\n",
              "\n",
              "[5 rows x 8 columns]"
            ]
          },
          "metadata": {},
          "execution_count": 31
        }
      ]
    },
    {
      "cell_type": "code",
      "metadata": {
        "id": "0YKoGDIAth9_"
      },
      "source": [
        "project_id = 'enap-331414'"
      ],
      "execution_count": null,
      "outputs": []
    },
    {
      "cell_type": "code",
      "metadata": {
        "colab": {
          "base_uri": "https://localhost:8080/"
        },
        "id": "sAQVQ0UPvtq-",
        "outputId": "410e0373-bd99-4949-9fd2-851e4f80f22c"
      },
      "source": [
        "df_merge.to_gbq(\"enapdatasets.pibpercapita\",\n",
        "              project_id=project_id,\n",
        "              chunksize=40000,\n",
        "              if_exists='replace',\n",
        "              )"
      ],
      "execution_count": null,
      "outputs": [
        {
          "output_type": "stream",
          "name": "stderr",
          "text": [
            "5it [00:20,  4.06s/it]\n"
          ]
        }
      ]
    },
    {
      "cell_type": "code",
      "metadata": {
        "id": "gwkndoZSjDiI"
      },
      "source": [
        ""
      ],
      "execution_count": null,
      "outputs": []
    }
  ]
}