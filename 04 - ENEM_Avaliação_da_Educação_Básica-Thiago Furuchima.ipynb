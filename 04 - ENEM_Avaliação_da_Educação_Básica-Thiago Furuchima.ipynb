{
  "nbformat": 4,
  "nbformat_minor": 0,
  "metadata": {
    "colab": {
      "name": "ENEM - Avaliação da Educação Básica.ipynb",
      "provenance": [],
      "collapsed_sections": [],
      "include_colab_link": true
    },
    "kernelspec": {
      "name": "python3",
      "display_name": "Python 3"
    },
    "language_info": {
      "name": "python"
    }
  },
  "cells": [
    {
      "cell_type": "markdown",
      "metadata": {
        "id": "view-in-github",
        "colab_type": "text"
      },
      "source": [
        "<a href=\"https://colab.research.google.com/github/SergioaA64/SergioaA64/blob/main/04%20-%20ENEM_Avalia%C3%A7%C3%A3o_da_Educa%C3%A7%C3%A3o_B%C3%A1sica-Thiago%20Furuchima.ipynb\" target=\"_parent\"><img src=\"https://colab.research.google.com/assets/colab-badge.svg\" alt=\"Open In Colab\"/></a>"
      ]
    },
    {
      "cell_type": "markdown",
      "metadata": {
        "id": "61w-3uR0KOK_"
      },
      "source": [
        "## 1. Entendimento do Problema"
      ]
    },
    {
      "cell_type": "markdown",
      "metadata": {
        "id": "suqBjPtv-iZ2"
      },
      "source": [
        "> O Exame Nacional do Ensino Médio (ENEM) é a principal prova de admissão à educação superior no Brasil.\n",
        ">\n",
        "> A nota do ENEM é utilizada por universidades públicas e privadas na seleção de estudantes, bem como constitui requisito para obtenção de bolsas no ProUni ou financiamento através do Fies.\n",
        ">\n",
        "> Em que pese a prova ser realizada principalmente por estudantes jovens egressos do Ensino Médio, é também realizada por adultos que desejam ingressar na educação superior.\n",
        ">\n",
        "> Nesse contexto, o objetivo do trabalho é caracterizar os dois grupos, jovens e adultos, oriundos de escolas públicas, identificando variáveis que podem ser importantes para descrever o desempenho final desses candidatos.\n",
        ">\n",
        "> A base de dados utilizada é a \"Microdados do ENEM 2019\", disponível no [site do INEP](https://www.gov.br/inep/pt-br/acesso-a-informacao/dados-abertos/microdados). "
      ]
    },
    {
      "cell_type": "markdown",
      "metadata": {
        "id": "liFkexIacSwb"
      },
      "source": [
        " ### Análise dos Tipos das Variáveis\n",
        "\n",
        "A base de dados completa possui mais de 400 campos, de modo que apenas o seguinte subconjunto foi considerado na realização desse trabalho:\n",
        "\n",
        "> Variáveis Quantitativas:\n",
        "*   NU_IDADE - Idade\n",
        "*   NU_NOTA_CN - Ciências da Natureza\n",
        "*   NU_NOTA_CH - Ciências Humanas\n",
        "*   NU_NOTA_MT - Matemática\n",
        "*   NU_NOTA_LC - Linguagens e Códigos\n",
        "*   NU_NOTA_REDACAO - Redação\n",
        "\n",
        "> Variáveis Qualitativas:\n",
        "*   ADULTO - Adulto ou Jovem\n",
        "*   TP_COR_RACA - Cor/Raça\n",
        "*   TP_LINGUA - Idioma de preferência\n",
        "*   Q024_DESC - Candidato possui computador em casa?\n",
        "*   Q025_DESC - Candidato possui internet em casa?"
      ]
    },
    {
      "cell_type": "markdown",
      "metadata": {
        "id": "-M60Z0pxKJ_U"
      },
      "source": [
        "## 2. Preparação dos Dados"
      ]
    },
    {
      "cell_type": "code",
      "metadata": {
        "colab": {
          "base_uri": "https://localhost:8080/"
        },
        "id": "VPvwRCkqyoR_",
        "outputId": "4257dd59-7ae9-4bbf-fa8e-80a73de43d33"
      },
      "source": [
        "# Realiza o download dos microdados do ENEM do site do INEP\n",
        "# ETA aprox. 25 min\n",
        "!wget -q --show-progress https://download.inep.gov.br/microdados/microdados_enem_2019.zip"
      ],
      "execution_count": null,
      "outputs": [
        {
          "output_type": "stream",
          "name": "stdout",
          "text": [
            "--2021-09-01 00:43:13--  https://download.inep.gov.br/microdados/microdados_enem_2019.zip\n",
            "Resolving download.inep.gov.br (download.inep.gov.br)... 200.130.24.15\n",
            "Connecting to download.inep.gov.br (download.inep.gov.br)|200.130.24.15|:443... connected.\n",
            "HTTP request sent, awaiting response... 200 OK\n",
            "Length: 728357831 (695M) [application/zip]\n",
            "Saving to: ‘microdados_enem_2019.zip’\n",
            "\n",
            "microdados_enem_201 100%[===================>] 694.62M   571KB/s    in 19m 50s \n",
            "\n",
            "2021-09-01 01:03:04 (598 KB/s) - ‘microdados_enem_2019.zip’ saved [728357831/728357831]\n",
            "\n"
          ]
        }
      ]
    },
    {
      "cell_type": "code",
      "metadata": {
        "colab": {
          "base_uri": "https://localhost:8080/"
        },
        "id": "HRdJ2zDZy_L_",
        "outputId": "d51c7b9d-6b41-4d2d-febd-8e2c02f736f2"
      },
      "source": [
        "# extrai os microdados para a pasta DADOS\n",
        "!unzip \\\n",
        "-j \\\n",
        "'microdados_enem_2019.zip' \\\n",
        "'DADOS/MICRODADOS_ENEM_2019.csv' \\\n",
        "-d 'DADOS'"
      ],
      "execution_count": null,
      "outputs": [
        {
          "output_type": "stream",
          "name": "stdout",
          "text": [
            "Archive:  microdados_enem_2019.zip\n",
            "  inflating: DADOS/MICRODADOS_ENEM_2019.csv  \n"
          ]
        }
      ]
    },
    {
      "cell_type": "code",
      "metadata": {
        "id": "UsKzldbwVCZR"
      },
      "source": [
        "# importa as bibliotecas\n",
        "import pandas as pd\n",
        "import glob\n",
        "import sqlalchemy\n",
        "import seaborn as sns\n",
        "import matplotlib.pyplot as plt\n",
        "import scipy.stats as stats"
      ],
      "execution_count": null,
      "outputs": []
    },
    {
      "cell_type": "code",
      "metadata": {
        "id": "OVJuMHtrzhFF"
      },
      "source": [
        "# Cria banco de dados SQLite\n",
        "conn = sqlalchemy.create_engine('sqlite:///bd.sqlite')\n",
        "inspector = sqlalchemy.inspect(conn)"
      ],
      "execution_count": null,
      "outputs": []
    },
    {
      "cell_type": "code",
      "metadata": {
        "id": "rNCOwkuqzi2O"
      },
      "source": [
        "# Carrega as informações dos ENEM para uma base SQLite\n",
        "# A carga está sendo realizada com o pandas, em blocos (chunks)\n",
        "# para uma base sqlite, de modo a não estourar a memória do Colab\n",
        "# ETA aprox. 30 min.\n",
        "chunksize = 1e5\n",
        "filename = 'DADOS/MICRODADOS_ENEM_2019.csv'\n",
        "for chunk in pd.read_csv(filename, sep=';', chunksize=chunksize, encoding='iso-8859-1'):\n",
        "  chunk.to_sql('MICRODADOS_ENEM_2019', if_exists='append', con=conn)"
      ],
      "execution_count": null,
      "outputs": []
    },
    {
      "cell_type": "code",
      "metadata": {
        "id": "TQ3se99Dzm__",
        "colab": {
          "base_uri": "https://localhost:8080/"
        },
        "outputId": "7833146f-e5a1-4830-dbab-ca136e747bdf"
      },
      "source": [
        "# Verifica a carga na base SQLite\n",
        "inspector.get_table_names()"
      ],
      "execution_count": null,
      "outputs": [
        {
          "output_type": "execute_result",
          "data": {
            "text/plain": [
              "['MICRODADOS_ENEM_2019']"
            ]
          },
          "metadata": {},
          "execution_count": 6
        }
      ]
    },
    {
      "cell_type": "code",
      "metadata": {
        "id": "aWheHwTrVFOG"
      },
      "source": [
        "# Seleciona informações do enem de alunos de escolas públicas\n",
        "sql = ''' SELECT NU_INSCRICAO,\n",
        "          NU_ANO,\n",
        "          CO_MUNICIPIO_RESIDENCIA,\n",
        "          NO_MUNICIPIO_RESIDENCIA,\n",
        "          CO_UF_RESIDENCIA,\n",
        "          SG_UF_RESIDENCIA,\n",
        "          NU_IDADE,\n",
        "          TP_SEXO,\n",
        "          TP_ESTADO_CIVIL,\n",
        "          TP_COR_RACA,\n",
        "          TP_NACIONALIDADE,\n",
        "          CO_MUNICIPIO_NASCIMENTO,\n",
        "          NO_MUNICIPIO_NASCIMENTO,\n",
        "          CO_UF_NASCIMENTO,\n",
        "          SG_UF_NASCIMENTO,\n",
        "          TP_ST_CONCLUSAO,\n",
        "          TP_ANO_CONCLUIU,\n",
        "          TP_ESCOLA,\n",
        "          TP_ENSINO,\n",
        "          IN_TREINEIRO,\n",
        "          CO_ESCOLA,\n",
        "          CO_MUNICIPIO_ESC,\n",
        "          NO_MUNICIPIO_ESC,\n",
        "          CO_UF_ESC,\n",
        "          SG_UF_ESC,\n",
        "          TP_DEPENDENCIA_ADM_ESC,\n",
        "          TP_LOCALIZACAO_ESC,\n",
        "          TP_SIT_FUNC_ESC,\n",
        "          TP_PRESENCA_CN,\n",
        "          TP_PRESENCA_CH,\n",
        "          TP_PRESENCA_LC,\n",
        "          TP_PRESENCA_MT,\n",
        "          NU_NOTA_CN,\n",
        "          NU_NOTA_CH,\n",
        "          NU_NOTA_LC,\n",
        "          NU_NOTA_MT,\n",
        "          NU_NOTA_REDACAO,\n",
        "          TP_LINGUA,\n",
        "          Q024,\n",
        "          Q025\n",
        "          FROM MICRODADOS_ENEM_2019 ENEM\n",
        "          WHERE TP_ESCOLA = 2 -- Escola Pública\n",
        "          '''\n",
        "df = pd.read_sql_query(sql, conn)"
      ],
      "execution_count": null,
      "outputs": []
    },
    {
      "cell_type": "code",
      "metadata": {
        "colab": {
          "base_uri": "https://localhost:8080/",
          "height": 223
        },
        "id": "tDmWImhQVDnW",
        "outputId": "e9d4ee8f-5f48-4d3f-c79d-2c4a487ea938"
      },
      "source": [
        "df.head()"
      ],
      "execution_count": null,
      "outputs": [
        {
          "output_type": "execute_result",
          "data": {
            "text/html": [
              "<div>\n",
              "<style scoped>\n",
              "    .dataframe tbody tr th:only-of-type {\n",
              "        vertical-align: middle;\n",
              "    }\n",
              "\n",
              "    .dataframe tbody tr th {\n",
              "        vertical-align: top;\n",
              "    }\n",
              "\n",
              "    .dataframe thead th {\n",
              "        text-align: right;\n",
              "    }\n",
              "</style>\n",
              "<table border=\"1\" class=\"dataframe\">\n",
              "  <thead>\n",
              "    <tr style=\"text-align: right;\">\n",
              "      <th></th>\n",
              "      <th>NU_INSCRICAO</th>\n",
              "      <th>NU_ANO</th>\n",
              "      <th>CO_MUNICIPIO_RESIDENCIA</th>\n",
              "      <th>NO_MUNICIPIO_RESIDENCIA</th>\n",
              "      <th>CO_UF_RESIDENCIA</th>\n",
              "      <th>SG_UF_RESIDENCIA</th>\n",
              "      <th>NU_IDADE</th>\n",
              "      <th>TP_SEXO</th>\n",
              "      <th>TP_ESTADO_CIVIL</th>\n",
              "      <th>TP_COR_RACA</th>\n",
              "      <th>TP_NACIONALIDADE</th>\n",
              "      <th>CO_MUNICIPIO_NASCIMENTO</th>\n",
              "      <th>NO_MUNICIPIO_NASCIMENTO</th>\n",
              "      <th>CO_UF_NASCIMENTO</th>\n",
              "      <th>SG_UF_NASCIMENTO</th>\n",
              "      <th>TP_ST_CONCLUSAO</th>\n",
              "      <th>TP_ANO_CONCLUIU</th>\n",
              "      <th>TP_ESCOLA</th>\n",
              "      <th>TP_ENSINO</th>\n",
              "      <th>IN_TREINEIRO</th>\n",
              "      <th>CO_ESCOLA</th>\n",
              "      <th>CO_MUNICIPIO_ESC</th>\n",
              "      <th>NO_MUNICIPIO_ESC</th>\n",
              "      <th>CO_UF_ESC</th>\n",
              "      <th>SG_UF_ESC</th>\n",
              "      <th>TP_DEPENDENCIA_ADM_ESC</th>\n",
              "      <th>TP_LOCALIZACAO_ESC</th>\n",
              "      <th>TP_SIT_FUNC_ESC</th>\n",
              "      <th>TP_PRESENCA_CN</th>\n",
              "      <th>TP_PRESENCA_CH</th>\n",
              "      <th>TP_PRESENCA_LC</th>\n",
              "      <th>TP_PRESENCA_MT</th>\n",
              "      <th>NU_NOTA_CN</th>\n",
              "      <th>NU_NOTA_CH</th>\n",
              "      <th>NU_NOTA_LC</th>\n",
              "      <th>NU_NOTA_MT</th>\n",
              "      <th>NU_NOTA_REDACAO</th>\n",
              "      <th>TP_LINGUA</th>\n",
              "      <th>Q024</th>\n",
              "      <th>Q025</th>\n",
              "    </tr>\n",
              "  </thead>\n",
              "  <tbody>\n",
              "    <tr>\n",
              "      <th>0</th>\n",
              "      <td>190001592266</td>\n",
              "      <td>2019</td>\n",
              "      <td>3550308</td>\n",
              "      <td>São Paulo</td>\n",
              "      <td>35</td>\n",
              "      <td>SP</td>\n",
              "      <td>17.0</td>\n",
              "      <td>M</td>\n",
              "      <td>1</td>\n",
              "      <td>1</td>\n",
              "      <td>1</td>\n",
              "      <td>3550308.0</td>\n",
              "      <td>São Paulo</td>\n",
              "      <td>35.0</td>\n",
              "      <td>SP</td>\n",
              "      <td>2</td>\n",
              "      <td>0</td>\n",
              "      <td>2</td>\n",
              "      <td>1.0</td>\n",
              "      <td>0</td>\n",
              "      <td>NaN</td>\n",
              "      <td>NaN</td>\n",
              "      <td>None</td>\n",
              "      <td>NaN</td>\n",
              "      <td>None</td>\n",
              "      <td>NaN</td>\n",
              "      <td>NaN</td>\n",
              "      <td>NaN</td>\n",
              "      <td>1</td>\n",
              "      <td>1</td>\n",
              "      <td>1</td>\n",
              "      <td>1</td>\n",
              "      <td>543.9</td>\n",
              "      <td>548.1</td>\n",
              "      <td>502.5</td>\n",
              "      <td>480.7</td>\n",
              "      <td>400.0</td>\n",
              "      <td>0</td>\n",
              "      <td>B</td>\n",
              "      <td>B</td>\n",
              "    </tr>\n",
              "    <tr>\n",
              "      <th>1</th>\n",
              "      <td>190001237803</td>\n",
              "      <td>2019</td>\n",
              "      <td>3170206</td>\n",
              "      <td>Uberlândia</td>\n",
              "      <td>31</td>\n",
              "      <td>MG</td>\n",
              "      <td>30.0</td>\n",
              "      <td>F</td>\n",
              "      <td>1</td>\n",
              "      <td>2</td>\n",
              "      <td>1</td>\n",
              "      <td>3170206.0</td>\n",
              "      <td>Uberlândia</td>\n",
              "      <td>31.0</td>\n",
              "      <td>MG</td>\n",
              "      <td>2</td>\n",
              "      <td>0</td>\n",
              "      <td>2</td>\n",
              "      <td>2.0</td>\n",
              "      <td>0</td>\n",
              "      <td>31167835.0</td>\n",
              "      <td>3170206.0</td>\n",
              "      <td>Uberlândia</td>\n",
              "      <td>31.0</td>\n",
              "      <td>MG</td>\n",
              "      <td>2.0</td>\n",
              "      <td>1.0</td>\n",
              "      <td>1.0</td>\n",
              "      <td>0</td>\n",
              "      <td>0</td>\n",
              "      <td>0</td>\n",
              "      <td>0</td>\n",
              "      <td>NaN</td>\n",
              "      <td>NaN</td>\n",
              "      <td>NaN</td>\n",
              "      <td>NaN</td>\n",
              "      <td>NaN</td>\n",
              "      <td>1</td>\n",
              "      <td>A</td>\n",
              "      <td>A</td>\n",
              "    </tr>\n",
              "    <tr>\n",
              "      <th>2</th>\n",
              "      <td>190001692704</td>\n",
              "      <td>2019</td>\n",
              "      <td>4300604</td>\n",
              "      <td>Alvorada</td>\n",
              "      <td>43</td>\n",
              "      <td>RS</td>\n",
              "      <td>18.0</td>\n",
              "      <td>F</td>\n",
              "      <td>1</td>\n",
              "      <td>1</td>\n",
              "      <td>1</td>\n",
              "      <td>4300604.0</td>\n",
              "      <td>Alvorada</td>\n",
              "      <td>43.0</td>\n",
              "      <td>RS</td>\n",
              "      <td>2</td>\n",
              "      <td>0</td>\n",
              "      <td>2</td>\n",
              "      <td>1.0</td>\n",
              "      <td>0</td>\n",
              "      <td>43013945.0</td>\n",
              "      <td>4300604.0</td>\n",
              "      <td>Alvorada</td>\n",
              "      <td>43.0</td>\n",
              "      <td>RS</td>\n",
              "      <td>2.0</td>\n",
              "      <td>1.0</td>\n",
              "      <td>1.0</td>\n",
              "      <td>1</td>\n",
              "      <td>1</td>\n",
              "      <td>1</td>\n",
              "      <td>1</td>\n",
              "      <td>430.4</td>\n",
              "      <td>466.8</td>\n",
              "      <td>515.9</td>\n",
              "      <td>394.1</td>\n",
              "      <td>580.0</td>\n",
              "      <td>1</td>\n",
              "      <td>B</td>\n",
              "      <td>A</td>\n",
              "    </tr>\n",
              "    <tr>\n",
              "      <th>3</th>\n",
              "      <td>190001595660</td>\n",
              "      <td>2019</td>\n",
              "      <td>3523107</td>\n",
              "      <td>Itaquaquecetuba</td>\n",
              "      <td>35</td>\n",
              "      <td>SP</td>\n",
              "      <td>17.0</td>\n",
              "      <td>F</td>\n",
              "      <td>1</td>\n",
              "      <td>2</td>\n",
              "      <td>1</td>\n",
              "      <td>3550308.0</td>\n",
              "      <td>São Paulo</td>\n",
              "      <td>35.0</td>\n",
              "      <td>SP</td>\n",
              "      <td>2</td>\n",
              "      <td>0</td>\n",
              "      <td>2</td>\n",
              "      <td>1.0</td>\n",
              "      <td>0</td>\n",
              "      <td>35006713.0</td>\n",
              "      <td>3530607.0</td>\n",
              "      <td>Mogi das Cruzes</td>\n",
              "      <td>35.0</td>\n",
              "      <td>SP</td>\n",
              "      <td>2.0</td>\n",
              "      <td>1.0</td>\n",
              "      <td>1.0</td>\n",
              "      <td>1</td>\n",
              "      <td>1</td>\n",
              "      <td>1</td>\n",
              "      <td>1</td>\n",
              "      <td>371.8</td>\n",
              "      <td>501.4</td>\n",
              "      <td>518.6</td>\n",
              "      <td>442.0</td>\n",
              "      <td>660.0</td>\n",
              "      <td>1</td>\n",
              "      <td>A</td>\n",
              "      <td>B</td>\n",
              "    </tr>\n",
              "    <tr>\n",
              "      <th>4</th>\n",
              "      <td>190001421552</td>\n",
              "      <td>2019</td>\n",
              "      <td>2919207</td>\n",
              "      <td>Lauro de Freitas</td>\n",
              "      <td>29</td>\n",
              "      <td>BA</td>\n",
              "      <td>17.0</td>\n",
              "      <td>M</td>\n",
              "      <td>1</td>\n",
              "      <td>2</td>\n",
              "      <td>1</td>\n",
              "      <td>2919207.0</td>\n",
              "      <td>Lauro de Freitas</td>\n",
              "      <td>29.0</td>\n",
              "      <td>BA</td>\n",
              "      <td>2</td>\n",
              "      <td>0</td>\n",
              "      <td>2</td>\n",
              "      <td>1.0</td>\n",
              "      <td>0</td>\n",
              "      <td>29398673.0</td>\n",
              "      <td>2919207.0</td>\n",
              "      <td>Lauro de Freitas</td>\n",
              "      <td>29.0</td>\n",
              "      <td>BA</td>\n",
              "      <td>2.0</td>\n",
              "      <td>1.0</td>\n",
              "      <td>1.0</td>\n",
              "      <td>1</td>\n",
              "      <td>1</td>\n",
              "      <td>1</td>\n",
              "      <td>1</td>\n",
              "      <td>567.3</td>\n",
              "      <td>584.1</td>\n",
              "      <td>595.8</td>\n",
              "      <td>704.5</td>\n",
              "      <td>620.0</td>\n",
              "      <td>0</td>\n",
              "      <td>A</td>\n",
              "      <td>B</td>\n",
              "    </tr>\n",
              "  </tbody>\n",
              "</table>\n",
              "</div>"
            ],
            "text/plain": [
              "   NU_INSCRICAO  NU_ANO  CO_MUNICIPIO_RESIDENCIA  ... TP_LINGUA  Q024 Q025\n",
              "0  190001592266    2019                  3550308  ...         0     B    B\n",
              "1  190001237803    2019                  3170206  ...         1     A    A\n",
              "2  190001692704    2019                  4300604  ...         1     B    A\n",
              "3  190001595660    2019                  3523107  ...         1     A    B\n",
              "4  190001421552    2019                  2919207  ...         0     A    B\n",
              "\n",
              "[5 rows x 40 columns]"
            ]
          },
          "metadata": {},
          "execution_count": 8
        }
      ]
    },
    {
      "cell_type": "code",
      "metadata": {
        "colab": {
          "base_uri": "https://localhost:8080/"
        },
        "id": "qnC2jqYl4y0w",
        "outputId": "acf90be2-0181-49c8-da00-0f18dce2bb4f"
      },
      "source": [
        "df.info()"
      ],
      "execution_count": null,
      "outputs": [
        {
          "output_type": "stream",
          "name": "stdout",
          "text": [
            "<class 'pandas.core.frame.DataFrame'>\n",
            "RangeIndex: 1247262 entries, 0 to 1247261\n",
            "Data columns (total 40 columns):\n",
            " #   Column                   Non-Null Count    Dtype  \n",
            "---  ------                   --------------    -----  \n",
            " 0   NU_INSCRICAO             1247262 non-null  int64  \n",
            " 1   NU_ANO                   1247262 non-null  int64  \n",
            " 2   CO_MUNICIPIO_RESIDENCIA  1247262 non-null  int64  \n",
            " 3   NO_MUNICIPIO_RESIDENCIA  1247262 non-null  object \n",
            " 4   CO_UF_RESIDENCIA         1247262 non-null  int64  \n",
            " 5   SG_UF_RESIDENCIA         1247262 non-null  object \n",
            " 6   NU_IDADE                 1247226 non-null  float64\n",
            " 7   TP_SEXO                  1247262 non-null  object \n",
            " 8   TP_ESTADO_CIVIL          1247262 non-null  int64  \n",
            " 9   TP_COR_RACA              1247262 non-null  int64  \n",
            " 10  TP_NACIONALIDADE         1247262 non-null  int64  \n",
            " 11  CO_MUNICIPIO_NASCIMENTO  1203623 non-null  float64\n",
            " 12  NO_MUNICIPIO_NASCIMENTO  1203623 non-null  object \n",
            " 13  CO_UF_NASCIMENTO         1203623 non-null  float64\n",
            " 14  SG_UF_NASCIMENTO         1203623 non-null  object \n",
            " 15  TP_ST_CONCLUSAO          1247262 non-null  int64  \n",
            " 16  TP_ANO_CONCLUIU          1247262 non-null  int64  \n",
            " 17  TP_ESCOLA                1247262 non-null  int64  \n",
            " 18  TP_ENSINO                1139039 non-null  float64\n",
            " 19  IN_TREINEIRO             1247262 non-null  int64  \n",
            " 20  CO_ESCOLA                1015855 non-null  float64\n",
            " 21  CO_MUNICIPIO_ESC         1015855 non-null  float64\n",
            " 22  NO_MUNICIPIO_ESC         1015855 non-null  object \n",
            " 23  CO_UF_ESC                1015855 non-null  float64\n",
            " 24  SG_UF_ESC                1015855 non-null  object \n",
            " 25  TP_DEPENDENCIA_ADM_ESC   1015855 non-null  float64\n",
            " 26  TP_LOCALIZACAO_ESC       1015855 non-null  float64\n",
            " 27  TP_SIT_FUNC_ESC          1015855 non-null  float64\n",
            " 28  TP_PRESENCA_CN           1247262 non-null  int64  \n",
            " 29  TP_PRESENCA_CH           1247262 non-null  int64  \n",
            " 30  TP_PRESENCA_LC           1247262 non-null  int64  \n",
            " 31  TP_PRESENCA_MT           1247262 non-null  int64  \n",
            " 32  NU_NOTA_CN               1011739 non-null  float64\n",
            " 33  NU_NOTA_CH               1066990 non-null  float64\n",
            " 34  NU_NOTA_LC               1066990 non-null  float64\n",
            " 35  NU_NOTA_MT               1011739 non-null  float64\n",
            " 36  NU_NOTA_REDACAO          1066989 non-null  float64\n",
            " 37  TP_LINGUA                1247262 non-null  int64  \n",
            " 38  Q024                     1247262 non-null  object \n",
            " 39  Q025                     1247262 non-null  object \n",
            "dtypes: float64(15), int64(16), object(9)\n",
            "memory usage: 380.6+ MB\n"
          ]
        }
      ]
    },
    {
      "cell_type": "markdown",
      "metadata": {
        "id": "pwkzua2k8KVo"
      },
      "source": [
        "## 3. Análise Exploratória"
      ]
    },
    {
      "cell_type": "markdown",
      "metadata": {
        "id": "w5FH89TlVVt1"
      },
      "source": [
        "Como estamos interessados em entender a relação entre a idade do candidato e o desempenho no ENEM, vamos inicialmente verificar a distribuição da variável NU_IDADE"
      ]
    },
    {
      "cell_type": "code",
      "metadata": {
        "colab": {
          "base_uri": "https://localhost:8080/"
        },
        "id": "ridRAfOEIvqe",
        "outputId": "c0f2474c-3a5e-4141-8326-af03c95ae2c0"
      },
      "source": [
        "# Verifica a qtd de dados nulos no campo NU_IDADE\n",
        "df['NU_IDADE'].isna().sum()"
      ],
      "execution_count": null,
      "outputs": [
        {
          "output_type": "execute_result",
          "data": {
            "text/plain": [
              "36"
            ]
          },
          "metadata": {},
          "execution_count": 10
        }
      ]
    },
    {
      "cell_type": "code",
      "metadata": {
        "colab": {
          "base_uri": "https://localhost:8080/"
        },
        "id": "CWwnuBnYp-eX",
        "outputId": "ebcdee28-7d74-43dd-be14-115893ff0b27"
      },
      "source": [
        "# Verifica as principais estatísticas descritivas da IDADE\n",
        "df['NU_IDADE'].describe()"
      ],
      "execution_count": null,
      "outputs": [
        {
          "output_type": "execute_result",
          "data": {
            "text/plain": [
              "count    1.247226e+06\n",
              "mean     1.843875e+01\n",
              "std      3.565898e+00\n",
              "min      1.000000e+01\n",
              "25%      1.700000e+01\n",
              "50%      1.800000e+01\n",
              "75%      1.800000e+01\n",
              "max      9.100000e+01\n",
              "Name: NU_IDADE, dtype: float64"
            ]
          },
          "metadata": {},
          "execution_count": 11
        }
      ]
    },
    {
      "cell_type": "code",
      "metadata": {
        "colab": {
          "base_uri": "https://localhost:8080/",
          "height": 282
        },
        "id": "r3vyqnFZ4uOF",
        "outputId": "bda8ec52-68d4-4806-b469-3fc64da7565d"
      },
      "source": [
        "# Plota o Boxplot da Idade\n",
        "df['NU_IDADE'].plot(kind='box')\n",
        "plt.title(\"Boxplot - Idade\")\n",
        "plt.show()"
      ],
      "execution_count": null,
      "outputs": [
        {
          "output_type": "display_data",
          "data": {
            "image/png": "[encoded data removed]",
            "text/plain": [
              "<Figure size 432x288 with 1 Axes>"
            ]
          },
          "metadata": {
            "needs_background": "light"
          }
        }
      ]
    },
    {
      "cell_type": "code",
      "metadata": {
        "colab": {
          "base_uri": "https://localhost:8080/",
          "height": 281
        },
        "id": "_L7HJmzY4tCS",
        "outputId": "40bfb904-2983-4d4c-b7ee-857503298dcb"
      },
      "source": [
        "# Plota o histograma da idade\n",
        "df['NU_IDADE'].plot(kind='hist', bins=20)\n",
        "plt.title(\"Boxplot - Idade\")\n",
        "plt.show()"
      ],
      "execution_count": null,
      "outputs": [
        {
          "output_type": "display_data",
          "data": {
            "image/png": "[encoded data removed]",
            "text/plain": [
              "<Figure size 432x288 with 1 Axes>"
            ]
          },
          "metadata": {
            "needs_background": "light"
          }
        }
      ]
    },
    {
      "cell_type": "markdown",
      "metadata": {
        "id": "ZpiSrFHe4bb_"
      },
      "source": [
        "\n",
        "> * A idade média do aluno que realizou o ENEM em 2019 oriundo de escola pública é 18.4 anos\n",
        "> \n",
        "> * O desvio padrão de 3.56\n",
        "> \n",
        "> * A distribuição é \"right skewed\", possuindo quantidade relevante de outliers de grande valor."
      ]
    },
    {
      "cell_type": "markdown",
      "metadata": {
        "id": "JuZlUppUV8gU"
      },
      "source": [
        "> \"Art. 28. Observado o disposto no art. 4º, inciso VII, da Lei nº 9.394/1996, a idade mínima para matrícula em cursos da EJA e para inscrição e realização de exames de conclusão da EJA do Ensino Médio (3º segmento) é de **18 (dezoito) anos** completos.\" [Resolução nº 1, de 28 DE Maio de 2021](https://https://www.in.gov.br/en/web/dou/-/resolucao-n-1-de-28-de-maio-de-2021-323283442)\n",
        "> \n",
        "> Tendo em vista que a idade mínima para ingresso no EJA é 18 anos, vamos definir 19 anos como \"ponto de corte\", uma vez que o aluno levaria no mínimo um ano para concluir as etapas do Ensino Médio.\n",
        "\n"
      ]
    },
    {
      "cell_type": "code",
      "metadata": {
        "id": "wopEbqwwEB8n"
      },
      "source": [
        "# Mapeia o valor para string\n",
        "df['ADULTO'] = (df['NU_IDADE']>=19).map({True: \"Adulto\", \n",
        "                                        False: \"Jovem\"})\n",
        "\n",
        "# Converte a variável qualitativa em category para conveniencia e performance\n",
        "df['ADULTO'] = df['ADULTO'].astype('category')"
      ],
      "execution_count": null,
      "outputs": []
    },
    {
      "cell_type": "code",
      "metadata": {
        "colab": {
          "base_uri": "https://localhost:8080/"
        },
        "id": "r9gw5oQFWcQU",
        "outputId": "0aa16536-0f2c-4749-8066-5c8d12fa84c7"
      },
      "source": [
        "# Verifica as qtds por grupo\n",
        "df['ADULTO'].value_counts()"
      ],
      "execution_count": null,
      "outputs": [
        {
          "output_type": "execute_result",
          "data": {
            "text/plain": [
              "Jovem     980144\n",
              "Adulto    267118\n",
              "Name: ADULTO, dtype: int64"
            ]
          },
          "metadata": {},
          "execution_count": 15
        }
      ]
    },
    {
      "cell_type": "code",
      "metadata": {
        "colab": {
          "base_uri": "https://localhost:8080/"
        },
        "id": "ygo63J3sgoI1",
        "outputId": "75e44710-ad1e-4e8b-9631-d193fe095b33"
      },
      "source": [
        "# Verifica as qtds por grupo (normalizado entre 0 e 1)\n",
        "df['ADULTO'].value_counts(normalize=True)"
      ],
      "execution_count": null,
      "outputs": [
        {
          "output_type": "execute_result",
          "data": {
            "text/plain": [
              "Jovem     0.785836\n",
              "Adulto    0.214164\n",
              "Name: ADULTO, dtype: float64"
            ]
          },
          "metadata": {},
          "execution_count": 16
        }
      ]
    },
    {
      "cell_type": "code",
      "metadata": {
        "colab": {
          "base_uri": "https://localhost:8080/",
          "height": 295
        },
        "id": "-uM1YrFQ62p_",
        "outputId": "26b36c11-bf06-46fc-a064-768615e3937d"
      },
      "source": [
        "# Plota a qtd de candidatos, por grupo\n",
        "sns.countplot(data=df, x='ADULTO')\n",
        "plt.title(\"Percentual de estudantes adultos\")\n",
        "plt.show()"
      ],
      "execution_count": null,
      "outputs": [
        {
          "output_type": "display_data",
          "data": {
            "image/png": "[encoded data removed]",
            "text/plain": [
              "<Figure size 432x288 with 1 Axes>"
            ]
          },
          "metadata": {
            "needs_background": "light"
          }
        }
      ]
    },
    {
      "cell_type": "markdown",
      "metadata": {
        "id": "WW8OCWPTXN8-"
      },
      "source": [
        "> Cerca de 21% da população analisada possui 19 anos de idade ou mais.\n",
        "Definido nosso ponto de corte, passemos a analisar os dois grupos.\n",
        "Nossa primeira verificação será em relação a dados faltantes, especificamente em relação às \"notas faltantes\"."
      ]
    },
    {
      "cell_type": "markdown",
      "metadata": {
        "id": "d6XvJACc-Htm"
      },
      "source": [
        "#### Qual o desempenho do candidato?"
      ]
    },
    {
      "cell_type": "code",
      "metadata": {
        "id": "b58n6Si10XZG"
      },
      "source": [
        "# Calcula a nota total do estudante\n",
        "# CN - Ciências da Natureza\n",
        "# MT - Matemática\n",
        "# CH - Ciências Humanas\n",
        "# LC - Linguagens e Códigos\n",
        "colunas_notas = ['NU_NOTA_CN', 'NU_NOTA_MT', 'NU_NOTA_CH', 'NU_NOTA_LC', 'NU_NOTA_REDACAO']"
      ],
      "execution_count": null,
      "outputs": []
    },
    {
      "cell_type": "code",
      "metadata": {
        "colab": {
          "base_uri": "https://localhost:8080/",
          "height": 142
        },
        "id": "qUCsVeHtXnPy",
        "outputId": "f1a96e38-b67b-48e2-b526-a9528a0d2d8f"
      },
      "source": [
        "# Calcula a quantidade de candidatos que não possuem alguma das notas\n",
        "df.set_index('ADULTO')[colunas_notas].isna().mean(level=0)"
      ],
      "execution_count": null,
      "outputs": [
        {
          "output_type": "execute_result",
          "data": {
            "text/html": [
              "<div>\n",
              "<style scoped>\n",
              "    .dataframe tbody tr th:only-of-type {\n",
              "        vertical-align: middle;\n",
              "    }\n",
              "\n",
              "    .dataframe tbody tr th {\n",
              "        vertical-align: top;\n",
              "    }\n",
              "\n",
              "    .dataframe thead th {\n",
              "        text-align: right;\n",
              "    }\n",
              "</style>\n",
              "<table border=\"1\" class=\"dataframe\">\n",
              "  <thead>\n",
              "    <tr style=\"text-align: right;\">\n",
              "      <th></th>\n",
              "      <th>NU_NOTA_CN</th>\n",
              "      <th>NU_NOTA_MT</th>\n",
              "      <th>NU_NOTA_CH</th>\n",
              "      <th>NU_NOTA_LC</th>\n",
              "      <th>NU_NOTA_REDACAO</th>\n",
              "    </tr>\n",
              "    <tr>\n",
              "      <th>ADULTO</th>\n",
              "      <th></th>\n",
              "      <th></th>\n",
              "      <th></th>\n",
              "      <th></th>\n",
              "      <th></th>\n",
              "    </tr>\n",
              "  </thead>\n",
              "  <tbody>\n",
              "    <tr>\n",
              "      <th>Jovem</th>\n",
              "      <td>0.147316</td>\n",
              "      <td>0.147316</td>\n",
              "      <td>0.107878</td>\n",
              "      <td>0.107878</td>\n",
              "      <td>0.107879</td>\n",
              "    </tr>\n",
              "    <tr>\n",
              "      <th>Adulto</th>\n",
              "      <td>0.341168</td>\n",
              "      <td>0.341168</td>\n",
              "      <td>0.279038</td>\n",
              "      <td>0.279038</td>\n",
              "      <td>0.279038</td>\n",
              "    </tr>\n",
              "  </tbody>\n",
              "</table>\n",
              "</div>"
            ],
            "text/plain": [
              "        NU_NOTA_CN  NU_NOTA_MT  NU_NOTA_CH  NU_NOTA_LC  NU_NOTA_REDACAO\n",
              "ADULTO                                                                 \n",
              "Jovem     0.147316    0.147316    0.107878    0.107878         0.107879\n",
              "Adulto    0.341168    0.341168    0.279038    0.279038         0.279038"
            ]
          },
          "metadata": {},
          "execution_count": 50
        }
      ]
    },
    {
      "cell_type": "code",
      "metadata": {
        "colab": {
          "base_uri": "https://localhost:8080/",
          "height": 319
        },
        "id": "wvHjX8pCYwni",
        "outputId": "73043017-98bc-4c4f-a0fc-b78222381f1f"
      },
      "source": [
        "# Plota o gráfico de barras da qtd de notas nulas por prova e por grupo\n",
        "df.set_index('ADULTO')[colunas_notas].isna().mean(level=0).plot(kind='bar')"
      ],
      "execution_count": null,
      "outputs": [
        {
          "output_type": "execute_result",
          "data": {
            "text/plain": [
              "<matplotlib.axes._subplots.AxesSubplot at 0x7f54b64a9e50>"
            ]
          },
          "metadata": {},
          "execution_count": 51
        },
        {
          "output_type": "display_data",
          "data": {
            "image/png": "[encoded data removed]",
            "text/plain": [
              "<Figure size 432x288 with 1 Axes>"
            ]
          },
          "metadata": {
            "needs_background": "light"
          }
        }
      ]
    },
    {
      "cell_type": "markdown",
      "metadata": {
        "id": "-N8MUROedGjs"
      },
      "source": [
        "> Aqui já temos um importante achado sobre os candidatos adultos: o percentual de alunos sem alguma das notas é mais que o dobro daquele verificado no outro grupo.\n",
        "> \n",
        "> Cerca de 35% dos candidatos adultos oriundos de escolas públicas não possuem nota para as provas de Matemática (MT) e Conhecimentos da Natureza, possivelmente por não terem comparecido para a realização da mesma, uma vez que o ENEM é realizado em mais de um dia.\n",
        "> \n",
        "> Tendo em vista que a grande quantidade de notas faltantes pode impactar nossa análise sobre as notas dos candidatos, vamos desconsiderar os dados nulos nessas colunas, para a análise da \"Nota Total\"."
      ]
    },
    {
      "cell_type": "code",
      "metadata": {
        "id": "E1J7bxiXiNg5"
      },
      "source": [
        "# Calcula a nota total do candidato desconsiderando os registros que possuem notas nulas\n",
        "df['NOTA_TOTAL'] = df.dropna(subset=colunas_notas)[colunas_notas].sum(axis=1)"
      ],
      "execution_count": null,
      "outputs": []
    },
    {
      "cell_type": "code",
      "metadata": {
        "colab": {
          "base_uri": "https://localhost:8080/",
          "height": 295
        },
        "id": "QAP0zY6uhvN-",
        "outputId": "d0047196-1ce6-40da-a6a4-c9f6e4228db9"
      },
      "source": [
        "# Plota o boxplot da Nota Total por grupo\n",
        "sns.boxplot(data=df.dropna(), x='ADULTO', y='NOTA_TOTAL')\n",
        "plt.title(\"Nota Total dos Candidatos\")\n",
        "plt.show()"
      ],
      "execution_count": null,
      "outputs": [
        {
          "output_type": "display_data",
          "data": {
            "image/png": "[encoded data removed]",
            "text/plain": [
              "<Figure size 432x288 with 1 Axes>"
            ]
          },
          "metadata": {
            "needs_background": "light"
          }
        }
      ]
    },
    {
      "cell_type": "code",
      "metadata": {
        "colab": {
          "base_uri": "https://localhost:8080/",
          "height": 281
        },
        "id": "JXpSlAoiigt0",
        "outputId": "05dd374f-76f8-4a54-dc72-4d5d0b7bfeb8"
      },
      "source": [
        "# Plota o histograma da Nota Total por grupo\n",
        "df.dropna().groupby('ADULTO')['NOTA_TOTAL'].plot(kind='hist', alpha=0.2, density=True, bins=20)\n",
        "plt.title(\"Nota do Candidato por grupo\")\n",
        "plt.legend()\n",
        "plt.show()"
      ],
      "execution_count": null,
      "outputs": [
        {
          "output_type": "display_data",
          "data": {
            "image/png": "[encoded data removed]",
            "text/plain": [
              "<Figure size 432x288 with 1 Axes>"
            ]
          },
          "metadata": {
            "needs_background": "light"
          }
        }
      ]
    },
    {
      "cell_type": "code",
      "metadata": {
        "colab": {
          "base_uri": "https://localhost:8080/",
          "height": 142
        },
        "id": "-0GoyMUzmG5l",
        "outputId": "b395f3c2-57d6-42b9-b840-cd9018a0ece4"
      },
      "source": [
        "# Verifica as principais estatísticas descritivas da Nota Total, desconsiderando os dados nulos\n",
        "df.dropna().groupby('ADULTO')['NOTA_TOTAL'].describe()"
      ],
      "execution_count": null,
      "outputs": [
        {
          "output_type": "execute_result",
          "data": {
            "text/html": [
              "<div>\n",
              "<style scoped>\n",
              "    .dataframe tbody tr th:only-of-type {\n",
              "        vertical-align: middle;\n",
              "    }\n",
              "\n",
              "    .dataframe tbody tr th {\n",
              "        vertical-align: top;\n",
              "    }\n",
              "\n",
              "    .dataframe thead th {\n",
              "        text-align: right;\n",
              "    }\n",
              "</style>\n",
              "<table border=\"1\" class=\"dataframe\">\n",
              "  <thead>\n",
              "    <tr style=\"text-align: right;\">\n",
              "      <th></th>\n",
              "      <th>count</th>\n",
              "      <th>mean</th>\n",
              "      <th>std</th>\n",
              "      <th>min</th>\n",
              "      <th>25%</th>\n",
              "      <th>50%</th>\n",
              "      <th>75%</th>\n",
              "      <th>max</th>\n",
              "    </tr>\n",
              "    <tr>\n",
              "      <th>ADULTO</th>\n",
              "      <th></th>\n",
              "      <th></th>\n",
              "      <th></th>\n",
              "      <th></th>\n",
              "      <th></th>\n",
              "      <th></th>\n",
              "      <th></th>\n",
              "      <th></th>\n",
              "    </tr>\n",
              "  </thead>\n",
              "  <tbody>\n",
              "    <tr>\n",
              "      <th>Adulto</th>\n",
              "      <td>105192.0</td>\n",
              "      <td>2367.439243</td>\n",
              "      <td>396.738401</td>\n",
              "      <td>739.3</td>\n",
              "      <td>2111.4</td>\n",
              "      <td>2334.5</td>\n",
              "      <td>2596.2</td>\n",
              "      <td>3967.2</td>\n",
              "    </tr>\n",
              "    <tr>\n",
              "      <th>Jovem</th>\n",
              "      <td>654593.0</td>\n",
              "      <td>2579.829528</td>\n",
              "      <td>378.753929</td>\n",
              "      <td>0.0</td>\n",
              "      <td>2319.8</td>\n",
              "      <td>2560.8</td>\n",
              "      <td>2830.8</td>\n",
              "      <td>4231.3</td>\n",
              "    </tr>\n",
              "  </tbody>\n",
              "</table>\n",
              "</div>"
            ],
            "text/plain": [
              "           count         mean         std  ...     50%     75%     max\n",
              "ADULTO                                     ...                        \n",
              "Adulto  105192.0  2367.439243  396.738401  ...  2334.5  2596.2  3967.2\n",
              "Jovem   654593.0  2579.829528  378.753929  ...  2560.8  2830.8  4231.3\n",
              "\n",
              "[2 rows x 8 columns]"
            ]
          },
          "metadata": {},
          "execution_count": 58
        }
      ]
    },
    {
      "cell_type": "markdown",
      "metadata": {
        "id": "HwyvgKAwlrvi"
      },
      "source": [
        "> Não considerando as notas nulas, em média, a \"Nota Total\" dos candidatos com   adultos é inferior a dos candidatos jovens.\n",
        ">\n",
        "> Ambas distribuições são \"aproximadamente normais\", com adultos (2367, 396) e jovens (2579, 378)"
      ]
    },
    {
      "cell_type": "markdown",
      "metadata": {
        "id": "llSrcdbZ-Txv"
      },
      "source": [
        "#### Qual a cor/raça do candidato?"
      ]
    },
    {
      "cell_type": "code",
      "metadata": {
        "id": "srYlRmxXmVuk"
      },
      "source": [
        "df['TP_COR_RACA_DESC'] = df['TP_COR_RACA'].map({0:'Não declarado',\n",
        "                       1:'Branca',\n",
        "                       2:'Preta',\n",
        "                       3:'Parda',\n",
        "                       4:'Amarela',\n",
        "                       5:'Indígena'})\n",
        "\n",
        "# Converte a variável qualitativa em category para conveniencia e performance\n",
        "df['TP_COR_RACA_DESC'] = df['TP_COR_RACA_DESC'].astype('category')"
      ],
      "execution_count": null,
      "outputs": []
    },
    {
      "cell_type": "code",
      "metadata": {
        "colab": {
          "base_uri": "https://localhost:8080/",
          "height": 295
        },
        "id": "4YqjMU6UjDTG",
        "outputId": "6a0151a6-9bd5-4c79-bd59-db418d99c734"
      },
      "source": [
        "df_graph = df.groupby('ADULTO')['TP_COR_RACA_DESC'].value_counts(normalize=True).rename('%').mul(100).reset_index()\n",
        "sns.barplot(x=\"ADULTO\", y=\"%\", hue='TP_COR_RACA_DESC', data=df_graph)\n",
        "plt.title(\"Qual a cor/raça do candidato?\")\n",
        "plt.legend(bbox_to_anchor=(1.05, 1), loc=2, borderaxespad=0.)\n",
        "plt.show()"
      ],
      "execution_count": null,
      "outputs": [
        {
          "output_type": "display_data",
          "data": {
            "image/png": "[encoded data removed]",
            "text/plain": [
              "<Figure size 432x288 with 1 Axes>"
            ]
          },
          "metadata": {
            "needs_background": "light"
          }
        }
      ]
    },
    {
      "cell_type": "code",
      "metadata": {
        "colab": {
          "base_uri": "https://localhost:8080/"
        },
        "id": "e0ie17JumObv",
        "outputId": "92c52384-2586-42db-919e-14662889f845"
      },
      "source": [
        "df.groupby('ADULTO')['TP_COR_RACA_DESC'].value_counts(normalize=True)"
      ],
      "execution_count": null,
      "outputs": [
        {
          "output_type": "execute_result",
          "data": {
            "text/plain": [
              "ADULTO  TP_COR_RACA_DESC\n",
              "Adulto  Parda               0.537762\n",
              "        Branca              0.242612\n",
              "        Preta               0.158574\n",
              "        Não declarado       0.028362\n",
              "        Amarela             0.022717\n",
              "        Indígena            0.009973\n",
              "Jovem   Parda               0.467756\n",
              "        Branca              0.367740\n",
              "        Preta               0.114349\n",
              "        Amarela             0.022610\n",
              "        Não declarado       0.020900\n",
              "        Indígena            0.006646\n",
              "Name: TP_COR_RACA_DESC, dtype: float64"
            ]
          },
          "metadata": {},
          "execution_count": 27
        }
      ]
    },
    {
      "cell_type": "markdown",
      "metadata": {
        "id": "nHsLnoFTnBOz"
      },
      "source": [
        "> Observa-se uma diferença importante na cor/raça entre os dois grupos (candidatos adultos e candidatos jovens): \n",
        "> * Pretos e Pardos correspondem a quase 70% dos candidatos entre os adultos, contra 58% entre os jovens.\n"
      ]
    },
    {
      "cell_type": "markdown",
      "metadata": {
        "id": "q29A2RIy-XO1"
      },
      "source": [
        "#### Qual a língua estrangeira de preferência do candidato?"
      ]
    },
    {
      "cell_type": "code",
      "metadata": {
        "id": "Ke5C3nnYpCqG"
      },
      "source": [
        "df['TP_LINGUA_DESC'] = df['TP_LINGUA'].map({0:'Inglês', 1:'Espanhol'})\n",
        "\n",
        "# Converte a variável qualitativa em category para conveniencia e performance\n",
        "df['TP_LINGUA_DESC'] = df['TP_LINGUA_DESC'].astype('category')"
      ],
      "execution_count": null,
      "outputs": []
    },
    {
      "cell_type": "code",
      "metadata": {
        "colab": {
          "base_uri": "https://localhost:8080/",
          "height": 295
        },
        "id": "OoJD0KNXxN4p",
        "outputId": "abb38319-88ec-47e7-bf94-a88801053c7a"
      },
      "source": [
        "df_graph = df.groupby('ADULTO')['TP_LINGUA_DESC'].value_counts(normalize=True).rename('%').mul(100).reset_index()\n",
        "plt.title(\"Qual o a língua estrangeira de preferência do candidato?\")\n",
        "sns.barplot(x=\"ADULTO\", y=\"%\", hue='TP_LINGUA_DESC', data=df_graph)\n",
        "plt.show()"
      ],
      "execution_count": null,
      "outputs": [
        {
          "output_type": "display_data",
          "data": {
            "image/png": "[encoded data removed]",
            "text/plain": [
              "<Figure size 432x288 with 1 Axes>"
            ]
          },
          "metadata": {
            "needs_background": "light"
          }
        }
      ]
    },
    {
      "cell_type": "code",
      "metadata": {
        "colab": {
          "base_uri": "https://localhost:8080/"
        },
        "id": "aHgcyA8upU95",
        "outputId": "a56f13f1-07dd-41ed-b757-206bbbce6cc1"
      },
      "source": [
        "df.groupby('ADULTO')['TP_LINGUA_DESC'].value_counts(normalize=True)"
      ],
      "execution_count": null,
      "outputs": [
        {
          "output_type": "execute_result",
          "data": {
            "text/plain": [
              "ADULTO  TP_LINGUA_DESC\n",
              "Adulto  Espanhol          0.597665\n",
              "        Inglês            0.402335\n",
              "Jovem   Inglês            0.509562\n",
              "        Espanhol          0.490438\n",
              "Name: TP_LINGUA_DESC, dtype: float64"
            ]
          },
          "metadata": {},
          "execution_count": 30
        }
      ]
    },
    {
      "cell_type": "markdown",
      "metadata": {
        "id": "4QxuBrcUpYI6"
      },
      "source": [
        "> Há prevalência do espanhol (60%) como idioma para avaliação da lingua estrangeira entre os candidatos adultos.\n",
        "> \n",
        "> No outro grupo, de candidatos com 19 anos ou menos, cerca de metade optaram pelo espanho, e a outra metade pelo inglês."
      ]
    },
    {
      "cell_type": "markdown",
      "metadata": {
        "id": "lFeAoJX3-fp5"
      },
      "source": [
        "#### O candidato possui computador em casa?"
      ]
    },
    {
      "cell_type": "code",
      "metadata": {
        "id": "rm8ExP89uGc-"
      },
      "source": [
        "df['Q024_DESC'] = df['Q024'].map({'A':'Não',\n",
        "                                  'B':'Sim, um',\n",
        "                                  'C':'Sim, dois',\n",
        "                                  'D':'Sim, três',\n",
        "                                  'E':'Sim, quatro ou mais'})\n",
        "\n",
        "# Converte a variável qualitativa em category para conveniencia e performance\n",
        "df['Q024_DESC'] = df['Q024_DESC'].astype('category')"
      ],
      "execution_count": null,
      "outputs": []
    },
    {
      "cell_type": "code",
      "metadata": {
        "colab": {
          "base_uri": "https://localhost:8080/",
          "height": 313
        },
        "id": "egajX7COpWwu",
        "outputId": "65479247-36e9-473d-cfc2-5181d388a697"
      },
      "source": [
        "df_graph = df.groupby('ADULTO')['Q024_DESC'].value_counts(normalize=True).rename('%').mul(100).reset_index()\n",
        "plt.title(\"O candidato possui computador em casa?\")\n",
        "sns.barplot(x=\"ADULTO\", y=\"%\", hue='Q024_DESC', data=df_graph)\n",
        "plt.legend(bbox_to_anchor=(1.05, 1), loc=2, borderaxespad=0.)"
      ],
      "execution_count": null,
      "outputs": [
        {
          "output_type": "execute_result",
          "data": {
            "text/plain": [
              "<matplotlib.legend.Legend at 0x7f54b9ee2f10>"
            ]
          },
          "metadata": {},
          "execution_count": 32
        },
        {
          "output_type": "display_data",
          "data": {
            "image/png": "[encoded data removed]",
            "text/plain": [
              "<Figure size 432x288 with 1 Axes>"
            ]
          },
          "metadata": {
            "needs_background": "light"
          }
        }
      ]
    },
    {
      "cell_type": "code",
      "metadata": {
        "colab": {
          "base_uri": "https://localhost:8080/"
        },
        "id": "MHIU8Q4Kuj-A",
        "outputId": "f59a44fb-a7bf-495a-def8-6962465cd355"
      },
      "source": [
        "df.groupby('ADULTO')['Q024_DESC'].value_counts(normalize=True)"
      ],
      "execution_count": null,
      "outputs": [
        {
          "output_type": "execute_result",
          "data": {
            "text/plain": [
              "ADULTO  Q024_DESC          \n",
              "Adulto  Não                    0.683211\n",
              "        Sim, um                0.278581\n",
              "        Sim, dois              0.029564\n",
              "        Sim, três              0.006428\n",
              "        Sim, quatro ou mais    0.002216\n",
              "Jovem   Não                    0.516634\n",
              "        Sim, um                0.411963\n",
              "        Sim, dois              0.055936\n",
              "        Sim, três              0.011902\n",
              "        Sim, quatro ou mais    0.003565\n",
              "Name: Q024_DESC, dtype: float64"
            ]
          },
          "metadata": {},
          "execution_count": 33
        }
      ]
    },
    {
      "cell_type": "markdown",
      "metadata": {
        "id": "vKuGFtAWumqi"
      },
      "source": [
        "> Cerca de 68% dos candidatos adultos não possuem computador em casa, enquanto que este percentual é de 51% entre aqueles os jovens."
      ]
    },
    {
      "cell_type": "markdown",
      "metadata": {
        "id": "JKUU8rOACJjW"
      },
      "source": [
        "#### O candidato possui internet em casa?\n"
      ]
    },
    {
      "cell_type": "code",
      "metadata": {
        "id": "czwq91yZqtlk"
      },
      "source": [
        "df['Q025_DESC'] = df['Q025'].map({'A':'Não',\n",
        "                                  'B':'Sim'})\n",
        "\n",
        "# Converte a variável qualitativa em category para conveniencia e performance\n",
        "df['Q025_DESC'] = df['Q025_DESC'].astype('category')"
      ],
      "execution_count": null,
      "outputs": []
    },
    {
      "cell_type": "code",
      "metadata": {
        "colab": {
          "base_uri": "https://localhost:8080/",
          "height": 313
        },
        "id": "rJ8RuluOu6UV",
        "outputId": "f0952d3e-3a31-464c-cf2b-25d68d15a774"
      },
      "source": [
        "df_graph = df.groupby('ADULTO')['Q025_DESC'].value_counts(normalize=True).rename('%').mul(100).reset_index()\n",
        "plt.title(\"O candidato possui internet em casa?\")\n",
        "sns.barplot(x=\"ADULTO\", y=\"%\", hue='Q025_DESC', data=df_graph)\n",
        "plt.legend(bbox_to_anchor=(1.05, 1), loc=2, borderaxespad=0.)"
      ],
      "execution_count": null,
      "outputs": [
        {
          "output_type": "execute_result",
          "data": {
            "text/plain": [
              "<matplotlib.legend.Legend at 0x7f54b755fcd0>"
            ]
          },
          "metadata": {},
          "execution_count": 35
        },
        {
          "output_type": "display_data",
          "data": {
            "image/png": "[encoded data removed]",
            "text/plain": [
              "<Figure size 432x288 with 1 Axes>"
            ]
          },
          "metadata": {
            "needs_background": "light"
          }
        }
      ]
    },
    {
      "cell_type": "code",
      "metadata": {
        "colab": {
          "base_uri": "https://localhost:8080/"
        },
        "id": "8yElSrYSu4A6",
        "outputId": "c35bf52f-5fa0-4180-8690-de1d703299ba"
      },
      "source": [
        "df.groupby('ADULTO')['Q025_DESC'].value_counts(normalize=True)"
      ],
      "execution_count": null,
      "outputs": [
        {
          "output_type": "execute_result",
          "data": {
            "text/plain": [
              "ADULTO  Q025_DESC\n",
              "Adulto  Sim          0.632215\n",
              "        Não          0.367785\n",
              "Jovem   Sim          0.768531\n",
              "        Não          0.231469\n",
              "Name: Q025_DESC, dtype: float64"
            ]
          },
          "metadata": {},
          "execution_count": 36
        }
      ]
    },
    {
      "cell_type": "markdown",
      "metadata": {
        "id": "oKtA9hfIvL4G"
      },
      "source": [
        "> Cerca de 36% dos candidatos adultos não possuem acesso à internet em casa, enquanto que este percentual é de 24% entre os jovens."
      ]
    },
    {
      "cell_type": "markdown",
      "metadata": {
        "id": "IiFdNLHYvVBr"
      },
      "source": [
        "## 4. Testes de Hipótese"
      ]
    },
    {
      "cell_type": "code",
      "metadata": {
        "id": "yERyLqRchr0I"
      },
      "source": [
        "# cria função para realização dos testes de hipótese\n",
        "def realiza_teste_quiquadrado(df, col1, col2, alpha=0.05):\n",
        "  \n",
        "  # obtem a tabela de contingência\n",
        "  tabela_contingencia = pd.crosstab(df[col1], df[col2])\n",
        "  \n",
        "  # Realiza o teste qui-quadrado para verificar se existe relação de dependência entre os col1 and col2\n",
        "  chi, p, dof, expected = stats.chi2_contingency(tabela_contingencia)\n",
        "\n",
        "  # Verifica se o p_valor é menor que o nível de significância\n",
        "  if p < alpha:\n",
        "    print(\"As variáveis {} e {} são dependentes\".format(col1, col2))\n",
        "  else:\n",
        "    print(\"As variáveis {} e {} não são dependentes\".format(col1, col2))\n",
        "\n",
        "  print()\n",
        "  print(\"Tabela de Contingência:\")\n",
        "  print(tabela_contingencia)"
      ],
      "execution_count": null,
      "outputs": []
    },
    {
      "cell_type": "markdown",
      "metadata": {
        "id": "v7Ki0P7xX6_D"
      },
      "source": [
        "#### Existe relação entre ser adulto e o idioma selecionado para realização da prova de lingua estrangeira?"
      ]
    },
    {
      "cell_type": "code",
      "metadata": {
        "colab": {
          "base_uri": "https://localhost:8080/"
        },
        "id": "DpLqAKBuV0dH",
        "outputId": "aafff6c2-b959-43ab-d20e-7888ada3c416"
      },
      "source": [
        "# Realiza o teste qui-quadrado para verificar se existe relação de dependência entre os grupos\n",
        "realiza_teste_quiquadrado(df, 'TP_LINGUA_DESC', 'ADULTO')"
      ],
      "execution_count": null,
      "outputs": [
        {
          "output_type": "stream",
          "name": "stdout",
          "text": [
            "As variáveis TP_LINGUA_DESC e ADULTO são dependentes\n",
            "\n",
            "Tabela de Contingência:\n",
            "ADULTO          Adulto   Jovem\n",
            "TP_LINGUA_DESC                \n",
            "Espanhol        159647  480700\n",
            "Inglês          107471  499444\n"
          ]
        }
      ]
    },
    {
      "cell_type": "markdown",
      "metadata": {
        "id": "gFH-oyXWYEby"
      },
      "source": [
        "#### Existe relação entre ser adulto e \"não possuir computador em casa\"?"
      ]
    },
    {
      "cell_type": "code",
      "metadata": {
        "colab": {
          "base_uri": "https://localhost:8080/"
        },
        "id": "piYoJ2dOjD48",
        "outputId": "b68bdb5c-c4c4-4861-aa94-a36c30fa1cf5"
      },
      "source": [
        "realiza_teste_quiquadrado(df, 'Q024_DESC', 'ADULTO')"
      ],
      "execution_count": null,
      "outputs": [
        {
          "output_type": "stream",
          "name": "stdout",
          "text": [
            "As variáveis Q024_DESC e ADULTO são dependentes\n",
            "\n",
            "Tabela de Contingência:\n",
            "ADULTO               Adulto   Jovem\n",
            "Q024_DESC                          \n",
            "Não                  182498  506376\n",
            "Sim, dois              7897   54825\n",
            "Sim, quatro ou mais     592    3494\n",
            "Sim, três              1717   11666\n",
            "Sim, um               74414  403783\n"
          ]
        }
      ]
    },
    {
      "cell_type": "markdown",
      "metadata": {
        "id": "fdDAdGQ9YMi1"
      },
      "source": [
        "#### Existe relação entre ser adulto e \"não possuir acesso a internet em casa\"?"
      ]
    },
    {
      "cell_type": "code",
      "metadata": {
        "colab": {
          "base_uri": "https://localhost:8080/"
        },
        "id": "45yzNI7ljHqh",
        "outputId": "3e1b8c1d-8916-48ef-f6e1-a713b25c1c6f"
      },
      "source": [
        "realiza_teste_quiquadrado(df, 'Q025_DESC', 'ADULTO')"
      ],
      "execution_count": null,
      "outputs": [
        {
          "output_type": "stream",
          "name": "stdout",
          "text": [
            "As variáveis Q025_DESC e ADULTO são dependentes\n",
            "\n",
            "Tabela de Contingência:\n",
            "ADULTO     Adulto   Jovem\n",
            "Q025_DESC                \n",
            "Não         98242  226873\n",
            "Sim        168876  753271\n"
          ]
        }
      ]
    },
    {
      "cell_type": "markdown",
      "metadata": {
        "id": "Su7tDXL9YQiI"
      },
      "source": [
        "#### Existe relação entre o idioma selecionado para realizar a prova de lingua estrangeira e a nota do candidato estar acima do 3 quartil?"
      ]
    },
    {
      "cell_type": "code",
      "metadata": {
        "id": "yx7D3gvRqz-B"
      },
      "source": [
        "# Cria variável qualitativa indicativa de se a nota do candidato está acima do terceiro quantil\n",
        "df['NOTA_ACIMA_3QUARTIL'] = df['NOTA_TOTAL']>df['NOTA_TOTAL'].quantile(.75)"
      ],
      "execution_count": null,
      "outputs": []
    },
    {
      "cell_type": "code",
      "metadata": {
        "colab": {
          "base_uri": "https://localhost:8080/"
        },
        "id": "vkbiE6ewjLvA",
        "outputId": "1ece5263-e829-4104-bf93-a0bacb6e8dae"
      },
      "source": [
        "realiza_teste_quiquadrado(df, 'NOTA_ACIMA_3QUARTIL', 'TP_LINGUA_DESC')"
      ],
      "execution_count": null,
      "outputs": [
        {
          "output_type": "stream",
          "name": "stdout",
          "text": [
            "As variáveis NOTA_ACIMA_3QUARTIL e TP_LINGUA_DESC são dependentes\n",
            "\n",
            "Tabela de Contingência:\n",
            "TP_LINGUA_DESC       Espanhol  Inglês\n",
            "NOTA_ACIMA_3QUARTIL                  \n",
            "False                  527429  408044\n",
            "True                   112918  198871\n"
          ]
        }
      ]
    },
    {
      "cell_type": "markdown",
      "metadata": {
        "id": "n7XgkR0JYbxJ"
      },
      "source": [
        "#### Existe relação entre possuir computador em casa e a nota do candidato estar acima do 3 quartil?"
      ]
    },
    {
      "cell_type": "code",
      "metadata": {
        "colab": {
          "base_uri": "https://localhost:8080/"
        },
        "id": "MPMRN_AZjXN7",
        "outputId": "351c45e2-c61c-44c3-a1a5-a1a0caea2152"
      },
      "source": [
        "realiza_teste_quiquadrado(df, 'NOTA_ACIMA_3QUARTIL', 'Q024_DESC')"
      ],
      "execution_count": null,
      "outputs": [
        {
          "output_type": "stream",
          "name": "stdout",
          "text": [
            "As variáveis NOTA_ACIMA_3QUARTIL e Q024_DESC são dependentes\n",
            "\n",
            "Tabela de Contingência:\n",
            "Q024_DESC               Não  Sim, dois  Sim, quatro ou mais  Sim, três  Sim, um\n",
            "NOTA_ACIMA_3QUARTIL                                                            \n",
            "False                583576      30592                 1547       5435   314323\n",
            "True                 105298      32130                 2539       7948   163874\n"
          ]
        }
      ]
    },
    {
      "cell_type": "markdown",
      "metadata": {
        "id": "SgSrbmNSYgIg"
      },
      "source": [
        "#### Existe relação entre \"possuir internet em casa\" e a nota do candidato estar acima do 3 quartil?"
      ]
    },
    {
      "cell_type": "code",
      "metadata": {
        "colab": {
          "base_uri": "https://localhost:8080/"
        },
        "id": "rZWo82S0jc2h",
        "outputId": "d94c2ede-cee8-4088-e298-09af6dc2a85a"
      },
      "source": [
        "realiza_teste_quiquadrado(df, 'NOTA_ACIMA_3QUARTIL', 'Q025_DESC')"
      ],
      "execution_count": null,
      "outputs": [
        {
          "output_type": "stream",
          "name": "stdout",
          "text": [
            "As variáveis NOTA_ACIMA_3QUARTIL e Q025_DESC são dependentes\n",
            "\n",
            "Tabela de Contingência:\n",
            "Q025_DESC               Não     Sim\n",
            "NOTA_ACIMA_3QUARTIL                \n",
            "False                284194  651279\n",
            "True                  40921  270868\n"
          ]
        }
      ]
    },
    {
      "cell_type": "markdown",
      "metadata": {
        "id": "jgyC9QeGYm9-"
      },
      "source": [
        "## 5. Conclusões e Pontos de Melhoria"
      ]
    },
    {
      "cell_type": "markdown",
      "metadata": {
        "id": "mqVLuB57Y8ao"
      },
      "source": [
        "#### Conclusões\n",
        "> * Maior índice de falta nas provas entre candidatos adultos (o dobro dos candidatos jovens), especialmente nas provas de Matemática e Ciências da Natureza.\n",
        "* Nota média dos candidatos adultos (mu, 2367, sigma 396) é inferior aos candidatos jovens (mu 2579, sigma 378).\n",
        "* Pretos e Pardos correspondem a quase 70% dos candidatos adultos, contra 58% dos jovens.\n",
        "* Há prevalência do espanhol (60%) como idioma para avaliação da lingua estrangeira entre os candidatos adultos. Não existe preferência entre os jovens (50%).\n",
        "* Cerca de 68% dos candidatos adultos não possuem computador em casa, enquanto que este percentual é de 51% entre aqueles os jovens.\n",
        "* Cerca de 36% dos candidatos adultos não possuem acesso à internet em casa, enquanto que este percentual é de 24% entre os jovens.\n",
        "* Há relação de dependência entre o idioma escolhido para prova de lingua estrangeira e a nota do candidato.\n",
        "* Há relação de dependência entre \"possuir computador em casa\" e a nota do candidato.\n",
        "* Há relação de dependência entre \"possuir acesso à internet em casa\" e a nota do candidato."
      ]
    },
    {
      "cell_type": "markdown",
      "metadata": {
        "id": "javGiATo10EE"
      },
      "source": [
        "#### Pontos de Melhoria\n",
        "> *   Base completa possui mais de 400 variáveis. Testar outras variáveis;\n",
        "> *   Definir faixas de idade, ao invés de apenas jovem x adulto;\n",
        "> *   Análise de regressão da idade;\n",
        "> *   Buscar o CPF do candidato para tentar carcaterizar a realidade socio-econômica da família"
      ]
    }
  ]
}