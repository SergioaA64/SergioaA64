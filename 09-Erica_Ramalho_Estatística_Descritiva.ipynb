{
  "nbformat": 4,
  "nbformat_minor": 0,
  "metadata": {
    "colab": {
      "name": "Erica_Ramalho_Estatística_Descritiva.ipynb",
      "provenance": [],
      "include_colab_link": true
    },
    "kernelspec": {
      "name": "python3",
      "display_name": "Python 3"
    },
    "language_info": {
      "name": "python"
    }
  },
  "cells": [
    {
      "cell_type": "markdown",
      "metadata": {
        "id": "view-in-github",
        "colab_type": "text"
      },
      "source": [
        "<a href=\"https://colab.research.google.com/github/SergioaA64/SergioaA64/blob/main/09-Erica_Ramalho_Estat%C3%ADstica_Descritiva.ipynb\" target=\"_parent\"><img src=\"https://colab.research.google.com/assets/colab-badge.svg\" alt=\"Open In Colab\"/></a>"
      ]
    },
    {
      "cell_type": "markdown",
      "metadata": {
        "id": "tGxIkGcQsmbm"
      },
      "source": [
        "**ENAP - Especialização em Ciência de Dados aplicada a Políticas Públicas**\n",
        "\n",
        "D6: Estatística Descritiva - Trabalho Final\n",
        "\n",
        "Aluna: Erica Ramalho de Oliveira\n",
        "\n",
        "Professor: Eduardo Monteiro de Castro Gomes\n",
        "\n",
        "\n",
        "**Contextualização do Problema**\n",
        "\n",
        "Este trabalho apresenta os Dados Estatísticos do Transporte Aéreo, com ênfase na exploração de impactos da pandemia de COVID-19 nas operações aéreas nacionais.\n",
        "\n",
        "Para este trabalho os dados foram baixados do endereço: https://www.anac.gov.br/acesso-a-informacao/dados-abertos/areas-de-atuacao/voos-e-operacoes-aereas/dados-estatisticos-do-transporte-aereo/48-dados-estatisticos-do-transporte-aereo-formato-csv; como o dados são disponibilizados em arquivo zipado, ele foi carregado em conta do Google Drive para acesso diretamente ao arquivo .csv.\n",
        "\n",
        "A descrição dos campos encontra-se em https://www.anac.gov.br/acesso-a-informacao/dados-abertos/areas-de-atuacao/voos-e-operacoes-aereas/dados-estatisticos-do-transporte-aereo/48-dados-estatisticos-do-transporte-aereo."
      ]
    },
    {
      "cell_type": "code",
      "metadata": {
        "id": "m5zYAzW0nDJN"
      },
      "source": [
        "#Carga dos pacotes\n",
        "import pandas as pd\n",
        "import numpy as np\n",
        "import scipy.stats as stats\n",
        "import matplotlib.pyplot as plt\n",
        "import seaborn as sns"
      ],
      "execution_count": null,
      "outputs": []
    },
    {
      "cell_type": "code",
      "metadata": {
        "colab": {
          "base_uri": "https://localhost:8080/"
        },
        "id": "Up4fbEs-p-Nv",
        "outputId": "4204368f-f9e4-4857-b908-00b65ddacddb"
      },
      "source": [
        "#Conexão com o GDrive\n",
        "from google.colab import drive \n",
        "drive.mount('/content/gdrive')"
      ],
      "execution_count": null,
      "outputs": [
        {
          "output_type": "stream",
          "name": "stdout",
          "text": [
            "Drive already mounted at /content/gdrive; to attempt to forcibly remount, call drive.mount(\"/content/gdrive\", force_remount=True).\n"
          ]
        }
      ]
    },
    {
      "cell_type": "code",
      "metadata": {
        "colab": {
          "base_uri": "https://localhost:8080/",
          "height": 367
        },
        "id": "JNeayD95qU_k",
        "outputId": "f7e16e50-3250-4acc-e466-84a03eaf66c9"
      },
      "source": [
        "#Carga dos dados\n",
        "df=pd.read_csv('gdrive/My Drive/Dados.csv', delimiter=';', decimal=',', encoding='latin1', dtype={'PASSAGEIROS PAGOS':'Int64',\t\n",
        "                        'PASSAGEIROS GRÁTIS':'Int64', 'DECOLAGENS':'Int64',\t'ASSENTOS':'Int64', 'ANO':'Int64',\t'MÊS':'Int64'})\n",
        "df.head(3)"
      ],
      "execution_count": null,
      "outputs": [
        {
          "output_type": "execute_result",
          "data": {
            "text/html": [
              "<div>\n",
              "<style scoped>\n",
              "    .dataframe tbody tr th:only-of-type {\n",
              "        vertical-align: middle;\n",
              "    }\n",
              "\n",
              "    .dataframe tbody tr th {\n",
              "        vertical-align: top;\n",
              "    }\n",
              "\n",
              "    .dataframe thead th {\n",
              "        text-align: right;\n",
              "    }\n",
              "</style>\n",
              "<table border=\"1\" class=\"dataframe\">\n",
              "  <thead>\n",
              "    <tr style=\"text-align: right;\">\n",
              "      <th></th>\n",
              "      <th>EMPRESA (SIGLA)</th>\n",
              "      <th>EMPRESA (NOME)</th>\n",
              "      <th>EMPRESA (NACIONALIDADE)</th>\n",
              "      <th>ANO</th>\n",
              "      <th>MÊS</th>\n",
              "      <th>AEROPORTO DE ORIGEM (SIGLA)</th>\n",
              "      <th>AEROPORTO DE ORIGEM (NOME)</th>\n",
              "      <th>AEROPORTO DE ORIGEM (UF)</th>\n",
              "      <th>AEROPORTO DE ORIGEM (REGIÃO)</th>\n",
              "      <th>AEROPORTO DE ORIGEM (PAÍS)</th>\n",
              "      <th>AEROPORTO DE ORIGEM (CONTINENTE)</th>\n",
              "      <th>AEROPORTO DE DESTINO (SIGLA)</th>\n",
              "      <th>AEROPORTO DE DESTINO (NOME)</th>\n",
              "      <th>AEROPORTO DE DESTINO (UF)</th>\n",
              "      <th>AEROPORTO DE DESTINO (REGIÃO)</th>\n",
              "      <th>AEROPORTO DE DESTINO (PAÍS)</th>\n",
              "      <th>AEROPORTO DE DESTINO (CONTINENTE)</th>\n",
              "      <th>NATUREZA</th>\n",
              "      <th>GRUPO DE VOO</th>\n",
              "      <th>PASSAGEIROS PAGOS</th>\n",
              "      <th>PASSAGEIROS GRÁTIS</th>\n",
              "      <th>CARGA PAGA (KG)</th>\n",
              "      <th>CARGA GRÁTIS (KG)</th>\n",
              "      <th>CORREIO (KG)</th>\n",
              "      <th>ASK</th>\n",
              "      <th>RPK</th>\n",
              "      <th>ATK</th>\n",
              "      <th>RTK</th>\n",
              "      <th>COMBUSTÍVEL (LITROS)</th>\n",
              "      <th>DISTÂNCIA VOADA (KM)</th>\n",
              "      <th>DECOLAGENS</th>\n",
              "      <th>CARGA PAGA KM</th>\n",
              "      <th>CARGA GRATIS KM</th>\n",
              "      <th>CORREIO KM</th>\n",
              "      <th>ASSENTOS</th>\n",
              "      <th>PAYLOAD</th>\n",
              "      <th>HORAS VOADAS</th>\n",
              "      <th>BAGAGEM (KG)</th>\n",
              "    </tr>\n",
              "  </thead>\n",
              "  <tbody>\n",
              "    <tr>\n",
              "      <th>0</th>\n",
              "      <td>AAL</td>\n",
              "      <td>AMERICAN AIRLINES, INC.</td>\n",
              "      <td>ESTRANGEIRA</td>\n",
              "      <td>2011</td>\n",
              "      <td>1</td>\n",
              "      <td>KAUS</td>\n",
              "      <td>AUSTIN, TEXAS</td>\n",
              "      <td>NaN</td>\n",
              "      <td>NaN</td>\n",
              "      <td>ESTADOS UNIDOS DA AMÉRICA</td>\n",
              "      <td>AMÉRICA DO NORTE</td>\n",
              "      <td>KDFW</td>\n",
              "      <td>DALLAS &amp; FORT WORTH, TEXAS</td>\n",
              "      <td>NaN</td>\n",
              "      <td>NaN</td>\n",
              "      <td>ESTADOS UNIDOS DA AMÉRICA</td>\n",
              "      <td>AMÉRICA DO NORTE</td>\n",
              "      <td>INTERNACIONAL</td>\n",
              "      <td>REGULAR</td>\n",
              "      <td>0</td>\n",
              "      <td>0</td>\n",
              "      <td>0.0</td>\n",
              "      <td>0.0</td>\n",
              "      <td>0.0</td>\n",
              "      <td>75276.0</td>\n",
              "      <td>50184.0</td>\n",
              "      <td>13770.0</td>\n",
              "      <td>7463.0</td>\n",
              "      <td>NaN</td>\n",
              "      <td>306.0</td>\n",
              "      <td>1</td>\n",
              "      <td>2.946780e+06</td>\n",
              "      <td>0.0</td>\n",
              "      <td>0.0</td>\n",
              "      <td>246</td>\n",
              "      <td>45000.0</td>\n",
              "      <td>2.50</td>\n",
              "      <td>NaN</td>\n",
              "    </tr>\n",
              "    <tr>\n",
              "      <th>1</th>\n",
              "      <td>AAL</td>\n",
              "      <td>AMERICAN AIRLINES, INC.</td>\n",
              "      <td>ESTRANGEIRA</td>\n",
              "      <td>2011</td>\n",
              "      <td>1</td>\n",
              "      <td>KDFW</td>\n",
              "      <td>DALLAS &amp; FORT WORTH, TEXAS</td>\n",
              "      <td>NaN</td>\n",
              "      <td>NaN</td>\n",
              "      <td>ESTADOS UNIDOS DA AMÉRICA</td>\n",
              "      <td>AMÉRICA DO NORTE</td>\n",
              "      <td>SBGL</td>\n",
              "      <td>RIO DE JANEIRO</td>\n",
              "      <td>RJ</td>\n",
              "      <td>SUDESTE</td>\n",
              "      <td>BRASIL</td>\n",
              "      <td>AMÉRICA DO SUL</td>\n",
              "      <td>INTERNACIONAL</td>\n",
              "      <td>REGULAR</td>\n",
              "      <td>2391</td>\n",
              "      <td>51</td>\n",
              "      <td>28903.0</td>\n",
              "      <td>0.0</td>\n",
              "      <td>6362.0</td>\n",
              "      <td>23968900.0</td>\n",
              "      <td>20129800.0</td>\n",
              "      <td>3830640.0</td>\n",
              "      <td>2108580.0</td>\n",
              "      <td>NaN</td>\n",
              "      <td>109447.0</td>\n",
              "      <td>13</td>\n",
              "      <td>2.433340e+08</td>\n",
              "      <td>0.0</td>\n",
              "      <td>53561700.0</td>\n",
              "      <td>2847</td>\n",
              "      <td>455000.0</td>\n",
              "      <td>136.88</td>\n",
              "      <td>NaN</td>\n",
              "    </tr>\n",
              "    <tr>\n",
              "      <th>2</th>\n",
              "      <td>AAL</td>\n",
              "      <td>AMERICAN AIRLINES, INC.</td>\n",
              "      <td>ESTRANGEIRA</td>\n",
              "      <td>2011</td>\n",
              "      <td>1</td>\n",
              "      <td>KDFW</td>\n",
              "      <td>DALLAS &amp; FORT WORTH, TEXAS</td>\n",
              "      <td>NaN</td>\n",
              "      <td>NaN</td>\n",
              "      <td>ESTADOS UNIDOS DA AMÉRICA</td>\n",
              "      <td>AMÉRICA DO NORTE</td>\n",
              "      <td>SBGR</td>\n",
              "      <td>GUARULHOS</td>\n",
              "      <td>SP</td>\n",
              "      <td>SUDESTE</td>\n",
              "      <td>BRASIL</td>\n",
              "      <td>AMÉRICA DO SUL</td>\n",
              "      <td>INTERNACIONAL</td>\n",
              "      <td>REGULAR</td>\n",
              "      <td>6879</td>\n",
              "      <td>95</td>\n",
              "      <td>298598.0</td>\n",
              "      <td>0.0</td>\n",
              "      <td>9302.0</td>\n",
              "      <td>60840700.0</td>\n",
              "      <td>56710500.0</td>\n",
              "      <td>11129400.0</td>\n",
              "      <td>7642250.0</td>\n",
              "      <td>NaN</td>\n",
              "      <td>247320.0</td>\n",
              "      <td>30</td>\n",
              "      <td>2.461640e+09</td>\n",
              "      <td>0.0</td>\n",
              "      <td>76685700.0</td>\n",
              "      <td>7380</td>\n",
              "      <td>1350000.0</td>\n",
              "      <td>299.50</td>\n",
              "      <td>NaN</td>\n",
              "    </tr>\n",
              "  </tbody>\n",
              "</table>\n",
              "</div>"
            ],
            "text/plain": [
              "  EMPRESA (SIGLA)           EMPRESA (NOME)  ... HORAS VOADAS  BAGAGEM (KG)\n",
              "0             AAL  AMERICAN AIRLINES, INC.  ...         2.50           NaN\n",
              "1             AAL  AMERICAN AIRLINES, INC.  ...       136.88           NaN\n",
              "2             AAL  AMERICAN AIRLINES, INC.  ...       299.50           NaN\n",
              "\n",
              "[3 rows x 38 columns]"
            ]
          },
          "metadata": {},
          "execution_count": 45
        }
      ]
    },
    {
      "cell_type": "markdown",
      "metadata": {
        "id": "6gPo6ghQA20S"
      },
      "source": [
        "**VARIÁVEIS** na base de dados, por tipo:\n",
        "\n",
        "**Qualitativas Nominais** = EMPRESA (SIGLA), EMPRESA (NOME),\tEMPRESA (NACIONALIDADE), AEROPORTO DE ORIGEM (SIGLA),\tAEROPORTO DE ORIGEM (NOME),\tAEROPORTO DE ORIGEM (UF),\tAEROPORTO DE ORIGEM (REGIÃO),\tAEROPORTO DE ORIGEM (PAÍS),\tAEROPORTO DE ORIGEM (CONTINENTE),\tAEROPORTO DE DESTINO (SIGLA),\tAEROPORTO DE DESTINO (NOME),\tAEROPORTO DE DESTINO (UF),\tAEROPORTO DE DESTINO (REGIÃO),\tAEROPORTO DE DESTINO (PAÍS),\tAEROPORTO DE DESTINO (CONTINENTE),\tNATUREZA e GRUPO DE VOO.\n",
        "\n",
        "**Qualitativas Ordinais** = ANO e\tMÊS.\n",
        "\n",
        "**Quantitativas Discretas** = PASSAGEIROS PAGOS,\tPASSAGEIROS GRÁTIS, DECOLAGENS e  ASSENTOS.\n",
        "\n",
        "**Quantitativas Contínuas** = CARGA PAGA (KG),\tCARGA GRÁTIS (KG),\tCORREIO (KG),\tASK,\tRPK,\tATK,\tRTK,\tCOMBUSTÍVEL (LITROS),\tDISTÂNCIA VOADA (KM), CARGA PAGA KM,\tCARGA GRATIS KM,\tCORREIO KM, PAYLOAD,\tHORAS VOADAS,\te BAGAGEM (KG).\n",
        "\n",
        "Observação: Cada linha da base é o registro de uma linha aérea, não de uma etapa de voo. As linhas com regularidade se caracterizam por ter uma quantidade de \"DECOLAGENS\" maior que 1 em seu registro."
      ]
    },
    {
      "cell_type": "markdown",
      "metadata": {
        "id": "TDRE1EumFwiL"
      },
      "source": [
        "**Item 1**: Visualização da diminuição das operações domésticas e internacionais desde o início da pandemia de COVID-19."
      ]
    },
    {
      "cell_type": "code",
      "metadata": {
        "colab": {
          "base_uri": "https://localhost:8080/"
        },
        "id": "Gl2fA4uGbeZE",
        "outputId": "59cdb634-bc22-4ac0-800e-dd54c7971459"
      },
      "source": [
        "#Verificação da tendência de crescimento das operações até o início da pandemia de COVID-19\n",
        "total_ano = df.groupby(['ANO','NATUREZA'])['DECOLAGENS'].sum()\n",
        "total_ano"
      ],
      "execution_count": null,
      "outputs": [
        {
          "output_type": "execute_result",
          "data": {
            "text/plain": [
              "ANO   NATUREZA     \n",
              "2011  DOMÉSTICA        964598\n",
              "      INTERNACIONAL    135046\n",
              "2012  DOMÉSTICA        998323\n",
              "      INTERNACIONAL    141810\n",
              "2013  DOMÉSTICA        954221\n",
              "      INTERNACIONAL    142922\n",
              "2014  DOMÉSTICA        949062\n",
              "      INTERNACIONAL    148632\n",
              "2015  DOMÉSTICA        942342\n",
              "      INTERNACIONAL    147611\n",
              "2016  DOMÉSTICA        834666\n",
              "      INTERNACIONAL    136460\n",
              "2017  DOMÉSTICA        811665\n",
              "      INTERNACIONAL    135260\n",
              "2018  DOMÉSTICA        822575\n",
              "      INTERNACIONAL    151394\n",
              "2019  DOMÉSTICA        809920\n",
              "      INTERNACIONAL    146396\n",
              "2020  DOMÉSTICA        409925\n",
              "      INTERNACIONAL     60213\n",
              "2021  DOMÉSTICA        272382\n",
              "      INTERNACIONAL     27452\n",
              "Name: DECOLAGENS, dtype: Int64"
            ]
          },
          "metadata": {},
          "execution_count": 46
        }
      ]
    },
    {
      "cell_type": "code",
      "metadata": {
        "colab": {
          "base_uri": "https://localhost:8080/",
          "height": 283
        },
        "id": "4MrSnLzfl4WS",
        "outputId": "66f85698-4bb3-472d-c12e-a5596964175a"
      },
      "source": [
        "#Agrupamento por ano e por natureza, somando os índices acumuláveis e descartando o que não faz sentido somar, como referência de mês,\n",
        "# indicadores e outros parâmetros que não são de interesse neste item.\n",
        "df_groupedNAT_soma = df.groupby([\"ANO\",\"NATUREZA\"]).sum()\n",
        "df_groupedNAT_soma.drop(columns=[\"MÊS\", \"ASK\", \"RPK\", \"ATK\", \"RTK\", \"COMBUSTÍVEL (LITROS)\",\t\"DISTÂNCIA VOADA (KM)\", \"CARGA PAGA KM\",\n",
        "                                 \"CARGA GRATIS KM\",\t\"CORREIO KM\", \"PAYLOAD\",\t\"HORAS VOADAS\"], inplace=True)\n",
        "df_groupedNAT_soma.head(6)"
      ],
      "execution_count": null,
      "outputs": [
        {
          "output_type": "execute_result",
          "data": {
            "text/html": [
              "<div>\n",
              "<style scoped>\n",
              "    .dataframe tbody tr th:only-of-type {\n",
              "        vertical-align: middle;\n",
              "    }\n",
              "\n",
              "    .dataframe tbody tr th {\n",
              "        vertical-align: top;\n",
              "    }\n",
              "\n",
              "    .dataframe thead th {\n",
              "        text-align: right;\n",
              "    }\n",
              "</style>\n",
              "<table border=\"1\" class=\"dataframe\">\n",
              "  <thead>\n",
              "    <tr style=\"text-align: right;\">\n",
              "      <th></th>\n",
              "      <th></th>\n",
              "      <th>PASSAGEIROS PAGOS</th>\n",
              "      <th>PASSAGEIROS GRÁTIS</th>\n",
              "      <th>CARGA PAGA (KG)</th>\n",
              "      <th>CARGA GRÁTIS (KG)</th>\n",
              "      <th>CORREIO (KG)</th>\n",
              "      <th>DECOLAGENS</th>\n",
              "      <th>ASSENTOS</th>\n",
              "      <th>BAGAGEM (KG)</th>\n",
              "    </tr>\n",
              "    <tr>\n",
              "      <th>ANO</th>\n",
              "      <th>NATUREZA</th>\n",
              "      <th></th>\n",
              "      <th></th>\n",
              "      <th></th>\n",
              "      <th></th>\n",
              "      <th></th>\n",
              "      <th></th>\n",
              "      <th></th>\n",
              "      <th></th>\n",
              "    </tr>\n",
              "  </thead>\n",
              "  <tbody>\n",
              "    <tr>\n",
              "      <th rowspan=\"2\" valign=\"top\">2011</th>\n",
              "      <th>DOMÉSTICA</th>\n",
              "      <td>81908858</td>\n",
              "      <td>1677779</td>\n",
              "      <td>412735396.0</td>\n",
              "      <td>6897605.0</td>\n",
              "      <td>111593913.0</td>\n",
              "      <td>964598</td>\n",
              "      <td>131007003</td>\n",
              "      <td>1.072822e+09</td>\n",
              "    </tr>\n",
              "    <tr>\n",
              "      <th>INTERNACIONAL</th>\n",
              "      <td>17855859</td>\n",
              "      <td>340504</td>\n",
              "      <td>723323232.0</td>\n",
              "      <td>1233481.0</td>\n",
              "      <td>13187752.0</td>\n",
              "      <td>135046</td>\n",
              "      <td>24237099</td>\n",
              "      <td>1.078828e+08</td>\n",
              "    </tr>\n",
              "    <tr>\n",
              "      <th rowspan=\"2\" valign=\"top\">2012</th>\n",
              "      <th>DOMÉSTICA</th>\n",
              "      <td>88499742</td>\n",
              "      <td>1869593</td>\n",
              "      <td>387847300.0</td>\n",
              "      <td>6620611.0</td>\n",
              "      <td>122584138.0</td>\n",
              "      <td>998323</td>\n",
              "      <td>135317164</td>\n",
              "      <td>1.092072e+09</td>\n",
              "    </tr>\n",
              "    <tr>\n",
              "      <th>INTERNACIONAL</th>\n",
              "      <td>18903483</td>\n",
              "      <td>337300</td>\n",
              "      <td>747871543.0</td>\n",
              "      <td>1286130.0</td>\n",
              "      <td>13136720.0</td>\n",
              "      <td>141810</td>\n",
              "      <td>25592763</td>\n",
              "      <td>1.150575e+08</td>\n",
              "    </tr>\n",
              "    <tr>\n",
              "      <th rowspan=\"2\" valign=\"top\">2013</th>\n",
              "      <th>DOMÉSTICA</th>\n",
              "      <td>89969709</td>\n",
              "      <td>1916401</td>\n",
              "      <td>396032179.0</td>\n",
              "      <td>6449201.0</td>\n",
              "      <td>124738566.0</td>\n",
              "      <td>954221</td>\n",
              "      <td>131270487</td>\n",
              "      <td>1.022255e+09</td>\n",
              "    </tr>\n",
              "    <tr>\n",
              "      <th>INTERNACIONAL</th>\n",
              "      <td>19752447</td>\n",
              "      <td>364524</td>\n",
              "      <td>799999170.0</td>\n",
              "      <td>1337636.0</td>\n",
              "      <td>15320758.0</td>\n",
              "      <td>142922</td>\n",
              "      <td>26614157</td>\n",
              "      <td>1.287551e+08</td>\n",
              "    </tr>\n",
              "  </tbody>\n",
              "</table>\n",
              "</div>"
            ],
            "text/plain": [
              "                    PASSAGEIROS PAGOS  ...  BAGAGEM (KG)\n",
              "ANO  NATUREZA                          ...              \n",
              "2011 DOMÉSTICA               81908858  ...  1.072822e+09\n",
              "     INTERNACIONAL           17855859  ...  1.078828e+08\n",
              "2012 DOMÉSTICA               88499742  ...  1.092072e+09\n",
              "     INTERNACIONAL           18903483  ...  1.150575e+08\n",
              "2013 DOMÉSTICA               89969709  ...  1.022255e+09\n",
              "     INTERNACIONAL           19752447  ...  1.287551e+08\n",
              "\n",
              "[6 rows x 8 columns]"
            ]
          },
          "metadata": {},
          "execution_count": 47
        }
      ]
    },
    {
      "cell_type": "code",
      "metadata": {
        "colab": {
          "base_uri": "https://localhost:8080/",
          "height": 315
        },
        "id": "T7xwJhXAMIkn",
        "outputId": "739f1406-0f29-46ec-d8c8-fde80a0e3a0b"
      },
      "source": [
        "#Visualização do impacto da pandemia nas operações em 2020 e 2021 (até julho)\n",
        "fig , ax = plt.subplots()\n",
        "sns.lineplot(data=df_groupedNAT_soma, x=\"ANO\", y=\"DECOLAGENS\", hue=\"NATUREZA\")\n",
        "ax.set_title(\"Evolução das operações\", fontsize=15)"
      ],
      "execution_count": null,
      "outputs": [
        {
          "output_type": "execute_result",
          "data": {
            "text/plain": [
              "Text(0.5, 1.0, 'Evolução das operações')"
            ]
          },
          "metadata": {},
          "execution_count": 48
        },
        {
          "output_type": "display_data",
          "data": {
            "image/png": "[encoded data removed]",
            "text/plain": [
              "<Figure size 432x288 with 1 Axes>"
            ]
          },
          "metadata": {
            "needs_background": "light"
          }
        }
      ]
    },
    {
      "cell_type": "markdown",
      "metadata": {
        "id": "o6S3ycvTkaa8"
      },
      "source": [
        "Nota-se, a partir do gráfico, que não se vinha em uma tendência de alta de operações no setor aéreo, tanto voos nacionais como internacionais vinham em certa estabilidade até o surgimento do SARS-COV-19 e a forte diminuição dos deslocamentos em razão das medidas de contenção e enfrentamento da pandemia.\n",
        "\n",
        ".\n",
        "\n",
        "Foi identificado o mesmo impacto sobre a aviação nacional, como visto abaixo, com as regiões de origem das operações."
      ]
    },
    {
      "cell_type": "code",
      "metadata": {
        "colab": {
          "base_uri": "https://localhost:8080/",
          "height": 269
        },
        "id": "cBT6RLxvI7b0",
        "outputId": "2ec01e3e-64ab-4dd8-c846-5abe9469ea35"
      },
      "source": [
        "#Evolução ano a ano por região do aeroporto de origem das operações. \n",
        "df_domestica = df.loc[lambda df: df['NATUREZA'] == 'DOMÉSTICA']\n",
        "df_groupedREG_soma = df_domestica.groupby([\"ANO\",\"AEROPORTO DE ORIGEM (REGIÃO)\"]).sum()\n",
        "df_groupedREG_soma.drop(columns=[\"MÊS\", \"ASK\", \"RPK\", \"ATK\", \"RTK\", \"COMBUSTÍVEL (LITROS)\",\t\"DISTÂNCIA VOADA (KM)\",\n",
        "                      \"CARGA PAGA KM\",\t\"CARGA GRATIS KM\",\t\"CORREIO KM\", \"PAYLOAD\",\t\"HORAS VOADAS\"], inplace=True)\n",
        "df_groupedREG_soma.head()"
      ],
      "execution_count": null,
      "outputs": [
        {
          "output_type": "execute_result",
          "data": {
            "text/html": [
              "<div>\n",
              "<style scoped>\n",
              "    .dataframe tbody tr th:only-of-type {\n",
              "        vertical-align: middle;\n",
              "    }\n",
              "\n",
              "    .dataframe tbody tr th {\n",
              "        vertical-align: top;\n",
              "    }\n",
              "\n",
              "    .dataframe thead th {\n",
              "        text-align: right;\n",
              "    }\n",
              "</style>\n",
              "<table border=\"1\" class=\"dataframe\">\n",
              "  <thead>\n",
              "    <tr style=\"text-align: right;\">\n",
              "      <th></th>\n",
              "      <th></th>\n",
              "      <th>PASSAGEIROS PAGOS</th>\n",
              "      <th>PASSAGEIROS GRÁTIS</th>\n",
              "      <th>CARGA PAGA (KG)</th>\n",
              "      <th>CARGA GRÁTIS (KG)</th>\n",
              "      <th>CORREIO (KG)</th>\n",
              "      <th>DECOLAGENS</th>\n",
              "      <th>ASSENTOS</th>\n",
              "      <th>BAGAGEM (KG)</th>\n",
              "    </tr>\n",
              "    <tr>\n",
              "      <th>ANO</th>\n",
              "      <th>AEROPORTO DE ORIGEM (REGIÃO)</th>\n",
              "      <th></th>\n",
              "      <th></th>\n",
              "      <th></th>\n",
              "      <th></th>\n",
              "      <th></th>\n",
              "      <th></th>\n",
              "      <th></th>\n",
              "      <th></th>\n",
              "    </tr>\n",
              "  </thead>\n",
              "  <tbody>\n",
              "    <tr>\n",
              "      <th rowspan=\"5\" valign=\"top\">2011</th>\n",
              "      <th>CENTRO-OESTE</th>\n",
              "      <td>11072229</td>\n",
              "      <td>190896</td>\n",
              "      <td>51920504.0</td>\n",
              "      <td>983812.0</td>\n",
              "      <td>22585209.0</td>\n",
              "      <td>130004</td>\n",
              "      <td>17733129</td>\n",
              "      <td>142071208.0</td>\n",
              "    </tr>\n",
              "    <tr>\n",
              "      <th>NORDESTE</th>\n",
              "      <td>15727551</td>\n",
              "      <td>268897</td>\n",
              "      <td>71804665.0</td>\n",
              "      <td>1027337.0</td>\n",
              "      <td>18772993.0</td>\n",
              "      <td>172508</td>\n",
              "      <td>25922686</td>\n",
              "      <td>222981300.0</td>\n",
              "    </tr>\n",
              "    <tr>\n",
              "      <th>NORTE</th>\n",
              "      <td>4985501</td>\n",
              "      <td>85817</td>\n",
              "      <td>77188889.0</td>\n",
              "      <td>317133.0</td>\n",
              "      <td>5804952.0</td>\n",
              "      <td>81551</td>\n",
              "      <td>9073735</td>\n",
              "      <td>72657336.0</td>\n",
              "    </tr>\n",
              "    <tr>\n",
              "      <th>SUDESTE</th>\n",
              "      <td>39260356</td>\n",
              "      <td>896754</td>\n",
              "      <td>186875808.0</td>\n",
              "      <td>4065583.0</td>\n",
              "      <td>52098353.0</td>\n",
              "      <td>447010</td>\n",
              "      <td>60423170</td>\n",
              "      <td>499652876.0</td>\n",
              "    </tr>\n",
              "    <tr>\n",
              "      <th>SUL</th>\n",
              "      <td>10863221</td>\n",
              "      <td>235415</td>\n",
              "      <td>24945530.0</td>\n",
              "      <td>503740.0</td>\n",
              "      <td>12332406.0</td>\n",
              "      <td>133525</td>\n",
              "      <td>17854283</td>\n",
              "      <td>135459519.0</td>\n",
              "    </tr>\n",
              "  </tbody>\n",
              "</table>\n",
              "</div>"
            ],
            "text/plain": [
              "                                   PASSAGEIROS PAGOS  ...  BAGAGEM (KG)\n",
              "ANO  AEROPORTO DE ORIGEM (REGIÃO)                     ...              \n",
              "2011 CENTRO-OESTE                           11072229  ...   142071208.0\n",
              "     NORDESTE                               15727551  ...   222981300.0\n",
              "     NORTE                                   4985501  ...    72657336.0\n",
              "     SUDESTE                                39260356  ...   499652876.0\n",
              "     SUL                                    10863221  ...   135459519.0\n",
              "\n",
              "[5 rows x 8 columns]"
            ]
          },
          "metadata": {},
          "execution_count": 49
        }
      ]
    },
    {
      "cell_type": "code",
      "metadata": {
        "colab": {
          "base_uri": "https://localhost:8080/",
          "height": 315
        },
        "id": "wN75BrSCJU3K",
        "outputId": "f3cb2b44-350b-48e3-88f9-ca9266b704b1"
      },
      "source": [
        "fig , ax = plt.subplots()\n",
        "sns.lineplot(data=df_groupedREG_soma, x=\"ANO\", y=\"DECOLAGENS\", hue=\"AEROPORTO DE ORIGEM (REGIÃO)\")\n",
        "ax.set_title(\"Evolução das operações domésticas\", fontsize=15)"
      ],
      "execution_count": null,
      "outputs": [
        {
          "output_type": "execute_result",
          "data": {
            "text/plain": [
              "Text(0.5, 1.0, 'Evolução das operações domésticas')"
            ]
          },
          "metadata": {},
          "execution_count": 50
        },
        {
          "output_type": "display_data",
          "data": {
            "image/png": "[encoded data removed]",
            "text/plain": [
              "<Figure size 432x288 with 1 Axes>"
            ]
          },
          "metadata": {
            "needs_background": "light"
          }
        }
      ]
    },
    {
      "cell_type": "markdown",
      "metadata": {
        "id": "rSZuZ8eAGcT4"
      },
      "source": [
        "**Item 2**: A menos das operações internacionais, onde a distância voada depende da rota do voo, vamos avaliar se as distâncias voadas em operações domésticas no período inicial da pandemia se mantiveram semelhantes ao período pré-pandemia imediatamente anterior. Isso se justifica como avaliação do impacto regulatório da decisão da ANAC em março/2020 de manter a malha mínima de voos nacionais, independente de demanda, para o transporte de passageiros."
      ]
    },
    {
      "cell_type": "code",
      "metadata": {
        "colab": {
          "base_uri": "https://localhost:8080/"
        },
        "id": "LZi-DHSFHTFS",
        "outputId": "3cfc4836-5f55-4ad4-8f59-8c66a2e7c416"
      },
      "source": [
        "#Criando nova coluna que considera a distância voada por operação(voo) e não por linha(original agrupado)\n",
        "###df_domestica = df.loc[lambda df: df['NATUREZA'] == 'DOMÉSTICA']\n",
        "df_domestica['DISTÂNCIA POR VOO (KM)'] = df_domestica['DISTÂNCIA VOADA (KM)']/df_domestica['DECOLAGENS']\n",
        "#df_domestica\n",
        "\n",
        "#Avaliando o impacto no âmbito nacional, rotulando dois períodos como pré-pandemia (2019) e pandemia (2020)\n",
        "df_prepand = df_domestica[df_domestica[\"ANO\"] == 2019]\n",
        "df_pand = df_domestica[df_domestica[\"ANO\"] == 2020]\n",
        "#df_pand"
      ],
      "execution_count": null,
      "outputs": [
        {
          "output_type": "stream",
          "name": "stderr",
          "text": [
            "/usr/local/lib/python3.7/dist-packages/ipykernel_launcher.py:3: SettingWithCopyWarning: \n",
            "A value is trying to be set on a copy of a slice from a DataFrame.\n",
            "Try using .loc[row_indexer,col_indexer] = value instead\n",
            "\n",
            "See the caveats in the documentation: https://pandas.pydata.org/pandas-docs/stable/user_guide/indexing.html#returning-a-view-versus-a-copy\n",
            "  This is separate from the ipykernel package so we can avoid doing imports until\n"
          ]
        }
      ]
    },
    {
      "cell_type": "code",
      "metadata": {
        "colab": {
          "base_uri": "https://localhost:8080/",
          "height": 298
        },
        "id": "WIsfsp7QMWck",
        "outputId": "b336f212-c28c-46b0-9c6b-144ae9d989a0"
      },
      "source": [
        "fig, ax = plt.subplots()\n",
        "ax.hist(df_prepand['DISTÂNCIA POR VOO (KM)'],label=\"Pré-pandemia\",histtype=\"step\",bins=10)\n",
        "ax.hist(df_pand['DISTÂNCIA POR VOO (KM)'],label=\"Pandemia\",histtype=\"step\",bins=10)\n",
        "ax.set_xlim(1,3600)\n",
        "ax.set_xlabel(\"Distância voada (km)\")\n",
        "ax.set_ylabel(\"Quantidade de voos\")\n",
        "ax.set_title(\"Distância por voo em operações domésticas\", fontsize=15)\n",
        "plt.legend()\n",
        "plt.show()"
      ],
      "execution_count": null,
      "outputs": [
        {
          "output_type": "display_data",
          "data": {
            "image/png": "[encoded data removed]",
            "text/plain": [
              "<Figure size 432x288 with 1 Axes>"
            ]
          },
          "metadata": {
            "needs_background": "light"
          }
        }
      ]
    },
    {
      "cell_type": "markdown",
      "metadata": {
        "id": "wFOvzx0QSJYV"
      },
      "source": [
        "Do gráfico verifica-se que houve redução significativa de oferta dos voos mais típicos (distância de 500 a 1500 km), entretanto foi mantida a tendência da distribuição e não se observou a parada total (zerada a quantidade de voos) de nenhum segmento, o que era a intenção da medida avaliada.\n",
        "\n",
        ".\n",
        "\n",
        "**Item 3**: Entendendo o posicionamento das empresas aéreas nacionais quanto ao tipo de transporte principal. Justificativa: a base apresenta dados de passageiros, carga, correio e bagagem sem categorizar a operação, o que faz sentido, especialmente por ocorrer junção de voos de transporte de passageiros juntamente com carga. Vamos, neste item, tentar avaliar se as empresas apresentam uma participação significativa em um ou mais mercados de transporte."
      ]
    },
    {
      "cell_type": "code",
      "metadata": {
        "colab": {
          "base_uri": "https://localhost:8080/",
          "height": 1361
        },
        "id": "73uCtN64Tesj",
        "outputId": "7b79eb18-3498-4535-cf12-735f2a024b5b"
      },
      "source": [
        "#Agrupando por empresa aérea, descartando métricas sem utilização.\n",
        "df_groupedEMP = df_domestica.groupby([\"EMPRESA (NOME)\"]).sum()\n",
        "df_groupedEMP.drop(columns=[\"ANO\", \"MÊS\", \"ASK\", \"RPK\", \"ATK\", \"RTK\", \"COMBUSTÍVEL (LITROS)\",\t\"DISTÂNCIA VOADA (KM)\",\n",
        "      \"CARGA PAGA KM\",\t\"CARGA GRATIS KM\", \"CORREIO KM\", \"PAYLOAD\",\t\"HORAS VOADAS\", \"DISTÂNCIA POR VOO (KM)\"], inplace=True)\n",
        "df_groupedEMP"
      ],
      "execution_count": null,
      "outputs": [
        {
          "output_type": "execute_result",
          "data": {
            "text/html": [
              "<div>\n",
              "<style scoped>\n",
              "    .dataframe tbody tr th:only-of-type {\n",
              "        vertical-align: middle;\n",
              "    }\n",
              "\n",
              "    .dataframe tbody tr th {\n",
              "        vertical-align: top;\n",
              "    }\n",
              "\n",
              "    .dataframe thead th {\n",
              "        text-align: right;\n",
              "    }\n",
              "</style>\n",
              "<table border=\"1\" class=\"dataframe\">\n",
              "  <thead>\n",
              "    <tr style=\"text-align: right;\">\n",
              "      <th></th>\n",
              "      <th>PASSAGEIROS PAGOS</th>\n",
              "      <th>PASSAGEIROS GRÁTIS</th>\n",
              "      <th>CARGA PAGA (KG)</th>\n",
              "      <th>CARGA GRÁTIS (KG)</th>\n",
              "      <th>CORREIO (KG)</th>\n",
              "      <th>DECOLAGENS</th>\n",
              "      <th>ASSENTOS</th>\n",
              "      <th>BAGAGEM (KG)</th>\n",
              "    </tr>\n",
              "    <tr>\n",
              "      <th>EMPRESA (NOME)</th>\n",
              "      <th></th>\n",
              "      <th></th>\n",
              "      <th></th>\n",
              "      <th></th>\n",
              "      <th></th>\n",
              "      <th></th>\n",
              "      <th></th>\n",
              "      <th></th>\n",
              "    </tr>\n",
              "  </thead>\n",
              "  <tbody>\n",
              "    <tr>\n",
              "      <th>ABAETÉ LINHAS AÉREAS LTDA</th>\n",
              "      <td>155</td>\n",
              "      <td>0</td>\n",
              "      <td>0.000000e+00</td>\n",
              "      <td>0.0</td>\n",
              "      <td>0.0</td>\n",
              "      <td>27</td>\n",
              "      <td>378</td>\n",
              "      <td>0.000000e+00</td>\n",
              "    </tr>\n",
              "    <tr>\n",
              "      <th>ABAETÉ LINHAS AÉREAS S.A.</th>\n",
              "      <td>3475</td>\n",
              "      <td>8</td>\n",
              "      <td>5.140000e+02</td>\n",
              "      <td>0.0</td>\n",
              "      <td>0.0</td>\n",
              "      <td>635</td>\n",
              "      <td>9308</td>\n",
              "      <td>1.864900e+04</td>\n",
              "    </tr>\n",
              "    <tr>\n",
              "      <th>ABSA - AEROLINHAS BRASILEIRAS S.A.</th>\n",
              "      <td>0</td>\n",
              "      <td>0</td>\n",
              "      <td>5.703144e+08</td>\n",
              "      <td>53099.0</td>\n",
              "      <td>92257567.0</td>\n",
              "      <td>24467</td>\n",
              "      <td>0</td>\n",
              "      <td>4.564000e+03</td>\n",
              "    </tr>\n",
              "    <tr>\n",
              "      <th>ASTA LINHAS AÉREAS LTDA ( EX - AMÉRICA DO SUL LINHAS AÉREAS LTDA.)</th>\n",
              "      <td>6447</td>\n",
              "      <td>0</td>\n",
              "      <td>8.514100e+04</td>\n",
              "      <td>0.0</td>\n",
              "      <td>0.0</td>\n",
              "      <td>1219</td>\n",
              "      <td>10944</td>\n",
              "      <td>6.449000e+04</td>\n",
              "    </tr>\n",
              "    <tr>\n",
              "      <th>AZUL CONECTA LTDA. (EX TWO TAXI AEREO LTDA)</th>\n",
              "      <td>6022</td>\n",
              "      <td>0</td>\n",
              "      <td>1.475520e+05</td>\n",
              "      <td>0.0</td>\n",
              "      <td>0.0</td>\n",
              "      <td>1308</td>\n",
              "      <td>9189</td>\n",
              "      <td>6.022000e+04</td>\n",
              "    </tr>\n",
              "    <tr>\n",
              "      <th>AZUL LINHAS AÉREAS BRASILEIRAS S/A</th>\n",
              "      <td>183847327</td>\n",
              "      <td>5886819</td>\n",
              "      <td>4.853601e+08</td>\n",
              "      <td>16337467.0</td>\n",
              "      <td>2686880.0</td>\n",
              "      <td>2274011</td>\n",
              "      <td>244145782</td>\n",
              "      <td>1.873708e+09</td>\n",
              "    </tr>\n",
              "    <tr>\n",
              "      <th>BRAVA LINHAS AÉREAS LTDA. (EX- NHT)</th>\n",
              "      <td>120508</td>\n",
              "      <td>840</td>\n",
              "      <td>0.000000e+00</td>\n",
              "      <td>0.0</td>\n",
              "      <td>0.0</td>\n",
              "      <td>21490</td>\n",
              "      <td>401396</td>\n",
              "      <td>1.036924e+06</td>\n",
              "    </tr>\n",
              "    <tr>\n",
              "      <th>COLT TRANSPORTE AÉREO S/A</th>\n",
              "      <td>0</td>\n",
              "      <td>0</td>\n",
              "      <td>2.110298e+06</td>\n",
              "      <td>1183975.0</td>\n",
              "      <td>30493299.0</td>\n",
              "      <td>4024</td>\n",
              "      <td>0</td>\n",
              "      <td>0.000000e+00</td>\n",
              "    </tr>\n",
              "    <tr>\n",
              "      <th>CONNECT LINHAS AÉREAS S.A. (ANTIGA CONNECT TÁXI AÉREO LTDA.)</th>\n",
              "      <td>0</td>\n",
              "      <td>0</td>\n",
              "      <td>4.946613e+06</td>\n",
              "      <td>0.0</td>\n",
              "      <td>0.0</td>\n",
              "      <td>515</td>\n",
              "      <td>0</td>\n",
              "      <td>0.000000e+00</td>\n",
              "    </tr>\n",
              "    <tr>\n",
              "      <th>FLYWAYS LINHAS AÉREAS LTDA.</th>\n",
              "      <td>30013</td>\n",
              "      <td>46</td>\n",
              "      <td>2.797000e+03</td>\n",
              "      <td>34525.0</td>\n",
              "      <td>0.0</td>\n",
              "      <td>1215</td>\n",
              "      <td>79288</td>\n",
              "      <td>2.237270e+05</td>\n",
              "    </tr>\n",
              "    <tr>\n",
              "      <th>GOL LINHAS AÉREAS S.A. (EX- VRG LINHAS AÉREAS S.A.)</th>\n",
              "      <td>316145842</td>\n",
              "      <td>7845378</td>\n",
              "      <td>9.277478e+08</td>\n",
              "      <td>56118733.0</td>\n",
              "      <td>596329.0</td>\n",
              "      <td>2648043</td>\n",
              "      <td>449222586</td>\n",
              "      <td>3.167189e+09</td>\n",
              "    </tr>\n",
              "    <tr>\n",
              "      <th>ITAPEMIRIM TRANSPORTES AEREOS LTDA</th>\n",
              "      <td>19044</td>\n",
              "      <td>0</td>\n",
              "      <td>0.000000e+00</td>\n",
              "      <td>0.0</td>\n",
              "      <td>0.0</td>\n",
              "      <td>425</td>\n",
              "      <td>68850</td>\n",
              "      <td>4.380120e+05</td>\n",
              "    </tr>\n",
              "    <tr>\n",
              "      <th>MAIS LINHAS AÉREAS S.A</th>\n",
              "      <td>1748</td>\n",
              "      <td>37</td>\n",
              "      <td>0.000000e+00</td>\n",
              "      <td>2430.0</td>\n",
              "      <td>0.0</td>\n",
              "      <td>55</td>\n",
              "      <td>3300</td>\n",
              "      <td>2.532000e+04</td>\n",
              "    </tr>\n",
              "    <tr>\n",
              "      <th>MAP TRANSPORTES AÉREOS LTDA.</th>\n",
              "      <td>759769</td>\n",
              "      <td>5247</td>\n",
              "      <td>1.122700e+04</td>\n",
              "      <td>6607.0</td>\n",
              "      <td>0.0</td>\n",
              "      <td>31528</td>\n",
              "      <td>1793129</td>\n",
              "      <td>8.908999e+06</td>\n",
              "    </tr>\n",
              "    <tr>\n",
              "      <th>MASTER TOP LINHAS AÉREAS S/A</th>\n",
              "      <td>0</td>\n",
              "      <td>0</td>\n",
              "      <td>4.160060e+05</td>\n",
              "      <td>0.0</td>\n",
              "      <td>0.0</td>\n",
              "      <td>12</td>\n",
              "      <td>0</td>\n",
              "      <td>0.000000e+00</td>\n",
              "    </tr>\n",
              "    <tr>\n",
              "      <th>MEGA LINHAS AÉREAS LTDA.</th>\n",
              "      <td>0</td>\n",
              "      <td>0</td>\n",
              "      <td>0.000000e+00</td>\n",
              "      <td>0.0</td>\n",
              "      <td>14725.0</td>\n",
              "      <td>268</td>\n",
              "      <td>0</td>\n",
              "      <td>0.000000e+00</td>\n",
              "    </tr>\n",
              "    <tr>\n",
              "      <th>META - MESQUITA TRANSPORTES AÉREOS LTDA.</th>\n",
              "      <td>12683</td>\n",
              "      <td>0</td>\n",
              "      <td>1.490000e+03</td>\n",
              "      <td>0.0</td>\n",
              "      <td>0.0</td>\n",
              "      <td>802</td>\n",
              "      <td>24012</td>\n",
              "      <td>1.498730e+05</td>\n",
              "    </tr>\n",
              "    <tr>\n",
              "      <th>MODERN TRANSPORTE AEREO DE CARGA S.A</th>\n",
              "      <td>0</td>\n",
              "      <td>0</td>\n",
              "      <td>2.644760e+07</td>\n",
              "      <td>90880.0</td>\n",
              "      <td>0.0</td>\n",
              "      <td>3954</td>\n",
              "      <td>0</td>\n",
              "      <td>0.000000e+00</td>\n",
              "    </tr>\n",
              "    <tr>\n",
              "      <th>MODERN TRANSPORTE AÉREO DE CARGA S.A.</th>\n",
              "      <td>0</td>\n",
              "      <td>0</td>\n",
              "      <td>6.580850e+05</td>\n",
              "      <td>10944.0</td>\n",
              "      <td>0.0</td>\n",
              "      <td>129</td>\n",
              "      <td>0</td>\n",
              "      <td>0.000000e+00</td>\n",
              "    </tr>\n",
              "    <tr>\n",
              "      <th>NOAR NORDESTE AVIAÇÃO REGIONAL LINHAS AÉREAS S.A.</th>\n",
              "      <td>17413</td>\n",
              "      <td>288</td>\n",
              "      <td>0.000000e+00</td>\n",
              "      <td>0.0</td>\n",
              "      <td>0.0</td>\n",
              "      <td>2473</td>\n",
              "      <td>46825</td>\n",
              "      <td>1.266360e+05</td>\n",
              "    </tr>\n",
              "    <tr>\n",
              "      <th>OCEANAIR LINHAS AÉREAS S.A. (AVIANCA)</th>\n",
              "      <td>63176854</td>\n",
              "      <td>356465</td>\n",
              "      <td>3.036097e+08</td>\n",
              "      <td>8554030.0</td>\n",
              "      <td>0.0</td>\n",
              "      <td>573730</td>\n",
              "      <td>80044330</td>\n",
              "      <td>6.208599e+08</td>\n",
              "    </tr>\n",
              "    <tr>\n",
              "      <th>OMNI TÁXI AÉREO S.A.</th>\n",
              "      <td>9888</td>\n",
              "      <td>44</td>\n",
              "      <td>0.000000e+00</td>\n",
              "      <td>0.0</td>\n",
              "      <td>0.0</td>\n",
              "      <td>477</td>\n",
              "      <td>21024</td>\n",
              "      <td>0.000000e+00</td>\n",
              "    </tr>\n",
              "    <tr>\n",
              "      <th>PANTANAL LINHAS AÉREAS S.A.</th>\n",
              "      <td>2053508</td>\n",
              "      <td>31780</td>\n",
              "      <td>4.946256e+06</td>\n",
              "      <td>1.0</td>\n",
              "      <td>0.0</td>\n",
              "      <td>24391</td>\n",
              "      <td>3426198</td>\n",
              "      <td>1.928657e+07</td>\n",
              "    </tr>\n",
              "    <tr>\n",
              "      <th>PASSAREDO TRANSPORTES AÉREOS S.A.</th>\n",
              "      <td>7443397</td>\n",
              "      <td>61984</td>\n",
              "      <td>1.561803e+06</td>\n",
              "      <td>315658.0</td>\n",
              "      <td>0.0</td>\n",
              "      <td>200742</td>\n",
              "      <td>12811872</td>\n",
              "      <td>7.502992e+07</td>\n",
              "    </tr>\n",
              "    <tr>\n",
              "      <th>PUMA AIR LINHAS AÉREAS LTDA.</th>\n",
              "      <td>60798</td>\n",
              "      <td>635</td>\n",
              "      <td>0.000000e+00</td>\n",
              "      <td>0.0</td>\n",
              "      <td>0.0</td>\n",
              "      <td>847</td>\n",
              "      <td>111276</td>\n",
              "      <td>8.224470e+05</td>\n",
              "    </tr>\n",
              "    <tr>\n",
              "      <th>RIO LINHAS AÉREAS S.A.</th>\n",
              "      <td>0</td>\n",
              "      <td>0</td>\n",
              "      <td>5.867540e+06</td>\n",
              "      <td>10911.0</td>\n",
              "      <td>286708570.0</td>\n",
              "      <td>29057</td>\n",
              "      <td>0</td>\n",
              "      <td>0.000000e+00</td>\n",
              "    </tr>\n",
              "    <tr>\n",
              "      <th>SETE LINHAS AÉREAS LTDA.</th>\n",
              "      <td>342945</td>\n",
              "      <td>5435</td>\n",
              "      <td>1.094312e+06</td>\n",
              "      <td>357486.0</td>\n",
              "      <td>0.0</td>\n",
              "      <td>42568</td>\n",
              "      <td>843585</td>\n",
              "      <td>3.676657e+06</td>\n",
              "    </tr>\n",
              "    <tr>\n",
              "      <th>SIDERAL LINHAS AÉREAS LTDA.</th>\n",
              "      <td>17235</td>\n",
              "      <td>528</td>\n",
              "      <td>5.115945e+06</td>\n",
              "      <td>2200599.0</td>\n",
              "      <td>337648664.0</td>\n",
              "      <td>50435</td>\n",
              "      <td>52100</td>\n",
              "      <td>2.610270e+05</td>\n",
              "    </tr>\n",
              "    <tr>\n",
              "      <th>SOL LINHAS AÉREAS LTDA.</th>\n",
              "      <td>2170</td>\n",
              "      <td>172</td>\n",
              "      <td>0.000000e+00</td>\n",
              "      <td>0.0</td>\n",
              "      <td>0.0</td>\n",
              "      <td>368</td>\n",
              "      <td>6156</td>\n",
              "      <td>1.020300e+04</td>\n",
              "    </tr>\n",
              "    <tr>\n",
              "      <th>STERNA LINHAS AÉREAS LTDA.</th>\n",
              "      <td>0</td>\n",
              "      <td>72</td>\n",
              "      <td>2.401588e+06</td>\n",
              "      <td>347753.0</td>\n",
              "      <td>385.0</td>\n",
              "      <td>277</td>\n",
              "      <td>0</td>\n",
              "      <td>0.000000e+00</td>\n",
              "    </tr>\n",
              "    <tr>\n",
              "      <th>TAM LINHAS AÉREAS S.A.</th>\n",
              "      <td>295540680</td>\n",
              "      <td>4003515</td>\n",
              "      <td>1.445481e+09</td>\n",
              "      <td>4063388.0</td>\n",
              "      <td>243107.0</td>\n",
              "      <td>2303252</td>\n",
              "      <td>395846412</td>\n",
              "      <td>3.099831e+09</td>\n",
              "    </tr>\n",
              "    <tr>\n",
              "      <th>TEAM PARTICIPAÇÕES LTDA.</th>\n",
              "      <td>3280</td>\n",
              "      <td>91</td>\n",
              "      <td>0.000000e+00</td>\n",
              "      <td>0.0</td>\n",
              "      <td>0.0</td>\n",
              "      <td>1622</td>\n",
              "      <td>29260</td>\n",
              "      <td>6.017000e+03</td>\n",
              "    </tr>\n",
              "    <tr>\n",
              "      <th>TOTAL LINHAS AÉREAS S.A.</th>\n",
              "      <td>917935</td>\n",
              "      <td>5298</td>\n",
              "      <td>1.283186e+07</td>\n",
              "      <td>38169.0</td>\n",
              "      <td>236349863.0</td>\n",
              "      <td>46281</td>\n",
              "      <td>1101445</td>\n",
              "      <td>5.775337e+06</td>\n",
              "    </tr>\n",
              "    <tr>\n",
              "      <th>TRIP SERVIÇOS DE SUPORTE AÉREO S.A (EX. TRIP LINHAS AÉREAS)</th>\n",
              "      <td>14909358</td>\n",
              "      <td>64476</td>\n",
              "      <td>1.403281e+07</td>\n",
              "      <td>386168.0</td>\n",
              "      <td>0.0</td>\n",
              "      <td>356872</td>\n",
              "      <td>25416187</td>\n",
              "      <td>1.504417e+08</td>\n",
              "    </tr>\n",
              "    <tr>\n",
              "      <th>TWO TÁXI AÉREO LTDA.</th>\n",
              "      <td>82224</td>\n",
              "      <td>0</td>\n",
              "      <td>3.535320e+06</td>\n",
              "      <td>0.0</td>\n",
              "      <td>0.0</td>\n",
              "      <td>24666</td>\n",
              "      <td>192851</td>\n",
              "      <td>8.221550e+05</td>\n",
              "    </tr>\n",
              "    <tr>\n",
              "      <th>VARIG LOGÍSTICA S.A.</th>\n",
              "      <td>0</td>\n",
              "      <td>0</td>\n",
              "      <td>2.478003e+07</td>\n",
              "      <td>485137.0</td>\n",
              "      <td>2796851.0</td>\n",
              "      <td>1899</td>\n",
              "      <td>0</td>\n",
              "      <td>0.000000e+00</td>\n",
              "    </tr>\n",
              "    <tr>\n",
              "      <th>WEBJET PARTICIPAÇÕES S.A. (EX-LINHAS AÉREAS)</th>\n",
              "      <td>9954890</td>\n",
              "      <td>8674</td>\n",
              "      <td>1.727188e+06</td>\n",
              "      <td>75582.0</td>\n",
              "      <td>0.0</td>\n",
              "      <td>95574</td>\n",
              "      <td>14409946</td>\n",
              "      <td>9.347569e+07</td>\n",
              "    </tr>\n",
              "    <tr>\n",
              "      <th>WHITEJETS TRANSPORTES AÉREOS S.A.</th>\n",
              "      <td>8952</td>\n",
              "      <td>0</td>\n",
              "      <td>0.000000e+00</td>\n",
              "      <td>0.0</td>\n",
              "      <td>0.0</td>\n",
              "      <td>21</td>\n",
              "      <td>3780</td>\n",
              "      <td>0.000000e+00</td>\n",
              "    </tr>\n",
              "  </tbody>\n",
              "</table>\n",
              "</div>"
            ],
            "text/plain": [
              "                                                    PASSAGEIROS PAGOS  ...  BAGAGEM (KG)\n",
              "EMPRESA (NOME)                                                         ...              \n",
              "ABAETÉ LINHAS AÉREAS LTDA                                         155  ...  0.000000e+00\n",
              "ABAETÉ LINHAS AÉREAS S.A.                                        3475  ...  1.864900e+04\n",
              "ABSA - AEROLINHAS BRASILEIRAS S.A.                                  0  ...  4.564000e+03\n",
              "ASTA LINHAS AÉREAS LTDA ( EX - AMÉRICA DO SUL L...               6447  ...  6.449000e+04\n",
              "AZUL CONECTA LTDA. (EX TWO TAXI AEREO LTDA)                      6022  ...  6.022000e+04\n",
              "AZUL LINHAS AÉREAS BRASILEIRAS S/A                          183847327  ...  1.873708e+09\n",
              "BRAVA LINHAS AÉREAS LTDA. (EX- NHT)                            120508  ...  1.036924e+06\n",
              "COLT TRANSPORTE AÉREO S/A                                           0  ...  0.000000e+00\n",
              "CONNECT LINHAS AÉREAS S.A. (ANTIGA CONNECT TÁXI...                  0  ...  0.000000e+00\n",
              "FLYWAYS LINHAS AÉREAS LTDA.                                     30013  ...  2.237270e+05\n",
              "GOL LINHAS AÉREAS S.A. (EX- VRG LINHAS AÉREAS S...          316145842  ...  3.167189e+09\n",
              "ITAPEMIRIM TRANSPORTES AEREOS LTDA                              19044  ...  4.380120e+05\n",
              "MAIS LINHAS AÉREAS S.A                                           1748  ...  2.532000e+04\n",
              "MAP TRANSPORTES AÉREOS LTDA.                                   759769  ...  8.908999e+06\n",
              "MASTER TOP LINHAS AÉREAS S/A                                        0  ...  0.000000e+00\n",
              "MEGA LINHAS AÉREAS LTDA.                                            0  ...  0.000000e+00\n",
              "META - MESQUITA TRANSPORTES AÉREOS LTDA.                        12683  ...  1.498730e+05\n",
              "MODERN TRANSPORTE AEREO DE CARGA S.A                                0  ...  0.000000e+00\n",
              "MODERN TRANSPORTE AÉREO DE CARGA S.A.                               0  ...  0.000000e+00\n",
              "NOAR NORDESTE AVIAÇÃO REGIONAL LINHAS AÉREAS S.A.               17413  ...  1.266360e+05\n",
              "OCEANAIR LINHAS AÉREAS S.A. (AVIANCA)                        63176854  ...  6.208599e+08\n",
              "OMNI TÁXI AÉREO S.A.                                             9888  ...  0.000000e+00\n",
              "PANTANAL LINHAS AÉREAS S.A.                                   2053508  ...  1.928657e+07\n",
              "PASSAREDO TRANSPORTES AÉREOS S.A.                             7443397  ...  7.502992e+07\n",
              "PUMA AIR LINHAS AÉREAS LTDA.                                    60798  ...  8.224470e+05\n",
              "RIO LINHAS AÉREAS S.A.                                              0  ...  0.000000e+00\n",
              "SETE LINHAS AÉREAS LTDA.                                       342945  ...  3.676657e+06\n",
              "SIDERAL LINHAS AÉREAS LTDA.                                     17235  ...  2.610270e+05\n",
              "SOL LINHAS AÉREAS LTDA.                                          2170  ...  1.020300e+04\n",
              "STERNA LINHAS AÉREAS LTDA.                                          0  ...  0.000000e+00\n",
              "TAM LINHAS AÉREAS S.A.                                      295540680  ...  3.099831e+09\n",
              "TEAM PARTICIPAÇÕES LTDA.                                         3280  ...  6.017000e+03\n",
              "TOTAL LINHAS AÉREAS S.A.                                       917935  ...  5.775337e+06\n",
              "TRIP SERVIÇOS DE SUPORTE AÉREO S.A (EX. TRIP LI...           14909358  ...  1.504417e+08\n",
              "TWO TÁXI AÉREO LTDA.                                            82224  ...  8.221550e+05\n",
              "VARIG LOGÍSTICA S.A.                                                0  ...  0.000000e+00\n",
              "WEBJET PARTICIPAÇÕES S.A. (EX-LINHAS AÉREAS)                  9954890  ...  9.347569e+07\n",
              "WHITEJETS TRANSPORTES AÉREOS S.A.                                8952  ...  0.000000e+00\n",
              "\n",
              "[38 rows x 8 columns]"
            ]
          },
          "metadata": {},
          "execution_count": 53
        }
      ]
    },
    {
      "cell_type": "code",
      "metadata": {
        "colab": {
          "base_uri": "https://localhost:8080/",
          "height": 517
        },
        "id": "DTKDRvl4RK-h",
        "outputId": "595a0246-8035-4fa5-8997-3d464b0c2d34"
      },
      "source": [
        "#Como a lista trouxe várias empresas que não operam mais, a exemplo de WEBJET e AVIANCA, \n",
        "#avaliaremos as empresas atuais, restringindo os dados a 2021.\n",
        "df_2021 = df_domestica[df_domestica[\"ANO\"] == 2021]\n",
        "#Agrupando por empresa aérea em 2021, descartando métricas sem utilização.\n",
        "df_groupedEMP_2021 = df_2021.groupby([\"EMPRESA (SIGLA)\"]).sum()\n",
        "df_groupedEMP_2021.drop(columns=[\"ANO\", \"MÊS\", \"ASK\", \"RPK\", \"ATK\", \"RTK\", \"COMBUSTÍVEL (LITROS)\",\t\"DISTÂNCIA VOADA (KM)\",\n",
        "          \"CARGA PAGA KM\",\t\"CARGA GRATIS KM\",\t\"CORREIO KM\", \"PAYLOAD\",\t\"HORAS VOADAS\", \"DISTÂNCIA POR VOO (KM)\"], inplace=True)\n",
        "df_groupedEMP_2021"
      ],
      "execution_count": null,
      "outputs": [
        {
          "output_type": "execute_result",
          "data": {
            "text/html": [
              "<div>\n",
              "<style scoped>\n",
              "    .dataframe tbody tr th:only-of-type {\n",
              "        vertical-align: middle;\n",
              "    }\n",
              "\n",
              "    .dataframe tbody tr th {\n",
              "        vertical-align: top;\n",
              "    }\n",
              "\n",
              "    .dataframe thead th {\n",
              "        text-align: right;\n",
              "    }\n",
              "</style>\n",
              "<table border=\"1\" class=\"dataframe\">\n",
              "  <thead>\n",
              "    <tr style=\"text-align: right;\">\n",
              "      <th></th>\n",
              "      <th>PASSAGEIROS PAGOS</th>\n",
              "      <th>PASSAGEIROS GRÁTIS</th>\n",
              "      <th>CARGA PAGA (KG)</th>\n",
              "      <th>CARGA GRÁTIS (KG)</th>\n",
              "      <th>CORREIO (KG)</th>\n",
              "      <th>DECOLAGENS</th>\n",
              "      <th>ASSENTOS</th>\n",
              "      <th>BAGAGEM (KG)</th>\n",
              "    </tr>\n",
              "    <tr>\n",
              "      <th>EMPRESA (SIGLA)</th>\n",
              "      <th></th>\n",
              "      <th></th>\n",
              "      <th></th>\n",
              "      <th></th>\n",
              "      <th></th>\n",
              "      <th></th>\n",
              "      <th></th>\n",
              "      <th></th>\n",
              "    </tr>\n",
              "  </thead>\n",
              "  <tbody>\n",
              "    <tr>\n",
              "      <th>AZU</th>\n",
              "      <td>11668996</td>\n",
              "      <td>302561</td>\n",
              "      <td>76259351.0</td>\n",
              "      <td>808316.0</td>\n",
              "      <td>0.0</td>\n",
              "      <td>118590</td>\n",
              "      <td>15175399</td>\n",
              "      <td>92221909.0</td>\n",
              "    </tr>\n",
              "    <tr>\n",
              "      <th>GLO</th>\n",
              "      <td>9262789</td>\n",
              "      <td>212082</td>\n",
              "      <td>20138994.0</td>\n",
              "      <td>1458230.0</td>\n",
              "      <td>0.0</td>\n",
              "      <td>65392</td>\n",
              "      <td>11503830</td>\n",
              "      <td>36876272.0</td>\n",
              "    </tr>\n",
              "    <tr>\n",
              "      <th>IPM</th>\n",
              "      <td>19044</td>\n",
              "      <td>0</td>\n",
              "      <td>0.0</td>\n",
              "      <td>0.0</td>\n",
              "      <td>0.0</td>\n",
              "      <td>425</td>\n",
              "      <td>68850</td>\n",
              "      <td>438012.0</td>\n",
              "    </tr>\n",
              "    <tr>\n",
              "      <th>LTG</th>\n",
              "      <td>0</td>\n",
              "      <td>0</td>\n",
              "      <td>17689700.0</td>\n",
              "      <td>0.0</td>\n",
              "      <td>0.0</td>\n",
              "      <td>730</td>\n",
              "      <td>0</td>\n",
              "      <td>0.0</td>\n",
              "    </tr>\n",
              "    <tr>\n",
              "      <th>MWM</th>\n",
              "      <td>0</td>\n",
              "      <td>0</td>\n",
              "      <td>6832863.0</td>\n",
              "      <td>19650.0</td>\n",
              "      <td>0.0</td>\n",
              "      <td>777</td>\n",
              "      <td>0</td>\n",
              "      <td>0.0</td>\n",
              "    </tr>\n",
              "    <tr>\n",
              "      <th>OMI</th>\n",
              "      <td>175</td>\n",
              "      <td>0</td>\n",
              "      <td>0.0</td>\n",
              "      <td>0.0</td>\n",
              "      <td>0.0</td>\n",
              "      <td>17</td>\n",
              "      <td>480</td>\n",
              "      <td>0.0</td>\n",
              "    </tr>\n",
              "    <tr>\n",
              "      <th>OWT</th>\n",
              "      <td>25743</td>\n",
              "      <td>0</td>\n",
              "      <td>724101.0</td>\n",
              "      <td>0.0</td>\n",
              "      <td>0.0</td>\n",
              "      <td>5959</td>\n",
              "      <td>41580</td>\n",
              "      <td>257430.0</td>\n",
              "    </tr>\n",
              "    <tr>\n",
              "      <th>PAM</th>\n",
              "      <td>59197</td>\n",
              "      <td>917</td>\n",
              "      <td>1262.0</td>\n",
              "      <td>0.0</td>\n",
              "      <td>0.0</td>\n",
              "      <td>2133</td>\n",
              "      <td>115535</td>\n",
              "      <td>505372.0</td>\n",
              "    </tr>\n",
              "    <tr>\n",
              "      <th>PTB</th>\n",
              "      <td>225317</td>\n",
              "      <td>4886</td>\n",
              "      <td>1250.0</td>\n",
              "      <td>0.0</td>\n",
              "      <td>0.0</td>\n",
              "      <td>5510</td>\n",
              "      <td>374974</td>\n",
              "      <td>1818777.0</td>\n",
              "    </tr>\n",
              "    <tr>\n",
              "      <th>SID</th>\n",
              "      <td>6077</td>\n",
              "      <td>144</td>\n",
              "      <td>3331585.0</td>\n",
              "      <td>862025.0</td>\n",
              "      <td>28540693.0</td>\n",
              "      <td>4999</td>\n",
              "      <td>17244</td>\n",
              "      <td>85622.0</td>\n",
              "    </tr>\n",
              "    <tr>\n",
              "      <th>SUL</th>\n",
              "      <td>1335</td>\n",
              "      <td>0</td>\n",
              "      <td>17568.0</td>\n",
              "      <td>0.0</td>\n",
              "      <td>0.0</td>\n",
              "      <td>218</td>\n",
              "      <td>1962</td>\n",
              "      <td>13350.0</td>\n",
              "    </tr>\n",
              "    <tr>\n",
              "      <th>TAM</th>\n",
              "      <td>8739913</td>\n",
              "      <td>130600</td>\n",
              "      <td>53600155.0</td>\n",
              "      <td>550612.0</td>\n",
              "      <td>12342.0</td>\n",
              "      <td>66426</td>\n",
              "      <td>11505061</td>\n",
              "      <td>53667611.0</td>\n",
              "    </tr>\n",
              "    <tr>\n",
              "      <th>TTL</th>\n",
              "      <td>0</td>\n",
              "      <td>0</td>\n",
              "      <td>184179.0</td>\n",
              "      <td>0.0</td>\n",
              "      <td>9222696.0</td>\n",
              "      <td>1206</td>\n",
              "      <td>0</td>\n",
              "      <td>0.0</td>\n",
              "    </tr>\n",
              "  </tbody>\n",
              "</table>\n",
              "</div>"
            ],
            "text/plain": [
              "                 PASSAGEIROS PAGOS  PASSAGEIROS GRÁTIS  ...  ASSENTOS  BAGAGEM (KG)\n",
              "EMPRESA (SIGLA)                                         ...                        \n",
              "AZU                       11668996              302561  ...  15175399    92221909.0\n",
              "GLO                        9262789              212082  ...  11503830    36876272.0\n",
              "IPM                          19044                   0  ...     68850      438012.0\n",
              "LTG                              0                   0  ...         0           0.0\n",
              "MWM                              0                   0  ...         0           0.0\n",
              "OMI                            175                   0  ...       480           0.0\n",
              "OWT                          25743                   0  ...     41580      257430.0\n",
              "PAM                          59197                 917  ...    115535      505372.0\n",
              "PTB                         225317                4886  ...    374974     1818777.0\n",
              "SID                           6077                 144  ...     17244       85622.0\n",
              "SUL                           1335                   0  ...      1962       13350.0\n",
              "TAM                        8739913              130600  ...  11505061    53667611.0\n",
              "TTL                              0                   0  ...         0           0.0\n",
              "\n",
              "[13 rows x 8 columns]"
            ]
          },
          "metadata": {},
          "execution_count": 54
        }
      ]
    },
    {
      "cell_type": "markdown",
      "metadata": {
        "id": "j7p_-wyqvf4j"
      },
      "source": [
        "Os gráficos a seguir apresentam o \"market share\" durante o ano de 2021, para isso foi feita a visualização da participação das empresas aéreas no total de decolagens, e depois no transporte de passageiros, de carga e de correio."
      ]
    },
    {
      "cell_type": "code",
      "metadata": {
        "colab": {
          "base_uri": "https://localhost:8080/",
          "height": 313
        },
        "id": "hpLErGE1bVqX",
        "outputId": "5d9b1c13-91c3-4df9-e60e-a3c5393485d2"
      },
      "source": [
        "fig , ax = plt.subplots()\n",
        "df_groupedEMP_2021[\"DECOLAGENS\"].plot.bar()\n",
        "ax.set_ylabel(\"Decolagens\")\n",
        "ax.set_xlabel(\"Empresas Aéreas\")\n",
        "ax.set_title(\"Distribuição em 2021 - Decolagens\")\n",
        "ax.set_ylim(0,120000)\n",
        "plt.show()"
      ],
      "execution_count": null,
      "outputs": [
        {
          "output_type": "display_data",
          "data": {
            "image/png": "[encoded data removed]",
            "text/plain": [
              "<Figure size 432x288 with 1 Axes>"
            ]
          },
          "metadata": {
            "needs_background": "light"
          }
        }
      ]
    },
    {
      "cell_type": "code",
      "metadata": {
        "colab": {
          "base_uri": "https://localhost:8080/",
          "height": 279
        },
        "id": "bLFRf4kgiUQP",
        "outputId": "48cd2729-a819-4046-fedc-1511cf2cc93c"
      },
      "source": [
        "fig , ax = plt.subplots()\n",
        "df_groupedEMP_2021[\"PASSAGEIROS PAGOS\"].plot.pie()\n",
        "ax.set_ylabel(\"Passageiros Pagos\")\n",
        "ax.set_xlabel(\"Empresas Aéreas\")\n",
        "ax.set_title(\"Distribuição em 2021 - Passageiros\")\n",
        "plt.show()"
      ],
      "execution_count": null,
      "outputs": [
        {
          "output_type": "display_data",
          "data": {
            "image/png": "[encoded data removed]",
            "text/plain": [
              "<Figure size 432x288 with 1 Axes>"
            ]
          },
          "metadata": {}
        }
      ]
    },
    {
      "cell_type": "code",
      "metadata": {
        "colab": {
          "base_uri": "https://localhost:8080/",
          "height": 279
        },
        "id": "tFrCpnr4tAJs",
        "outputId": "149defb1-f70d-40ee-e951-02707715a6d8"
      },
      "source": [
        "fig , ax = plt.subplots()\n",
        "df_groupedEMP_2021[\"CARGA PAGA (KG)\"].plot.pie()\n",
        "ax.set_ylabel(\"Carga Paga\")\n",
        "ax.set_xlabel(\"Empresas Aéreas\")\n",
        "ax.set_title(\"Distribuição em 2021 - Carga\")\n",
        "plt.show()"
      ],
      "execution_count": null,
      "outputs": [
        {
          "output_type": "display_data",
          "data": {
            "image/png": "[encoded data removed]",
            "text/plain": [
              "<Figure size 432x288 with 1 Axes>"
            ]
          },
          "metadata": {}
        }
      ]
    },
    {
      "cell_type": "code",
      "metadata": {
        "colab": {
          "base_uri": "https://localhost:8080/",
          "height": 279
        },
        "id": "SBRepVJltf4T",
        "outputId": "fd2bac66-e0d0-495a-a41f-da5efc5fa38e"
      },
      "source": [
        "fig , ax = plt.subplots()\n",
        "df_groupedEMP_2021[\"CORREIO (KG)\"].plot.pie()\n",
        "ax.set_xlabel(\"Empresas Aéreas\")\n",
        "ax.set_ylabel(\"Correio\")\n",
        "ax.set_title(\"Distribuição em 2021 - Correio\")\n",
        "plt.show()"
      ],
      "execution_count": null,
      "outputs": [
        {
          "output_type": "display_data",
          "data": {
            "image/png": "[encoded data removed]",
            "text/plain": [
              "<Figure size 432x288 with 1 Axes>"
            ]
          },
          "metadata": {}
        }
      ]
    },
    {
      "cell_type": "markdown",
      "metadata": {
        "id": "d9Q7EyqitCf2"
      },
      "source": [
        "Dos gráficos acima, vemos uma predominância de determinadas empresas no transporte aéreo de correio e passageiros, com maior diversificação no transporte de carga.\n",
        "\n",
        ".\n",
        "\n",
        "**Item 4**: Verificando se o setor de correio sofreu impacto com a pandemia."
      ]
    },
    {
      "cell_type": "code",
      "metadata": {
        "colab": {
          "base_uri": "https://localhost:8080/",
          "height": 331
        },
        "id": "vkEEjPkNtl3H",
        "outputId": "c1c2b557-0569-4e99-fce3-791dbda1c1f0"
      },
      "source": [
        "#Verificando as duas empresas com predominância no transporte de correio.\n",
        "df_domestica[\"DATA\"] = df_domestica[\"ANO\"]+df_domestica[\"MÊS\"]/100 \n",
        "df_Total = df_domestica[df_domestica[\"EMPRESA (SIGLA)\"] == \"TTL\"]\n",
        "df_groupedTot_y = df_Total.groupby([\"ANO\"])[\"CORREIO (KG)\"].sum().reset_index()\n",
        "#df_groupedTot_y.head()\n",
        "df_Sideral = df_domestica[df_domestica[\"EMPRESA (SIGLA)\"] == \"SID\"]\n",
        "df_groupedSid_y = df_Sideral.groupby([\"ANO\"])[\"CORREIO (KG)\"].sum().reset_index()\n",
        "df_groupedSid_y.head()\n"
      ],
      "execution_count": null,
      "outputs": [
        {
          "output_type": "stream",
          "name": "stderr",
          "text": [
            "/usr/local/lib/python3.7/dist-packages/ipykernel_launcher.py:2: SettingWithCopyWarning: \n",
            "A value is trying to be set on a copy of a slice from a DataFrame.\n",
            "Try using .loc[row_indexer,col_indexer] = value instead\n",
            "\n",
            "See the caveats in the documentation: https://pandas.pydata.org/pandas-docs/stable/user_guide/indexing.html#returning-a-view-versus-a-copy\n",
            "  \n"
          ]
        },
        {
          "output_type": "execute_result",
          "data": {
            "text/html": [
              "<div>\n",
              "<style scoped>\n",
              "    .dataframe tbody tr th:only-of-type {\n",
              "        vertical-align: middle;\n",
              "    }\n",
              "\n",
              "    .dataframe tbody tr th {\n",
              "        vertical-align: top;\n",
              "    }\n",
              "\n",
              "    .dataframe thead th {\n",
              "        text-align: right;\n",
              "    }\n",
              "</style>\n",
              "<table border=\"1\" class=\"dataframe\">\n",
              "  <thead>\n",
              "    <tr style=\"text-align: right;\">\n",
              "      <th></th>\n",
              "      <th>ANO</th>\n",
              "      <th>CORREIO (KG)</th>\n",
              "    </tr>\n",
              "  </thead>\n",
              "  <tbody>\n",
              "    <tr>\n",
              "      <th>0</th>\n",
              "      <td>2012</td>\n",
              "      <td>9790923.0</td>\n",
              "    </tr>\n",
              "    <tr>\n",
              "      <th>1</th>\n",
              "      <td>2013</td>\n",
              "      <td>16767012.0</td>\n",
              "    </tr>\n",
              "    <tr>\n",
              "      <th>2</th>\n",
              "      <td>2014</td>\n",
              "      <td>21881657.0</td>\n",
              "    </tr>\n",
              "    <tr>\n",
              "      <th>3</th>\n",
              "      <td>2015</td>\n",
              "      <td>28650637.0</td>\n",
              "    </tr>\n",
              "    <tr>\n",
              "      <th>4</th>\n",
              "      <td>2016</td>\n",
              "      <td>38126328.0</td>\n",
              "    </tr>\n",
              "  </tbody>\n",
              "</table>\n",
              "</div>"
            ],
            "text/plain": [
              "    ANO  CORREIO (KG)\n",
              "0  2012     9790923.0\n",
              "1  2013    16767012.0\n",
              "2  2014    21881657.0\n",
              "3  2015    28650637.0\n",
              "4  2016    38126328.0"
            ]
          },
          "metadata": {},
          "execution_count": 61
        }
      ]
    },
    {
      "cell_type": "code",
      "metadata": {
        "colab": {
          "base_uri": "https://localhost:8080/",
          "height": 315
        },
        "id": "hd_a6qGOyCh4",
        "outputId": "06a944e6-585b-45a6-bcd5-2da4c977e3fd"
      },
      "source": [
        "#Visualizando o impacto para as empresas de CORREIO - Sideral e Total.\n",
        "fig , ax = plt.subplots()\n",
        "sns.lineplot(data=df_groupedSid_y, x=\"ANO\", y=\"CORREIO (KG)\", label=\"Sideral\")\n",
        "sns.lineplot(data=df_groupedTot_y, x=\"ANO\", y=\"CORREIO (KG)\", label=\"Total\")\n",
        "ax.set_xlim(2018,2021)\n",
        "ax.set_title(\"Transporte de CORREIO\", fontsize=15)\n",
        "plt.legend()\n"
      ],
      "execution_count": null,
      "outputs": [
        {
          "output_type": "execute_result",
          "data": {
            "text/plain": [
              "<matplotlib.legend.Legend at 0x7f500b7688d0>"
            ]
          },
          "metadata": {},
          "execution_count": 62
        },
        {
          "output_type": "display_data",
          "data": {
            "image/png": "[encoded data removed]",
            "text/plain": [
              "<Figure size 432x288 with 1 Axes>"
            ]
          },
          "metadata": {
            "needs_background": "light"
          }
        }
      ]
    },
    {
      "cell_type": "markdown",
      "metadata": {
        "id": "RJgp1CKE1g6m"
      },
      "source": [
        "Do gráfico, nota-se que o transporte de CORREIO também foi impactado pela pandemia, embora não seja tão óbvia a razão que justifique esse fato.\n",
        "\n",
        ".\n",
        "\n",
        "\n",
        "**Item 5**: Verificando o impacto no transporte de passageiros"
      ]
    },
    {
      "cell_type": "code",
      "metadata": {
        "colab": {
          "base_uri": "https://localhost:8080/",
          "height": 546
        },
        "id": "5E0sce6o1ntj",
        "outputId": "3d1a8a7a-bc93-4482-9ac8-9d825ab049d7"
      },
      "source": [
        "df_domestica[\"PASSAGEIROS TOTAL\"] = df_domestica[\"PASSAGEIROS PAGOS\"]+df_domestica[\"PASSAGEIROS GRÁTIS\"]\n",
        "df_groupedPAX = df_domestica.groupby([\"DATA\", \"EMPRESA (SIGLA)\"])[\"PASSAGEIROS TOTAL\"].sum().reset_index()\n",
        "df_groupedPAX.tail(100)"
      ],
      "execution_count": null,
      "outputs": [
        {
          "output_type": "stream",
          "name": "stderr",
          "text": [
            "/usr/local/lib/python3.7/dist-packages/ipykernel_launcher.py:1: SettingWithCopyWarning: \n",
            "A value is trying to be set on a copy of a slice from a DataFrame.\n",
            "Try using .loc[row_indexer,col_indexer] = value instead\n",
            "\n",
            "See the caveats in the documentation: https://pandas.pydata.org/pandas-docs/stable/user_guide/indexing.html#returning-a-view-versus-a-copy\n",
            "  \"\"\"Entry point for launching an IPython kernel.\n"
          ]
        },
        {
          "output_type": "execute_result",
          "data": {
            "text/html": [
              "<div>\n",
              "<style scoped>\n",
              "    .dataframe tbody tr th:only-of-type {\n",
              "        vertical-align: middle;\n",
              "    }\n",
              "\n",
              "    .dataframe tbody tr th {\n",
              "        vertical-align: top;\n",
              "    }\n",
              "\n",
              "    .dataframe thead th {\n",
              "        text-align: right;\n",
              "    }\n",
              "</style>\n",
              "<table border=\"1\" class=\"dataframe\">\n",
              "  <thead>\n",
              "    <tr style=\"text-align: right;\">\n",
              "      <th></th>\n",
              "      <th>DATA</th>\n",
              "      <th>EMPRESA (SIGLA)</th>\n",
              "      <th>PASSAGEIROS TOTAL</th>\n",
              "    </tr>\n",
              "  </thead>\n",
              "  <tbody>\n",
              "    <tr>\n",
              "      <th>1527</th>\n",
              "      <td>2020.11</td>\n",
              "      <td>GLO</td>\n",
              "      <td>1638932</td>\n",
              "    </tr>\n",
              "    <tr>\n",
              "      <th>1528</th>\n",
              "      <td>2020.11</td>\n",
              "      <td>LTG</td>\n",
              "      <td>0</td>\n",
              "    </tr>\n",
              "    <tr>\n",
              "      <th>1529</th>\n",
              "      <td>2020.11</td>\n",
              "      <td>MWM</td>\n",
              "      <td>0</td>\n",
              "    </tr>\n",
              "    <tr>\n",
              "      <th>1530</th>\n",
              "      <td>2020.11</td>\n",
              "      <td>OWT</td>\n",
              "      <td>3394</td>\n",
              "    </tr>\n",
              "    <tr>\n",
              "      <th>1531</th>\n",
              "      <td>2020.11</td>\n",
              "      <td>PAM</td>\n",
              "      <td>4603</td>\n",
              "    </tr>\n",
              "    <tr>\n",
              "      <th>...</th>\n",
              "      <td>...</td>\n",
              "      <td>...</td>\n",
              "      <td>...</td>\n",
              "    </tr>\n",
              "    <tr>\n",
              "      <th>1622</th>\n",
              "      <td>2021.07</td>\n",
              "      <td>PAM</td>\n",
              "      <td>11638</td>\n",
              "    </tr>\n",
              "    <tr>\n",
              "      <th>1623</th>\n",
              "      <td>2021.07</td>\n",
              "      <td>PTB</td>\n",
              "      <td>37198</td>\n",
              "    </tr>\n",
              "    <tr>\n",
              "      <th>1624</th>\n",
              "      <td>2021.07</td>\n",
              "      <td>SID</td>\n",
              "      <td>656</td>\n",
              "    </tr>\n",
              "    <tr>\n",
              "      <th>1625</th>\n",
              "      <td>2021.07</td>\n",
              "      <td>TAM</td>\n",
              "      <td>1854114</td>\n",
              "    </tr>\n",
              "    <tr>\n",
              "      <th>1626</th>\n",
              "      <td>2021.07</td>\n",
              "      <td>TTL</td>\n",
              "      <td>0</td>\n",
              "    </tr>\n",
              "  </tbody>\n",
              "</table>\n",
              "<p>100 rows × 3 columns</p>\n",
              "</div>"
            ],
            "text/plain": [
              "         DATA EMPRESA (SIGLA)  PASSAGEIROS TOTAL\n",
              "1527  2020.11             GLO            1638932\n",
              "1528  2020.11             LTG                  0\n",
              "1529  2020.11             MWM                  0\n",
              "1530  2020.11             OWT               3394\n",
              "1531  2020.11             PAM               4603\n",
              "...       ...             ...                ...\n",
              "1622  2021.07             PAM              11638\n",
              "1623  2021.07             PTB              37198\n",
              "1624  2021.07             SID                656\n",
              "1625  2021.07             TAM            1854114\n",
              "1626  2021.07             TTL                  0\n",
              "\n",
              "[100 rows x 3 columns]"
            ]
          },
          "metadata": {},
          "execution_count": 63
        }
      ]
    },
    {
      "cell_type": "code",
      "metadata": {
        "colab": {
          "base_uri": "https://localhost:8080/",
          "height": 315
        },
        "id": "cK8Qp8093sBm",
        "outputId": "10879a90-823f-4837-9687-62fbcc7842ad"
      },
      "source": [
        "#Visualizando o impacto para o transporte de Passageiros - Todas as empresas.\n",
        "fig , ax = plt.subplots(2,1)\n",
        "g2020 = sns.lineplot(ax = ax[0], data=df_groupedPAX, x=\"DATA\", y=\"PASSAGEIROS TOTAL\", hue=\"EMPRESA (SIGLA)\", legend=None)\n",
        "g2020.set_xlim(2020.01,2020.12)\n",
        "g2020.set_title(\"Transporte de PASSAGEIROS em 2020\", fontsize=15)\n",
        "g2021 = sns.lineplot(ax = ax[1], data=df_groupedPAX, x=\"DATA\", y=\"PASSAGEIROS TOTAL\", hue=\"EMPRESA (SIGLA)\", legend=None)\n",
        "g2021.set_xlim(2021.01,2021.12)\n",
        "g2021.set_title(\"Transporte de PASSAGEIROS em 2021\", fontsize=15)\n",
        "fig.tight_layout()\n",
        "plt.figure(figsize=(200,10)) \n",
        "plt.show()\n"
      ],
      "execution_count": null,
      "outputs": [
        {
          "output_type": "display_data",
          "data": {
            "image/png": "[encoded data removed]",
            "text/plain": [
              "<Figure size 432x288 with 2 Axes>"
            ]
          },
          "metadata": {
            "needs_background": "light"
          }
        },
        {
          "output_type": "display_data",
          "data": {
            "text/plain": [
              "<Figure size 14400x720 with 0 Axes>"
            ]
          },
          "metadata": {}
        }
      ]
    },
    {
      "cell_type": "markdown",
      "metadata": {
        "id": "uGVY9Pu_ETR7"
      },
      "source": [
        "Dos gráficos, nota-se que o impacto da chamada \"segunda onda\" em 2021 foi menor e com uma retomada mais rápida do que a primeira onda de COVID-19.\n",
        "\n",
        ".\n",
        "\n",
        "**Item 6**: Verificação das taxas de ocupação das aeronaves, considerando a capacidade de assentos e a quantidade de passageiros transportados."
      ]
    },
    {
      "cell_type": "code",
      "metadata": {
        "colab": {
          "base_uri": "https://localhost:8080/",
          "height": 641
        },
        "id": "GgpWT3L_OIQ9",
        "outputId": "cd1595bc-1f0a-4eab-80b8-fc7398809dc1"
      },
      "source": [
        "#A partir daqui, verificaremos como se deu a taxa de ocupação das operações, durante 2021.\n",
        "df_domestica[\"OCUPAÇÃO\"] = df_domestica[\"PASSAGEIROS TOTAL\"]/df_domestica[\"ASSENTOS\"]\n",
        "\n",
        "#Em razão de uma ocupação infinita que apareceu em uma operação da AZUL não indentificada, foram feitas tabelas temporárias\n",
        "# para eliminar quaisquer valores que trouxessem contaminação aos cálculos, a saber:\n",
        "#1) Restrição ao ano vigente\n",
        "#2) Retirada dos registros em que não houve oferta de assentos\n",
        "#3) Retirada dos voos improdutivos, trechos geralmente de transporte de aeronave para manuntenção e não possuem oferta de assentos\n",
        "\n",
        "temp1 = df_domestica[df_domestica[\"ANO\"] == 2021]\n",
        "\n",
        "temp2 = temp1[temp1[\"ASSENTOS\"] != 0]\n",
        "\n",
        "temp3 = temp2[temp2[\"GRUPO DE VOO\"] != \"IMPRODUTIVO\"]\n",
        "\n",
        "#Com esse tratamento, foi possível fazer a média das ocupações mensais por empresa em 2021.\n",
        "df_2021_Ocup = temp3.groupby([\"DATA\",\"EMPRESA (SIGLA)\"])[\"OCUPAÇÃO\"].mean().reset_index()\n",
        "df_2021_Ocup.head(15)"
      ],
      "execution_count": null,
      "outputs": [
        {
          "output_type": "stream",
          "name": "stderr",
          "text": [
            "/usr/local/lib/python3.7/dist-packages/ipykernel_launcher.py:2: SettingWithCopyWarning: \n",
            "A value is trying to be set on a copy of a slice from a DataFrame.\n",
            "Try using .loc[row_indexer,col_indexer] = value instead\n",
            "\n",
            "See the caveats in the documentation: https://pandas.pydata.org/pandas-docs/stable/user_guide/indexing.html#returning-a-view-versus-a-copy\n",
            "  \n"
          ]
        },
        {
          "output_type": "execute_result",
          "data": {
            "text/html": [
              "<div>\n",
              "<style scoped>\n",
              "    .dataframe tbody tr th:only-of-type {\n",
              "        vertical-align: middle;\n",
              "    }\n",
              "\n",
              "    .dataframe tbody tr th {\n",
              "        vertical-align: top;\n",
              "    }\n",
              "\n",
              "    .dataframe thead th {\n",
              "        text-align: right;\n",
              "    }\n",
              "</style>\n",
              "<table border=\"1\" class=\"dataframe\">\n",
              "  <thead>\n",
              "    <tr style=\"text-align: right;\">\n",
              "      <th></th>\n",
              "      <th>DATA</th>\n",
              "      <th>EMPRESA (SIGLA)</th>\n",
              "      <th>OCUPAÇÃO</th>\n",
              "    </tr>\n",
              "  </thead>\n",
              "  <tbody>\n",
              "    <tr>\n",
              "      <th>0</th>\n",
              "      <td>2021.01</td>\n",
              "      <td>AZU</td>\n",
              "      <td>0.732374</td>\n",
              "    </tr>\n",
              "    <tr>\n",
              "      <th>1</th>\n",
              "      <td>2021.01</td>\n",
              "      <td>GLO</td>\n",
              "      <td>0.763698</td>\n",
              "    </tr>\n",
              "    <tr>\n",
              "      <th>2</th>\n",
              "      <td>2021.01</td>\n",
              "      <td>OWT</td>\n",
              "      <td>0.521784</td>\n",
              "    </tr>\n",
              "    <tr>\n",
              "      <th>3</th>\n",
              "      <td>2021.01</td>\n",
              "      <td>PAM</td>\n",
              "      <td>0.613086</td>\n",
              "    </tr>\n",
              "    <tr>\n",
              "      <th>4</th>\n",
              "      <td>2021.01</td>\n",
              "      <td>PTB</td>\n",
              "      <td>0.551367</td>\n",
              "    </tr>\n",
              "    <tr>\n",
              "      <th>5</th>\n",
              "      <td>2021.01</td>\n",
              "      <td>SID</td>\n",
              "      <td>0.731416</td>\n",
              "    </tr>\n",
              "    <tr>\n",
              "      <th>6</th>\n",
              "      <td>2021.01</td>\n",
              "      <td>SUL</td>\n",
              "      <td>0.483077</td>\n",
              "    </tr>\n",
              "    <tr>\n",
              "      <th>7</th>\n",
              "      <td>2021.01</td>\n",
              "      <td>TAM</td>\n",
              "      <td>0.711411</td>\n",
              "    </tr>\n",
              "    <tr>\n",
              "      <th>8</th>\n",
              "      <td>2021.02</td>\n",
              "      <td>AZU</td>\n",
              "      <td>0.731029</td>\n",
              "    </tr>\n",
              "    <tr>\n",
              "      <th>9</th>\n",
              "      <td>2021.02</td>\n",
              "      <td>GLO</td>\n",
              "      <td>0.724287</td>\n",
              "    </tr>\n",
              "    <tr>\n",
              "      <th>10</th>\n",
              "      <td>2021.02</td>\n",
              "      <td>OWT</td>\n",
              "      <td>0.401558</td>\n",
              "    </tr>\n",
              "    <tr>\n",
              "      <th>11</th>\n",
              "      <td>2021.02</td>\n",
              "      <td>PAM</td>\n",
              "      <td>0.442661</td>\n",
              "    </tr>\n",
              "    <tr>\n",
              "      <th>12</th>\n",
              "      <td>2021.02</td>\n",
              "      <td>PTB</td>\n",
              "      <td>0.532427</td>\n",
              "    </tr>\n",
              "    <tr>\n",
              "      <th>13</th>\n",
              "      <td>2021.02</td>\n",
              "      <td>SID</td>\n",
              "      <td>0.591446</td>\n",
              "    </tr>\n",
              "    <tr>\n",
              "      <th>14</th>\n",
              "      <td>2021.02</td>\n",
              "      <td>SUL</td>\n",
              "      <td>0.706250</td>\n",
              "    </tr>\n",
              "  </tbody>\n",
              "</table>\n",
              "</div>"
            ],
            "text/plain": [
              "       DATA EMPRESA (SIGLA)  OCUPAÇÃO\n",
              "0   2021.01             AZU  0.732374\n",
              "1   2021.01             GLO  0.763698\n",
              "2   2021.01             OWT  0.521784\n",
              "3   2021.01             PAM  0.613086\n",
              "4   2021.01             PTB  0.551367\n",
              "5   2021.01             SID  0.731416\n",
              "6   2021.01             SUL  0.483077\n",
              "7   2021.01             TAM  0.711411\n",
              "8   2021.02             AZU  0.731029\n",
              "9   2021.02             GLO  0.724287\n",
              "10  2021.02             OWT  0.401558\n",
              "11  2021.02             PAM  0.442661\n",
              "12  2021.02             PTB  0.532427\n",
              "13  2021.02             SID  0.591446\n",
              "14  2021.02             SUL  0.706250"
            ]
          },
          "metadata": {},
          "execution_count": 65
        }
      ]
    },
    {
      "cell_type": "code",
      "metadata": {
        "colab": {
          "base_uri": "https://localhost:8080/"
        },
        "id": "u8oU5IKdQLnN",
        "outputId": "4384cd82-e9ee-42db-ac9a-6f34554ff354"
      },
      "source": [
        "# Verificação das principais estatísticas descritivas da OCUPAÇÃO\n",
        "df_2021_Ocup[\"OCUPAÇÃO\"].describe()"
      ],
      "execution_count": null,
      "outputs": [
        {
          "output_type": "execute_result",
          "data": {
            "text/plain": [
              "count    55.000000\n",
              "mean      0.594783\n",
              "std       0.166277\n",
              "min       0.073765\n",
              "25%       0.477436\n",
              "50%       0.638412\n",
              "75%       0.727650\n",
              "max       0.811011\n",
              "Name: OCUPAÇÃO, dtype: float64"
            ]
          },
          "metadata": {},
          "execution_count": 66
        }
      ]
    },
    {
      "cell_type": "code",
      "metadata": {
        "colab": {
          "base_uri": "https://localhost:8080/",
          "height": 350
        },
        "id": "ifzn4ATSKZ2W",
        "outputId": "ec60624c-88d9-4f59-bce7-3a6b1fc4ffcd"
      },
      "source": [
        "#Visualizaçao de como se deu a ocupação de passageiros por Empresa Aérea, em 2021\n",
        "fig, ax = plt.subplots()\n",
        "df_2021_Ocup.boxplot(column=\"OCUPAÇÃO\", by=\"EMPRESA (SIGLA)\", ax=ax)\n",
        "ax.set_xlabel(\"EMPRESA AÉREA\")\n",
        "ax.set_ylabel(\"OCUPAÇÃO\")\n",
        "ax.set_title(\"Boxplot de Taxa de Ocupação - Capacidade de Passageiros\")\n",
        "plt.suptitle(\"\")\n",
        "plt.show()"
      ],
      "execution_count": null,
      "outputs": [
        {
          "output_type": "stream",
          "name": "stderr",
          "text": [
            "/usr/local/lib/python3.7/dist-packages/numpy/core/_asarray.py:83: VisibleDeprecationWarning: Creating an ndarray from ragged nested sequences (which is a list-or-tuple of lists-or-tuples-or ndarrays with different lengths or shapes) is deprecated. If you meant to do this, you must specify 'dtype=object' when creating the ndarray\n",
            "  return array(a, dtype, copy=False, order=order)\n"
          ]
        },
        {
          "output_type": "display_data",
          "data": {
            "image/png": "[encoded data removed]",
            "text/plain": [
              "<Figure size 432x288 with 1 Axes>"
            ]
          },
          "metadata": {
            "needs_background": "light"
          }
        }
      ]
    },
    {
      "cell_type": "markdown",
      "metadata": {
        "id": "fgr1h0ncfitT"
      },
      "source": [
        "Do gráfico, verifica-se que as companhias mais tradicionais no transporte de passageiros (Azul, Gol e Latam) tem operado com taxas de ocupação médias superiores aos 70%, sendo que se considera algo em torno de 65% como ocupação mínima para que uma operação dê lucro (generalização de diversas fontes), enquanto que as empresas de aviação regional, historicamente trabalham com taxas de ocupação mais baixas, em torno de 50-60%, o que foi bem caracterizado pelo boxplot da Azul-Conecta (OWT), nome dado a parte da Azul que assumiu as operações quando da compra da empresa TWO-Flex, com forte atuação regional.\n",
        "\n",
        ".\n",
        "\n",
        "**Item 7**: Testes de hipóteses. Para uso do teste de Qui-quadrado entre variáveis do Dataframe, o colab deu erro de sessão falhando depois de usar toda a RAM disponível. Portanto, foi selecionado um extrato do ano de 2021, definido anteriormente como \"temp1\" para alguns testes. Foram escolhidas variáveis em que se esperava que houvesse e que não houvesse dependênica, somente por fins didáticos."
      ]
    },
    {
      "cell_type": "code",
      "metadata": {
        "id": "Jq4p34eghlqc"
      },
      "source": [
        "#Definindo uma função para realização do teste de hipótese\n",
        "def teste_quiquadrado(dataframe, titulo_var1, titulo_var2, alpha = 0.05):\n",
        "  #montando a tabela de contingência\n",
        "  tabela = pd.crosstab(dataframe[titulo_var1], dataframe[titulo_var2])\n",
        "  #fazendo o teste qui-quadrado para verificar a relação de dependência entre as variáveis tabeladas\n",
        "  chi, p, dof, expected = stats.chi2_contingency(tabela)\n",
        "  #fazendo o resultdo, quando o p_valor é menor que o alpha\n",
        "  if p < alpha:\n",
        "    print(\"As variáveis {} e {} são dependentes\".format(titulo_var1, titulo_var2))\n",
        "  else:\n",
        "    print(\"As variáveis {} e {} não são dependentes\".format(titulo_var1, titulo_var2))\n"
      ],
      "execution_count": null,
      "outputs": []
    },
    {
      "cell_type": "code",
      "metadata": {
        "colab": {
          "base_uri": "https://localhost:8080/"
        },
        "id": "ZuaiYVlEh3hi",
        "outputId": "9982d03f-39f2-4077-fcb8-513dc6d0616a"
      },
      "source": [
        "#Fazendo o teste do qui-quadrado para verificar se existe relação de dependência entre os grupos \"PASSAGEIROS PAGOS\" e \"BAGAGEM\"\n",
        "teste_quiquadrado(temp1, \"PASSAGEIROS PAGOS\", \"BAGAGEM (KG)\")"
      ],
      "execution_count": null,
      "outputs": [
        {
          "output_type": "stream",
          "name": "stdout",
          "text": [
            "As variáveis PASSAGEIROS PAGOS e BAGAGEM (KG) são dependentes\n"
          ]
        }
      ]
    },
    {
      "cell_type": "code",
      "metadata": {
        "colab": {
          "base_uri": "https://localhost:8080/"
        },
        "id": "rtYZrPpWmlCV",
        "outputId": "278a9e29-be50-4341-8121-7f4bc4dcb528"
      },
      "source": [
        "#Fazendo o teste do qui-quadrado para verificar se existe relação de dependência entre os grupos \"HORAS VOADAS\" e \"GRUPO DE VOO\"\n",
        "teste_quiquadrado(temp1, \"HORAS VOADAS\", \"GRUPO DE VOO\")"
      ],
      "execution_count": null,
      "outputs": [
        {
          "output_type": "stream",
          "name": "stdout",
          "text": [
            "As variáveis HORAS VOADAS e GRUPO DE VOO não são dependentes\n"
          ]
        }
      ]
    },
    {
      "cell_type": "code",
      "metadata": {
        "colab": {
          "base_uri": "https://localhost:8080/"
        },
        "id": "njmXG6gs4YP7",
        "outputId": "d185ad3a-be95-4605-e371-87d2642d5ff3"
      },
      "source": [
        "%%shell\n",
        "jupyter nbconvert --to html /content/Erica_Ramalho_Estatística_Descritiva.ipynb"
      ],
      "execution_count": null,
      "outputs": [
        {
          "output_type": "stream",
          "name": "stdout",
          "text": [
            "[NbConvertApp] Converting notebook /content/Erica_Ramalho_Estatística_Descritiva.ipynb to html\n",
            "[NbConvertApp] Writing 572506 bytes to /content/Erica_Ramalho_Estatística_Descritiva.html\n"
          ]
        },
        {
          "output_type": "execute_result",
          "data": {
            "text/plain": [
              ""
            ]
          },
          "metadata": {},
          "execution_count": 71
        }
      ]
    }
  ]
}